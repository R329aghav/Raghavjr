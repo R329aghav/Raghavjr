{
  "cells": [
    {
      "cell_type": "markdown",
      "metadata": {
        "id": "view-in-github",
        "colab_type": "text"
      },
      "source": [
        "<a href=\"https://colab.research.google.com/github/R329aghav/Raghavjr/blob/main/ANN(classification)_MODEL_Using_keras_(iris_dataset).ipynb\" target=\"_parent\"><img src=\"https://colab.research.google.com/assets/colab-badge.svg\" alt=\"Open In Colab\"/></a>"
      ]
    },
    {
      "cell_type": "code",
      "execution_count": null,
      "metadata": {
        "colab": {
          "base_uri": "https://localhost:8080/"
        },
        "id": "8RxD2OcqnJxI",
        "outputId": "a8804024-ce90-44e1-b02b-dcde6acbb834"
      },
      "outputs": [
        {
          "name": "stdout",
          "output_type": "stream",
          "text": [
            "Drive already mounted at /content/drive; to attempt to forcibly remount, call drive.mount(\"/content/drive\", force_remount=True).\n"
          ]
        }
      ],
      "source": [
        "from google.colab import drive\n",
        "drive.mount('/content/drive')"
      ]
    },
    {
      "cell_type": "code",
      "execution_count": null,
      "metadata": {
        "id": "W-iL__oVneFW"
      },
      "outputs": [],
      "source": [
        "path=\"/content/drive/MyDrive/DATASETS/IRIS.csv\"\n",
        "import pandas as pd\n",
        "data=pd.read_csv(path)"
      ]
    },
    {
      "cell_type": "code",
      "execution_count": null,
      "metadata": {
        "colab": {
          "base_uri": "https://localhost:8080/"
        },
        "id": "3DtafRsnn486",
        "outputId": "d3d39aa8-6b89-4713-c622-34c8bede6d92"
      },
      "outputs": [
        {
          "name": "stdout",
          "output_type": "stream",
          "text": [
            "Requirement already satisfied: ipython in /usr/local/lib/python3.7/dist-packages (5.5.0)\n",
            "Requirement already satisfied: traitlets>=4.2 in /usr/local/lib/python3.7/dist-packages (from ipython) (5.0.5)\n",
            "Requirement already satisfied: pexpect in /usr/local/lib/python3.7/dist-packages (from ipython) (4.8.0)\n",
            "Requirement already satisfied: simplegeneric>0.8 in /usr/local/lib/python3.7/dist-packages (from ipython) (0.8.1)\n",
            "Requirement already satisfied: pickleshare in /usr/local/lib/python3.7/dist-packages (from ipython) (0.7.5)\n",
            "Requirement already satisfied: decorator in /usr/local/lib/python3.7/dist-packages (from ipython) (4.4.2)\n",
            "Requirement already satisfied: pygments in /usr/local/lib/python3.7/dist-packages (from ipython) (2.6.1)\n",
            "Requirement already satisfied: setuptools>=18.5 in /usr/local/lib/python3.7/dist-packages (from ipython) (57.2.0)\n",
            "Requirement already satisfied: prompt-toolkit<2.0.0,>=1.0.4 in /usr/local/lib/python3.7/dist-packages (from ipython) (1.0.18)\n",
            "Requirement already satisfied: wcwidth in /usr/local/lib/python3.7/dist-packages (from prompt-toolkit<2.0.0,>=1.0.4->ipython) (0.2.5)\n",
            "Requirement already satisfied: six>=1.9.0 in /usr/local/lib/python3.7/dist-packages (from prompt-toolkit<2.0.0,>=1.0.4->ipython) (1.15.0)\n",
            "Requirement already satisfied: ipython-genutils in /usr/local/lib/python3.7/dist-packages (from traitlets>=4.2->ipython) (0.2.0)\n",
            "Requirement already satisfied: ptyprocess>=0.5 in /usr/local/lib/python3.7/dist-packages (from pexpect->ipython) (0.7.0)\n"
          ]
        }
      ],
      "source": [
        "data.head()\n",
        "!pip install ipython"
      ]
    },
    {
      "cell_type": "code",
      "execution_count": null,
      "metadata": {
        "id": "ZpHl57vupAt5"
      },
      "outputs": [],
      "source": [
        "X=data.iloc[:,0:4].values\n",
        "y=data.iloc[:,4]"
      ]
    },
    {
      "cell_type": "markdown",
      "metadata": {
        "id": "cTGIL60IqLwy"
      },
      "source": [
        ""
      ]
    },
    {
      "cell_type": "code",
      "execution_count": null,
      "metadata": {
        "id": "Viyr8B8rrrCT"
      },
      "outputs": [],
      "source": [
        "#label encoding to handle missing data\n",
        "from sklearn.preprocessing import LabelEncoder\n",
        "labelencoder=LabelEncoder()\n",
        "y1=labelencoder.fit_transform(y)\n",
        "y=pd.get_dummies(y1).values"
      ]
    },
    {
      "cell_type": "code",
      "execution_count": null,
      "metadata": {
        "colab": {
          "base_uri": "https://localhost:8080/"
        },
        "id": "CcRlqM8essiX",
        "outputId": "453fe99c-ac09-40c8-b320-9fa1459d915d"
      },
      "outputs": [
        {
          "data": {
            "text/plain": [
              "array([0, 0, 0, 0, 0, 0, 0, 0, 0, 0, 0, 0, 0, 0, 0, 0, 0, 0, 0, 0, 0, 0,\n",
              "       0, 0, 0, 0, 0, 0, 0, 0, 0, 0, 0, 0, 0, 0, 0, 0, 0, 0, 0, 0, 0, 0,\n",
              "       0, 0, 0, 0, 0, 0, 1, 1, 1, 1, 1, 1, 1, 1, 1, 1, 1, 1, 1, 1, 1, 1,\n",
              "       1, 1, 1, 1, 1, 1, 1, 1, 1, 1, 1, 1, 1, 1, 1, 1, 1, 1, 1, 1, 1, 1,\n",
              "       1, 1, 1, 1, 1, 1, 1, 1, 1, 1, 1, 1, 2, 2, 2, 2, 2, 2, 2, 2, 2, 2,\n",
              "       2, 2, 2, 2, 2, 2, 2, 2, 2, 2, 2, 2, 2, 2, 2, 2, 2, 2, 2, 2, 2, 2,\n",
              "       2, 2, 2, 2, 2, 2, 2, 2, 2, 2, 2, 2, 2, 2, 2, 2, 2, 2])"
            ]
          },
          "execution_count": 71,
          "metadata": {
            "tags": []
          },
          "output_type": "execute_result"
        }
      ],
      "source": [
        "y1"
      ]
    },
    {
      "cell_type": "code",
      "execution_count": null,
      "metadata": {
        "colab": {
          "base_uri": "https://localhost:8080/"
        },
        "id": "NYyxSF2PsuDf",
        "outputId": "a9734625-4512-46f0-d42b-2db7dc635a13"
      },
      "outputs": [
        {
          "data": {
            "text/plain": [
              "array([[1, 0, 0],\n",
              "       [1, 0, 0],\n",
              "       [1, 0, 0],\n",
              "       [1, 0, 0],\n",
              "       [1, 0, 0],\n",
              "       [1, 0, 0],\n",
              "       [1, 0, 0],\n",
              "       [1, 0, 0],\n",
              "       [1, 0, 0],\n",
              "       [1, 0, 0],\n",
              "       [1, 0, 0],\n",
              "       [1, 0, 0],\n",
              "       [1, 0, 0],\n",
              "       [1, 0, 0],\n",
              "       [1, 0, 0],\n",
              "       [1, 0, 0],\n",
              "       [1, 0, 0],\n",
              "       [1, 0, 0],\n",
              "       [1, 0, 0],\n",
              "       [1, 0, 0],\n",
              "       [1, 0, 0],\n",
              "       [1, 0, 0],\n",
              "       [1, 0, 0],\n",
              "       [1, 0, 0],\n",
              "       [1, 0, 0],\n",
              "       [1, 0, 0],\n",
              "       [1, 0, 0],\n",
              "       [1, 0, 0],\n",
              "       [1, 0, 0],\n",
              "       [1, 0, 0],\n",
              "       [1, 0, 0],\n",
              "       [1, 0, 0],\n",
              "       [1, 0, 0],\n",
              "       [1, 0, 0],\n",
              "       [1, 0, 0],\n",
              "       [1, 0, 0],\n",
              "       [1, 0, 0],\n",
              "       [1, 0, 0],\n",
              "       [1, 0, 0],\n",
              "       [1, 0, 0],\n",
              "       [1, 0, 0],\n",
              "       [1, 0, 0],\n",
              "       [1, 0, 0],\n",
              "       [1, 0, 0],\n",
              "       [1, 0, 0],\n",
              "       [1, 0, 0],\n",
              "       [1, 0, 0],\n",
              "       [1, 0, 0],\n",
              "       [1, 0, 0],\n",
              "       [1, 0, 0],\n",
              "       [0, 1, 0],\n",
              "       [0, 1, 0],\n",
              "       [0, 1, 0],\n",
              "       [0, 1, 0],\n",
              "       [0, 1, 0],\n",
              "       [0, 1, 0],\n",
              "       [0, 1, 0],\n",
              "       [0, 1, 0],\n",
              "       [0, 1, 0],\n",
              "       [0, 1, 0],\n",
              "       [0, 1, 0],\n",
              "       [0, 1, 0],\n",
              "       [0, 1, 0],\n",
              "       [0, 1, 0],\n",
              "       [0, 1, 0],\n",
              "       [0, 1, 0],\n",
              "       [0, 1, 0],\n",
              "       [0, 1, 0],\n",
              "       [0, 1, 0],\n",
              "       [0, 1, 0],\n",
              "       [0, 1, 0],\n",
              "       [0, 1, 0],\n",
              "       [0, 1, 0],\n",
              "       [0, 1, 0],\n",
              "       [0, 1, 0],\n",
              "       [0, 1, 0],\n",
              "       [0, 1, 0],\n",
              "       [0, 1, 0],\n",
              "       [0, 1, 0],\n",
              "       [0, 1, 0],\n",
              "       [0, 1, 0],\n",
              "       [0, 1, 0],\n",
              "       [0, 1, 0],\n",
              "       [0, 1, 0],\n",
              "       [0, 1, 0],\n",
              "       [0, 1, 0],\n",
              "       [0, 1, 0],\n",
              "       [0, 1, 0],\n",
              "       [0, 1, 0],\n",
              "       [0, 1, 0],\n",
              "       [0, 1, 0],\n",
              "       [0, 1, 0],\n",
              "       [0, 1, 0],\n",
              "       [0, 1, 0],\n",
              "       [0, 1, 0],\n",
              "       [0, 1, 0],\n",
              "       [0, 1, 0],\n",
              "       [0, 1, 0],\n",
              "       [0, 1, 0],\n",
              "       [0, 1, 0],\n",
              "       [0, 0, 1],\n",
              "       [0, 0, 1],\n",
              "       [0, 0, 1],\n",
              "       [0, 0, 1],\n",
              "       [0, 0, 1],\n",
              "       [0, 0, 1],\n",
              "       [0, 0, 1],\n",
              "       [0, 0, 1],\n",
              "       [0, 0, 1],\n",
              "       [0, 0, 1],\n",
              "       [0, 0, 1],\n",
              "       [0, 0, 1],\n",
              "       [0, 0, 1],\n",
              "       [0, 0, 1],\n",
              "       [0, 0, 1],\n",
              "       [0, 0, 1],\n",
              "       [0, 0, 1],\n",
              "       [0, 0, 1],\n",
              "       [0, 0, 1],\n",
              "       [0, 0, 1],\n",
              "       [0, 0, 1],\n",
              "       [0, 0, 1],\n",
              "       [0, 0, 1],\n",
              "       [0, 0, 1],\n",
              "       [0, 0, 1],\n",
              "       [0, 0, 1],\n",
              "       [0, 0, 1],\n",
              "       [0, 0, 1],\n",
              "       [0, 0, 1],\n",
              "       [0, 0, 1],\n",
              "       [0, 0, 1],\n",
              "       [0, 0, 1],\n",
              "       [0, 0, 1],\n",
              "       [0, 0, 1],\n",
              "       [0, 0, 1],\n",
              "       [0, 0, 1],\n",
              "       [0, 0, 1],\n",
              "       [0, 0, 1],\n",
              "       [0, 0, 1],\n",
              "       [0, 0, 1],\n",
              "       [0, 0, 1],\n",
              "       [0, 0, 1],\n",
              "       [0, 0, 1],\n",
              "       [0, 0, 1],\n",
              "       [0, 0, 1],\n",
              "       [0, 0, 1],\n",
              "       [0, 0, 1],\n",
              "       [0, 0, 1],\n",
              "       [0, 0, 1],\n",
              "       [0, 0, 1]], dtype=uint8)"
            ]
          },
          "execution_count": 72,
          "metadata": {
            "tags": []
          },
          "output_type": "execute_result"
        }
      ],
      "source": [
        "y"
      ]
    },
    {
      "cell_type": "code",
      "execution_count": null,
      "metadata": {
        "colab": {
          "background_save": true
        },
        "id": "6QnJ3Gacsw5W"
      },
      "outputs": [],
      "source": [
        "from sklearn.model_selection import train_test_split\n",
        "X_train,X_test,y_train,y_test=train_test_split(X,y,test_size=0.3,random_state=0)"
      ]
    },
    {
      "cell_type": "code",
      "execution_count": null,
      "metadata": {
        "id": "zHQB18ydywC3"
      },
      "outputs": [],
      "source": [
        "from sklearn.preprocessing import StandardScaler\n",
        "sc=StandardScaler()\n",
        "X_train=sc.fit_transform(X_train)\n",
        "X_test=sc.fit_transform(X_test)"
      ]
    },
    {
      "cell_type": "code",
      "execution_count": null,
      "metadata": {
        "id": "iYGmNpX6zUns"
      },
      "outputs": [],
      "source": [
        "import keras\n",
        "from keras.models import Sequential\n",
        "from keras.layers import Dense\n",
        "from keras.optimizers import Adam\n",
        "from keras.layers import Dropout\n",
        "from keras.layers import LeakyReLU,PReLU,ELU"
      ]
    },
    {
      "cell_type": "code",
      "execution_count": null,
      "metadata": {
        "id": "wqJ8t8Pzz3_K"
      },
      "outputs": [],
      "source": [
        "#initializing the ANN\n",
        "classifier=Sequential()"
      ]
    },
    {
      "cell_type": "code",
      "execution_count": null,
      "metadata": {
        "id": "M-Kjt3bIz4Lh"
      },
      "outputs": [],
      "source": [
        "#create first input and hidden layer\n",
        "classifier.add(Dense(units=4,kernel_initializer=\"he_uniform\",input_dim=4,activation=\"relu\"))"
      ]
    },
    {
      "cell_type": "code",
      "execution_count": null,
      "metadata": {
        "id": "syfUgpdZz4aX"
      },
      "outputs": [],
      "source": [
        "#creating second hidden layer\n",
        "classifier.add(Dense(units=4,kernel_initializer=\"he_uniform\",activation=\"relu\"))"
      ]
    },
    {
      "cell_type": "code",
      "execution_count": null,
      "metadata": {
        "id": "j-uMktq31yeq"
      },
      "outputs": [],
      "source": [
        "#adding the output layer\n",
        "classifier.add(Dense(units=3,kernel_initializer=\"glorot_uniform\",activation=\"softmax\"))"
      ]
    },
    {
      "cell_type": "code",
      "execution_count": null,
      "metadata": {
        "id": "fHygOoiF1yvd"
      },
      "outputs": [],
      "source": [
        "classifier.compile(optimizer=\"Adam\",loss=\"categorical_crossentropy\",metrics=['accuracy'])"
      ]
    },
    {
      "cell_type": "code",
      "execution_count": null,
      "metadata": {
        "colab": {
          "base_uri": "https://localhost:8080/"
        },
        "id": "yyC7H6MM2mXK",
        "outputId": "6142aca0-aa2f-4ea4-8539-369f77278208"
      },
      "outputs": [
        {
          "name": "stdout",
          "output_type": "stream",
          "text": [
            "Epoch 1/100\n",
            "8/8 [==============================] - 1s 44ms/step - loss: 1.1637 - accuracy: 0.2900 - val_loss: 1.1263 - val_accuracy: 0.3500\n",
            "Epoch 2/100\n",
            "8/8 [==============================] - 0s 4ms/step - loss: 1.1531 - accuracy: 0.3016 - val_loss: 1.1242 - val_accuracy: 0.3500\n",
            "Epoch 3/100\n",
            "8/8 [==============================] - 0s 6ms/step - loss: 1.1691 - accuracy: 0.2657 - val_loss: 1.1224 - val_accuracy: 0.3500\n",
            "Epoch 4/100\n",
            "8/8 [==============================] - 0s 4ms/step - loss: 1.1640 - accuracy: 0.2670 - val_loss: 1.1206 - val_accuracy: 0.3500\n",
            "Epoch 5/100\n",
            "8/8 [==============================] - 0s 5ms/step - loss: 1.1421 - accuracy: 0.3012 - val_loss: 1.1191 - val_accuracy: 0.3500\n",
            "Epoch 6/100\n",
            "8/8 [==============================] - 0s 6ms/step - loss: 1.1128 - accuracy: 0.3548 - val_loss: 1.1178 - val_accuracy: 0.3500\n",
            "Epoch 7/100\n",
            "8/8 [==============================] - 0s 3ms/step - loss: 1.1499 - accuracy: 0.2745 - val_loss: 1.1163 - val_accuracy: 0.3500\n",
            "Epoch 8/100\n",
            "8/8 [==============================] - 0s 3ms/step - loss: 1.1220 - accuracy: 0.3343 - val_loss: 1.1151 - val_accuracy: 0.3500\n",
            "Epoch 9/100\n",
            "8/8 [==============================] - 0s 6ms/step - loss: 1.1246 - accuracy: 0.3237 - val_loss: 1.1140 - val_accuracy: 0.3500\n",
            "Epoch 10/100\n",
            "8/8 [==============================] - 0s 4ms/step - loss: 1.1114 - accuracy: 0.3497 - val_loss: 1.1130 - val_accuracy: 0.3500\n",
            "Epoch 11/100\n",
            "8/8 [==============================] - 0s 4ms/step - loss: 1.1379 - accuracy: 0.2683 - val_loss: 1.1120 - val_accuracy: 0.3500\n",
            "Epoch 12/100\n",
            "8/8 [==============================] - 0s 4ms/step - loss: 1.0955 - accuracy: 0.3617 - val_loss: 1.1115 - val_accuracy: 0.3500\n",
            "Epoch 13/100\n",
            "8/8 [==============================] - 0s 6ms/step - loss: 1.1017 - accuracy: 0.3636 - val_loss: 1.1107 - val_accuracy: 0.3500\n",
            "Epoch 14/100\n",
            "8/8 [==============================] - 0s 4ms/step - loss: 1.0928 - accuracy: 0.3772 - val_loss: 1.1102 - val_accuracy: 0.3500\n",
            "Epoch 15/100\n",
            "8/8 [==============================] - 0s 3ms/step - loss: 1.1205 - accuracy: 0.3169 - val_loss: 1.1094 - val_accuracy: 0.3500\n",
            "Epoch 16/100\n",
            "8/8 [==============================] - 0s 3ms/step - loss: 1.1029 - accuracy: 0.3371 - val_loss: 1.1090 - val_accuracy: 0.3500\n",
            "Epoch 17/100\n",
            "8/8 [==============================] - 0s 6ms/step - loss: 1.0824 - accuracy: 0.3929 - val_loss: 1.1087 - val_accuracy: 0.3500\n",
            "Epoch 18/100\n",
            "8/8 [==============================] - 0s 6ms/step - loss: 1.1090 - accuracy: 0.3260 - val_loss: 1.1082 - val_accuracy: 0.3500\n",
            "Epoch 19/100\n",
            "8/8 [==============================] - 0s 7ms/step - loss: 1.1107 - accuracy: 0.2633 - val_loss: 1.1080 - val_accuracy: 0.3500\n",
            "Epoch 20/100\n",
            "8/8 [==============================] - 0s 3ms/step - loss: 1.1036 - accuracy: 0.3083 - val_loss: 1.1078 - val_accuracy: 0.3500\n",
            "Epoch 21/100\n",
            "8/8 [==============================] - 0s 7ms/step - loss: 1.1150 - accuracy: 0.2827 - val_loss: 1.1074 - val_accuracy: 0.3500\n",
            "Epoch 22/100\n",
            "8/8 [==============================] - 0s 3ms/step - loss: 1.1064 - accuracy: 0.3113 - val_loss: 1.1073 - val_accuracy: 0.3500\n",
            "Epoch 23/100\n",
            "8/8 [==============================] - 0s 3ms/step - loss: 1.1016 - accuracy: 0.3316 - val_loss: 1.1073 - val_accuracy: 0.3500\n",
            "Epoch 24/100\n",
            "8/8 [==============================] - 0s 4ms/step - loss: 1.1055 - accuracy: 0.3134 - val_loss: 1.1071 - val_accuracy: 0.3500\n",
            "Epoch 25/100\n",
            "8/8 [==============================] - 0s 4ms/step - loss: 1.1009 - accuracy: 0.3396 - val_loss: 1.1070 - val_accuracy: 0.3500\n",
            "Epoch 26/100\n",
            "8/8 [==============================] - 0s 3ms/step - loss: 1.1125 - accuracy: 0.2822 - val_loss: 1.1070 - val_accuracy: 0.3500\n",
            "Epoch 27/100\n",
            "8/8 [==============================] - 0s 6ms/step - loss: 1.0833 - accuracy: 0.3570 - val_loss: 1.1072 - val_accuracy: 0.3500\n",
            "Epoch 28/100\n",
            "8/8 [==============================] - 0s 4ms/step - loss: 1.1009 - accuracy: 0.2759 - val_loss: 1.1072 - val_accuracy: 0.3500\n",
            "Epoch 29/100\n",
            "8/8 [==============================] - 0s 6ms/step - loss: 1.0996 - accuracy: 0.2587 - val_loss: 1.1073 - val_accuracy: 0.3500\n",
            "Epoch 30/100\n",
            "8/8 [==============================] - 0s 4ms/step - loss: 1.1028 - accuracy: 0.3083 - val_loss: 1.1074 - val_accuracy: 0.3500\n",
            "Epoch 31/100\n",
            "8/8 [==============================] - 0s 6ms/step - loss: 1.0976 - accuracy: 0.3280 - val_loss: 1.1075 - val_accuracy: 0.3500\n",
            "Epoch 32/100\n",
            "8/8 [==============================] - 0s 5ms/step - loss: 1.0855 - accuracy: 0.3651 - val_loss: 1.1077 - val_accuracy: 0.3500\n",
            "Epoch 33/100\n",
            "8/8 [==============================] - 0s 3ms/step - loss: 1.0887 - accuracy: 0.3320 - val_loss: 1.1078 - val_accuracy: 0.3500\n",
            "Epoch 34/100\n",
            "8/8 [==============================] - 0s 4ms/step - loss: 1.0980 - accuracy: 0.2813 - val_loss: 1.1079 - val_accuracy: 0.3500\n",
            "Epoch 35/100\n",
            "8/8 [==============================] - 0s 4ms/step - loss: 1.0801 - accuracy: 0.3662 - val_loss: 1.1081 - val_accuracy: 0.3500\n",
            "Epoch 36/100\n",
            "8/8 [==============================] - 0s 7ms/step - loss: 1.0881 - accuracy: 0.2898 - val_loss: 1.1083 - val_accuracy: 0.3500\n",
            "Epoch 37/100\n",
            "8/8 [==============================] - 0s 4ms/step - loss: 1.0898 - accuracy: 0.4167 - val_loss: 1.1084 - val_accuracy: 0.3000\n",
            "Epoch 38/100\n",
            "8/8 [==============================] - 0s 4ms/step - loss: 1.0833 - accuracy: 0.4175 - val_loss: 1.1086 - val_accuracy: 0.3000\n",
            "Epoch 39/100\n",
            "8/8 [==============================] - 0s 3ms/step - loss: 1.0940 - accuracy: 0.4208 - val_loss: 1.1088 - val_accuracy: 0.3000\n",
            "Epoch 40/100\n",
            "8/8 [==============================] - 0s 4ms/step - loss: 1.0911 - accuracy: 0.3804 - val_loss: 1.1090 - val_accuracy: 0.3000\n",
            "Epoch 41/100\n",
            "8/8 [==============================] - 0s 4ms/step - loss: 1.0788 - accuracy: 0.4522 - val_loss: 1.1093 - val_accuracy: 0.3000\n",
            "Epoch 42/100\n",
            "8/8 [==============================] - 0s 4ms/step - loss: 1.1032 - accuracy: 0.3551 - val_loss: 1.1093 - val_accuracy: 0.3000\n",
            "Epoch 43/100\n",
            "8/8 [==============================] - 0s 4ms/step - loss: 1.0796 - accuracy: 0.4858 - val_loss: 1.1096 - val_accuracy: 0.3000\n",
            "Epoch 44/100\n",
            "8/8 [==============================] - 0s 4ms/step - loss: 1.0989 - accuracy: 0.3240 - val_loss: 1.1097 - val_accuracy: 0.3000\n",
            "Epoch 45/100\n",
            "8/8 [==============================] - 0s 4ms/step - loss: 1.0864 - accuracy: 0.4161 - val_loss: 1.1100 - val_accuracy: 0.3000\n",
            "Epoch 46/100\n",
            "8/8 [==============================] - 0s 3ms/step - loss: 1.0947 - accuracy: 0.3457 - val_loss: 1.1102 - val_accuracy: 0.3000\n",
            "Epoch 47/100\n",
            "8/8 [==============================] - 0s 5ms/step - loss: 1.0899 - accuracy: 0.3829 - val_loss: 1.1104 - val_accuracy: 0.3000\n",
            "Epoch 48/100\n",
            "8/8 [==============================] - 0s 4ms/step - loss: 1.0972 - accuracy: 0.3810 - val_loss: 1.1105 - val_accuracy: 0.3000\n",
            "Epoch 49/100\n",
            "8/8 [==============================] - 0s 6ms/step - loss: 1.0968 - accuracy: 0.3657 - val_loss: 1.1107 - val_accuracy: 0.3000\n",
            "Epoch 50/100\n",
            "8/8 [==============================] - 0s 4ms/step - loss: 1.0932 - accuracy: 0.3863 - val_loss: 1.1109 - val_accuracy: 0.3000\n",
            "Epoch 51/100\n",
            "8/8 [==============================] - 0s 4ms/step - loss: 1.0717 - accuracy: 0.4552 - val_loss: 1.1114 - val_accuracy: 0.3000\n",
            "Epoch 52/100\n",
            "8/8 [==============================] - 0s 6ms/step - loss: 1.0937 - accuracy: 0.4051 - val_loss: 1.1116 - val_accuracy: 0.3000\n",
            "Epoch 53/100\n",
            "8/8 [==============================] - 0s 3ms/step - loss: 1.0831 - accuracy: 0.4544 - val_loss: 1.1119 - val_accuracy: 0.3000\n",
            "Epoch 54/100\n",
            "8/8 [==============================] - 0s 4ms/step - loss: 1.0947 - accuracy: 0.3639 - val_loss: 1.1120 - val_accuracy: 0.3000\n",
            "Epoch 55/100\n",
            "8/8 [==============================] - 0s 6ms/step - loss: 1.0802 - accuracy: 0.4142 - val_loss: 1.1121 - val_accuracy: 0.3000\n",
            "Epoch 56/100\n",
            "8/8 [==============================] - 0s 4ms/step - loss: 1.1012 - accuracy: 0.3707 - val_loss: 1.1121 - val_accuracy: 0.3000\n",
            "Epoch 57/100\n",
            "8/8 [==============================] - 0s 4ms/step - loss: 1.0984 - accuracy: 0.3929 - val_loss: 1.1123 - val_accuracy: 0.3000\n",
            "Epoch 58/100\n",
            "8/8 [==============================] - 0s 3ms/step - loss: 1.0831 - accuracy: 0.4066 - val_loss: 1.1126 - val_accuracy: 0.3000\n",
            "Epoch 59/100\n",
            "8/8 [==============================] - 0s 5ms/step - loss: 1.0755 - accuracy: 0.4424 - val_loss: 1.1129 - val_accuracy: 0.3000\n",
            "Epoch 60/100\n",
            "8/8 [==============================] - 0s 4ms/step - loss: 1.0896 - accuracy: 0.3976 - val_loss: 1.1131 - val_accuracy: 0.3000\n",
            "Epoch 61/100\n",
            "8/8 [==============================] - 0s 4ms/step - loss: 1.0768 - accuracy: 0.4406 - val_loss: 1.1134 - val_accuracy: 0.3000\n",
            "Epoch 62/100\n",
            "8/8 [==============================] - 0s 4ms/step - loss: 1.1023 - accuracy: 0.3952 - val_loss: 1.1133 - val_accuracy: 0.3000\n",
            "Epoch 63/100\n",
            "8/8 [==============================] - 0s 4ms/step - loss: 1.0876 - accuracy: 0.4071 - val_loss: 1.1135 - val_accuracy: 0.3000\n",
            "Epoch 64/100\n",
            "8/8 [==============================] - 0s 4ms/step - loss: 1.0710 - accuracy: 0.4729 - val_loss: 1.1139 - val_accuracy: 0.3000\n",
            "Epoch 65/100\n",
            "8/8 [==============================] - 0s 3ms/step - loss: 1.0932 - accuracy: 0.3803 - val_loss: 1.1138 - val_accuracy: 0.3000\n",
            "Epoch 66/100\n",
            "8/8 [==============================] - 0s 4ms/step - loss: 1.0977 - accuracy: 0.3765 - val_loss: 1.1139 - val_accuracy: 0.3000\n",
            "Epoch 67/100\n",
            "8/8 [==============================] - 0s 4ms/step - loss: 1.0918 - accuracy: 0.3880 - val_loss: 1.1141 - val_accuracy: 0.3000\n",
            "Epoch 68/100\n",
            "8/8 [==============================] - 0s 4ms/step - loss: 1.0957 - accuracy: 0.3733 - val_loss: 1.1143 - val_accuracy: 0.3000\n",
            "Epoch 69/100\n",
            "8/8 [==============================] - 0s 4ms/step - loss: 1.0705 - accuracy: 0.4521 - val_loss: 1.1146 - val_accuracy: 0.3000\n",
            "Epoch 70/100\n",
            "8/8 [==============================] - 0s 3ms/step - loss: 1.0917 - accuracy: 0.3773 - val_loss: 1.1146 - val_accuracy: 0.3000\n",
            "Epoch 71/100\n",
            "8/8 [==============================] - 0s 4ms/step - loss: 1.0894 - accuracy: 0.3937 - val_loss: 1.1148 - val_accuracy: 0.3000\n",
            "Epoch 72/100\n",
            "8/8 [==============================] - 0s 6ms/step - loss: 1.1000 - accuracy: 0.3542 - val_loss: 1.1147 - val_accuracy: 0.3000\n",
            "Epoch 73/100\n",
            "8/8 [==============================] - 0s 4ms/step - loss: 1.0886 - accuracy: 0.4091 - val_loss: 1.1150 - val_accuracy: 0.3000\n",
            "Epoch 74/100\n",
            "8/8 [==============================] - 0s 4ms/step - loss: 1.0829 - accuracy: 0.4227 - val_loss: 1.1150 - val_accuracy: 0.3000\n",
            "Epoch 75/100\n",
            "8/8 [==============================] - 0s 7ms/step - loss: 1.1011 - accuracy: 0.3858 - val_loss: 1.1151 - val_accuracy: 0.3000\n",
            "Epoch 76/100\n",
            "8/8 [==============================] - 0s 4ms/step - loss: 1.0805 - accuracy: 0.4362 - val_loss: 1.1153 - val_accuracy: 0.3000\n",
            "Epoch 77/100\n",
            "8/8 [==============================] - 0s 4ms/step - loss: 1.0924 - accuracy: 0.3749 - val_loss: 1.1153 - val_accuracy: 0.3000\n",
            "Epoch 78/100\n",
            "8/8 [==============================] - 0s 4ms/step - loss: 1.0860 - accuracy: 0.4058 - val_loss: 1.1154 - val_accuracy: 0.3000\n",
            "Epoch 79/100\n",
            "8/8 [==============================] - 0s 4ms/step - loss: 1.0858 - accuracy: 0.4205 - val_loss: 1.1156 - val_accuracy: 0.3000\n",
            "Epoch 80/100\n",
            "8/8 [==============================] - 0s 4ms/step - loss: 1.0926 - accuracy: 0.3608 - val_loss: 1.1157 - val_accuracy: 0.3000\n",
            "Epoch 81/100\n",
            "8/8 [==============================] - 0s 4ms/step - loss: 1.0799 - accuracy: 0.4456 - val_loss: 1.1160 - val_accuracy: 0.3000\n",
            "Epoch 82/100\n",
            "8/8 [==============================] - 0s 3ms/step - loss: 1.0879 - accuracy: 0.4090 - val_loss: 1.1160 - val_accuracy: 0.3000\n",
            "Epoch 83/100\n",
            "8/8 [==============================] - 0s 6ms/step - loss: 1.0956 - accuracy: 0.3694 - val_loss: 1.1160 - val_accuracy: 0.3000\n",
            "Epoch 84/100\n",
            "8/8 [==============================] - 0s 4ms/step - loss: 1.0997 - accuracy: 0.3530 - val_loss: 1.1160 - val_accuracy: 0.3000\n",
            "Epoch 85/100\n",
            "8/8 [==============================] - 0s 4ms/step - loss: 1.0948 - accuracy: 0.3749 - val_loss: 1.1160 - val_accuracy: 0.3000\n",
            "Epoch 86/100\n",
            "8/8 [==============================] - 0s 4ms/step - loss: 1.0695 - accuracy: 0.4675 - val_loss: 1.1163 - val_accuracy: 0.3000\n",
            "Epoch 87/100\n",
            "8/8 [==============================] - 0s 5ms/step - loss: 1.0858 - accuracy: 0.4217 - val_loss: 1.1163 - val_accuracy: 0.3000\n",
            "Epoch 88/100\n",
            "8/8 [==============================] - 0s 4ms/step - loss: 1.0929 - accuracy: 0.3775 - val_loss: 1.1164 - val_accuracy: 0.3000\n",
            "Epoch 89/100\n",
            "8/8 [==============================] - 0s 4ms/step - loss: 1.0827 - accuracy: 0.4224 - val_loss: 1.1167 - val_accuracy: 0.3000\n",
            "Epoch 90/100\n",
            "8/8 [==============================] - 0s 3ms/step - loss: 1.0763 - accuracy: 0.4398 - val_loss: 1.1168 - val_accuracy: 0.3000\n",
            "Epoch 91/100\n",
            "8/8 [==============================] - 0s 4ms/step - loss: 1.0795 - accuracy: 0.4198 - val_loss: 1.1169 - val_accuracy: 0.3000\n",
            "Epoch 92/100\n",
            "8/8 [==============================] - 0s 6ms/step - loss: 1.1010 - accuracy: 0.3596 - val_loss: 1.1167 - val_accuracy: 0.3000\n",
            "Epoch 93/100\n",
            "8/8 [==============================] - 0s 3ms/step - loss: 1.1074 - accuracy: 0.3567 - val_loss: 1.1166 - val_accuracy: 0.3000\n",
            "Epoch 94/100\n",
            "8/8 [==============================] - 0s 6ms/step - loss: 1.0763 - accuracy: 0.4493 - val_loss: 1.1168 - val_accuracy: 0.3000\n",
            "Epoch 95/100\n",
            "8/8 [==============================] - 0s 4ms/step - loss: 1.0817 - accuracy: 0.4270 - val_loss: 1.1169 - val_accuracy: 0.3000\n",
            "Epoch 96/100\n",
            "8/8 [==============================] - 0s 4ms/step - loss: 1.0896 - accuracy: 0.3976 - val_loss: 1.1170 - val_accuracy: 0.3000\n",
            "Epoch 97/100\n",
            "8/8 [==============================] - 0s 4ms/step - loss: 1.0757 - accuracy: 0.4480 - val_loss: 1.1173 - val_accuracy: 0.3000\n",
            "Epoch 98/100\n",
            "8/8 [==============================] - 0s 4ms/step - loss: 1.0982 - accuracy: 0.3642 - val_loss: 1.1171 - val_accuracy: 0.3000\n",
            "Epoch 99/100\n",
            "8/8 [==============================] - 0s 6ms/step - loss: 1.1037 - accuracy: 0.3493 - val_loss: 1.1170 - val_accuracy: 0.3000\n",
            "Epoch 100/100\n",
            "8/8 [==============================] - 0s 4ms/step - loss: 1.0971 - accuracy: 0.3840 - val_loss: 1.1170 - val_accuracy: 0.3000\n"
          ]
        },
        {
          "data": {
            "text/plain": [
              "<keras.callbacks.History at 0x7effb6c81350>"
            ]
          },
          "execution_count": 89,
          "metadata": {
            "tags": []
          },
          "output_type": "execute_result"
        }
      ],
      "source": [
        "classifier.fit(X_train,y_train,validation_split=0.33,batch_size=10,epochs=100)"
      ]
    },
    {
      "cell_type": "code",
      "execution_count": null,
      "metadata": {
        "id": "AmQvIDp32mfh"
      },
      "outputs": [],
      "source": [
        "y_pred=classifier.predict(X_test)\n",
        "y_pred=(y_pred>0.5)"
      ]
    },
    {
      "cell_type": "code",
      "execution_count": null,
      "metadata": {
        "id": "t6z-wWKl5Yru"
      },
      "outputs": [],
      "source": [
        ""
      ]
    }
  ],
  "metadata": {
    "colab": {
      "collapsed_sections": [],
      "name": "ANN(classification) MODEL Using keras (iris dataset)",
      "provenance": [],
      "authorship_tag": "ABX9TyO6SNhXGe/Kgq1YaIH4ONlB",
      "include_colab_link": true
    },
    "kernelspec": {
      "display_name": "Python 3",
      "name": "python3"
    },
    "language_info": {
      "name": "python"
    }
  },
  "nbformat": 4,
  "nbformat_minor": 0
}