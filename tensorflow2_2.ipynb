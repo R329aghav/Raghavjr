{
  "nbformat": 4,
  "nbformat_minor": 0,
  "metadata": {
    "colab": {
      "name": "tensorflow2.2",
      "provenance": [],
      "collapsed_sections": [],
      "authorship_tag": "ABX9TyP2htlsKB7DkVHv44K0pcEH",
      "include_colab_link": true
    },
    "kernelspec": {
      "name": "python3",
      "display_name": "Python 3"
    },
    "language_info": {
      "name": "python"
    }
  },
  "cells": [
    {
      "cell_type": "markdown",
      "metadata": {
        "id": "view-in-github",
        "colab_type": "text"
      },
      "source": [
        "<a href=\"https://colab.research.google.com/github/R329aghav/Raghavjr/blob/main/tensorflow2_2.ipynb\" target=\"_parent\"><img src=\"https://colab.research.google.com/assets/colab-badge.svg\" alt=\"Open In Colab\"/></a>"
      ]
    },
    {
      "cell_type": "code",
      "metadata": {
        "id": "ZJZH5AwDDqze"
      },
      "source": [
        "import tensorflow as tf\n",
        "import numpy as np\n",
        "from matplotlib import pyplot as plt"
      ],
      "execution_count": null,
      "outputs": []
    },
    {
      "cell_type": "code",
      "metadata": {
        "colab": {
          "base_uri": "https://localhost:8080/"
        },
        "id": "UnaxDE2SDyPM",
        "outputId": "f9eb5ae0-3f65-4130-af75-c3861fc20dc8"
      },
      "source": [
        "print(tf.__version__)"
      ],
      "execution_count": null,
      "outputs": [
        {
          "output_type": "stream",
          "name": "stdout",
          "text": [
            "2.6.0\n"
          ]
        }
      ]
    },
    {
      "cell_type": "code",
      "metadata": {
        "colab": {
          "base_uri": "https://localhost:8080/"
        },
        "id": "hQkRhltBD9W6",
        "outputId": "99455435-4a8b-467f-f28a-5446523b9a02"
      },
      "source": [
        "# create function\n",
        "x=np.array([-7.0,-4.0,-1.0,2.0,5.0,8.0,11.0,14.0])\n",
        "x\n",
        "# cisu;ize the data\n"
      ],
      "execution_count": null,
      "outputs": [
        {
          "output_type": "execute_result",
          "data": {
            "text/plain": [
              "array([-7., -4., -1.,  2.,  5.,  8., 11., 14.])"
            ]
          },
          "metadata": {},
          "execution_count": 3
        }
      ]
    },
    {
      "cell_type": "code",
      "metadata": {
        "colab": {
          "base_uri": "https://localhost:8080/"
        },
        "id": "Fo5aj1zKExM3",
        "outputId": "941e4adc-39df-49f4-ede4-083113ecfdf6"
      },
      "source": [
        "y=x+10\n",
        "y"
      ],
      "execution_count": null,
      "outputs": [
        {
          "output_type": "execute_result",
          "data": {
            "text/plain": [
              "array([ 3.,  6.,  9., 12., 15., 18., 21., 24.])"
            ]
          },
          "metadata": {},
          "execution_count": 4
        }
      ]
    },
    {
      "cell_type": "code",
      "metadata": {
        "colab": {
          "base_uri": "https://localhost:8080/",
          "height": 269
        },
        "id": "YmG6LVgeE0N-",
        "outputId": "5dad0003-4af6-414b-f7bc-56bf91996767"
      },
      "source": [
        "plt.scatter(x,y);"
      ],
      "execution_count": null,
      "outputs": [
        {
          "output_type": "display_data",
          "data": {
            "image/png": "[encoded data removed]",
            "text/plain": [
              "<Figure size 432x288 with 1 Axes>"
            ]
          },
          "metadata": {
            "needs_background": "light"
          }
        }
      ]
    },
    {
      "cell_type": "code",
      "metadata": {
        "colab": {
          "base_uri": "https://localhost:8080/"
        },
        "id": "LTQAzkRSE6vy",
        "outputId": "945deada-71a1-4398-ad9a-f35d38b4f06c"
      },
      "source": [
        "x=tf.constant(x)\n",
        "x"
      ],
      "execution_count": null,
      "outputs": [
        {
          "output_type": "execute_result",
          "data": {
            "text/plain": [
              "<tf.Tensor: shape=(8,), dtype=float64, numpy=array([-7., -4., -1.,  2.,  5.,  8., 11., 14.])>"
            ]
          },
          "metadata": {},
          "execution_count": 6
        }
      ]
    },
    {
      "cell_type": "code",
      "metadata": {
        "colab": {
          "base_uri": "https://localhost:8080/"
        },
        "id": "yV6QVc8QFCBR",
        "outputId": "7b13fd78-c0c1-4855-ee18-438bc1dc2afe"
      },
      "source": [
        "y=tf.constant(y)\n",
        "y"
      ],
      "execution_count": null,
      "outputs": [
        {
          "output_type": "execute_result",
          "data": {
            "text/plain": [
              "<tf.Tensor: shape=(8,), dtype=float64, numpy=array([ 3.,  6.,  9., 12., 15., 18., 21., 24.])>"
            ]
          },
          "metadata": {},
          "execution_count": 7
        }
      ]
    },
    {
      "cell_type": "code",
      "metadata": {
        "colab": {
          "base_uri": "https://localhost:8080/"
        },
        "id": "TGhzJ3JcFF2N",
        "outputId": "66b3532f-a629-421c-b5b0-ab658ac86c54"
      },
      "source": [
        "x.shape,y.shape,x.ndim,y.ndim,x.shape,y.shape"
      ],
      "execution_count": null,
      "outputs": [
        {
          "output_type": "execute_result",
          "data": {
            "text/plain": [
              "(TensorShape([8]), TensorShape([8]), 1, 1, TensorShape([8]), TensorShape([8]))"
            ]
          },
          "metadata": {},
          "execution_count": 8
        }
      ]
    },
    {
      "cell_type": "code",
      "metadata": {
        "colab": {
          "base_uri": "https://localhost:8080/"
        },
        "id": "Ajbwi5tZFRFT",
        "outputId": "6c0e9bc8-f87c-4548-9560-d81553de9170"
      },
      "source": [
        "input_shape=x[0].shape\n",
        "output_shape=y[0].shape\n",
        "input_shape,output_shape"
      ],
      "execution_count": null,
      "outputs": [
        {
          "output_type": "execute_result",
          "data": {
            "text/plain": [
              "(TensorShape([]), TensorShape([]))"
            ]
          },
          "metadata": {},
          "execution_count": 9
        }
      ]
    },
    {
      "cell_type": "code",
      "metadata": {
        "colab": {
          "base_uri": "https://localhost:8080/"
        },
        "id": "t7uBsM_5F1dh",
        "outputId": "afb08b3d-fe0a-4794-fbd6-bdd43e3221b6"
      },
      "source": [
        "x.shape.ndims"
      ],
      "execution_count": null,
      "outputs": [
        {
          "output_type": "execute_result",
          "data": {
            "text/plain": [
              "1"
            ]
          },
          "metadata": {},
          "execution_count": 10
        }
      ]
    },
    {
      "cell_type": "code",
      "metadata": {
        "id": "diAaQFF3F479"
      },
      "source": [
        "# steps in modelling with tensorflow \n",
        "# 1.create a model: define the input and output layers ,as well as the hidden layers of a deep learning model .\n",
        "# 2.compiling the model -->define the loss function (in other words ,the function which tells our model how wrong it is)and the optimizer (tells our mode; hw to improve the patterns)"
      ],
      "execution_count": null,
      "outputs": []
    },
    {
      "cell_type": "code",
      "metadata": {
        "colab": {
          "base_uri": "https://localhost:8080/"
        },
        "id": "ttGiraTVHLWH",
        "outputId": "5c4645d8-874a-462b-90a7-19e39353db5c"
      },
      "source": [
        "# set random seed\n",
        "tf.random.set_seed(42)\n",
        "\n",
        "# create the model\n",
        "\n",
        "model=tf.keras.Sequential([\n",
        "                           tf.keras.layers.Dense(1)\n",
        "])\n",
        "# 2.compile the model\n",
        "\n",
        "model.compile(loss=tf.keras.losses.mae,\n",
        "              optimizer=tf.keras.optimizers.SGD(),\n",
        "              metrics=[\"mae\"])\n",
        "# 3.fit the model\n",
        "model.fit(x,y,epochs=10)\n"
      ],
      "execution_count": null,
      "outputs": [
        {
          "output_type": "stream",
          "name": "stdout",
          "text": [
            "Epoch 1/10\n",
            "1/1 [==============================] - 1s 627ms/step - loss: 11.5048 - mae: 11.5048\n",
            "Epoch 2/10\n",
            "1/1 [==============================] - 0s 6ms/step - loss: 11.3723 - mae: 11.3723\n",
            "Epoch 3/10\n",
            "1/1 [==============================] - 0s 7ms/step - loss: 11.2398 - mae: 11.2398\n",
            "Epoch 4/10\n",
            "1/1 [==============================] - 0s 5ms/step - loss: 11.1073 - mae: 11.1073\n",
            "Epoch 5/10\n",
            "1/1 [==============================] - 0s 6ms/step - loss: 10.9748 - mae: 10.9748\n",
            "Epoch 6/10\n",
            "1/1 [==============================] - 0s 6ms/step - loss: 10.8423 - mae: 10.8423\n",
            "Epoch 7/10\n",
            "1/1 [==============================] - 0s 5ms/step - loss: 10.7098 - mae: 10.7098\n",
            "Epoch 8/10\n",
            "1/1 [==============================] - 0s 5ms/step - loss: 10.5773 - mae: 10.5773\n",
            "Epoch 9/10\n",
            "1/1 [==============================] - 0s 6ms/step - loss: 10.4448 - mae: 10.4448\n",
            "Epoch 10/10\n",
            "1/1 [==============================] - 0s 15ms/step - loss: 10.3123 - mae: 10.3123\n"
          ]
        },
        {
          "output_type": "execute_result",
          "data": {
            "text/plain": [
              "<keras.callbacks.History at 0x7fd179d7f110>"
            ]
          },
          "metadata": {},
          "execution_count": 12
        }
      ]
    },
    {
      "cell_type": "code",
      "metadata": {
        "colab": {
          "base_uri": "https://localhost:8080/"
        },
        "id": "IhIV2LvCJYw9",
        "outputId": "3274cf29-0320-431e-e133-ff1e9655dee9"
      },
      "source": [
        "# check  x ,y\n",
        "x,y"
      ],
      "execution_count": null,
      "outputs": [
        {
          "output_type": "execute_result",
          "data": {
            "text/plain": [
              "(<tf.Tensor: shape=(8,), dtype=float64, numpy=array([-7., -4., -1.,  2.,  5.,  8., 11., 14.])>,\n",
              " <tf.Tensor: shape=(8,), dtype=float64, numpy=array([ 3.,  6.,  9., 12., 15., 18., 21., 24.])>)"
            ]
          },
          "metadata": {},
          "execution_count": 13
        }
      ]
    },
    {
      "cell_type": "code",
      "metadata": {
        "colab": {
          "base_uri": "https://localhost:8080/"
        },
        "id": "q3YSxqR0LDGB",
        "outputId": "af52c751-aca8-4319-badc-f75f0d211f05"
      },
      "source": [
        "# try and make a prediction using our model;\n",
        "y_pred=model.predict([17.0])\n",
        "y_pred"
      ],
      "execution_count": null,
      "outputs": [
        {
          "output_type": "execute_result",
          "data": {
            "text/plain": [
              "array([[15.741023]], dtype=float32)"
            ]
          },
          "metadata": {},
          "execution_count": 14
        }
      ]
    },
    {
      "cell_type": "code",
      "metadata": {
        "colab": {
          "base_uri": "https://localhost:8080/"
        },
        "id": "xJ26Zml8LPJl",
        "outputId": "07d4487c-174d-48e9-a219-1b430f1929df"
      },
      "source": [
        "y_pred+10"
      ],
      "execution_count": null,
      "outputs": [
        {
          "output_type": "execute_result",
          "data": {
            "text/plain": [
              "array([[25.741024]], dtype=float32)"
            ]
          },
          "metadata": {},
          "execution_count": 15
        }
      ]
    },
    {
      "cell_type": "code",
      "metadata": {
        "colab": {
          "base_uri": "https://localhost:8080/"
        },
        "id": "jIDfgDd-LTqC",
        "outputId": "726d03a2-7dd8-409e-fbba-73e1a7fc5b01"
      },
      "source": [
        "# improving our model\n",
        "# set random seed \n",
        "tf.random.set_seed(42)\n",
        "\n",
        "# 2.create our model\n",
        "model=tf.keras.Sequential([\n",
        "                           tf.keras.layers.Dense(100,activation=\"relu\"),\n",
        "                             tf.keras.layers.Dense(100,activation=\"relu\"),\n",
        "                               tf.keras.layers.Dense(100,activation=\"relu\"),\n",
        "                           tf.keras.layers.Dense(1)\n",
        "\n",
        "])\n",
        "\n",
        "# 3.compile our model\n",
        "model.compile(loss=tf.keras.losses.mae,\n",
        "              optimizer=tf.keras.optimizers.SGD(),\n",
        "              metrics=[\"mae\"])\n",
        "\n",
        "# 3.fit the model\n",
        "model.fit(x,y,epochs=100)\n"
      ],
      "execution_count": null,
      "outputs": [
        {
          "output_type": "stream",
          "name": "stdout",
          "text": [
            "Epoch 1/100\n",
            "1/1 [==============================] - 0s 428ms/step - loss: 13.3030 - mae: 13.3030\n",
            "Epoch 2/100\n",
            "1/1 [==============================] - 0s 4ms/step - loss: 12.8554 - mae: 12.8554\n",
            "Epoch 3/100\n",
            "1/1 [==============================] - 0s 9ms/step - loss: 12.4230 - mae: 12.4230\n",
            "Epoch 4/100\n",
            "1/1 [==============================] - 0s 8ms/step - loss: 11.9513 - mae: 11.9513\n",
            "Epoch 5/100\n",
            "1/1 [==============================] - 0s 8ms/step - loss: 11.4463 - mae: 11.4463\n",
            "Epoch 6/100\n",
            "1/1 [==============================] - 0s 7ms/step - loss: 10.8730 - mae: 10.8730\n",
            "Epoch 7/100\n",
            "1/1 [==============================] - 0s 7ms/step - loss: 10.1900 - mae: 10.1900\n",
            "Epoch 8/100\n",
            "1/1 [==============================] - 0s 9ms/step - loss: 9.3551 - mae: 9.3551\n",
            "Epoch 9/100\n",
            "1/1 [==============================] - 0s 6ms/step - loss: 8.3088 - mae: 8.3088\n",
            "Epoch 10/100\n",
            "1/1 [==============================] - 0s 4ms/step - loss: 7.0221 - mae: 7.0221\n",
            "Epoch 11/100\n",
            "1/1 [==============================] - 0s 7ms/step - loss: 5.3765 - mae: 5.3765\n",
            "Epoch 12/100\n",
            "1/1 [==============================] - 0s 6ms/step - loss: 3.9388 - mae: 3.9388\n",
            "Epoch 13/100\n",
            "1/1 [==============================] - 0s 5ms/step - loss: 4.0585 - mae: 4.0585\n",
            "Epoch 14/100\n",
            "1/1 [==============================] - 0s 7ms/step - loss: 3.9487 - mae: 3.9487\n",
            "Epoch 15/100\n",
            "1/1 [==============================] - 0s 6ms/step - loss: 4.0102 - mae: 4.0102\n",
            "Epoch 16/100\n",
            "1/1 [==============================] - 0s 6ms/step - loss: 3.9600 - mae: 3.9600\n",
            "Epoch 17/100\n",
            "1/1 [==============================] - 0s 9ms/step - loss: 3.9603 - mae: 3.9603\n",
            "Epoch 18/100\n",
            "1/1 [==============================] - 0s 7ms/step - loss: 3.9728 - mae: 3.9728\n",
            "Epoch 19/100\n",
            "1/1 [==============================] - 0s 9ms/step - loss: 3.9088 - mae: 3.9088\n",
            "Epoch 20/100\n",
            "1/1 [==============================] - 0s 8ms/step - loss: 3.9865 - mae: 3.9865\n",
            "Epoch 21/100\n",
            "1/1 [==============================] - 0s 7ms/step - loss: 3.8571 - mae: 3.8571\n",
            "Epoch 22/100\n",
            "1/1 [==============================] - 0s 5ms/step - loss: 4.0011 - mae: 4.0011\n",
            "Epoch 23/100\n",
            "1/1 [==============================] - 0s 6ms/step - loss: 3.8023 - mae: 3.8023\n",
            "Epoch 24/100\n",
            "1/1 [==============================] - 0s 6ms/step - loss: 4.0176 - mae: 4.0176\n",
            "Epoch 25/100\n",
            "1/1 [==============================] - 0s 7ms/step - loss: 3.8114 - mae: 3.8114\n",
            "Epoch 26/100\n",
            "1/1 [==============================] - 0s 6ms/step - loss: 3.9567 - mae: 3.9567\n",
            "Epoch 27/100\n",
            "1/1 [==============================] - 0s 7ms/step - loss: 3.8279 - mae: 3.8279\n",
            "Epoch 28/100\n",
            "1/1 [==============================] - 0s 6ms/step - loss: 3.9015 - mae: 3.9015\n",
            "Epoch 29/100\n",
            "1/1 [==============================] - 0s 7ms/step - loss: 3.8454 - mae: 3.8454\n",
            "Epoch 30/100\n",
            "1/1 [==============================] - 0s 8ms/step - loss: 3.8438 - mae: 3.8438\n",
            "Epoch 31/100\n",
            "1/1 [==============================] - 0s 6ms/step - loss: 3.8637 - mae: 3.8637\n",
            "Epoch 32/100\n",
            "1/1 [==============================] - 0s 8ms/step - loss: 3.7847 - mae: 3.7847\n",
            "Epoch 33/100\n",
            "1/1 [==============================] - 0s 7ms/step - loss: 3.8840 - mae: 3.8840\n",
            "Epoch 34/100\n",
            "1/1 [==============================] - 0s 10ms/step - loss: 3.7242 - mae: 3.7242\n",
            "Epoch 35/100\n",
            "1/1 [==============================] - 0s 7ms/step - loss: 3.9055 - mae: 3.9055\n",
            "Epoch 36/100\n",
            "1/1 [==============================] - 0s 7ms/step - loss: 3.7055 - mae: 3.7055\n",
            "Epoch 37/100\n",
            "1/1 [==============================] - 0s 6ms/step - loss: 3.8867 - mae: 3.8867\n",
            "Epoch 38/100\n",
            "1/1 [==============================] - 0s 13ms/step - loss: 3.7598 - mae: 3.7598\n",
            "Epoch 39/100\n",
            "1/1 [==============================] - 0s 21ms/step - loss: 3.7921 - mae: 3.7921\n",
            "Epoch 40/100\n",
            "1/1 [==============================] - 0s 12ms/step - loss: 3.7816 - mae: 3.7816\n",
            "Epoch 41/100\n",
            "1/1 [==============================] - 0s 12ms/step - loss: 3.7278 - mae: 3.7278\n",
            "Epoch 42/100\n",
            "1/1 [==============================] - 0s 9ms/step - loss: 3.8052 - mae: 3.8052\n",
            "Epoch 43/100\n",
            "1/1 [==============================] - 0s 16ms/step - loss: 3.6617 - mae: 3.6617\n",
            "Epoch 44/100\n",
            "1/1 [==============================] - 0s 9ms/step - loss: 3.8296 - mae: 3.8296\n",
            "Epoch 45/100\n",
            "1/1 [==============================] - 0s 9ms/step - loss: 3.6354 - mae: 3.6354\n",
            "Epoch 46/100\n",
            "1/1 [==============================] - 0s 6ms/step - loss: 3.8020 - mae: 3.8020\n",
            "Epoch 47/100\n",
            "1/1 [==============================] - 0s 8ms/step - loss: 3.6923 - mae: 3.6923\n",
            "Epoch 48/100\n",
            "1/1 [==============================] - 0s 6ms/step - loss: 3.7139 - mae: 3.7139\n",
            "Epoch 49/100\n",
            "1/1 [==============================] - 0s 9ms/step - loss: 3.7166 - mae: 3.7166\n",
            "Epoch 50/100\n",
            "1/1 [==============================] - 0s 8ms/step - loss: 3.6428 - mae: 3.6428\n",
            "Epoch 51/100\n",
            "1/1 [==============================] - 0s 5ms/step - loss: 3.7432 - mae: 3.7432\n",
            "Epoch 52/100\n",
            "1/1 [==============================] - 0s 10ms/step - loss: 3.5703 - mae: 3.5703\n",
            "Epoch 53/100\n",
            "1/1 [==============================] - 0s 9ms/step - loss: 3.7707 - mae: 3.7707\n",
            "Epoch 54/100\n",
            "1/1 [==============================] - 0s 5ms/step - loss: 3.5784 - mae: 3.5784\n",
            "Epoch 55/100\n",
            "1/1 [==============================] - 0s 7ms/step - loss: 3.7004 - mae: 3.7004\n",
            "Epoch 56/100\n",
            "1/1 [==============================] - 0s 10ms/step - loss: 3.6081 - mae: 3.6081\n",
            "Epoch 57/100\n",
            "1/1 [==============================] - 0s 7ms/step - loss: 3.6263 - mae: 3.6263\n",
            "Epoch 58/100\n",
            "1/1 [==============================] - 0s 8ms/step - loss: 3.6370 - mae: 3.6370\n",
            "Epoch 59/100\n",
            "1/1 [==============================] - 0s 8ms/step - loss: 3.5583 - mae: 3.5583\n",
            "Epoch 60/100\n",
            "1/1 [==============================] - 0s 9ms/step - loss: 3.7010 - mae: 3.7010\n",
            "Epoch 61/100\n",
            "1/1 [==============================] - 0s 7ms/step - loss: 3.5127 - mae: 3.5127\n",
            "Epoch 62/100\n",
            "1/1 [==============================] - 0s 9ms/step - loss: 3.6587 - mae: 3.6587\n",
            "Epoch 63/100\n",
            "1/1 [==============================] - 0s 8ms/step - loss: 3.5410 - mae: 3.5410\n",
            "Epoch 64/100\n",
            "1/1 [==============================] - 0s 10ms/step - loss: 3.5806 - mae: 3.5806\n",
            "Epoch 65/100\n",
            "1/1 [==============================] - 0s 8ms/step - loss: 3.5713 - mae: 3.5713\n",
            "Epoch 66/100\n",
            "1/1 [==============================] - 0s 8ms/step - loss: 3.4999 - mae: 3.4999\n",
            "Epoch 67/100\n",
            "1/1 [==============================] - 0s 6ms/step - loss: 3.6038 - mae: 3.6038\n",
            "Epoch 68/100\n",
            "1/1 [==============================] - 0s 9ms/step - loss: 3.4226 - mae: 3.4226\n",
            "Epoch 69/100\n",
            "1/1 [==============================] - 0s 16ms/step - loss: 3.6343 - mae: 3.6343\n",
            "Epoch 70/100\n",
            "1/1 [==============================] - 0s 5ms/step - loss: 3.4845 - mae: 3.4845\n",
            "Epoch 71/100\n",
            "1/1 [==============================] - 0s 8ms/step - loss: 3.5167 - mae: 3.5167\n",
            "Epoch 72/100\n",
            "1/1 [==============================] - 0s 6ms/step - loss: 3.5158 - mae: 3.5158\n",
            "Epoch 73/100\n",
            "1/1 [==============================] - 0s 5ms/step - loss: 3.4300 - mae: 3.4300\n",
            "Epoch 74/100\n",
            "1/1 [==============================] - 0s 7ms/step - loss: 3.5493 - mae: 3.5493\n",
            "Epoch 75/100\n",
            "1/1 [==============================] - 0s 13ms/step - loss: 3.3702 - mae: 3.3702\n",
            "Epoch 76/100\n",
            "1/1 [==============================] - 0s 8ms/step - loss: 3.5420 - mae: 3.5420\n",
            "Epoch 77/100\n",
            "1/1 [==============================] - 0s 5ms/step - loss: 3.4024 - mae: 3.4024\n",
            "Epoch 78/100\n",
            "1/1 [==============================] - 0s 6ms/step - loss: 3.4540 - mae: 3.4540\n",
            "Epoch 79/100\n",
            "1/1 [==============================] - 0s 5ms/step - loss: 3.4371 - mae: 3.4371\n",
            "Epoch 80/100\n",
            "1/1 [==============================] - 0s 6ms/step - loss: 3.3627 - mae: 3.3627\n",
            "Epoch 81/100\n",
            "1/1 [==============================] - 0s 5ms/step - loss: 3.5061 - mae: 3.5061\n",
            "Epoch 82/100\n",
            "1/1 [==============================] - 0s 7ms/step - loss: 3.3266 - mae: 3.3266\n",
            "Epoch 83/100\n",
            "1/1 [==============================] - 0s 6ms/step - loss: 3.4503 - mae: 3.4503\n",
            "Epoch 84/100\n",
            "1/1 [==============================] - 0s 6ms/step - loss: 3.3592 - mae: 3.3592\n",
            "Epoch 85/100\n",
            "1/1 [==============================] - 0s 5ms/step - loss: 3.3547 - mae: 3.3547\n",
            "Epoch 86/100\n",
            "1/1 [==============================] - 0s 7ms/step - loss: 3.3950 - mae: 3.3950\n",
            "Epoch 87/100\n",
            "1/1 [==============================] - 0s 7ms/step - loss: 3.2557 - mae: 3.2557\n",
            "Epoch 88/100\n",
            "1/1 [==============================] - 0s 5ms/step - loss: 3.4323 - mae: 3.4323\n",
            "Epoch 89/100\n",
            "1/1 [==============================] - 0s 6ms/step - loss: 3.2559 - mae: 3.2559\n",
            "Epoch 90/100\n",
            "1/1 [==============================] - 0s 9ms/step - loss: 3.3570 - mae: 3.3570\n",
            "Epoch 91/100\n",
            "1/1 [==============================] - 0s 5ms/step - loss: 3.2937 - mae: 3.2937\n",
            "Epoch 92/100\n",
            "1/1 [==============================] - 0s 11ms/step - loss: 3.2622 - mae: 3.2622\n",
            "Epoch 93/100\n",
            "1/1 [==============================] - 0s 10ms/step - loss: 3.3640 - mae: 3.3640\n",
            "Epoch 94/100\n",
            "1/1 [==============================] - 0s 6ms/step - loss: 3.1914 - mae: 3.1914\n",
            "Epoch 95/100\n",
            "1/1 [==============================] - 0s 5ms/step - loss: 3.3337 - mae: 3.3337\n",
            "Epoch 96/100\n",
            "1/1 [==============================] - 0s 5ms/step - loss: 3.2289 - mae: 3.2289\n",
            "Epoch 97/100\n",
            "1/1 [==============================] - 0s 5ms/step - loss: 3.2266 - mae: 3.2266\n",
            "Epoch 98/100\n",
            "1/1 [==============================] - 0s 8ms/step - loss: 3.2679 - mae: 3.2679\n",
            "Epoch 99/100\n",
            "1/1 [==============================] - 0s 9ms/step - loss: 3.1176 - mae: 3.1176\n",
            "Epoch 100/100\n",
            "1/1 [==============================] - 0s 5ms/step - loss: 3.3089 - mae: 3.3089\n"
          ]
        },
        {
          "output_type": "execute_result",
          "data": {
            "text/plain": [
              "<keras.callbacks.History at 0x7fd179cf9210>"
            ]
          },
          "metadata": {},
          "execution_count": 16
        }
      ]
    },
    {
      "cell_type": "code",
      "metadata": {
        "colab": {
          "base_uri": "https://localhost:8080/"
        },
        "id": "HParCvy8Opgf",
        "outputId": "c1024455-7a74-40f9-9b9d-02161f56c356"
      },
      "source": [
        "y_pred=model.predict(x)\n",
        "y_pred"
      ],
      "execution_count": null,
      "outputs": [
        {
          "output_type": "execute_result",
          "data": {
            "text/plain": [
              "array([[ 3.109024 ],\n",
              "       [ 2.5899057],\n",
              "       [ 2.0899067],\n",
              "       [ 6.017889 ],\n",
              "       [11.183215 ],\n",
              "       [16.348537 ],\n",
              "       [21.513865 ],\n",
              "       [26.678995 ]], dtype=float32)"
            ]
          },
          "metadata": {},
          "execution_count": 17
        }
      ]
    },
    {
      "cell_type": "code",
      "metadata": {
        "colab": {
          "base_uri": "https://localhost:8080/"
        },
        "id": "Ekmy5In9Ox5d",
        "outputId": "4a7e4858-e78b-4e3c-92df-a2900f67d252"
      },
      "source": [
        "y_pred=tf.squeeze(y_pred)\n",
        "y_pred"
      ],
      "execution_count": null,
      "outputs": [
        {
          "output_type": "execute_result",
          "data": {
            "text/plain": [
              "<tf.Tensor: shape=(8,), dtype=float32, numpy=\n",
              "array([ 3.109024 ,  2.5899057,  2.0899067,  6.017889 , 11.183215 ,\n",
              "       16.348537 , 21.513865 , 26.678995 ], dtype=float32)>"
            ]
          },
          "metadata": {},
          "execution_count": 18
        }
      ]
    },
    {
      "cell_type": "code",
      "metadata": {
        "colab": {
          "base_uri": "https://localhost:8080/"
        },
        "id": "Rkbjv-VdO6XR",
        "outputId": "aa8715bb-493c-4b5e-841a-48b84cacb130"
      },
      "source": [
        "y=tf.squeeze(y)\n",
        "y"
      ],
      "execution_count": null,
      "outputs": [
        {
          "output_type": "execute_result",
          "data": {
            "text/plain": [
              "<tf.Tensor: shape=(8,), dtype=float64, numpy=array([ 3.,  6.,  9., 12., 15., 18., 21., 24.])>"
            ]
          },
          "metadata": {},
          "execution_count": 19
        }
      ]
    },
    {
      "cell_type": "code",
      "metadata": {
        "colab": {
          "base_uri": "https://localhost:8080/",
          "height": 283
        },
        "id": "BoBt_wQjPM2q",
        "outputId": "531477a9-b9b6-4df4-9b5f-0e2ad51a009d"
      },
      "source": [
        "plt.scatter(y,y_pred)"
      ],
      "execution_count": null,
      "outputs": [
        {
          "output_type": "execute_result",
          "data": {
            "text/plain": [
              "<matplotlib.collections.PathCollection at 0x7fd17d8951d0>"
            ]
          },
          "metadata": {},
          "execution_count": 20
        },
        {
          "output_type": "display_data",
          "data": {
            "image/png": "[encoded data removed]",
            "text/plain": [
              "<Figure size 432x288 with 1 Axes>"
            ]
          },
          "metadata": {
            "needs_background": "light"
          }
        }
      ]
    },
    {
      "cell_type": "code",
      "metadata": {
        "colab": {
          "base_uri": "https://localhost:8080/"
        },
        "id": "4fKRgrKuPg2b",
        "outputId": "5416df8d-894e-49a8-e71f-56799679f879"
      },
      "source": [
        "x,y"
      ],
      "execution_count": null,
      "outputs": [
        {
          "output_type": "execute_result",
          "data": {
            "text/plain": [
              "(<tf.Tensor: shape=(8,), dtype=float64, numpy=array([-7., -4., -1.,  2.,  5.,  8., 11., 14.])>,\n",
              " <tf.Tensor: shape=(8,), dtype=float64, numpy=array([ 3.,  6.,  9., 12., 15., 18., 21., 24.])>)"
            ]
          },
          "metadata": {},
          "execution_count": 21
        }
      ]
    },
    {
      "cell_type": "code",
      "metadata": {
        "colab": {
          "base_uri": "https://localhost:8080/"
        },
        "id": "AfttV-huQWJ-",
        "outputId": "279ea070-c74a-4ca7-fdb1-6032295c5759"
      },
      "source": [
        "# set  random seed\n",
        "tf.random.set_seed(42)\n",
        "\n",
        "# 1.create our model\n",
        "model=tf.keras.Sequential([\n",
        "                           tf.keras.layers.Dense(100,activation=\"relu\"),\n",
        "                           tf.keras.layers.Dense(100,activation=\"relu\"),\n",
        "                           tf.keras.layers.Dense(100,activation=\"relu\"),\n",
        "                           tf.keras.layers.Dense(1)\n",
        "])\n",
        "\n",
        "# 2.compile a model\n",
        "model.compile(loss=tf.keras.losses.mae,\n",
        "              optimizer=tf.keras.optimizers.SGD(),\n",
        "              metrics=[\"mae\"])\n",
        "\n",
        "# 3.fit the model\n",
        "model.fit(x,y,epochs=200)"
      ],
      "execution_count": null,
      "outputs": [
        {
          "output_type": "stream",
          "name": "stdout",
          "text": [
            "Epoch 1/200\n",
            "1/1 [==============================] - 0s 376ms/step - loss: 13.3030 - mae: 13.3030\n",
            "Epoch 2/200\n",
            "1/1 [==============================] - 0s 6ms/step - loss: 12.8554 - mae: 12.8554\n",
            "Epoch 3/200\n",
            "1/1 [==============================] - 0s 5ms/step - loss: 12.4230 - mae: 12.4230\n",
            "Epoch 4/200\n",
            "1/1 [==============================] - 0s 6ms/step - loss: 11.9513 - mae: 11.9513\n",
            "Epoch 5/200\n",
            "1/1 [==============================] - 0s 7ms/step - loss: 11.4463 - mae: 11.4463\n",
            "Epoch 6/200\n",
            "1/1 [==============================] - 0s 8ms/step - loss: 10.8730 - mae: 10.8730\n",
            "Epoch 7/200\n",
            "1/1 [==============================] - 0s 8ms/step - loss: 10.1900 - mae: 10.1900\n",
            "Epoch 8/200\n",
            "1/1 [==============================] - 0s 10ms/step - loss: 9.3551 - mae: 9.3551\n",
            "Epoch 9/200\n",
            "1/1 [==============================] - 0s 6ms/step - loss: 8.3088 - mae: 8.3088\n",
            "Epoch 10/200\n",
            "1/1 [==============================] - 0s 8ms/step - loss: 7.0221 - mae: 7.0221\n",
            "Epoch 11/200\n",
            "1/1 [==============================] - 0s 8ms/step - loss: 5.3765 - mae: 5.3765\n",
            "Epoch 12/200\n",
            "1/1 [==============================] - 0s 9ms/step - loss: 3.9388 - mae: 3.9388\n",
            "Epoch 13/200\n",
            "1/1 [==============================] - 0s 7ms/step - loss: 4.0585 - mae: 4.0585\n",
            "Epoch 14/200\n",
            "1/1 [==============================] - 0s 4ms/step - loss: 3.9487 - mae: 3.9487\n",
            "Epoch 15/200\n",
            "1/1 [==============================] - 0s 8ms/step - loss: 4.0102 - mae: 4.0102\n",
            "Epoch 16/200\n",
            "1/1 [==============================] - 0s 7ms/step - loss: 3.9600 - mae: 3.9600\n",
            "Epoch 17/200\n",
            "1/1 [==============================] - 0s 12ms/step - loss: 3.9603 - mae: 3.9603\n",
            "Epoch 18/200\n",
            "1/1 [==============================] - 0s 16ms/step - loss: 3.9728 - mae: 3.9728\n",
            "Epoch 19/200\n",
            "1/1 [==============================] - 0s 6ms/step - loss: 3.9088 - mae: 3.9088\n",
            "Epoch 20/200\n",
            "1/1 [==============================] - 0s 8ms/step - loss: 3.9865 - mae: 3.9865\n",
            "Epoch 21/200\n",
            "1/1 [==============================] - 0s 6ms/step - loss: 3.8571 - mae: 3.8571\n",
            "Epoch 22/200\n",
            "1/1 [==============================] - 0s 5ms/step - loss: 4.0011 - mae: 4.0011\n",
            "Epoch 23/200\n",
            "1/1 [==============================] - 0s 5ms/step - loss: 3.8023 - mae: 3.8023\n",
            "Epoch 24/200\n",
            "1/1 [==============================] - 0s 5ms/step - loss: 4.0176 - mae: 4.0176\n",
            "Epoch 25/200\n",
            "1/1 [==============================] - 0s 5ms/step - loss: 3.8114 - mae: 3.8114\n",
            "Epoch 26/200\n",
            "1/1 [==============================] - 0s 5ms/step - loss: 3.9567 - mae: 3.9567\n",
            "Epoch 27/200\n",
            "1/1 [==============================] - 0s 5ms/step - loss: 3.8279 - mae: 3.8279\n",
            "Epoch 28/200\n",
            "1/1 [==============================] - 0s 5ms/step - loss: 3.9015 - mae: 3.9015\n",
            "Epoch 29/200\n",
            "1/1 [==============================] - 0s 5ms/step - loss: 3.8454 - mae: 3.8454\n",
            "Epoch 30/200\n",
            "1/1 [==============================] - 0s 6ms/step - loss: 3.8438 - mae: 3.8438\n",
            "Epoch 31/200\n",
            "1/1 [==============================] - 0s 5ms/step - loss: 3.8637 - mae: 3.8637\n",
            "Epoch 32/200\n",
            "1/1 [==============================] - 0s 5ms/step - loss: 3.7847 - mae: 3.7847\n",
            "Epoch 33/200\n",
            "1/1 [==============================] - 0s 4ms/step - loss: 3.8840 - mae: 3.8840\n",
            "Epoch 34/200\n",
            "1/1 [==============================] - 0s 8ms/step - loss: 3.7242 - mae: 3.7242\n",
            "Epoch 35/200\n",
            "1/1 [==============================] - 0s 5ms/step - loss: 3.9055 - mae: 3.9055\n",
            "Epoch 36/200\n",
            "1/1 [==============================] - 0s 5ms/step - loss: 3.7055 - mae: 3.7055\n",
            "Epoch 37/200\n",
            "1/1 [==============================] - 0s 14ms/step - loss: 3.8867 - mae: 3.8867\n",
            "Epoch 38/200\n",
            "1/1 [==============================] - 0s 10ms/step - loss: 3.7598 - mae: 3.7598\n",
            "Epoch 39/200\n",
            "1/1 [==============================] - 0s 13ms/step - loss: 3.7921 - mae: 3.7921\n",
            "Epoch 40/200\n",
            "1/1 [==============================] - 0s 7ms/step - loss: 3.7816 - mae: 3.7816\n",
            "Epoch 41/200\n",
            "1/1 [==============================] - 0s 7ms/step - loss: 3.7278 - mae: 3.7278\n",
            "Epoch 42/200\n",
            "1/1 [==============================] - 0s 7ms/step - loss: 3.8052 - mae: 3.8052\n",
            "Epoch 43/200\n",
            "1/1 [==============================] - 0s 11ms/step - loss: 3.6617 - mae: 3.6617\n",
            "Epoch 44/200\n",
            "1/1 [==============================] - 0s 8ms/step - loss: 3.8296 - mae: 3.8296\n",
            "Epoch 45/200\n",
            "1/1 [==============================] - 0s 7ms/step - loss: 3.6354 - mae: 3.6354\n",
            "Epoch 46/200\n",
            "1/1 [==============================] - 0s 9ms/step - loss: 3.8020 - mae: 3.8020\n",
            "Epoch 47/200\n",
            "1/1 [==============================] - 0s 8ms/step - loss: 3.6923 - mae: 3.6923\n",
            "Epoch 48/200\n",
            "1/1 [==============================] - 0s 22ms/step - loss: 3.7139 - mae: 3.7139\n",
            "Epoch 49/200\n",
            "1/1 [==============================] - 0s 15ms/step - loss: 3.7166 - mae: 3.7166\n",
            "Epoch 50/200\n",
            "1/1 [==============================] - 0s 12ms/step - loss: 3.6428 - mae: 3.6428\n",
            "Epoch 51/200\n",
            "1/1 [==============================] - 0s 7ms/step - loss: 3.7432 - mae: 3.7432\n",
            "Epoch 52/200\n",
            "1/1 [==============================] - 0s 4ms/step - loss: 3.5703 - mae: 3.5703\n",
            "Epoch 53/200\n",
            "1/1 [==============================] - 0s 5ms/step - loss: 3.7707 - mae: 3.7707\n",
            "Epoch 54/200\n",
            "1/1 [==============================] - 0s 5ms/step - loss: 3.5784 - mae: 3.5784\n",
            "Epoch 55/200\n",
            "1/1 [==============================] - 0s 8ms/step - loss: 3.7004 - mae: 3.7004\n",
            "Epoch 56/200\n",
            "1/1 [==============================] - 0s 7ms/step - loss: 3.6081 - mae: 3.6081\n",
            "Epoch 57/200\n",
            "1/1 [==============================] - 0s 9ms/step - loss: 3.6263 - mae: 3.6263\n",
            "Epoch 58/200\n",
            "1/1 [==============================] - 0s 5ms/step - loss: 3.6370 - mae: 3.6370\n",
            "Epoch 59/200\n",
            "1/1 [==============================] - 0s 7ms/step - loss: 3.5583 - mae: 3.5583\n",
            "Epoch 60/200\n",
            "1/1 [==============================] - 0s 7ms/step - loss: 3.7010 - mae: 3.7010\n",
            "Epoch 61/200\n",
            "1/1 [==============================] - 0s 7ms/step - loss: 3.5127 - mae: 3.5127\n",
            "Epoch 62/200\n",
            "1/1 [==============================] - 0s 7ms/step - loss: 3.6587 - mae: 3.6587\n",
            "Epoch 63/200\n",
            "1/1 [==============================] - 0s 7ms/step - loss: 3.5410 - mae: 3.5410\n",
            "Epoch 64/200\n",
            "1/1 [==============================] - 0s 7ms/step - loss: 3.5806 - mae: 3.5806\n",
            "Epoch 65/200\n",
            "1/1 [==============================] - 0s 6ms/step - loss: 3.5713 - mae: 3.5713\n",
            "Epoch 66/200\n",
            "1/1 [==============================] - 0s 5ms/step - loss: 3.4999 - mae: 3.4999\n",
            "Epoch 67/200\n",
            "1/1 [==============================] - 0s 5ms/step - loss: 3.6038 - mae: 3.6038\n",
            "Epoch 68/200\n",
            "1/1 [==============================] - 0s 5ms/step - loss: 3.4226 - mae: 3.4226\n",
            "Epoch 69/200\n",
            "1/1 [==============================] - 0s 9ms/step - loss: 3.6343 - mae: 3.6343\n",
            "Epoch 70/200\n",
            "1/1 [==============================] - 0s 4ms/step - loss: 3.4845 - mae: 3.4845\n",
            "Epoch 71/200\n",
            "1/1 [==============================] - 0s 7ms/step - loss: 3.5167 - mae: 3.5167\n",
            "Epoch 72/200\n",
            "1/1 [==============================] - 0s 5ms/step - loss: 3.5158 - mae: 3.5158\n",
            "Epoch 73/200\n",
            "1/1 [==============================] - 0s 6ms/step - loss: 3.4300 - mae: 3.4300\n",
            "Epoch 74/200\n",
            "1/1 [==============================] - 0s 8ms/step - loss: 3.5493 - mae: 3.5493\n",
            "Epoch 75/200\n",
            "1/1 [==============================] - 0s 5ms/step - loss: 3.3702 - mae: 3.3702\n",
            "Epoch 76/200\n",
            "1/1 [==============================] - 0s 5ms/step - loss: 3.5420 - mae: 3.5420\n",
            "Epoch 77/200\n",
            "1/1 [==============================] - 0s 6ms/step - loss: 3.4024 - mae: 3.4024\n",
            "Epoch 78/200\n",
            "1/1 [==============================] - 0s 8ms/step - loss: 3.4540 - mae: 3.4540\n",
            "Epoch 79/200\n",
            "1/1 [==============================] - 0s 11ms/step - loss: 3.4371 - mae: 3.4371\n",
            "Epoch 80/200\n",
            "1/1 [==============================] - 0s 7ms/step - loss: 3.3627 - mae: 3.3627\n",
            "Epoch 81/200\n",
            "1/1 [==============================] - 0s 8ms/step - loss: 3.5061 - mae: 3.5061\n",
            "Epoch 82/200\n",
            "1/1 [==============================] - 0s 5ms/step - loss: 3.3266 - mae: 3.3266\n",
            "Epoch 83/200\n",
            "1/1 [==============================] - 0s 5ms/step - loss: 3.4503 - mae: 3.4503\n",
            "Epoch 84/200\n",
            "1/1 [==============================] - 0s 8ms/step - loss: 3.3592 - mae: 3.3592\n",
            "Epoch 85/200\n",
            "1/1 [==============================] - 0s 5ms/step - loss: 3.3547 - mae: 3.3547\n",
            "Epoch 86/200\n",
            "1/1 [==============================] - 0s 9ms/step - loss: 3.3950 - mae: 3.3950\n",
            "Epoch 87/200\n",
            "1/1 [==============================] - 0s 7ms/step - loss: 3.2557 - mae: 3.2557\n",
            "Epoch 88/200\n",
            "1/1 [==============================] - 0s 10ms/step - loss: 3.4323 - mae: 3.4323\n",
            "Epoch 89/200\n",
            "1/1 [==============================] - 0s 9ms/step - loss: 3.2559 - mae: 3.2559\n",
            "Epoch 90/200\n",
            "1/1 [==============================] - 0s 10ms/step - loss: 3.3570 - mae: 3.3570\n",
            "Epoch 91/200\n",
            "1/1 [==============================] - 0s 11ms/step - loss: 3.2937 - mae: 3.2937\n",
            "Epoch 92/200\n",
            "1/1 [==============================] - 0s 9ms/step - loss: 3.2622 - mae: 3.2622\n",
            "Epoch 93/200\n",
            "1/1 [==============================] - 0s 14ms/step - loss: 3.3640 - mae: 3.3640\n",
            "Epoch 94/200\n",
            "1/1 [==============================] - 0s 10ms/step - loss: 3.1914 - mae: 3.1914\n",
            "Epoch 95/200\n",
            "1/1 [==============================] - 0s 8ms/step - loss: 3.3337 - mae: 3.3337\n",
            "Epoch 96/200\n",
            "1/1 [==============================] - 0s 10ms/step - loss: 3.2289 - mae: 3.2289\n",
            "Epoch 97/200\n",
            "1/1 [==============================] - 0s 12ms/step - loss: 3.2266 - mae: 3.2266\n",
            "Epoch 98/200\n",
            "1/1 [==============================] - 0s 7ms/step - loss: 3.2679 - mae: 3.2679\n",
            "Epoch 99/200\n",
            "1/1 [==============================] - 0s 6ms/step - loss: 3.1176 - mae: 3.1176\n",
            "Epoch 100/200\n",
            "1/1 [==============================] - 0s 17ms/step - loss: 3.3089 - mae: 3.3089\n",
            "Epoch 101/200\n",
            "1/1 [==============================] - 0s 8ms/step - loss: 3.1341 - mae: 3.1341\n",
            "Epoch 102/200\n",
            "1/1 [==============================] - 0s 9ms/step - loss: 3.2097 - mae: 3.2097\n",
            "Epoch 103/200\n",
            "1/1 [==============================] - 0s 7ms/step - loss: 3.1741 - mae: 3.1741\n",
            "Epoch 104/200\n",
            "1/1 [==============================] - 0s 11ms/step - loss: 3.1027 - mae: 3.1027\n",
            "Epoch 105/200\n",
            "1/1 [==============================] - 0s 9ms/step - loss: 3.2462 - mae: 3.2462\n",
            "Epoch 106/200\n",
            "1/1 [==============================] - 0s 18ms/step - loss: 3.0732 - mae: 3.0732\n",
            "Epoch 107/200\n",
            "1/1 [==============================] - 0s 8ms/step - loss: 3.1674 - mae: 3.1674\n",
            "Epoch 108/200\n",
            "1/1 [==============================] - 0s 10ms/step - loss: 3.1118 - mae: 3.1118\n",
            "Epoch 109/200\n",
            "1/1 [==============================] - 0s 6ms/step - loss: 3.0476 - mae: 3.0476\n",
            "Epoch 110/200\n",
            "1/1 [==============================] - 0s 8ms/step - loss: 3.1522 - mae: 3.1522\n",
            "Epoch 111/200\n",
            "1/1 [==============================] - 0s 9ms/step - loss: 2.9837 - mae: 2.9837\n",
            "Epoch 112/200\n",
            "1/1 [==============================] - 0s 9ms/step - loss: 3.1208 - mae: 3.1208\n",
            "Epoch 113/200\n",
            "1/1 [==============================] - 0s 6ms/step - loss: 3.0220 - mae: 3.0220\n",
            "Epoch 114/200\n",
            "1/1 [==============================] - 0s 11ms/step - loss: 2.9957 - mae: 2.9957\n",
            "Epoch 115/200\n",
            "1/1 [==============================] - 0s 6ms/step - loss: 3.0629 - mae: 3.0629\n",
            "Epoch 116/200\n",
            "1/1 [==============================] - 0s 9ms/step - loss: 2.8969 - mae: 2.8969\n",
            "Epoch 117/200\n",
            "1/1 [==============================] - 0s 6ms/step - loss: 3.0772 - mae: 3.0772\n",
            "Epoch 118/200\n",
            "1/1 [==============================] - 0s 9ms/step - loss: 2.9667 - mae: 2.9667\n",
            "Epoch 119/200\n",
            "1/1 [==============================] - 0s 6ms/step - loss: 2.9211 - mae: 2.9211\n",
            "Epoch 120/200\n",
            "1/1 [==============================] - 0s 9ms/step - loss: 3.0079 - mae: 3.0079\n",
            "Epoch 121/200\n",
            "1/1 [==============================] - 0s 5ms/step - loss: 2.8372 - mae: 2.8372\n",
            "Epoch 122/200\n",
            "1/1 [==============================] - 0s 8ms/step - loss: 2.9857 - mae: 2.9857\n",
            "Epoch 123/200\n",
            "1/1 [==============================] - 0s 6ms/step - loss: 2.8777 - mae: 2.8777\n",
            "Epoch 124/200\n",
            "1/1 [==============================] - 0s 8ms/step - loss: 2.8468 - mae: 2.8468\n",
            "Epoch 125/200\n",
            "1/1 [==============================] - 0s 9ms/step - loss: 2.9210 - mae: 2.9210\n",
            "Epoch 126/200\n",
            "1/1 [==============================] - 0s 11ms/step - loss: 2.7519 - mae: 2.7519\n",
            "Epoch 127/200\n",
            "1/1 [==============================] - 0s 7ms/step - loss: 2.9054 - mae: 2.9054\n",
            "Epoch 128/200\n",
            "1/1 [==============================] - 0s 9ms/step - loss: 2.7953 - mae: 2.7953\n",
            "Epoch 129/200\n",
            "1/1 [==============================] - 0s 10ms/step - loss: 2.7592 - mae: 2.7592\n",
            "Epoch 130/200\n",
            "1/1 [==============================] - 0s 7ms/step - loss: 2.8401 - mae: 2.8401\n",
            "Epoch 131/200\n",
            "1/1 [==============================] - 0s 9ms/step - loss: 2.6705 - mae: 2.6705\n",
            "Epoch 132/200\n",
            "1/1 [==============================] - 0s 6ms/step - loss: 2.8204 - mae: 2.8204\n",
            "Epoch 133/200\n",
            "1/1 [==============================] - 0s 10ms/step - loss: 2.7420 - mae: 2.7420\n",
            "Epoch 134/200\n",
            "1/1 [==============================] - 0s 5ms/step - loss: 2.6534 - mae: 2.6534\n",
            "Epoch 135/200\n",
            "1/1 [==============================] - 0s 5ms/step - loss: 2.7864 - mae: 2.7864\n",
            "Epoch 136/200\n",
            "1/1 [==============================] - 0s 9ms/step - loss: 2.6107 - mae: 2.6107\n",
            "Epoch 137/200\n",
            "1/1 [==============================] - 0s 10ms/step - loss: 2.6931 - mae: 2.6931\n",
            "Epoch 138/200\n",
            "1/1 [==============================] - 0s 10ms/step - loss: 2.6515 - mae: 2.6515\n",
            "Epoch 139/200\n",
            "1/1 [==============================] - 0s 13ms/step - loss: 2.5260 - mae: 2.5260\n",
            "Epoch 140/200\n",
            "1/1 [==============================] - 0s 6ms/step - loss: 2.7249 - mae: 2.7249\n",
            "Epoch 141/200\n",
            "1/1 [==============================] - 0s 6ms/step - loss: 3.1758 - mae: 3.1758\n",
            "Epoch 142/200\n",
            "1/1 [==============================] - 0s 6ms/step - loss: 3.3443 - mae: 3.3443\n",
            "Epoch 143/200\n",
            "1/1 [==============================] - 0s 6ms/step - loss: 2.5299 - mae: 2.5299\n",
            "Epoch 144/200\n",
            "1/1 [==============================] - 0s 16ms/step - loss: 2.5715 - mae: 2.5715\n",
            "Epoch 145/200\n",
            "1/1 [==============================] - 0s 6ms/step - loss: 2.3959 - mae: 2.3959\n",
            "Epoch 146/200\n",
            "1/1 [==============================] - 0s 15ms/step - loss: 2.5965 - mae: 2.5965\n",
            "Epoch 147/200\n",
            "1/1 [==============================] - 0s 7ms/step - loss: 3.7647 - mae: 3.7647\n",
            "Epoch 148/200\n",
            "1/1 [==============================] - 0s 13ms/step - loss: 2.7448 - mae: 2.7448\n",
            "Epoch 149/200\n",
            "1/1 [==============================] - 0s 14ms/step - loss: 3.5827 - mae: 3.5827\n",
            "Epoch 150/200\n",
            "1/1 [==============================] - 0s 7ms/step - loss: 2.3379 - mae: 2.3379\n",
            "Epoch 151/200\n",
            "1/1 [==============================] - 0s 10ms/step - loss: 2.5050 - mae: 2.5050\n",
            "Epoch 152/200\n",
            "1/1 [==============================] - 0s 12ms/step - loss: 3.7621 - mae: 3.7621\n",
            "Epoch 153/200\n",
            "1/1 [==============================] - 0s 7ms/step - loss: 2.6465 - mae: 2.6465\n",
            "Epoch 154/200\n",
            "1/1 [==============================] - 0s 9ms/step - loss: 3.5086 - mae: 3.5086\n",
            "Epoch 155/200\n",
            "1/1 [==============================] - 0s 12ms/step - loss: 2.2563 - mae: 2.2563\n",
            "Epoch 156/200\n",
            "1/1 [==============================] - 0s 7ms/step - loss: 2.3793 - mae: 2.3793\n",
            "Epoch 157/200\n",
            "1/1 [==============================] - 0s 8ms/step - loss: 2.2920 - mae: 2.2920\n",
            "Epoch 158/200\n",
            "1/1 [==============================] - 0s 11ms/step - loss: 2.1821 - mae: 2.1821\n",
            "Epoch 159/200\n",
            "1/1 [==============================] - 0s 7ms/step - loss: 2.4341 - mae: 2.4341\n",
            "Epoch 160/200\n",
            "1/1 [==============================] - 0s 6ms/step - loss: 2.8820 - mae: 2.8820\n",
            "Epoch 161/200\n",
            "1/1 [==============================] - 0s 6ms/step - loss: 3.0936 - mae: 3.0936\n",
            "Epoch 162/200\n",
            "1/1 [==============================] - 0s 6ms/step - loss: 2.1433 - mae: 2.1433\n",
            "Epoch 163/200\n",
            "1/1 [==============================] - 0s 13ms/step - loss: 2.2673 - mae: 2.2673\n",
            "Epoch 164/200\n",
            "1/1 [==============================] - 0s 13ms/step - loss: 2.9266 - mae: 2.9266\n",
            "Epoch 165/200\n",
            "1/1 [==============================] - 0s 15ms/step - loss: 2.9666 - mae: 2.9666\n",
            "Epoch 166/200\n",
            "1/1 [==============================] - 0s 10ms/step - loss: 2.0879 - mae: 2.0879\n",
            "Epoch 167/200\n",
            "1/1 [==============================] - 0s 17ms/step - loss: 2.1543 - mae: 2.1543\n",
            "Epoch 168/200\n",
            "1/1 [==============================] - 0s 5ms/step - loss: 2.9273 - mae: 2.9273\n",
            "Epoch 169/200\n",
            "1/1 [==============================] - 0s 11ms/step - loss: 2.8314 - mae: 2.8314\n",
            "Epoch 170/200\n",
            "1/1 [==============================] - 0s 16ms/step - loss: 2.0031 - mae: 2.0031\n",
            "Epoch 171/200\n",
            "1/1 [==============================] - 0s 12ms/step - loss: 2.0256 - mae: 2.0256\n",
            "Epoch 172/200\n",
            "1/1 [==============================] - 0s 8ms/step - loss: 2.8950 - mae: 2.8950\n",
            "Epoch 173/200\n",
            "1/1 [==============================] - 0s 20ms/step - loss: 2.7131 - mae: 2.7131\n",
            "Epoch 174/200\n",
            "1/1 [==============================] - 0s 13ms/step - loss: 1.9353 - mae: 1.9353\n",
            "Epoch 175/200\n",
            "1/1 [==============================] - 0s 28ms/step - loss: 3.8124 - mae: 3.8124\n",
            "Epoch 176/200\n",
            "1/1 [==============================] - 0s 11ms/step - loss: 2.0758 - mae: 2.0758\n",
            "Epoch 177/200\n",
            "1/1 [==============================] - 0s 8ms/step - loss: 3.5521 - mae: 3.5521\n",
            "Epoch 178/200\n",
            "1/1 [==============================] - 0s 8ms/step - loss: 2.1596 - mae: 2.1596\n",
            "Epoch 179/200\n",
            "1/1 [==============================] - 0s 12ms/step - loss: 3.4052 - mae: 3.4052\n",
            "Epoch 180/200\n",
            "1/1 [==============================] - 0s 6ms/step - loss: 2.2548 - mae: 2.2548\n",
            "Epoch 181/200\n",
            "1/1 [==============================] - 0s 5ms/step - loss: 3.2194 - mae: 3.2194\n",
            "Epoch 182/200\n",
            "1/1 [==============================] - 0s 19ms/step - loss: 2.3055 - mae: 2.3055\n",
            "Epoch 183/200\n",
            "1/1 [==============================] - 0s 19ms/step - loss: 3.0614 - mae: 3.0614\n",
            "Epoch 184/200\n",
            "1/1 [==============================] - 0s 15ms/step - loss: 2.3502 - mae: 2.3502\n",
            "Epoch 185/200\n",
            "1/1 [==============================] - 0s 11ms/step - loss: 2.9056 - mae: 2.9056\n",
            "Epoch 186/200\n",
            "1/1 [==============================] - 0s 5ms/step - loss: 2.3901 - mae: 2.3901\n",
            "Epoch 187/200\n",
            "1/1 [==============================] - 0s 24ms/step - loss: 2.7623 - mae: 2.7623\n",
            "Epoch 188/200\n",
            "1/1 [==============================] - 0s 14ms/step - loss: 2.4412 - mae: 2.4412\n",
            "Epoch 189/200\n",
            "1/1 [==============================] - 0s 8ms/step - loss: 2.6763 - mae: 2.6763\n",
            "Epoch 190/200\n",
            "1/1 [==============================] - 0s 21ms/step - loss: 2.4643 - mae: 2.4643\n",
            "Epoch 191/200\n",
            "1/1 [==============================] - 0s 4ms/step - loss: 2.5437 - mae: 2.5437\n",
            "Epoch 192/200\n",
            "1/1 [==============================] - 0s 6ms/step - loss: 2.4941 - mae: 2.4941\n",
            "Epoch 193/200\n",
            "1/1 [==============================] - 0s 5ms/step - loss: 2.4160 - mae: 2.4160\n",
            "Epoch 194/200\n",
            "1/1 [==============================] - 0s 7ms/step - loss: 2.5117 - mae: 2.5117\n",
            "Epoch 195/200\n",
            "1/1 [==============================] - 0s 9ms/step - loss: 2.3041 - mae: 2.3041\n",
            "Epoch 196/200\n",
            "1/1 [==============================] - 0s 5ms/step - loss: 2.5177 - mae: 2.5177\n",
            "Epoch 197/200\n",
            "1/1 [==============================] - 0s 5ms/step - loss: 2.2343 - mae: 2.2343\n",
            "Epoch 198/200\n",
            "1/1 [==============================] - 0s 5ms/step - loss: 2.5241 - mae: 2.5241\n",
            "Epoch 199/200\n",
            "1/1 [==============================] - 0s 5ms/step - loss: 2.1774 - mae: 2.1774\n",
            "Epoch 200/200\n",
            "1/1 [==============================] - 0s 5ms/step - loss: 2.5066 - mae: 2.5066\n"
          ]
        },
        {
          "output_type": "execute_result",
          "data": {
            "text/plain": [
              "<keras.callbacks.History at 0x7fd17867a790>"
            ]
          },
          "metadata": {},
          "execution_count": 22
        }
      ]
    },
    {
      "cell_type": "code",
      "metadata": {
        "colab": {
          "base_uri": "https://localhost:8080/"
        },
        "id": "Hs64OTWERP8P",
        "outputId": "21d11775-935d-4a55-a84e-7b723ff602a6"
      },
      "source": [
        "x,y"
      ],
      "execution_count": null,
      "outputs": [
        {
          "output_type": "execute_result",
          "data": {
            "text/plain": [
              "(<tf.Tensor: shape=(8,), dtype=float64, numpy=array([-7., -4., -1.,  2.,  5.,  8., 11., 14.])>,\n",
              " <tf.Tensor: shape=(8,), dtype=float64, numpy=array([ 3.,  6.,  9., 12., 15., 18., 21., 24.])>)"
            ]
          },
          "metadata": {},
          "execution_count": 23
        }
      ]
    },
    {
      "cell_type": "code",
      "metadata": {
        "colab": {
          "base_uri": "https://localhost:8080/"
        },
        "id": "-fYfM9GURTsq",
        "outputId": "1b354933-468c-43bb-d6b1-422799d7157a"
      },
      "source": [
        "y_pred=model.predict(x)\n",
        "y_pred"
      ],
      "execution_count": null,
      "outputs": [
        {
          "output_type": "execute_result",
          "data": {
            "text/plain": [
              "array([[ 3.4210827],\n",
              "       [ 4.7380695],\n",
              "       [ 6.5840254],\n",
              "       [10.703885 ],\n",
              "       [15.3608055],\n",
              "       [19.996454 ],\n",
              "       [24.65347  ],\n",
              "       [29.321974 ]], dtype=float32)"
            ]
          },
          "metadata": {},
          "execution_count": 24
        }
      ]
    },
    {
      "cell_type": "code",
      "metadata": {
        "colab": {
          "base_uri": "https://localhost:8080/",
          "height": 445
        },
        "id": "Gi4DnS6WRZEU",
        "outputId": "78e11d6d-8f06-449d-8db4-ab068586bf4e"
      },
      "source": [
        "plt.figure(figsize=(10,7))\n",
        "\n",
        "# lets visulize the y,y_pred\n",
        "plt.scatter(y,y_pred,color=\"b\")"
      ],
      "execution_count": null,
      "outputs": [
        {
          "output_type": "execute_result",
          "data": {
            "text/plain": [
              "<matplotlib.collections.PathCollection at 0x7fd17867f9d0>"
            ]
          },
          "metadata": {},
          "execution_count": 25
        },
        {
          "output_type": "display_data",
          "data": {
            "image/png": "[encoded data removed]",
            "text/plain": [
              "<Figure size 720x504 with 1 Axes>"
            ]
          },
          "metadata": {
            "needs_background": "light"
          }
        }
      ]
    },
    {
      "cell_type": "code",
      "metadata": {
        "colab": {
          "base_uri": "https://localhost:8080/"
        },
        "id": "DHR8nRxgR7_9",
        "outputId": "b3780127-ea20-4fe2-92d0-c01ecebdfa8c"
      },
      "source": [
        "# make the larger dataset\n",
        "x=tf.range(-100,100,4)\n",
        "x"
      ],
      "execution_count": null,
      "outputs": [
        {
          "output_type": "execute_result",
          "data": {
            "text/plain": [
              "<tf.Tensor: shape=(50,), dtype=int32, numpy=\n",
              "array([-100,  -96,  -92,  -88,  -84,  -80,  -76,  -72,  -68,  -64,  -60,\n",
              "        -56,  -52,  -48,  -44,  -40,  -36,  -32,  -28,  -24,  -20,  -16,\n",
              "        -12,   -8,   -4,    0,    4,    8,   12,   16,   20,   24,   28,\n",
              "         32,   36,   40,   44,   48,   52,   56,   60,   64,   68,   72,\n",
              "         76,   80,   84,   88,   92,   96], dtype=int32)>"
            ]
          },
          "metadata": {},
          "execution_count": 26
        }
      ]
    },
    {
      "cell_type": "code",
      "metadata": {
        "colab": {
          "base_uri": "https://localhost:8080/"
        },
        "id": "_HWGOjxLTFMN",
        "outputId": "1c6e8c11-87b2-46ea-ae0b-3537fce1418a"
      },
      "source": [
        "y=x+10\n",
        "y"
      ],
      "execution_count": null,
      "outputs": [
        {
          "output_type": "execute_result",
          "data": {
            "text/plain": [
              "<tf.Tensor: shape=(50,), dtype=int32, numpy=\n",
              "array([-90, -86, -82, -78, -74, -70, -66, -62, -58, -54, -50, -46, -42,\n",
              "       -38, -34, -30, -26, -22, -18, -14, -10,  -6,  -2,   2,   6,  10,\n",
              "        14,  18,  22,  26,  30,  34,  38,  42,  46,  50,  54,  58,  62,\n",
              "        66,  70,  74,  78,  82,  86,  90,  94,  98, 102, 106], dtype=int32)>"
            ]
          },
          "metadata": {},
          "execution_count": 27
        }
      ]
    },
    {
      "cell_type": "code",
      "metadata": {
        "colab": {
          "base_uri": "https://localhost:8080/",
          "height": 265
        },
        "id": "-1UzYFxzTHMa",
        "outputId": "33ec8f72-691d-4107-c269-c1c6aeb54dc5"
      },
      "source": [
        "# lets visulize the data\n",
        "from matplotlib import pyplot as plt\n",
        "plt.scatter(x,y,color=\"y\");"
      ],
      "execution_count": null,
      "outputs": [
        {
          "output_type": "display_data",
          "data": {
            "image/png": "[encoded data removed]",
            "text/plain": [
              "<Figure size 432x288 with 1 Axes>"
            ]
          },
          "metadata": {
            "needs_background": "light"
          }
        }
      ]
    },
    {
      "cell_type": "code",
      "metadata": {
        "id": "lc-YiygaTU8z"
      },
      "source": [
        "# the 3 sets\n",
        "# training set-->the model learns from this data,which is typically 70-80% of the total \n",
        "# data you have availble.\n",
        "# validation set-->10-15% the model gets tuned on this data\n",
        "# 3.test set:the model gets evaluated on this data to test \n"
      ],
      "execution_count": null,
      "outputs": []
    }
  ]
}