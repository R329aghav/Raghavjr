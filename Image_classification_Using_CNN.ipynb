{
  "nbformat": 4,
  "nbformat_minor": 0,
  "metadata": {
    "colab": {
      "name": "Image classification Using CNN",
      "provenance": [],
      "collapsed_sections": [],
      "authorship_tag": "ABX9TyMZLjmYoGpMVDusQqbxBE6d",
      "include_colab_link": true
    },
    "kernelspec": {
      "name": "python3",
      "display_name": "Python 3"
    },
    "language_info": {
      "name": "python"
    },
    "accelerator": "GPU"
  },
  "cells": [
    {
      "cell_type": "markdown",
      "metadata": {
        "id": "view-in-github",
        "colab_type": "text"
      },
      "source": [
        "<a href=\"https://colab.research.google.com/github/R329aghav/Raghavjr/blob/main/Image_classification_Using_CNN.ipynb\" target=\"_parent\"><img src=\"https://colab.research.google.com/assets/colab-badge.svg\" alt=\"Open In Colab\"/></a>"
      ]
    },
    {
      "cell_type": "code",
      "metadata": {
        "id": "WW-iaSjFh1pK"
      },
      "source": [
        "from google.colab import drive\n",
        "drive.mount('/content/drive')"
      ],
      "execution_count": null,
      "outputs": []
    },
    {
      "cell_type": "code",
      "metadata": {
        "id": "dXw0DWPkuMyq"
      },
      "source": [
        "from zipfile import ZipFile\n",
        "file_name=\"/content/drive/MyDrive/DATASETS/archive (1).zip\"\n",
        "with ZipFile(file_name,'r') as zip:\n",
        "  zip.extractall()\n",
        "  print(\"finish\")"
      ],
      "execution_count": null,
      "outputs": []
    },
    {
      "cell_type": "code",
      "metadata": {
        "id": "K7VAaBatu3nv"
      },
      "source": [
        "!pip install -q keras"
      ],
      "execution_count": null,
      "outputs": []
    },
    {
      "cell_type": "code",
      "metadata": {
        "id": "grcE-MKWvD6W"
      },
      "source": [
        "import tensorflow as tf\n",
        "# from tensorflow.keras import keras\n",
        "import keras\n",
        "from keras.models import Sequential\n",
        "from keras.layers import Dense\n",
        "from keras.layers import Conv2D\n",
        "from keras.layers import MaxPooling2D\n",
        "from keras.layers import Flatten\n",
        "##initializing the CNN\n",
        "\n",
        "CNN_classifier=Sequential();\n",
        "\n",
        "##1.create canvonutional layer\n",
        "\n",
        "CNN_classifier.add(Conv2D(32,3,3,input_shape=(64,64,3),activation=\"relu\"))\n",
        "\n",
        "##2.pooling layer\n",
        "\n",
        "CNN_classifier.add(MaxPooling2D(pool_size=(2,2)))\n",
        "\n",
        "##1.create canvonutional layer\n",
        "\n",
        "CNN_classifier.add(Conv2D(16,3,3,activation=\"relu\"))\n",
        "\n",
        "##2.pooling layer\n",
        "\n",
        "CNN_classifier.add(MaxPooling2D(pool_size=(2,2)))\n",
        "\n",
        "#step3.flattening\n",
        "\n",
        "CNN_classifier.add(Flatten())\n",
        "\n",
        "#step 4 Full connection\n",
        "\n",
        "CNN_classifier.add(Dense(units=128,activation=\"relu\"))\n",
        "\n",
        "CNN_classifier.add(Dense(units=1,activation=\"sigmoid\"))\n",
        "\n",
        "##compiling our model\n",
        "CNN_classifier.compile(optimizer=\"Adam\",loss='binary_crossentropy',metrics=[\"accuracy\"])"
      ],
      "execution_count": null,
      "outputs": []
    },
    {
      "cell_type": "code",
      "metadata": {
        "id": "4nAkZF5y_Qaq"
      },
      "source": [
        "CNN_classifier.summary()"
      ],
      "execution_count": null,
      "outputs": []
    },
    {
      "cell_type": "code",
      "metadata": {
        "id": "U-ug705q0JTz"
      },
      "source": [
        "from keras.preprocessing.image import ImageDataGenerator\n",
        "train_datagen = ImageDataGenerator(\n",
        "        rescale=1./255,\n",
        "        shear_range=0.2,\n",
        "        zoom_range=0.2,\n",
        "        horizontal_flip=True)\n",
        "\n",
        "test_datagen = ImageDataGenerator(rescale=1./255)\n",
        "\n",
        "training_set = train_datagen.flow_from_directory(\n",
        "        '/content/data/train',\n",
        "        target_size=(150, 150),\n",
        "        batch_size=32,\n",
        "        class_mode='binary')\n",
        "\n",
        "testing_set = test_datagen.flow_from_directory(\n",
        "        '/content/data/validation',\n",
        "        target_size=(150, 150),\n",
        "        batch_size=32,\n",
        "        class_mode='binary')\n",
        "\n",
        "CNN_classifier.fit_generator(\n",
        "        training_set,\n",
        "        steps_per_epoch=7000,\n",
        "        epochs=10,\n",
        "        validation_data=testing_set,\n",
        "       validation_steps=400 )\n",
        "        "
      ],
      "execution_count": null,
      "outputs": []
    },
    {
      "cell_type": "code",
      "metadata": {
        "id": "LiPOCBDdF2gD"
      },
      "source": [
        "from keras.layers import Conv2D, MaxPooling2D, ZeroPadding2D\n",
        "from keras.layers import Dense, Activation, Dropout, Flatten\n",
        "from keras import optimizers\n",
        "from keras.models import Sequential\n",
        "from keras.preprocessing.image import ImageDataGenerator\n",
        "import numpy as np \n",
        "\n",
        "# step 1: load data\n",
        "\n",
        "img_width = 150\n",
        "img_height = 150\n",
        "train_data_dir = '/content/data/train'\n",
        "valid_data_dir = '/content/data/validation'\n",
        "\n",
        "datagen = ImageDataGenerator(rescale = 1./255)\n",
        "\n",
        "train_generator = datagen.flow_from_directory(directory=train_data_dir,\n",
        "\t\t\t\t\t\t\t\t\t\t\t   target_size=(img_width,img_height),\n",
        "\t\t\t\t\t\t\t\t\t\t\t   classes=['dogs','cats'],\n",
        "\t\t\t\t\t\t\t\t\t\t\t   class_mode='binary',\n",
        "\t\t\t\t\t\t\t\t\t\t\t   batch_size=16)\n",
        "\n",
        "validation_generator = datagen.flow_from_directory(directory=valid_data_dir,\n",
        "\t\t\t\t\t\t\t\t\t\t\t   target_size=(img_width,img_height),\n",
        "\t\t\t\t\t\t\t\t\t\t\t   classes=['dogs','cats'],\n",
        "\t\t\t\t\t\t\t\t\t\t\t   class_mode='binary',\n",
        "\t\t\t\t\t\t\t\t\t\t\t   batch_size=32)\n",
        "\n",
        "\n",
        "# step-2 : build model\n",
        "\n",
        "model =Sequential()\n",
        "\n",
        "model.add(Conv2D(32,(3,3), input_shape=(img_width, img_height, 3)))\n",
        "model.add(Activation('relu'))\n",
        "model.add(MaxPooling2D(pool_size=(2,2)))\n",
        "\n",
        "model.add(Conv2D(32,(3,3), input_shape=(img_width, img_height, 3)))\n",
        "model.add(Activation('relu'))\n",
        "model.add(MaxPooling2D(pool_size=(2,2)))\n",
        "\n",
        "model.add(Conv2D(64,(3,3), input_shape=(img_width, img_height, 3)))\n",
        "model.add(Activation('relu'))\n",
        "model.add(MaxPooling2D(pool_size=(2,2)))\n",
        "\n",
        "model.add(Flatten())\n",
        "model.add(Dense(64))\n",
        "model.add(Activation('relu'))\n",
        "model.add(Dropout(0.5))\n",
        "model.add(Dense(1))\n",
        "model.add(Activation('sigmoid'))\n",
        "\n",
        "model.compile(loss='binary_crossentropy',optimizer='rmsprop',metrics=['accuracy'])\n",
        "\n",
        "print('model complied!!')\n",
        "\n",
        "print('starting training....')\n",
        "training = model.fit_generator(generator=train_generator, steps_per_epoch=2048 // 16,epochs=20,validation_data=validation_generator,validation_steps=832//16)\n",
        "\n",
        "print('training finished!!')\n",
        "\n",
        "print('saving weights to simple_CNN.h5')\n",
        "\n",
        "# model.save_weights('models/simple_CNN.h5')\n",
        "\n",
        "print('all weights saved successfully !!')\n",
        "#models.load_weights('models/simple_CNN.h5')"
      ],
      "execution_count": null,
      "outputs": []
    },
    {
      "cell_type": "code",
      "metadata": {
        "id": "mZPpMzcCAPDS"
      },
      "source": [
        "from keras.layers import Conv2D, MaxPooling2D, ZeroPadding2D\n",
        "from keras.layers import Dense, Activation, Dropout, Flatten\n",
        "from keras import optimizers\n",
        "from keras.models import Sequential\n",
        "from keras.preprocessing.image import ImageDataGenerator\n",
        "import numpy as np \n",
        "\n",
        "# step 1: load data\n",
        "\n",
        "img_width = 150\n",
        "img_height = 150\n",
        "train_data_dir = '/content/dataset/training_set'\n",
        "valid_data_dir = '/content/dataset/test_set'\n",
        "\n",
        "datagen = ImageDataGenerator(rescale = 1./255)\n",
        "\n",
        "train_generator = datagen.flow_from_directory(directory=train_data_dir,\n",
        "\t\t\t\t\t\t\t\t\t\t\t   target_size=(img_width,img_height),\n",
        "\t\t\t\t\t\t\t\t\t\t\t   classes=['dogs','cats'],\n",
        "\t\t\t\t\t\t\t\t\t\t\t   class_mode='binary',\n",
        "\t\t\t\t\t\t\t\t\t\t\t   batch_size=16)\n",
        "\n",
        "validation_generator = datagen.flow_from_directory(directory=valid_data_dir,\n",
        "\t\t\t\t\t\t\t\t\t\t\t   target_size=(img_width,img_height),\n",
        "\t\t\t\t\t\t\t\t\t\t\t   classes=['dogs','cats'],\n",
        "\t\t\t\t\t\t\t\t\t\t\t   class_mode='binary',\n",
        "\t\t\t\t\t\t\t\t\t\t\t   batch_size=32)\n",
        "\n",
        "\n",
        "# step-2 : build model\n",
        "\n",
        "model =Sequential()\n",
        "\n",
        "model.add(Conv2D(32,(3,3), input_shape=(img_width, img_height, 3)))\n",
        "model.add(Activation('relu'))\n",
        "model.add(MaxPooling2D(pool_size=(2,2)))\n",
        "\n",
        "model.add(Conv2D(32,(3,3), input_shape=(img_width, img_height, 3)))\n",
        "model.add(Activation('relu'))\n",
        "model.add(MaxPooling2D(pool_size=(2,2)))\n",
        "\n",
        "model.add(Conv2D(64,(3,3), input_shape=(img_width, img_height, 3)))\n",
        "model.add(Activation('relu'))\n",
        "model.add(MaxPooling2D(pool_size=(2,2)))\n",
        "\n",
        "model.add(Flatten())\n",
        "model.add(Dense(64))\n",
        "model.add(Activation('relu'))\n",
        "model.add(Dropout(0.5))\n",
        "model.add(Dense(1))\n",
        "model.add(Activation('sigmoid'))\n",
        "\n",
        "model.compile(loss='binary_crossentropy',optimizer='rmsprop',metrics=['accuracy'])\n",
        "\n",
        "print('model complied!!')\n",
        "\n",
        "print('starting training....')\n",
        "training = model.fit_generator(generator=train_generator, steps_per_epoch=2048 // 16,epochs=20,validation_data=validation_generator,validation_steps=832//16)\n",
        "\n",
        "print('training finished!!')\n",
        "\n",
        "print('saving weights to simple_CNN.h5')\n",
        "\n",
        "# model.save_weights('models/simple_CNN.h5')\n",
        "\n",
        "print('all weights saved successfully !!')\n",
        "#models.load_weights('models/simple_CNN.h5')"
      ],
      "execution_count": null,
      "outputs": []
    },
    {
      "cell_type": "code",
      "metadata": {
        "id": "i15IFpU5HOwb"
      },
      "source": [
        ""
      ],
      "execution_count": null,
      "outputs": []
    }
  ]
}