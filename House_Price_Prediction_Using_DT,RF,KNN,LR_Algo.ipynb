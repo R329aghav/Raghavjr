{
  "nbformat": 4,
  "nbformat_minor": 0,
  "metadata": {
    "colab": {
      "name": "Copy of House Price Prediction Using DT,RF,KNN,LR Algo",
      "provenance": [],
      "collapsed_sections": [],
      "authorship_tag": "ABX9TyNMNmgXU3Cj/QcrWL4BoMMF",
      "include_colab_link": true
    },
    "kernelspec": {
      "name": "python3",
      "display_name": "Python 3"
    },
    "language_info": {
      "name": "python"
    }
  },
  "cells": [
    {
      "cell_type": "markdown",
      "metadata": {
        "id": "view-in-github",
        "colab_type": "text"
      },
      "source": [
        "<a href=\"https://colab.research.google.com/github/R329aghav/Raghavjr/blob/main/House_Price_Prediction_Using_DT%2CRF%2CKNN%2CLR_Algo.ipynb\" target=\"_parent\"><img src=\"https://colab.research.google.com/assets/colab-badge.svg\" alt=\"Open In Colab\"/></a>"
      ]
    },
    {
      "cell_type": "code",
      "metadata": {
        "id": "-FjxX_5zs7pb"
      },
      "source": [
        "from google.colab import drive\n",
        "drive.mount('/content/drive')"
      ],
      "execution_count": null,
      "outputs": []
    },
    {
      "cell_type": "code",
      "source": [
        "from google.colab import drive\n",
        "drive.mount('/content/drive')\n",
        "import pandas as pd\n",
        "import numpy as np\n",
        "import matplotlib.pyplot as plt\n",
        "path=\"/content/drive/MyDrive/DATASETS/bangalore house price prediction OHE-data.csv\"\n",
        "data=pd.read_csv(path)\n",
        "data.head()\n",
        "data.describe()\n",
        "data.info()\n",
        "data.tail()\n",
        "import seaborn as sns\n",
        "sns.distplot(data['price'],color='red',bins=20,kde=True)\n",
        "plt.show()\n",
        "graph=data.head()\n",
        "graph.plot(kind='bar')\n",
        "plt.show()\n",
        "X=data.drop(['price'],axis=1)\n",
        "y=data['price']\n",
        "print(\"X_shape--->\",X.shape)\n",
        "print(\"y_shape-->\",y.shape)\n",
        "from sklearn.model_selection import train_test_split\n",
        "X_train,X_test,y_train,y_test=train_test_split(X,y,test_size=0.2,random_state=0)\n",
        "print(\"X_train_shape--->\",X_train.shape)\n",
        "print(\"X_train_shape--->\",X_test.shape)\n",
        "print(\"y_train_shape--->\",y_train.shape)\n",
        "print(\"y_test_shape--->\",y_test.shape)\n",
        "from sklearn.preprocessing import StandardScaler\n",
        "sc=StandardScaler()\n",
        "X_train=sc.fit_transform(X_train)\n",
        "X_test=sc.fit_transform(X_test)\n",
        "from sklearn.neighbors import KNeighborsRegressor\n",
        "regressor=KNeighborsRegressor(n_neighbors=5)\n",
        "regressor.fit(X_train,y_train)\n",
        "regressor.score(X_test,y_test)\n",
        "predicted=regressor.predict(X_test)\n",
        "print(predicted)\n",
        "dataframe=pd.DataFrame(y_test,predicted)\n",
        "print(dataframe)\n",
        "dataframe=pd.DataFrame({'Actual':y_test,'predict':predicted})\n",
        "print(dataframe)\n",
        "import math\n",
        "from sklearn.metrics import mean_squared_error\n",
        "mse=mean_squared_error(y_test,predicted)\n",
        "print(mse)\n",
        "rmse=np.sqrt(mse)\n",
        "print(rmse)\n",
        "graph=dataframe.head()\n",
        "graph.plot(kind='bar')\n",
        "plt.show()\n",
        "from sklearn.linear_model import LinearRegression\n",
        "Regressor_1=LinearRegression()\n",
        "Regressor_1.fit(X_train,y_train)\n",
        "Regressor_1.coef_\n",
        "Regressor_1.intercept_\n",
        "X_test[0,:]\n"
      ],
      "metadata": {
        "id": "AndmkW6X0nz1"
      },
      "execution_count": null,
      "outputs": []
    },
    {
      "cell_type": "code",
      "metadata": {
        "id": "M9LaLg-8ww-5"
      },
      "source": [
        "import pandas as pd\n",
        "import numpy as np\n",
        "import matplotlib.pyplot as plt\n",
        "path=\"/content/drive/MyDrive/DATASETS/bangalore house price prediction OHE-data.csv\"\n",
        "data=pd.read_csv(path)\n",
        "data.head()"
      ],
      "execution_count": null,
      "outputs": []
    },
    {
      "cell_type": "code",
      "metadata": {
        "id": "4nvkzuajxNux"
      },
      "source": [
        "data.describe()"
      ],
      "execution_count": null,
      "outputs": []
    },
    {
      "cell_type": "code",
      "metadata": {
        "id": "IJSQ6H-9xVxK"
      },
      "source": [
        "data.info()"
      ],
      "execution_count": null,
      "outputs": []
    },
    {
      "cell_type": "code",
      "metadata": {
        "id": "P8XASBHWxX2e"
      },
      "source": [
        "data.tail()"
      ],
      "execution_count": null,
      "outputs": []
    },
    {
      "cell_type": "code",
      "metadata": {
        "id": "aL54Q2Nlxbg-"
      },
      "source": [
        "import seaborn as sns\n",
        "sns.distplot(data['price'],color='red',bins=20,kde=True)\n",
        "plt.show()"
      ],
      "execution_count": null,
      "outputs": []
    },
    {
      "cell_type": "code",
      "metadata": {
        "id": "4_h8l7_wxnMy"
      },
      "source": [
        "graph=data.head()"
      ],
      "execution_count": null,
      "outputs": []
    },
    {
      "cell_type": "code",
      "metadata": {
        "id": "AM3dHgRayBew"
      },
      "source": [
        "graph.plot(kind='bar')\n",
        "plt.show()"
      ],
      "execution_count": null,
      "outputs": []
    },
    {
      "cell_type": "code",
      "metadata": {
        "id": "rwA4_K9CyHKf"
      },
      "source": [
        "X=data.drop(['price'],axis=1)\n",
        "y=data['price']\n",
        "print(\"X_shape--->\",X.shape)\n",
        "print(\"y_shape-->\",y.shape)"
      ],
      "execution_count": null,
      "outputs": []
    },
    {
      "cell_type": "code",
      "metadata": {
        "id": "FXhhrtciyf-B"
      },
      "source": [
        "from sklearn.model_selection import train_test_split\n",
        "X_train,X_test,y_train,y_test=train_test_split(X,y,test_size=0.2,random_state=0)\n",
        "print(\"X_train_shape--->\",X_train.shape)\n",
        "print(\"X_train_shape--->\",X_test.shape)\n",
        "print(\"y_train_shape--->\",y_train.shape)\n",
        "print(\"y_test_shape--->\",y_test.shape)"
      ],
      "execution_count": null,
      "outputs": []
    },
    {
      "cell_type": "code",
      "metadata": {
        "id": "cdC8bDu2zgDd"
      },
      "source": [
        "from sklearn.preprocessing import StandardScaler\n",
        "sc=StandardScaler()\n",
        "X_train=sc.fit_transform(X_train)\n",
        "X_test=sc.fit_transform(X_test)"
      ],
      "execution_count": null,
      "outputs": []
    },
    {
      "cell_type": "code",
      "metadata": {
        "id": "KAkcOMKGzocz"
      },
      "source": [
        "from sklearn.neighbors import KNeighborsRegressor\n",
        "regressor=KNeighborsRegressor(n_neighbors=5)\n",
        "regressor.fit(X_train,y_train)\n"
      ],
      "execution_count": null,
      "outputs": []
    },
    {
      "cell_type": "code",
      "metadata": {
        "id": "20kAVgoG0Jbt"
      },
      "source": [
        "regressor.score(X_test,y_test)"
      ],
      "execution_count": null,
      "outputs": []
    },
    {
      "cell_type": "code",
      "metadata": {
        "id": "-sVQgCbK0d4K"
      },
      "source": [
        "predicted=regressor.predict(X_test)\n",
        "print(predicted)"
      ],
      "execution_count": null,
      "outputs": []
    },
    {
      "cell_type": "code",
      "metadata": {
        "id": "kM2cyItB0rwC"
      },
      "source": [
        "dataframe=pd.DataFrame(y_test,predicted)\n",
        "print(dataframe)"
      ],
      "execution_count": null,
      "outputs": []
    },
    {
      "cell_type": "code",
      "metadata": {
        "id": "8O0BKbts01PT"
      },
      "source": [
        "dataframe=pd.DataFrame({'Actual':y_test,'predict':predicted})\n",
        "print(dataframe)"
      ],
      "execution_count": null,
      "outputs": []
    },
    {
      "cell_type": "code",
      "metadata": {
        "id": "owF-MTVy052W"
      },
      "source": [
        "dataframe.head(3)"
      ],
      "execution_count": null,
      "outputs": []
    },
    {
      "cell_type": "code",
      "metadata": {
        "id": "NhaetYC11R3W"
      },
      "source": [
        "import math\n",
        "from sklearn.metrics import mean_squared_error\n",
        "mse=mean_squared_error(y_test,predicted)\n",
        "print(mse)"
      ],
      "execution_count": null,
      "outputs": []
    },
    {
      "cell_type": "code",
      "metadata": {
        "id": "V5pB5IVP1dcL"
      },
      "source": [
        "rmse=np.sqrt(mse)\n",
        "print(rmse)"
      ],
      "execution_count": null,
      "outputs": []
    },
    {
      "cell_type": "code",
      "metadata": {
        "id": "M10uu0pZ2S1X"
      },
      "source": [
        "graph=dataframe.head()\n",
        "graph.plot(kind='bar')\n",
        "plt.show()"
      ],
      "execution_count": null,
      "outputs": []
    },
    {
      "cell_type": "code",
      "metadata": {
        "id": "p0ygP9ig2cxG"
      },
      "source": [
        "from sklearn.linear_model import LinearRegression\n",
        "Regressor_1=LinearRegression()\n",
        "Regressor_1.fit(X_train,y_train)"
      ],
      "execution_count": null,
      "outputs": []
    },
    {
      "cell_type": "code",
      "source": [
        "Regressor_1.coef_"
      ],
      "metadata": {
        "id": "iWkzVAPUnIqX"
      },
      "execution_count": null,
      "outputs": []
    },
    {
      "cell_type": "code",
      "source": [
        "Regressor_1.intercept_"
      ],
      "metadata": {
        "id": "Z8_d6eYLnlZu"
      },
      "execution_count": null,
      "outputs": []
    },
    {
      "cell_type": "code",
      "source": [
        "X_test[0,:]"
      ],
      "metadata": {
        "id": "N6W5F5Tqn0At"
      },
      "execution_count": null,
      "outputs": []
    },
    {
      "cell_type": "code",
      "source": [
        "Regressor_1.predict([X_test[0,:]])"
      ],
      "metadata": {
        "id": "uGggYjp0oBhC"
      },
      "execution_count": null,
      "outputs": []
    },
    {
      "cell_type": "code",
      "source": [
        "Regressor_1.predict(X_test)"
      ],
      "metadata": {
        "id": "aoLokrPtoRZg"
      },
      "execution_count": null,
      "outputs": []
    },
    {
      "cell_type": "code",
      "source": [
        "y_test"
      ],
      "metadata": {
        "id": "rj_0WMLZoiQl"
      },
      "execution_count": null,
      "outputs": []
    },
    {
      "cell_type": "code",
      "source": [
        "from sklearn.tree import DecisionTreeRegressor\n",
        "Regressor_2=DecisionTreeRegressor(criterion='mse')\n",
        "Regressor_2.fit(X_train,y_train)"
      ],
      "metadata": {
        "id": "uVJttkqmo3kd"
      },
      "execution_count": null,
      "outputs": []
    },
    {
      "cell_type": "code",
      "source": [
        "Regressor_1.score(X_test,y_test)"
      ],
      "metadata": {
        "id": "1BCeQ3sjonDD"
      },
      "execution_count": null,
      "outputs": []
    },
    {
      "cell_type": "code",
      "source": [
        "Regressor_2.score(X_test,y_test)"
      ],
      "metadata": {
        "id": "mCh_KwRBpt7o"
      },
      "execution_count": null,
      "outputs": []
    },
    {
      "cell_type": "code",
      "source": [
        "X_test[0,:]"
      ],
      "metadata": {
        "id": "WYmYglH-p7_T"
      },
      "execution_count": null,
      "outputs": []
    },
    {
      "cell_type": "code",
      "source": [
        "Regressor_2.predict([X_test[0,:]])"
      ],
      "metadata": {
        "id": "9KjHUt3jqagb"
      },
      "execution_count": null,
      "outputs": []
    },
    {
      "cell_type": "code",
      "source": [
        "Regressor_2.predict(X_test)"
      ],
      "metadata": {
        "id": "wlqk9BpRqbmC"
      },
      "execution_count": null,
      "outputs": []
    },
    {
      "cell_type": "code",
      "source": [
        "y_test"
      ],
      "metadata": {
        "id": "PSTjVQi-qkxP"
      },
      "execution_count": null,
      "outputs": []
    },
    {
      "cell_type": "code",
      "source": [
        "predicted=Regressor_2.predict(X_test)\n",
        "print(predicted)"
      ],
      "metadata": {
        "id": "ff5eTIFAtlMl"
      },
      "execution_count": null,
      "outputs": []
    },
    {
      "cell_type": "code",
      "source": [
        "from sklearn.ensemble import RandomForestRegressor\n",
        "Regressor_3=RandomForestRegressor(n_estimators=100,criterion='mse')\n",
        "Regressor_3.fit(X_train,y_train)"
      ],
      "metadata": {
        "id": "Mw7I3auIq6H5"
      },
      "execution_count": null,
      "outputs": []
    },
    {
      "cell_type": "code",
      "source": [
        "Regressor_3.score(X_test,y_test)"
      ],
      "metadata": {
        "id": "-gBDFMu2sSR9"
      },
      "execution_count": null,
      "outputs": []
    },
    {
      "cell_type": "code",
      "source": [
        "from sklearn.ensemble import RandomForestRegressor\n",
        "Regressor_3=RandomForestRegressor(n_estimators=500,criterion='mse')\n",
        "Regressor_3.fit(X_train,y_train)"
      ],
      "metadata": {
        "id": "-aHSVmUosjTg"
      },
      "execution_count": null,
      "outputs": []
    },
    {
      "cell_type": "code",
      "source": [
        "Regressor_3.score(X_test,y_test)"
      ],
      "metadata": {
        "id": "fw8qCJ57stOp"
      },
      "execution_count": null,
      "outputs": []
    },
    {
      "cell_type": "code",
      "source": [
        "from sklearn.ensemble import RandomForestRegressor\n",
        "Regressor_3=RandomForestRegressor(n_estimators=1000,criterion='mse')\n",
        "Regressor_3.fit(X_train,y_train)"
      ],
      "metadata": {
        "id": "iSgYBMw7szbV"
      },
      "execution_count": null,
      "outputs": []
    },
    {
      "cell_type": "code",
      "source": [
        "Regressor_3.score(X_test,y_test)"
      ],
      "metadata": {
        "id": "taQ0E7M9s6WY"
      },
      "execution_count": null,
      "outputs": []
    },
    {
      "cell_type": "code",
      "source": [
        "import math\n",
        "from sklearn.metrics import mean_squared_error\n",
        "mse=mean_squared_error(y_test,predicted)\n",
        "print(mse)"
      ],
      "metadata": {
        "id": "kSZbBcNptEvh"
      },
      "execution_count": null,
      "outputs": []
    },
    {
      "cell_type": "code",
      "source": [
        "rmse=np.sqrt(mse)\n",
        "print(rmse)"
      ],
      "metadata": {
        "id": "7K5hG7SNujm9"
      },
      "execution_count": null,
      "outputs": []
    },
    {
      "cell_type": "code",
      "source": [
        ""
      ],
      "metadata": {
        "id": "1_RsjdP2usNF"
      },
      "execution_count": null,
      "outputs": []
    }
  ]
}