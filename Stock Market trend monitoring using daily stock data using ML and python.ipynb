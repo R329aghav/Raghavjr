{
 "cells": [
  {
   "cell_type": "code",
   "execution_count": 18,
   "metadata": {},
   "outputs": [],
   "source": [
    "\n",
    "import pandas as pd\n",
    "import numpy as np\n",
    "from sklearn import metrics\n",
    "from matplotlib import pyplot as plt\n",
    "from sklearn.linear_model import LinearRegression\n",
    "from sklearn.metrics import confusion_matrix,accuracy_score"
   ]
  },
  {
   "cell_type": "code",
   "execution_count": 19,
   "metadata": {},
   "outputs": [],
   "source": [
    "\n",
    "#.opening price--->the opening price is the value that each share has the opening price gives a good indication of where \n",
    "#the stock the stock will move during the day.\n",
    "#2.closing price:--->an adjusted price is a stocks closing price on any given day of trading that has been amended to include\n",
    "# any distibutions and corporate actions that occured at any time prior to the next days open.\n",
    "#3.Volume--->volume is defined as \"the number of shares or contracts traded in a security or an entire market during a given \n",
    "# period of time\"\n",
    "dataset=pd.read_csv('Amazon (1).csv')"
   ]
  },
  {
   "cell_type": "code",
   "execution_count": 20,
   "metadata": {},
   "outputs": [
    {
     "data": {
      "text/html": [
       "<div>\n",
       "<style scoped>\n",
       "    .dataframe tbody tr th:only-of-type {\n",
       "        vertical-align: middle;\n",
       "    }\n",
       "\n",
       "    .dataframe tbody tr th {\n",
       "        vertical-align: top;\n",
       "    }\n",
       "\n",
       "    .dataframe thead th {\n",
       "        text-align: right;\n",
       "    }\n",
       "</style>\n",
       "<table border=\"1\" class=\"dataframe\">\n",
       "  <thead>\n",
       "    <tr style=\"text-align: right;\">\n",
       "      <th></th>\n",
       "      <th>Date</th>\n",
       "      <th>Open</th>\n",
       "      <th>High</th>\n",
       "      <th>Low</th>\n",
       "      <th>Close</th>\n",
       "      <th>Adj Close</th>\n",
       "      <th>Volume</th>\n",
       "    </tr>\n",
       "  </thead>\n",
       "  <tbody>\n",
       "    <tr>\n",
       "      <th>0</th>\n",
       "      <td>1997-05-15</td>\n",
       "      <td>2.437500</td>\n",
       "      <td>2.500000</td>\n",
       "      <td>1.927083</td>\n",
       "      <td>1.958333</td>\n",
       "      <td>1.958333</td>\n",
       "      <td>72156000</td>\n",
       "    </tr>\n",
       "    <tr>\n",
       "      <th>1</th>\n",
       "      <td>1997-05-16</td>\n",
       "      <td>1.968750</td>\n",
       "      <td>1.979167</td>\n",
       "      <td>1.708333</td>\n",
       "      <td>1.729167</td>\n",
       "      <td>1.729167</td>\n",
       "      <td>14700000</td>\n",
       "    </tr>\n",
       "    <tr>\n",
       "      <th>2</th>\n",
       "      <td>1997-05-19</td>\n",
       "      <td>1.760417</td>\n",
       "      <td>1.770833</td>\n",
       "      <td>1.625000</td>\n",
       "      <td>1.708333</td>\n",
       "      <td>1.708333</td>\n",
       "      <td>6106800</td>\n",
       "    </tr>\n",
       "    <tr>\n",
       "      <th>3</th>\n",
       "      <td>1997-05-20</td>\n",
       "      <td>1.729167</td>\n",
       "      <td>1.750000</td>\n",
       "      <td>1.635417</td>\n",
       "      <td>1.635417</td>\n",
       "      <td>1.635417</td>\n",
       "      <td>5467200</td>\n",
       "    </tr>\n",
       "    <tr>\n",
       "      <th>4</th>\n",
       "      <td>1997-05-21</td>\n",
       "      <td>1.635417</td>\n",
       "      <td>1.645833</td>\n",
       "      <td>1.375000</td>\n",
       "      <td>1.427083</td>\n",
       "      <td>1.427083</td>\n",
       "      <td>18853200</td>\n",
       "    </tr>\n",
       "    <tr>\n",
       "      <th>5</th>\n",
       "      <td>1997-05-22</td>\n",
       "      <td>1.437500</td>\n",
       "      <td>1.447917</td>\n",
       "      <td>1.312500</td>\n",
       "      <td>1.395833</td>\n",
       "      <td>1.395833</td>\n",
       "      <td>11776800</td>\n",
       "    </tr>\n",
       "    <tr>\n",
       "      <th>6</th>\n",
       "      <td>1997-05-23</td>\n",
       "      <td>1.406250</td>\n",
       "      <td>1.520833</td>\n",
       "      <td>1.333333</td>\n",
       "      <td>1.500000</td>\n",
       "      <td>1.500000</td>\n",
       "      <td>15937200</td>\n",
       "    </tr>\n",
       "    <tr>\n",
       "      <th>7</th>\n",
       "      <td>1997-05-27</td>\n",
       "      <td>1.510417</td>\n",
       "      <td>1.645833</td>\n",
       "      <td>1.458333</td>\n",
       "      <td>1.583333</td>\n",
       "      <td>1.583333</td>\n",
       "      <td>8697600</td>\n",
       "    </tr>\n",
       "    <tr>\n",
       "      <th>8</th>\n",
       "      <td>1997-05-28</td>\n",
       "      <td>1.625000</td>\n",
       "      <td>1.635417</td>\n",
       "      <td>1.531250</td>\n",
       "      <td>1.531250</td>\n",
       "      <td>1.531250</td>\n",
       "      <td>4574400</td>\n",
       "    </tr>\n",
       "    <tr>\n",
       "      <th>9</th>\n",
       "      <td>1997-05-29</td>\n",
       "      <td>1.541667</td>\n",
       "      <td>1.541667</td>\n",
       "      <td>1.479167</td>\n",
       "      <td>1.505208</td>\n",
       "      <td>1.505208</td>\n",
       "      <td>3472800</td>\n",
       "    </tr>\n",
       "  </tbody>\n",
       "</table>\n",
       "</div>"
      ],
      "text/plain": [
       "         Date      Open      High       Low     Close  Adj Close    Volume\n",
       "0  1997-05-15  2.437500  2.500000  1.927083  1.958333   1.958333  72156000\n",
       "1  1997-05-16  1.968750  1.979167  1.708333  1.729167   1.729167  14700000\n",
       "2  1997-05-19  1.760417  1.770833  1.625000  1.708333   1.708333   6106800\n",
       "3  1997-05-20  1.729167  1.750000  1.635417  1.635417   1.635417   5467200\n",
       "4  1997-05-21  1.635417  1.645833  1.375000  1.427083   1.427083  18853200\n",
       "5  1997-05-22  1.437500  1.447917  1.312500  1.395833   1.395833  11776800\n",
       "6  1997-05-23  1.406250  1.520833  1.333333  1.500000   1.500000  15937200\n",
       "7  1997-05-27  1.510417  1.645833  1.458333  1.583333   1.583333   8697600\n",
       "8  1997-05-28  1.625000  1.635417  1.531250  1.531250   1.531250   4574400\n",
       "9  1997-05-29  1.541667  1.541667  1.479167  1.505208   1.505208   3472800"
      ]
     },
     "execution_count": 20,
     "metadata": {},
     "output_type": "execute_result"
    }
   ],
   "source": [
    "#head means we take four rows from top of the dataset\n",
    "dataset.head(10)"
   ]
  },
  {
   "cell_type": "code",
   "execution_count": 21,
   "metadata": {},
   "outputs": [
    {
     "data": {
      "text/html": [
       "<div>\n",
       "<style scoped>\n",
       "    .dataframe tbody tr th:only-of-type {\n",
       "        vertical-align: middle;\n",
       "    }\n",
       "\n",
       "    .dataframe tbody tr th {\n",
       "        vertical-align: top;\n",
       "    }\n",
       "\n",
       "    .dataframe thead th {\n",
       "        text-align: right;\n",
       "    }\n",
       "</style>\n",
       "<table border=\"1\" class=\"dataframe\">\n",
       "  <thead>\n",
       "    <tr style=\"text-align: right;\">\n",
       "      <th></th>\n",
       "      <th>Date</th>\n",
       "      <th>Open</th>\n",
       "      <th>High</th>\n",
       "      <th>Low</th>\n",
       "      <th>Close</th>\n",
       "      <th>Adj Close</th>\n",
       "      <th>Volume</th>\n",
       "    </tr>\n",
       "  </thead>\n",
       "  <tbody>\n",
       "    <tr>\n",
       "      <th>5832</th>\n",
       "      <td>2020-07-20</td>\n",
       "      <td>3000.199951</td>\n",
       "      <td>3201.360107</td>\n",
       "      <td>2994.020020</td>\n",
       "      <td>3196.840088</td>\n",
       "      <td>3196.840088</td>\n",
       "      <td>7598200</td>\n",
       "    </tr>\n",
       "    <tr>\n",
       "      <th>5833</th>\n",
       "      <td>2020-07-21</td>\n",
       "      <td>3232.489990</td>\n",
       "      <td>3240.580078</td>\n",
       "      <td>3105.719971</td>\n",
       "      <td>3138.290039</td>\n",
       "      <td>3138.290039</td>\n",
       "      <td>6135000</td>\n",
       "    </tr>\n",
       "    <tr>\n",
       "      <th>5834</th>\n",
       "      <td>2020-07-22</td>\n",
       "      <td>3125.000000</td>\n",
       "      <td>3150.000000</td>\n",
       "      <td>3065.260010</td>\n",
       "      <td>3099.909912</td>\n",
       "      <td>3099.909912</td>\n",
       "      <td>4104200</td>\n",
       "    </tr>\n",
       "    <tr>\n",
       "      <th>5835</th>\n",
       "      <td>2020-07-23</td>\n",
       "      <td>3098.270020</td>\n",
       "      <td>3098.270020</td>\n",
       "      <td>2970.000000</td>\n",
       "      <td>2986.550049</td>\n",
       "      <td>2986.550049</td>\n",
       "      <td>5656900</td>\n",
       "    </tr>\n",
       "    <tr>\n",
       "      <th>5836</th>\n",
       "      <td>2020-07-24</td>\n",
       "      <td>2930.000000</td>\n",
       "      <td>3031.580078</td>\n",
       "      <td>2888.000000</td>\n",
       "      <td>3008.909912</td>\n",
       "      <td>3008.909912</td>\n",
       "      <td>5632400</td>\n",
       "    </tr>\n",
       "    <tr>\n",
       "      <th>5837</th>\n",
       "      <td>2020-07-27</td>\n",
       "      <td>3062.000000</td>\n",
       "      <td>3098.000000</td>\n",
       "      <td>3015.770020</td>\n",
       "      <td>3055.209961</td>\n",
       "      <td>3055.209961</td>\n",
       "      <td>4170500</td>\n",
       "    </tr>\n",
       "    <tr>\n",
       "      <th>5838</th>\n",
       "      <td>2020-07-28</td>\n",
       "      <td>3054.270020</td>\n",
       "      <td>3077.090088</td>\n",
       "      <td>2995.760010</td>\n",
       "      <td>3000.330078</td>\n",
       "      <td>3000.330078</td>\n",
       "      <td>3126700</td>\n",
       "    </tr>\n",
       "    <tr>\n",
       "      <th>5839</th>\n",
       "      <td>2020-07-29</td>\n",
       "      <td>3030.989990</td>\n",
       "      <td>3039.159912</td>\n",
       "      <td>2996.770020</td>\n",
       "      <td>3033.530029</td>\n",
       "      <td>3033.530029</td>\n",
       "      <td>2974100</td>\n",
       "    </tr>\n",
       "    <tr>\n",
       "      <th>5840</th>\n",
       "      <td>2020-07-30</td>\n",
       "      <td>3014.000000</td>\n",
       "      <td>3092.000000</td>\n",
       "      <td>3005.000000</td>\n",
       "      <td>3051.879883</td>\n",
       "      <td>3051.879883</td>\n",
       "      <td>6128300</td>\n",
       "    </tr>\n",
       "    <tr>\n",
       "      <th>5841</th>\n",
       "      <td>2020-07-31</td>\n",
       "      <td>3244.000000</td>\n",
       "      <td>3246.820068</td>\n",
       "      <td>3151.000000</td>\n",
       "      <td>3164.679932</td>\n",
       "      <td>3164.679932</td>\n",
       "      <td>8085500</td>\n",
       "    </tr>\n",
       "  </tbody>\n",
       "</table>\n",
       "</div>"
      ],
      "text/plain": [
       "            Date         Open         High          Low        Close  \\\n",
       "5832  2020-07-20  3000.199951  3201.360107  2994.020020  3196.840088   \n",
       "5833  2020-07-21  3232.489990  3240.580078  3105.719971  3138.290039   \n",
       "5834  2020-07-22  3125.000000  3150.000000  3065.260010  3099.909912   \n",
       "5835  2020-07-23  3098.270020  3098.270020  2970.000000  2986.550049   \n",
       "5836  2020-07-24  2930.000000  3031.580078  2888.000000  3008.909912   \n",
       "5837  2020-07-27  3062.000000  3098.000000  3015.770020  3055.209961   \n",
       "5838  2020-07-28  3054.270020  3077.090088  2995.760010  3000.330078   \n",
       "5839  2020-07-29  3030.989990  3039.159912  2996.770020  3033.530029   \n",
       "5840  2020-07-30  3014.000000  3092.000000  3005.000000  3051.879883   \n",
       "5841  2020-07-31  3244.000000  3246.820068  3151.000000  3164.679932   \n",
       "\n",
       "        Adj Close   Volume  \n",
       "5832  3196.840088  7598200  \n",
       "5833  3138.290039  6135000  \n",
       "5834  3099.909912  4104200  \n",
       "5835  2986.550049  5656900  \n",
       "5836  3008.909912  5632400  \n",
       "5837  3055.209961  4170500  \n",
       "5838  3000.330078  3126700  \n",
       "5839  3033.530029  2974100  \n",
       "5840  3051.879883  6128300  \n",
       "5841  3164.679932  8085500  "
      ]
     },
     "execution_count": 21,
     "metadata": {},
     "output_type": "execute_result"
    }
   ],
   "source": [
    "#here we take tail() means take rows and columns from last of the data\n",
    "dataset.tail(10)"
   ]
  },
  {
   "cell_type": "code",
   "execution_count": 22,
   "metadata": {},
   "outputs": [
    {
     "data": {
      "text/plain": [
       "(5842, 7)"
      ]
     },
     "execution_count": 22,
     "metadata": {},
     "output_type": "execute_result"
    }
   ],
   "source": [
    "\n",
    "dataset['Date']=pd.to_datetime(dataset.Date)\n",
    "dataset.shape"
   ]
  },
  {
   "cell_type": "code",
   "execution_count": 23,
   "metadata": {},
   "outputs": [],
   "source": [
    "#here we take drop a columns ..name Adjclose,,we use axis=1 use for column, and axis =0 for row\n",
    "dataset.drop('Adj Close',axis=1,inplace=True)"
   ]
  },
  {
   "cell_type": "code",
   "execution_count": 24,
   "metadata": {},
   "outputs": [
    {
     "data": {
      "text/html": [
       "<div>\n",
       "<style scoped>\n",
       "    .dataframe tbody tr th:only-of-type {\n",
       "        vertical-align: middle;\n",
       "    }\n",
       "\n",
       "    .dataframe tbody tr th {\n",
       "        vertical-align: top;\n",
       "    }\n",
       "\n",
       "    .dataframe thead th {\n",
       "        text-align: right;\n",
       "    }\n",
       "</style>\n",
       "<table border=\"1\" class=\"dataframe\">\n",
       "  <thead>\n",
       "    <tr style=\"text-align: right;\">\n",
       "      <th></th>\n",
       "      <th>Date</th>\n",
       "      <th>Open</th>\n",
       "      <th>High</th>\n",
       "      <th>Low</th>\n",
       "      <th>Close</th>\n",
       "      <th>Volume</th>\n",
       "    </tr>\n",
       "  </thead>\n",
       "  <tbody>\n",
       "    <tr>\n",
       "      <th>0</th>\n",
       "      <td>1997-05-15</td>\n",
       "      <td>2.437500</td>\n",
       "      <td>2.500000</td>\n",
       "      <td>1.927083</td>\n",
       "      <td>1.958333</td>\n",
       "      <td>72156000</td>\n",
       "    </tr>\n",
       "    <tr>\n",
       "      <th>1</th>\n",
       "      <td>1997-05-16</td>\n",
       "      <td>1.968750</td>\n",
       "      <td>1.979167</td>\n",
       "      <td>1.708333</td>\n",
       "      <td>1.729167</td>\n",
       "      <td>14700000</td>\n",
       "    </tr>\n",
       "    <tr>\n",
       "      <th>2</th>\n",
       "      <td>1997-05-19</td>\n",
       "      <td>1.760417</td>\n",
       "      <td>1.770833</td>\n",
       "      <td>1.625000</td>\n",
       "      <td>1.708333</td>\n",
       "      <td>6106800</td>\n",
       "    </tr>\n",
       "    <tr>\n",
       "      <th>3</th>\n",
       "      <td>1997-05-20</td>\n",
       "      <td>1.729167</td>\n",
       "      <td>1.750000</td>\n",
       "      <td>1.635417</td>\n",
       "      <td>1.635417</td>\n",
       "      <td>5467200</td>\n",
       "    </tr>\n",
       "    <tr>\n",
       "      <th>4</th>\n",
       "      <td>1997-05-21</td>\n",
       "      <td>1.635417</td>\n",
       "      <td>1.645833</td>\n",
       "      <td>1.375000</td>\n",
       "      <td>1.427083</td>\n",
       "      <td>18853200</td>\n",
       "    </tr>\n",
       "  </tbody>\n",
       "</table>\n",
       "</div>"
      ],
      "text/plain": [
       "        Date      Open      High       Low     Close    Volume\n",
       "0 1997-05-15  2.437500  2.500000  1.927083  1.958333  72156000\n",
       "1 1997-05-16  1.968750  1.979167  1.708333  1.729167  14700000\n",
       "2 1997-05-19  1.760417  1.770833  1.625000  1.708333   6106800\n",
       "3 1997-05-20  1.729167  1.750000  1.635417  1.635417   5467200\n",
       "4 1997-05-21  1.635417  1.645833  1.375000  1.427083  18853200"
      ]
     },
     "execution_count": 24,
     "metadata": {},
     "output_type": "execute_result"
    }
   ],
   "source": [
    "dataset.head()"
   ]
  },
  {
   "cell_type": "code",
   "execution_count": 25,
   "metadata": {},
   "outputs": [
    {
     "data": {
      "text/plain": [
       "Date      0\n",
       "Open      0\n",
       "High      0\n",
       "Low       0\n",
       "Close     0\n",
       "Volume    0\n",
       "dtype: int64"
      ]
     },
     "execution_count": 25,
     "metadata": {},
     "output_type": "execute_result"
    }
   ],
   "source": [
    "#here we check null value in any column..basically clean our data\n",
    "dataset.isnull().sum()"
   ]
  },
  {
   "cell_type": "code",
   "execution_count": 26,
   "metadata": {},
   "outputs": [
    {
     "data": {
      "text/plain": [
       "Date      False\n",
       "Open      False\n",
       "High      False\n",
       "Low       False\n",
       "Close     False\n",
       "Volume    False\n",
       "dtype: bool"
      ]
     },
     "execution_count": 26,
     "metadata": {},
     "output_type": "execute_result"
    }
   ],
   "source": [
    "#again here we check is there any na value in column\n",
    "dataset.isna().any()"
   ]
  },
  {
   "cell_type": "code",
   "execution_count": 27,
   "metadata": {},
   "outputs": [
    {
     "name": "stdout",
     "output_type": "stream",
     "text": [
      "<class 'pandas.core.frame.DataFrame'>\n",
      "RangeIndex: 5842 entries, 0 to 5841\n",
      "Data columns (total 6 columns):\n",
      " #   Column  Non-Null Count  Dtype         \n",
      "---  ------  --------------  -----         \n",
      " 0   Date    5842 non-null   datetime64[ns]\n",
      " 1   Open    5842 non-null   float64       \n",
      " 2   High    5842 non-null   float64       \n",
      " 3   Low     5842 non-null   float64       \n",
      " 4   Close   5842 non-null   float64       \n",
      " 5   Volume  5842 non-null   int64         \n",
      "dtypes: datetime64[ns](1), float64(4), int64(1)\n",
      "memory usage: 274.0 KB\n"
     ]
    }
   ],
   "source": [
    "#here we take information of our data---we have  6features and no null  value\n",
    "dataset.info()"
   ]
  },
  {
   "cell_type": "code",
   "execution_count": 28,
   "metadata": {},
   "outputs": [
    {
     "data": {
      "text/html": [
       "<div>\n",
       "<style scoped>\n",
       "    .dataframe tbody tr th:only-of-type {\n",
       "        vertical-align: middle;\n",
       "    }\n",
       "\n",
       "    .dataframe tbody tr th {\n",
       "        vertical-align: top;\n",
       "    }\n",
       "\n",
       "    .dataframe thead th {\n",
       "        text-align: right;\n",
       "    }\n",
       "</style>\n",
       "<table border=\"1\" class=\"dataframe\">\n",
       "  <thead>\n",
       "    <tr style=\"text-align: right;\">\n",
       "      <th></th>\n",
       "      <th>Open</th>\n",
       "      <th>High</th>\n",
       "      <th>Low</th>\n",
       "      <th>Close</th>\n",
       "      <th>Volume</th>\n",
       "    </tr>\n",
       "  </thead>\n",
       "  <tbody>\n",
       "    <tr>\n",
       "      <th>count</th>\n",
       "      <td>5842.000000</td>\n",
       "      <td>5842.000000</td>\n",
       "      <td>5842.000000</td>\n",
       "      <td>5842.000000</td>\n",
       "      <td>5.842000e+03</td>\n",
       "    </tr>\n",
       "    <tr>\n",
       "      <th>mean</th>\n",
       "      <td>372.707174</td>\n",
       "      <td>376.921392</td>\n",
       "      <td>368.114569</td>\n",
       "      <td>372.746660</td>\n",
       "      <td>7.519048e+06</td>\n",
       "    </tr>\n",
       "    <tr>\n",
       "      <th>std</th>\n",
       "      <td>585.571802</td>\n",
       "      <td>591.766458</td>\n",
       "      <td>578.660700</td>\n",
       "      <td>585.607655</td>\n",
       "      <td>7.282683e+06</td>\n",
       "    </tr>\n",
       "    <tr>\n",
       "      <th>min</th>\n",
       "      <td>1.406250</td>\n",
       "      <td>1.447917</td>\n",
       "      <td>1.312500</td>\n",
       "      <td>1.395833</td>\n",
       "      <td>4.872000e+05</td>\n",
       "    </tr>\n",
       "    <tr>\n",
       "      <th>25%</th>\n",
       "      <td>37.955001</td>\n",
       "      <td>38.547501</td>\n",
       "      <td>37.207500</td>\n",
       "      <td>37.927499</td>\n",
       "      <td>3.684900e+06</td>\n",
       "    </tr>\n",
       "    <tr>\n",
       "      <th>50%</th>\n",
       "      <td>83.428749</td>\n",
       "      <td>84.945000</td>\n",
       "      <td>81.656250</td>\n",
       "      <td>83.459999</td>\n",
       "      <td>5.657200e+06</td>\n",
       "    </tr>\n",
       "    <tr>\n",
       "      <th>75%</th>\n",
       "      <td>359.729988</td>\n",
       "      <td>363.439987</td>\n",
       "      <td>356.280006</td>\n",
       "      <td>360.047501</td>\n",
       "      <td>8.533400e+06</td>\n",
       "    </tr>\n",
       "    <tr>\n",
       "      <th>max</th>\n",
       "      <td>3251.060059</td>\n",
       "      <td>3344.290039</td>\n",
       "      <td>3151.000000</td>\n",
       "      <td>3200.000000</td>\n",
       "      <td>1.043292e+08</td>\n",
       "    </tr>\n",
       "  </tbody>\n",
       "</table>\n",
       "</div>"
      ],
      "text/plain": [
       "              Open         High          Low        Close        Volume\n",
       "count  5842.000000  5842.000000  5842.000000  5842.000000  5.842000e+03\n",
       "mean    372.707174   376.921392   368.114569   372.746660  7.519048e+06\n",
       "std     585.571802   591.766458   578.660700   585.607655  7.282683e+06\n",
       "min       1.406250     1.447917     1.312500     1.395833  4.872000e+05\n",
       "25%      37.955001    38.547501    37.207500    37.927499  3.684900e+06\n",
       "50%      83.428749    84.945000    81.656250    83.459999  5.657200e+06\n",
       "75%     359.729988   363.439987   356.280006   360.047501  8.533400e+06\n",
       "max    3251.060059  3344.290039  3151.000000  3200.000000  1.043292e+08"
      ]
     },
     "execution_count": 28,
     "metadata": {},
     "output_type": "execute_result"
    }
   ],
   "source": [
    "dataset.describe()"
   ]
  },
  {
   "cell_type": "code",
   "execution_count": 29,
   "metadata": {},
   "outputs": [
    {
     "name": "stdout",
     "output_type": "stream",
     "text": [
      "5842\n"
     ]
    }
   ],
   "source": [
    "#here we print the length of the dataset\n",
    "print(len(dataset))"
   ]
  },
  {
   "cell_type": "code",
   "execution_count": 30,
   "metadata": {},
   "outputs": [
    {
     "data": {
      "image/png": "[encoded data removed]",
      "text/plain": [
       "<Figure size 1008x288 with 1 Axes>"
      ]
     },
     "metadata": {
      "needs_background": "light"
     },
     "output_type": "display_data"
    }
   ],
   "source": [
    "#here we plot a grapgh of open feature fron our dataset\n",
    "dataset['Open'].plot(figsize=(14,4))\n",
    "plt.show()\n"
   ]
  },
  {
   "cell_type": "code",
   "execution_count": 31,
   "metadata": {},
   "outputs": [],
   "source": [
    "#here we divide features of our dataset in to independent and dependent variable\n",
    "X=dataset[['Open','High','Low','Volume']]\n",
    "Y=dataset['Close']"
   ]
  },
  {
   "cell_type": "code",
   "execution_count": 32,
   "metadata": {},
   "outputs": [],
   "source": [
    "#here split our data into traing and testing (here we train out model using linear regression)\n",
    "from sklearn.model_selection import train_test_split\n"
   ]
  },
  {
   "cell_type": "code",
   "execution_count": 50,
   "metadata": {},
   "outputs": [],
   "source": [
    "#here we train our 80 % percent data for training and 20% data for testing\n",
    "X_train,X_test,Y_train,Y_test=train_test_split(X,Y,test_size=0.2)"
   ]
  },
  {
   "cell_type": "code",
   "execution_count": 51,
   "metadata": {},
   "outputs": [
    {
     "data": {
      "text/plain": [
       "(4673, 4)"
      ]
     },
     "execution_count": 51,
     "metadata": {},
     "output_type": "execute_result"
    }
   ],
   "source": [
    "#check the size of our training dataset\n",
    "X_train.shape"
   ]
  },
  {
   "cell_type": "code",
   "execution_count": 52,
   "metadata": {},
   "outputs": [
    {
     "data": {
      "text/plain": [
       "(1169, 4)"
      ]
     },
     "execution_count": 52,
     "metadata": {},
     "output_type": "execute_result"
    }
   ],
   "source": [
    "#check the shape of our testing dataset\n",
    "X_test.shape"
   ]
  },
  {
   "cell_type": "code",
   "execution_count": 53,
   "metadata": {},
   "outputs": [],
   "source": [
    "#here we use library sklearn beacause we want to import Linear regression ,and metrix and accuracy score\n",
    "\n",
    "from sklearn.linear_model import LinearRegression\n",
    "from sklearn.metrics import confusion_matrix,accuracy_score"
   ]
  },
  {
   "cell_type": "code",
   "execution_count": 54,
   "metadata": {},
   "outputs": [],
   "source": [
    "from sklearn import metrics"
   ]
  },
  {
   "cell_type": "code",
   "execution_count": 55,
   "metadata": {},
   "outputs": [],
   "source": [
    "reg=LinearRegression()"
   ]
  },
  {
   "cell_type": "code",
   "execution_count": 56,
   "metadata": {},
   "outputs": [
    {
     "data": {
      "text/plain": [
       "LinearRegression()"
      ]
     },
     "execution_count": 56,
     "metadata": {},
     "output_type": "execute_result"
    }
   ],
   "source": [
    "#here fit data for training and testing \n",
    "reg.fit(X_train,Y_train)"
   ]
  },
  {
   "cell_type": "code",
   "execution_count": 57,
   "metadata": {},
   "outputs": [
    {
     "name": "stdout",
     "output_type": "stream",
     "text": [
      "[-6.54284793e-01  8.59150886e-01  7.95418478e-01 -2.25962260e-09]\n"
     ]
    }
   ],
   "source": [
    "print(reg.coef_)"
   ]
  },
  {
   "cell_type": "code",
   "execution_count": 58,
   "metadata": {},
   "outputs": [
    {
     "name": "stdout",
     "output_type": "stream",
     "text": [
      "-0.0162771023532855\n"
     ]
    }
   ],
   "source": [
    "#here we want to print interception \n",
    "print(reg.intercept_)"
   ]
  },
  {
   "cell_type": "code",
   "execution_count": 59,
   "metadata": {},
   "outputs": [],
   "source": [
    "#here we predict the value for testing data\n",
    "predicted=reg.predict(X_test)"
   ]
  },
  {
   "cell_type": "code",
   "execution_count": 60,
   "metadata": {},
   "outputs": [
    {
     "name": "stdout",
     "output_type": "stream",
     "text": [
      "            Open        High         Low    Volume\n",
      "4176  389.230011  396.299988  383.100006   3489100\n",
      "1042   14.490000   14.500000   14.000000   2701100\n",
      "4642  602.299988  609.849976  596.289978   4269700\n",
      "1043   14.280000   15.450000   14.200000  12083200\n",
      "3124   96.220001   97.820000   96.019997   5556800\n",
      "...          ...         ...         ...       ...\n",
      "743    53.312500   57.437500   52.453125  12006400\n",
      "4571  465.500000  475.880005  464.799988   4095600\n",
      "1932   41.709999   43.959999   41.639999  12830600\n",
      "363    17.937500   19.645834   17.895834  26695200\n",
      "284    16.968750   19.083334   16.791666  28254600\n",
      "\n",
      "[1169 rows x 4 columns]\n"
     ]
    }
   ],
   "source": [
    "print(X_test)"
   ]
  },
  {
   "cell_type": "code",
   "execution_count": 61,
   "metadata": {},
   "outputs": [
    {
     "data": {
      "text/plain": [
       "(1169,)"
      ]
     },
     "execution_count": 61,
     "metadata": {},
     "output_type": "execute_result"
    }
   ],
   "source": [
    "#here we check the shape of the predicted dataset\n",
    "predicted.shape"
   ]
  },
  {
   "cell_type": "code",
   "execution_count": 62,
   "metadata": {},
   "outputs": [],
   "source": [
    "#here we create a another dataframe for predicted value\n",
    "dataframe=pd.DataFrame(Y_test,predicted)"
   ]
  },
  {
   "cell_type": "code",
   "execution_count": 63,
   "metadata": {},
   "outputs": [],
   "source": [
    "#here we create a another dataframe to check actual and predicted result\n",
    "dataframe=pd.DataFrame({'Actual':Y_test,'predicted':predicted})"
   ]
  },
  {
   "cell_type": "code",
   "execution_count": 64,
   "metadata": {},
   "outputs": [
    {
     "name": "stdout",
     "output_type": "stream",
     "text": [
      "          Actual   predicted\n",
      "4176  395.959991  390.514871\n",
      "1042   14.130000   14.090579\n",
      "4642  608.609985  604.151566\n",
      "1043   15.270000   15.182056\n",
      "3124   97.459999   97.434102\n",
      "...          ...         ...\n",
      "743    53.500000   56.144699\n",
      "4571  475.480011  473.968124\n",
      "1932   42.360001   43.554010\n",
      "363    19.114584   19.300581\n",
      "284    19.020834   18.569348\n",
      "\n",
      "[1169 rows x 2 columns]\n"
     ]
    }
   ],
   "source": [
    "print(dataframe)"
   ]
  },
  {
   "cell_type": "code",
   "execution_count": 65,
   "metadata": {},
   "outputs": [
    {
     "data": {
      "text/html": [
       "<div>\n",
       "<style scoped>\n",
       "    .dataframe tbody tr th:only-of-type {\n",
       "        vertical-align: middle;\n",
       "    }\n",
       "\n",
       "    .dataframe tbody tr th {\n",
       "        vertical-align: top;\n",
       "    }\n",
       "\n",
       "    .dataframe thead th {\n",
       "        text-align: right;\n",
       "    }\n",
       "</style>\n",
       "<table border=\"1\" class=\"dataframe\">\n",
       "  <thead>\n",
       "    <tr style=\"text-align: right;\">\n",
       "      <th></th>\n",
       "      <th>Actual</th>\n",
       "      <th>predicted</th>\n",
       "    </tr>\n",
       "  </thead>\n",
       "  <tbody>\n",
       "    <tr>\n",
       "      <th>4176</th>\n",
       "      <td>395.959991</td>\n",
       "      <td>390.514871</td>\n",
       "    </tr>\n",
       "    <tr>\n",
       "      <th>1042</th>\n",
       "      <td>14.130000</td>\n",
       "      <td>14.090579</td>\n",
       "    </tr>\n",
       "    <tr>\n",
       "      <th>4642</th>\n",
       "      <td>608.609985</td>\n",
       "      <td>604.151566</td>\n",
       "    </tr>\n",
       "    <tr>\n",
       "      <th>1043</th>\n",
       "      <td>15.270000</td>\n",
       "      <td>15.182056</td>\n",
       "    </tr>\n",
       "    <tr>\n",
       "      <th>3124</th>\n",
       "      <td>97.459999</td>\n",
       "      <td>97.434102</td>\n",
       "    </tr>\n",
       "    <tr>\n",
       "      <th>5400</th>\n",
       "      <td>1538.880005</td>\n",
       "      <td>1534.112249</td>\n",
       "    </tr>\n",
       "    <tr>\n",
       "      <th>3812</th>\n",
       "      <td>225.050003</td>\n",
       "      <td>224.669658</td>\n",
       "    </tr>\n",
       "    <tr>\n",
       "      <th>4593</th>\n",
       "      <td>535.219971</td>\n",
       "      <td>534.502861</td>\n",
       "    </tr>\n",
       "    <tr>\n",
       "      <th>778</th>\n",
       "      <td>46.312500</td>\n",
       "      <td>46.452251</td>\n",
       "    </tr>\n",
       "    <tr>\n",
       "      <th>1182</th>\n",
       "      <td>14.220000</td>\n",
       "      <td>14.242184</td>\n",
       "    </tr>\n",
       "    <tr>\n",
       "      <th>2001</th>\n",
       "      <td>32.360001</td>\n",
       "      <td>31.789208</td>\n",
       "    </tr>\n",
       "    <tr>\n",
       "      <th>935</th>\n",
       "      <td>18.937500</td>\n",
       "      <td>19.127897</td>\n",
       "    </tr>\n",
       "    <tr>\n",
       "      <th>3130</th>\n",
       "      <td>93.449997</td>\n",
       "      <td>92.452050</td>\n",
       "    </tr>\n",
       "    <tr>\n",
       "      <th>3309</th>\n",
       "      <td>119.510002</td>\n",
       "      <td>119.050478</td>\n",
       "    </tr>\n",
       "    <tr>\n",
       "      <th>287</th>\n",
       "      <td>20.354166</td>\n",
       "      <td>20.907926</td>\n",
       "    </tr>\n",
       "    <tr>\n",
       "      <th>3372</th>\n",
       "      <td>155.550003</td>\n",
       "      <td>154.228314</td>\n",
       "    </tr>\n",
       "    <tr>\n",
       "      <th>5804</th>\n",
       "      <td>2600.860107</td>\n",
       "      <td>2609.929201</td>\n",
       "    </tr>\n",
       "    <tr>\n",
       "      <th>4842</th>\n",
       "      <td>771.239990</td>\n",
       "      <td>772.759379</td>\n",
       "    </tr>\n",
       "    <tr>\n",
       "      <th>4454</th>\n",
       "      <td>303.910004</td>\n",
       "      <td>306.555055</td>\n",
       "    </tr>\n",
       "    <tr>\n",
       "      <th>2486</th>\n",
       "      <td>41.529999</td>\n",
       "      <td>41.251160</td>\n",
       "    </tr>\n",
       "    <tr>\n",
       "      <th>1202</th>\n",
       "      <td>14.270000</td>\n",
       "      <td>14.331159</td>\n",
       "    </tr>\n",
       "    <tr>\n",
       "      <th>1679</th>\n",
       "      <td>56.610001</td>\n",
       "      <td>56.515883</td>\n",
       "    </tr>\n",
       "    <tr>\n",
       "      <th>2554</th>\n",
       "      <td>72.790001</td>\n",
       "      <td>72.768482</td>\n",
       "    </tr>\n",
       "    <tr>\n",
       "      <th>2953</th>\n",
       "      <td>63.310001</td>\n",
       "      <td>64.606364</td>\n",
       "    </tr>\n",
       "    <tr>\n",
       "      <th>4837</th>\n",
       "      <td>760.770020</td>\n",
       "      <td>760.934749</td>\n",
       "    </tr>\n",
       "    <tr>\n",
       "      <th>2572</th>\n",
       "      <td>79.139999</td>\n",
       "      <td>79.258655</td>\n",
       "    </tr>\n",
       "    <tr>\n",
       "      <th>1377</th>\n",
       "      <td>18.719999</td>\n",
       "      <td>18.465246</td>\n",
       "    </tr>\n",
       "    <tr>\n",
       "      <th>701</th>\n",
       "      <td>69.125000</td>\n",
       "      <td>67.304321</td>\n",
       "    </tr>\n",
       "    <tr>\n",
       "      <th>873</th>\n",
       "      <td>32.875000</td>\n",
       "      <td>31.930313</td>\n",
       "    </tr>\n",
       "    <tr>\n",
       "      <th>3571</th>\n",
       "      <td>213.490005</td>\n",
       "      <td>214.053797</td>\n",
       "    </tr>\n",
       "  </tbody>\n",
       "</table>\n",
       "</div>"
      ],
      "text/plain": [
       "           Actual    predicted\n",
       "4176   395.959991   390.514871\n",
       "1042    14.130000    14.090579\n",
       "4642   608.609985   604.151566\n",
       "1043    15.270000    15.182056\n",
       "3124    97.459999    97.434102\n",
       "5400  1538.880005  1534.112249\n",
       "3812   225.050003   224.669658\n",
       "4593   535.219971   534.502861\n",
       "778     46.312500    46.452251\n",
       "1182    14.220000    14.242184\n",
       "2001    32.360001    31.789208\n",
       "935     18.937500    19.127897\n",
       "3130    93.449997    92.452050\n",
       "3309   119.510002   119.050478\n",
       "287     20.354166    20.907926\n",
       "3372   155.550003   154.228314\n",
       "5804  2600.860107  2609.929201\n",
       "4842   771.239990   772.759379\n",
       "4454   303.910004   306.555055\n",
       "2486    41.529999    41.251160\n",
       "1202    14.270000    14.331159\n",
       "1679    56.610001    56.515883\n",
       "2554    72.790001    72.768482\n",
       "2953    63.310001    64.606364\n",
       "4837   760.770020   760.934749\n",
       "2572    79.139999    79.258655\n",
       "1377    18.719999    18.465246\n",
       "701     69.125000    67.304321\n",
       "873     32.875000    31.930313\n",
       "3571   213.490005   214.053797"
      ]
     },
     "execution_count": 65,
     "metadata": {},
     "output_type": "execute_result"
    }
   ],
   "source": [
    "dataframe.head(30)"
   ]
  },
  {
   "cell_type": "code",
   "execution_count": 66,
   "metadata": {},
   "outputs": [
    {
     "data": {
      "text/html": [
       "<div>\n",
       "<style scoped>\n",
       "    .dataframe tbody tr th:only-of-type {\n",
       "        vertical-align: middle;\n",
       "    }\n",
       "\n",
       "    .dataframe tbody tr th {\n",
       "        vertical-align: top;\n",
       "    }\n",
       "\n",
       "    .dataframe thead th {\n",
       "        text-align: right;\n",
       "    }\n",
       "</style>\n",
       "<table border=\"1\" class=\"dataframe\">\n",
       "  <thead>\n",
       "    <tr style=\"text-align: right;\">\n",
       "      <th></th>\n",
       "      <th>Actual</th>\n",
       "      <th>predicted</th>\n",
       "    </tr>\n",
       "  </thead>\n",
       "  <tbody>\n",
       "    <tr>\n",
       "      <th>5837</th>\n",
       "      <td>3055.209961</td>\n",
       "      <td>3057.002910</td>\n",
       "    </tr>\n",
       "    <tr>\n",
       "      <th>450</th>\n",
       "      <td>66.500000</td>\n",
       "      <td>66.157926</td>\n",
       "    </tr>\n",
       "    <tr>\n",
       "      <th>2103</th>\n",
       "      <td>42.189999</td>\n",
       "      <td>42.182929</td>\n",
       "    </tr>\n",
       "    <tr>\n",
       "      <th>1463</th>\n",
       "      <td>23.360001</td>\n",
       "      <td>23.219087</td>\n",
       "    </tr>\n",
       "    <tr>\n",
       "      <th>1287</th>\n",
       "      <td>16.250000</td>\n",
       "      <td>16.009053</td>\n",
       "    </tr>\n",
       "    <tr>\n",
       "      <th>1730</th>\n",
       "      <td>44.740002</td>\n",
       "      <td>44.506287</td>\n",
       "    </tr>\n",
       "    <tr>\n",
       "      <th>2907</th>\n",
       "      <td>45.209999</td>\n",
       "      <td>44.946578</td>\n",
       "    </tr>\n",
       "    <tr>\n",
       "      <th>4485</th>\n",
       "      <td>370.579987</td>\n",
       "      <td>369.875816</td>\n",
       "    </tr>\n",
       "    <tr>\n",
       "      <th>1019</th>\n",
       "      <td>16.690001</td>\n",
       "      <td>16.903324</td>\n",
       "    </tr>\n",
       "    <tr>\n",
       "      <th>529</th>\n",
       "      <td>58.750000</td>\n",
       "      <td>61.609213</td>\n",
       "    </tr>\n",
       "    <tr>\n",
       "      <th>3163</th>\n",
       "      <td>131.309998</td>\n",
       "      <td>130.885895</td>\n",
       "    </tr>\n",
       "    <tr>\n",
       "      <th>1</th>\n",
       "      <td>1.729167</td>\n",
       "      <td>1.721626</td>\n",
       "    </tr>\n",
       "    <tr>\n",
       "      <th>824</th>\n",
       "      <td>37.500000</td>\n",
       "      <td>37.687570</td>\n",
       "    </tr>\n",
       "    <tr>\n",
       "      <th>3800</th>\n",
       "      <td>223.020004</td>\n",
       "      <td>221.830513</td>\n",
       "    </tr>\n",
       "    <tr>\n",
       "      <th>4160</th>\n",
       "      <td>376.640015</td>\n",
       "      <td>376.805143</td>\n",
       "    </tr>\n",
       "    <tr>\n",
       "      <th>1501</th>\n",
       "      <td>30.879999</td>\n",
       "      <td>30.900481</td>\n",
       "    </tr>\n",
       "    <tr>\n",
       "      <th>4877</th>\n",
       "      <td>837.309998</td>\n",
       "      <td>838.959818</td>\n",
       "    </tr>\n",
       "    <tr>\n",
       "      <th>3348</th>\n",
       "      <td>138.789993</td>\n",
       "      <td>138.933386</td>\n",
       "    </tr>\n",
       "    <tr>\n",
       "      <th>5460</th>\n",
       "      <td>1637.890015</td>\n",
       "      <td>1621.777064</td>\n",
       "    </tr>\n",
       "    <tr>\n",
       "      <th>4492</th>\n",
       "      <td>374.089996</td>\n",
       "      <td>373.780923</td>\n",
       "    </tr>\n",
       "    <tr>\n",
       "      <th>743</th>\n",
       "      <td>53.500000</td>\n",
       "      <td>56.144699</td>\n",
       "    </tr>\n",
       "    <tr>\n",
       "      <th>4571</th>\n",
       "      <td>475.480011</td>\n",
       "      <td>473.968124</td>\n",
       "    </tr>\n",
       "    <tr>\n",
       "      <th>1932</th>\n",
       "      <td>42.360001</td>\n",
       "      <td>43.554010</td>\n",
       "    </tr>\n",
       "    <tr>\n",
       "      <th>363</th>\n",
       "      <td>19.114584</td>\n",
       "      <td>19.300581</td>\n",
       "    </tr>\n",
       "    <tr>\n",
       "      <th>284</th>\n",
       "      <td>19.020834</td>\n",
       "      <td>18.569348</td>\n",
       "    </tr>\n",
       "  </tbody>\n",
       "</table>\n",
       "</div>"
      ],
      "text/plain": [
       "           Actual    predicted\n",
       "5837  3055.209961  3057.002910\n",
       "450     66.500000    66.157926\n",
       "2103    42.189999    42.182929\n",
       "1463    23.360001    23.219087\n",
       "1287    16.250000    16.009053\n",
       "1730    44.740002    44.506287\n",
       "2907    45.209999    44.946578\n",
       "4485   370.579987   369.875816\n",
       "1019    16.690001    16.903324\n",
       "529     58.750000    61.609213\n",
       "3163   131.309998   130.885895\n",
       "1        1.729167     1.721626\n",
       "824     37.500000    37.687570\n",
       "3800   223.020004   221.830513\n",
       "4160   376.640015   376.805143\n",
       "1501    30.879999    30.900481\n",
       "4877   837.309998   838.959818\n",
       "3348   138.789993   138.933386\n",
       "5460  1637.890015  1621.777064\n",
       "4492   374.089996   373.780923\n",
       "743     53.500000    56.144699\n",
       "4571   475.480011   473.968124\n",
       "1932    42.360001    43.554010\n",
       "363     19.114584    19.300581\n",
       "284     19.020834    18.569348"
      ]
     },
     "execution_count": 66,
     "metadata": {},
     "output_type": "execute_result"
    }
   ],
   "source": [
    "dataframe.tail(25)"
   ]
  },
  {
   "cell_type": "code",
   "execution_count": 67,
   "metadata": {},
   "outputs": [],
   "source": [
    "from sklearn.metrics import confusion_matrix,accuracy_score"
   ]
  },
  {
   "cell_type": "code",
   "execution_count": 68,
   "metadata": {},
   "outputs": [
    {
     "data": {
      "text/plain": [
       "0.9999345090928939"
      ]
     },
     "execution_count": 68,
     "metadata": {},
     "output_type": "execute_result"
    }
   ],
   "source": [
    "#this is the regressor score and called accuracy\n",
    "reg.score(X_test,Y_test)"
   ]
  },
  {
   "cell_type": "code",
   "execution_count": 69,
   "metadata": {},
   "outputs": [],
   "source": [
    "#here we import math library to check the mean absolute and Squared error\n",
    "import math"
   ]
  },
  {
   "cell_type": "code",
   "execution_count": 70,
   "metadata": {},
   "outputs": [
    {
     "name": "stdout",
     "output_type": "stream",
     "text": [
      "Mean absolute error: 2.0397642265759557\n",
      "Root mean Squared Error: 4.823015162374082\n"
     ]
    }
   ],
   "source": [
    "print('Mean absolute error:',metrics.mean_absolute_error(Y_test,predicted))\n",
    "\n",
    "print('Root mean Squared Error:',math.sqrt(metrics.mean_squared_error(Y_test,predicted)))"
   ]
  },
  {
   "cell_type": "code",
   "execution_count": 71,
   "metadata": {},
   "outputs": [],
   "source": [
    "graph=dataframe.head(25)"
   ]
  },
  {
   "cell_type": "code",
   "execution_count": 39,
   "metadata": {},
   "outputs": [
    {
     "data": {
      "text/plain": [
       "<AxesSubplot:>"
      ]
     },
     "execution_count": 39,
     "metadata": {},
     "output_type": "execute_result"
    },
    {
     "data": {
      "image/png": "[encoded data removed]",
      "text/plain": [
       "<Figure size 432x288 with 1 Axes>"
      ]
     },
     "metadata": {
      "needs_background": "light"
     },
     "output_type": "display_data"
    }
   ],
   "source": [
    "#this is the grapgh between actual and predicted value\n",
    "graph.plot(kind='bar')"
   ]
  },
  {
   "cell_type": "code",
   "execution_count": null,
   "metadata": {},
   "outputs": [],
   "source": []
  },
  {
   "cell_type": "code",
   "execution_count": null,
   "metadata": {},
   "outputs": [],
   "source": []
  }
 ],
 "metadata": {
  "kernelspec": {
   "display_name": "Python 3",
   "language": "python",
   "name": "python3"
  },
  "language_info": {
   "codemirror_mode": {
    "name": "ipython",
    "version": 3
   },
   "file_extension": ".py",
   "mimetype": "text/x-python",
   "name": "python",
   "nbconvert_exporter": "python",
   "pygments_lexer": "ipython3",
   "version": "3.8.5"
  }
 },
 "nbformat": 4,
 "nbformat_minor": 4
}
