{
  "nbformat": 4,
  "nbformat_minor": 0,
  "metadata": {
    "colab": {
      "name": "tensorflow2.0-1",
      "provenance": [],
      "collapsed_sections": [],
      "authorship_tag": "ABX9TyOVYZ8P0rSK1TbV+cceTdfA",
      "include_colab_link": true
    },
    "kernelspec": {
      "name": "python3",
      "display_name": "Python 3"
    },
    "language_info": {
      "name": "python"
    }
  },
  "cells": [
    {
      "cell_type": "markdown",
      "metadata": {
        "id": "view-in-github",
        "colab_type": "text"
      },
      "source": [
        "<a href=\"https://colab.research.google.com/github/R329aghav/Raghavjr/blob/main/tensorflow2_0_1.ipynb\" target=\"_parent\"><img src=\"https://colab.research.google.com/assets/colab-badge.svg\" alt=\"Open In Colab\"/></a>"
      ]
    },
    {
      "cell_type": "code",
      "metadata": {
        "colab": {
          "base_uri": "https://localhost:8080/"
        },
        "id": "Jh_1eBIDQk16",
        "outputId": "f2b970e6-67e4-4f9b-a887-be1adf08606c"
      },
      "source": [
        "import tensorflow as tf\n",
        "import numpy as np\n",
        "from matplotlib import pyplot as plt\n",
        "print(tf.__version__)"
      ],
      "execution_count": null,
      "outputs": [
        {
          "output_type": "stream",
          "name": "stdout",
          "text": [
            "2.6.0\n"
          ]
        }
      ]
    },
    {
      "cell_type": "code",
      "metadata": {
        "colab": {
          "base_uri": "https://localhost:8080/"
        },
        "id": "Kbm5As8jQ4KU",
        "outputId": "be859e60-079a-4230-fd72-aedb309b6f9f"
      },
      "source": [
        "X=tf.range(-100,100,4)\n",
        "X"
      ],
      "execution_count": null,
      "outputs": [
        {
          "output_type": "execute_result",
          "data": {
            "text/plain": [
              "<tf.Tensor: shape=(50,), dtype=int32, numpy=\n",
              "array([-100,  -96,  -92,  -88,  -84,  -80,  -76,  -72,  -68,  -64,  -60,\n",
              "        -56,  -52,  -48,  -44,  -40,  -36,  -32,  -28,  -24,  -20,  -16,\n",
              "        -12,   -8,   -4,    0,    4,    8,   12,   16,   20,   24,   28,\n",
              "         32,   36,   40,   44,   48,   52,   56,   60,   64,   68,   72,\n",
              "         76,   80,   84,   88,   92,   96], dtype=int32)>"
            ]
          },
          "metadata": {},
          "execution_count": 2
        }
      ]
    },
    {
      "cell_type": "code",
      "metadata": {
        "colab": {
          "base_uri": "https://localhost:8080/"
        },
        "id": "TIVJaVDwQ_GA",
        "outputId": "92723ab7-3520-47ca-aa09-41604c051a80"
      },
      "source": [
        "y=X+10\n",
        "y"
      ],
      "execution_count": null,
      "outputs": [
        {
          "output_type": "execute_result",
          "data": {
            "text/plain": [
              "<tf.Tensor: shape=(50,), dtype=int32, numpy=\n",
              "array([-90, -86, -82, -78, -74, -70, -66, -62, -58, -54, -50, -46, -42,\n",
              "       -38, -34, -30, -26, -22, -18, -14, -10,  -6,  -2,   2,   6,  10,\n",
              "        14,  18,  22,  26,  30,  34,  38,  42,  46,  50,  54,  58,  62,\n",
              "        66,  70,  74,  78,  82,  86,  90,  94,  98, 102, 106], dtype=int32)>"
            ]
          },
          "metadata": {},
          "execution_count": 3
        }
      ]
    },
    {
      "cell_type": "code",
      "metadata": {
        "colab": {
          "base_uri": "https://localhost:8080/",
          "height": 283
        },
        "id": "Ai0Ir98ZRAl6",
        "outputId": "e81a564f-c85b-4118-895c-325e49316a3f"
      },
      "source": [
        "plt.scatter(X,y)"
      ],
      "execution_count": null,
      "outputs": [
        {
          "output_type": "execute_result",
          "data": {
            "text/plain": [
              "<matplotlib.collections.PathCollection at 0x7fb2d1db6690>"
            ]
          },
          "metadata": {},
          "execution_count": 4
        },
        {
          "output_type": "display_data",
          "data": {
            "image/png": "[encoded data removed]",
            "text/plain": [
              "<Figure size 432x288 with 1 Axes>"
            ]
          },
          "metadata": {
            "needs_background": "light"
          }
        }
      ]
    },
    {
      "cell_type": "code",
      "metadata": {
        "colab": {
          "base_uri": "https://localhost:8080/"
        },
        "id": "9M160ckRRGob",
        "outputId": "95f88d56-8031-433d-ae8b-635029fba9bd"
      },
      "source": [
        "# Split the data for training and testing\n",
        "X_train=X[:40]\n",
        "y_train=y[:40]\n",
        "X_test=X[40:]\n",
        "y_test=y[40:]\n",
        "X_train.shape,X_test.shape,y_train.shape,y_test.shape"
      ],
      "execution_count": null,
      "outputs": [
        {
          "output_type": "execute_result",
          "data": {
            "text/plain": [
              "(TensorShape([40]), TensorShape([10]), TensorShape([40]), TensorShape([10]))"
            ]
          },
          "metadata": {},
          "execution_count": 5
        }
      ]
    },
    {
      "cell_type": "code",
      "metadata": {
        "colab": {
          "base_uri": "https://localhost:8080/",
          "height": 428
        },
        "id": "SOYyr7RJRTqG",
        "outputId": "512a9407-acf7-4a2f-d0f1-48173bd9dd8e"
      },
      "source": [
        "plt.figure(figsize=(10,7))\n",
        "#figure for training dataset\n",
        "plt.scatter(X_train,y_train,c=\"b\",label=\"training data\")\n",
        "#figure for testing dataset\n",
        "plt.scatter(X_test,y_test,c=\"g\",label=\"testing data\")\n",
        "plt.legend();"
      ],
      "execution_count": null,
      "outputs": [
        {
          "output_type": "display_data",
          "data": {
            "image/png": "[encoded data removed]",
            "text/plain": [
              "<Figure size 720x504 with 1 Axes>"
            ]
          },
          "metadata": {
            "needs_background": "light"
          }
        }
      ]
    },
    {
      "cell_type": "code",
      "metadata": {
        "id": "F5W5eH7vSNMc"
      },
      "source": [
        "#lets create a neural network \n",
        "#1. create a model\n",
        "model=tf.keras.Sequential([\n",
        "                           tf.keras.layers.Dense(10,input_shape=[1]),\n",
        "                           tf.keras.layers.Dense(1)\n",
        "])\n",
        "\n",
        "#2.compile the model\n",
        "model.compile(loss=tf.keras.losses.mae,\n",
        "              optimizer=tf.keras.optimizers.SGD(),\n",
        "              metrics=[\"mae\"])\n",
        "#.fit the model\n",
        "# model.fit(X_train,y_train,epochs=100,verbose=0)\n"
      ],
      "execution_count": null,
      "outputs": []
    },
    {
      "cell_type": "code",
      "metadata": {
        "colab": {
          "base_uri": "https://localhost:8080/"
        },
        "id": "iGfqCNEtS8AH",
        "outputId": "f5a45bd1-1f60-490c-b413-15881fce6c7d"
      },
      "source": [
        "model.summary()"
      ],
      "execution_count": null,
      "outputs": [
        {
          "output_type": "stream",
          "name": "stdout",
          "text": [
            "Model: \"sequential\"\n",
            "_________________________________________________________________\n",
            "Layer (type)                 Output Shape              Param #   \n",
            "=================================================================\n",
            "dense (Dense)                (None, 10)                20        \n",
            "_________________________________________________________________\n",
            "dense_1 (Dense)              (None, 1)                 11        \n",
            "=================================================================\n",
            "Total params: 31\n",
            "Trainable params: 31\n",
            "Non-trainable params: 0\n",
            "_________________________________________________________________\n"
          ]
        }
      ]
    },
    {
      "cell_type": "code",
      "metadata": {
        "colab": {
          "base_uri": "https://localhost:8080/"
        },
        "id": "0dmbvIALS94s",
        "outputId": "1f66c65d-147a-4b22-ab00-677f692ce6ab"
      },
      "source": [
        "model.fit(X_train,y_train,epochs=100,verbose=0)"
      ],
      "execution_count": null,
      "outputs": [
        {
          "output_type": "execute_result",
          "data": {
            "text/plain": [
              "<keras.callbacks.History at 0x7fb2d068ed50>"
            ]
          },
          "metadata": {},
          "execution_count": 9
        }
      ]
    },
    {
      "cell_type": "code",
      "metadata": {
        "colab": {
          "base_uri": "https://localhost:8080/",
          "height": 312
        },
        "id": "KYpUTQgYTGWG",
        "outputId": "68934131-414e-4497-ed12-3b7022efdc95"
      },
      "source": [
        "#visulize the model\n",
        "from tensorflow.keras.utils import plot_model\n",
        "plot_model(model=model,show_shapes=True)"
      ],
      "execution_count": null,
      "outputs": [
        {
          "output_type": "execute_result",
          "data": {
            "image/png": "[encoded data removed]",
            "text/plain": [
              "<IPython.core.display.Image object>"
            ]
          },
          "metadata": {},
          "execution_count": 10
        }
      ]
    },
    {
      "cell_type": "code",
      "metadata": {
        "colab": {
          "base_uri": "https://localhost:8080/"
        },
        "id": "vUnXU-kGTdsE",
        "outputId": "8df8bd74-089c-4c8b-f746-42c95b5a592a"
      },
      "source": [
        "#visulizing the model prediction\n",
        "y_pred=model.predict(X_test)\n",
        "y_pred"
      ],
      "execution_count": null,
      "outputs": [
        {
          "output_type": "execute_result",
          "data": {
            "text/plain": [
              "array([[52.457294],\n",
              "       [55.853645],\n",
              "       [59.250004],\n",
              "       [62.64636 ],\n",
              "       [66.04271 ],\n",
              "       [69.43907 ],\n",
              "       [72.835434],\n",
              "       [76.23179 ],\n",
              "       [79.62814 ],\n",
              "       [83.0245  ]], dtype=float32)"
            ]
          },
          "metadata": {},
          "execution_count": 11
        }
      ]
    },
    {
      "cell_type": "code",
      "metadata": {
        "colab": {
          "base_uri": "https://localhost:8080/"
        },
        "id": "l3pJ_fa9T7cZ",
        "outputId": "d8328a55-329d-4810-9d54-a3db1e379a12"
      },
      "source": [
        "y_test"
      ],
      "execution_count": null,
      "outputs": [
        {
          "output_type": "execute_result",
          "data": {
            "text/plain": [
              "<tf.Tensor: shape=(10,), dtype=int32, numpy=array([ 70,  74,  78,  82,  86,  90,  94,  98, 102, 106], dtype=int32)>"
            ]
          },
          "metadata": {},
          "execution_count": 12
        }
      ]
    },
    {
      "cell_type": "code",
      "metadata": {
        "id": "83Ky-LILUEyK"
      },
      "source": [
        "# lets create a plotting function\n",
        "def plot_prediction(train_data=X_train,\n",
        "                    train_labels=y_train,\n",
        "                    test_data=X_test,\n",
        "                    test_labels=y_test,\n",
        "                    prediction=y_pred):\n",
        "  \"\"\"\"\"\n",
        "\n",
        "  plot training data,test data and compares predictions to ground truth labels\n",
        "  \"\"\"\"\"\n",
        "  plt.figure(figsize=(10,7))\n",
        "  #plot training data in blue\n",
        "  plt.scatter(train_data,train_labels,c=\"b\",label=\"Training data\")\n",
        "  #plot testing data\n",
        "  plt.scatter(test_data,test_labels,c=\"g\",label=\"testing data\")\n",
        "  #plot models prediction in  red\n",
        "  plt.scatter(test_labels,prediction,c=\"r\",label=\"perdiction\")\n",
        "  plt.legend();"
      ],
      "execution_count": null,
      "outputs": []
    },
    {
      "cell_type": "code",
      "metadata": {
        "colab": {
          "base_uri": "https://localhost:8080/",
          "height": 428
        },
        "id": "y5BM05W7UkZm",
        "outputId": "bbfeb288-69bb-43f9-c9a8-cfca7b0a243a"
      },
      "source": [
        "plot_prediction()"
      ],
      "execution_count": null,
      "outputs": [
        {
          "output_type": "display_data",
          "data": {
            "image/png": "[encoded data removed]",
            "text/plain": [
              "<Figure size 720x504 with 1 Axes>"
            ]
          },
          "metadata": {
            "needs_background": "light"
          }
        }
      ]
    },
    {
      "cell_type": "code",
      "metadata": {
        "colab": {
          "base_uri": "https://localhost:8080/"
        },
        "id": "T-x3JRIsWCh2",
        "outputId": "b1394390-001e-4674-cbc9-59838a29ec4c"
      },
      "source": [
        "#evaluating our models prediction with regression evaluation metrics\n",
        "# different evalution metrics:--MAE:mean absolute error  on average how wrong is each of my models predictions\n",
        "#MSE:mean Squarr error:--Square the average error\n",
        "model.evaluate(X_test,y_test)"
      ],
      "execution_count": null,
      "outputs": [
        {
          "output_type": "stream",
          "name": "stdout",
          "text": [
            "1/1 [==============================] - 0s 103ms/step - loss: 20.2591 - mae: 20.2591\n"
          ]
        },
        {
          "output_type": "execute_result",
          "data": {
            "text/plain": [
              "[20.259105682373047, 20.259105682373047]"
            ]
          },
          "metadata": {},
          "execution_count": 15
        }
      ]
    },
    {
      "cell_type": "code",
      "metadata": {
        "colab": {
          "base_uri": "https://localhost:8080/"
        },
        "id": "h8QmKrKqZPVX",
        "outputId": "27d33e54-fbea-41c0-d403-a6a7f7af2702"
      },
      "source": [
        "y_pred"
      ],
      "execution_count": null,
      "outputs": [
        {
          "output_type": "execute_result",
          "data": {
            "text/plain": [
              "array([[52.457294],\n",
              "       [55.853645],\n",
              "       [59.250004],\n",
              "       [62.64636 ],\n",
              "       [66.04271 ],\n",
              "       [69.43907 ],\n",
              "       [72.835434],\n",
              "       [76.23179 ],\n",
              "       [79.62814 ],\n",
              "       [83.0245  ]], dtype=float32)"
            ]
          },
          "metadata": {},
          "execution_count": 16
        }
      ]
    },
    {
      "cell_type": "code",
      "metadata": {
        "colab": {
          "base_uri": "https://localhost:8080/"
        },
        "id": "seXcfqjtZStQ",
        "outputId": "fb237d39-ad49-4bc0-e3ab-27bdd0b47758"
      },
      "source": [
        "y_test"
      ],
      "execution_count": null,
      "outputs": [
        {
          "output_type": "execute_result",
          "data": {
            "text/plain": [
              "<tf.Tensor: shape=(10,), dtype=int32, numpy=array([ 70,  74,  78,  82,  86,  90,  94,  98, 102, 106], dtype=int32)>"
            ]
          },
          "metadata": {},
          "execution_count": 17
        }
      ]
    },
    {
      "cell_type": "code",
      "metadata": {
        "colab": {
          "base_uri": "https://localhost:8080/"
        },
        "id": "xzuxGBaGs84Q",
        "outputId": "ed95879b-cfce-46f3-9227-579346f6ff91"
      },
      "source": [
        "## Evalute the model on the basis of test\n",
        "model.evaluate(y_test,y_pred)"
      ],
      "execution_count": null,
      "outputs": [
        {
          "output_type": "stream",
          "name": "stdout",
          "text": [
            "1/1 [==============================] - 0s 73ms/step - loss: 8.4909 - mae: 8.4909\n"
          ]
        },
        {
          "output_type": "execute_result",
          "data": {
            "text/plain": [
              "[8.490890502929688, 8.490890502929688]"
            ]
          },
          "metadata": {},
          "execution_count": 18
        }
      ]
    },
    {
      "cell_type": "code",
      "metadata": {
        "colab": {
          "base_uri": "https://localhost:8080/"
        },
        "id": "UdxvqRzxs87u",
        "outputId": "7ff63cb7-008d-457b-f632-3993ad4b2c70"
      },
      "source": [
        "y_pred"
      ],
      "execution_count": null,
      "outputs": [
        {
          "output_type": "execute_result",
          "data": {
            "text/plain": [
              "array([[52.457294],\n",
              "       [55.853645],\n",
              "       [59.250004],\n",
              "       [62.64636 ],\n",
              "       [66.04271 ],\n",
              "       [69.43907 ],\n",
              "       [72.835434],\n",
              "       [76.23179 ],\n",
              "       [79.62814 ],\n",
              "       [83.0245  ]], dtype=float32)"
            ]
          },
          "metadata": {},
          "execution_count": 19
        }
      ]
    },
    {
      "cell_type": "code",
      "metadata": {
        "colab": {
          "base_uri": "https://localhost:8080/"
        },
        "id": "uYsoVHCns8_o",
        "outputId": "1d339fba-a6f4-4910-d1aa-ee7c2286b493"
      },
      "source": [
        "y_test"
      ],
      "execution_count": null,
      "outputs": [
        {
          "output_type": "execute_result",
          "data": {
            "text/plain": [
              "<tf.Tensor: shape=(10,), dtype=int32, numpy=array([ 70,  74,  78,  82,  86,  90,  94,  98, 102, 106], dtype=int32)>"
            ]
          },
          "metadata": {},
          "execution_count": 20
        }
      ]
    },
    {
      "cell_type": "code",
      "metadata": {
        "colab": {
          "base_uri": "https://localhost:8080/"
        },
        "id": "RXrmir93s9BV",
        "outputId": "5556c651-040b-4dc3-d22c-b032a8f7ead3"
      },
      "source": [
        "##calculate the mean absolute error\n",
        "y_pred"
      ],
      "execution_count": null,
      "outputs": [
        {
          "output_type": "execute_result",
          "data": {
            "text/plain": [
              "array([[52.457294],\n",
              "       [55.853645],\n",
              "       [59.250004],\n",
              "       [62.64636 ],\n",
              "       [66.04271 ],\n",
              "       [69.43907 ],\n",
              "       [72.835434],\n",
              "       [76.23179 ],\n",
              "       [79.62814 ],\n",
              "       [83.0245  ]], dtype=float32)"
            ]
          },
          "metadata": {},
          "execution_count": 21
        }
      ]
    },
    {
      "cell_type": "code",
      "metadata": {
        "colab": {
          "base_uri": "https://localhost:8080/"
        },
        "id": "wteMHO62s9Dw",
        "outputId": "67666171-0b82-4228-e5a0-0729aae2bc4b"
      },
      "source": [
        "y_pred=tf.constant(y_pred)\n",
        "y_pred"
      ],
      "execution_count": null,
      "outputs": [
        {
          "output_type": "execute_result",
          "data": {
            "text/plain": [
              "<tf.Tensor: shape=(10, 1), dtype=float32, numpy=\n",
              "array([[52.457294],\n",
              "       [55.853645],\n",
              "       [59.250004],\n",
              "       [62.64636 ],\n",
              "       [66.04271 ],\n",
              "       [69.43907 ],\n",
              "       [72.835434],\n",
              "       [76.23179 ],\n",
              "       [79.62814 ],\n",
              "       [83.0245  ]], dtype=float32)>"
            ]
          },
          "metadata": {},
          "execution_count": 22
        }
      ]
    },
    {
      "cell_type": "code",
      "metadata": {
        "colab": {
          "base_uri": "https://localhost:8080/"
        },
        "id": "nbQtykGxs9GL",
        "outputId": "a19164bd-5b66-4d04-b79b-cf9edf4f1b6a"
      },
      "source": [
        "y_pred=tf.squeeze(y_pred)\n",
        "y_pred"
      ],
      "execution_count": null,
      "outputs": [
        {
          "output_type": "execute_result",
          "data": {
            "text/plain": [
              "<tf.Tensor: shape=(10,), dtype=float32, numpy=\n",
              "array([52.457294, 55.853645, 59.250004, 62.64636 , 66.04271 , 69.43907 ,\n",
              "       72.835434, 76.23179 , 79.62814 , 83.0245  ], dtype=float32)>"
            ]
          },
          "metadata": {},
          "execution_count": 23
        }
      ]
    },
    {
      "cell_type": "code",
      "metadata": {
        "colab": {
          "base_uri": "https://localhost:8080/"
        },
        "id": "YmqOYPGns9Ih",
        "outputId": "7530a0a8-bdcb-4c0f-d070-7043bccd03b6"
      },
      "source": [
        "mae=tf.metrics.mean_absolute_error(y_true=y_test,y_pred=y_pred)\n",
        "mae"
      ],
      "execution_count": null,
      "outputs": [
        {
          "output_type": "execute_result",
          "data": {
            "text/plain": [
              "<tf.Tensor: shape=(), dtype=float32, numpy=20.259104>"
            ]
          },
          "metadata": {},
          "execution_count": 24
        }
      ]
    },
    {
      "cell_type": "code",
      "metadata": {
        "colab": {
          "base_uri": "https://localhost:8080/"
        },
        "id": "AJJ86n6cs9LB",
        "outputId": "3acc0f6f-8e53-49e2-ce87-5122f0d275ae"
      },
      "source": [
        "mse=tf.metrics.mean_squared_error(y_true=y_test,y_pred=y_pred)\n",
        "mse"
      ],
      "execution_count": null,
      "outputs": [
        {
          "output_type": "execute_result",
          "data": {
            "text/plain": [
              "<tf.Tensor: shape=(), dtype=float32, numpy=413.43756>"
            ]
          },
          "metadata": {},
          "execution_count": 25
        }
      ]
    },
    {
      "cell_type": "code",
      "metadata": {
        "id": "Nm2wnQtms9Nh"
      },
      "source": [
        "##make the function for mae and mse\n",
        "def mae(y_true,y_pred):\n",
        "  return tf.metrics.mean_absolute_error(y_true=y_true,y_pred=y_pred)\n",
        "def mse(y_true,y_pred):\n",
        "  return tf.metrics.mean_squared_error(y_true=y_true,y_pred=y_pred)  "
      ],
      "execution_count": null,
      "outputs": []
    },
    {
      "cell_type": "code",
      "metadata": {
        "id": "5xaNFR0Ws9Qv"
      },
      "source": [
        "##lets do somme experiments\n",
        "# 1.create  model with 1  dense layer and 100 epochs\n",
        "#2.create model with 2 layers and 100 epochs\n",
        "# 3..create a model with 2 layers and 500 epochs\n"
      ],
      "execution_count": null,
      "outputs": []
    },
    {
      "cell_type": "code",
      "metadata": {
        "colab": {
          "base_uri": "https://localhost:8080/"
        },
        "id": "WvJbIFLzs9Td",
        "outputId": "74576dd6-d8c3-4ef4-b9f2-807351e8fe2c"
      },
      "source": [
        "# 1.set random seed\n",
        "tf.random.set_seed(42)\n",
        "##2.create model\n",
        "model=tf.keras.Sequential([\n",
        "                           tf.keras.layers.Dense(1)\n",
        "])\n",
        "\n",
        "#3.compile the model\n",
        "model.compile(loss=tf.keras.losses.mae,\n",
        "              optimizer=tf.keras.optimizers.SGD(),\n",
        "              metrics=[\"mae\"])\n",
        "\n",
        "##4.fit the model\n",
        "model.fit(X_train,y_train,epochs=100)"
      ],
      "execution_count": null,
      "outputs": [
        {
          "output_type": "stream",
          "name": "stdout",
          "text": [
            "Epoch 1/100\n",
            "2/2 [==============================] - 0s 5ms/step - loss: 15.9024 - mae: 15.9024\n",
            "Epoch 2/100\n",
            "2/2 [==============================] - 0s 3ms/step - loss: 11.2837 - mae: 11.2837\n",
            "Epoch 3/100\n",
            "2/2 [==============================] - 0s 5ms/step - loss: 11.1074 - mae: 11.1074\n",
            "Epoch 4/100\n",
            "2/2 [==============================] - 0s 3ms/step - loss: 9.2991 - mae: 9.2991\n",
            "Epoch 5/100\n",
            "2/2 [==============================] - 0s 3ms/step - loss: 10.1677 - mae: 10.1677\n",
            "Epoch 6/100\n",
            "2/2 [==============================] - 0s 3ms/step - loss: 9.4303 - mae: 9.4303\n",
            "Epoch 7/100\n",
            "2/2 [==============================] - 0s 3ms/step - loss: 8.5704 - mae: 8.5704\n",
            "Epoch 8/100\n",
            "2/2 [==============================] - 0s 4ms/step - loss: 9.0442 - mae: 9.0442\n",
            "Epoch 9/100\n",
            "2/2 [==============================] - 0s 5ms/step - loss: 18.7517 - mae: 18.7517\n",
            "Epoch 10/100\n",
            "2/2 [==============================] - 0s 7ms/step - loss: 10.1142 - mae: 10.1142\n",
            "Epoch 11/100\n",
            "2/2 [==============================] - 0s 4ms/step - loss: 8.3980 - mae: 8.3980\n",
            "Epoch 12/100\n",
            "2/2 [==============================] - 0s 4ms/step - loss: 10.6639 - mae: 10.6639\n",
            "Epoch 13/100\n",
            "2/2 [==============================] - 0s 4ms/step - loss: 9.7977 - mae: 9.7977\n",
            "Epoch 14/100\n",
            "2/2 [==============================] - 0s 3ms/step - loss: 16.0103 - mae: 16.0103\n",
            "Epoch 15/100\n",
            "2/2 [==============================] - 0s 10ms/step - loss: 11.4068 - mae: 11.4068\n",
            "Epoch 16/100\n",
            "2/2 [==============================] - 0s 5ms/step - loss: 8.5393 - mae: 8.5393\n",
            "Epoch 17/100\n",
            "2/2 [==============================] - 0s 4ms/step - loss: 13.6348 - mae: 13.6348\n",
            "Epoch 18/100\n",
            "2/2 [==============================] - 0s 3ms/step - loss: 11.4629 - mae: 11.4629\n",
            "Epoch 19/100\n",
            "2/2 [==============================] - 0s 3ms/step - loss: 17.9148 - mae: 17.9148\n",
            "Epoch 20/100\n",
            "2/2 [==============================] - 0s 3ms/step - loss: 15.0494 - mae: 15.0494\n",
            "Epoch 21/100\n",
            "2/2 [==============================] - 0s 3ms/step - loss: 11.0216 - mae: 11.0216\n",
            "Epoch 22/100\n",
            "2/2 [==============================] - 0s 3ms/step - loss: 8.1558 - mae: 8.1558\n",
            "Epoch 23/100\n",
            "2/2 [==============================] - 0s 2ms/step - loss: 9.5138 - mae: 9.5138\n",
            "Epoch 24/100\n",
            "2/2 [==============================] - 0s 3ms/step - loss: 7.6617 - mae: 7.6617\n",
            "Epoch 25/100\n",
            "2/2 [==============================] - 0s 4ms/step - loss: 13.1859 - mae: 13.1859\n",
            "Epoch 26/100\n",
            "2/2 [==============================] - 0s 3ms/step - loss: 16.4211 - mae: 16.4211\n",
            "Epoch 27/100\n",
            "2/2 [==============================] - 0s 3ms/step - loss: 13.1660 - mae: 13.1660\n",
            "Epoch 28/100\n",
            "2/2 [==============================] - 0s 3ms/step - loss: 14.2559 - mae: 14.2559\n",
            "Epoch 29/100\n",
            "2/2 [==============================] - 0s 3ms/step - loss: 10.0670 - mae: 10.0670\n",
            "Epoch 30/100\n",
            "2/2 [==============================] - 0s 3ms/step - loss: 16.3409 - mae: 16.3409\n",
            "Epoch 31/100\n",
            "2/2 [==============================] - 0s 3ms/step - loss: 23.6444 - mae: 23.6444\n",
            "Epoch 32/100\n",
            "2/2 [==============================] - 0s 3ms/step - loss: 7.6215 - mae: 7.6215\n",
            "Epoch 33/100\n",
            "2/2 [==============================] - 0s 3ms/step - loss: 9.3221 - mae: 9.3221\n",
            "Epoch 34/100\n",
            "2/2 [==============================] - 0s 3ms/step - loss: 13.7313 - mae: 13.7313\n",
            "Epoch 35/100\n",
            "2/2 [==============================] - 0s 3ms/step - loss: 11.1276 - mae: 11.1276\n",
            "Epoch 36/100\n",
            "2/2 [==============================] - 0s 4ms/step - loss: 13.3222 - mae: 13.3222\n",
            "Epoch 37/100\n",
            "2/2 [==============================] - 0s 3ms/step - loss: 9.4763 - mae: 9.4763\n",
            "Epoch 38/100\n",
            "2/2 [==============================] - 0s 3ms/step - loss: 10.1381 - mae: 10.1381\n",
            "Epoch 39/100\n",
            "2/2 [==============================] - 0s 2ms/step - loss: 10.1793 - mae: 10.1793\n",
            "Epoch 40/100\n",
            "2/2 [==============================] - 0s 3ms/step - loss: 10.9137 - mae: 10.9137\n",
            "Epoch 41/100\n",
            "2/2 [==============================] - 0s 9ms/step - loss: 7.9063 - mae: 7.9063\n",
            "Epoch 42/100\n",
            "2/2 [==============================] - 0s 3ms/step - loss: 10.0914 - mae: 10.0914\n",
            "Epoch 43/100\n",
            "2/2 [==============================] - 0s 8ms/step - loss: 8.7006 - mae: 8.7006\n",
            "Epoch 44/100\n",
            "2/2 [==============================] - 0s 3ms/step - loss: 12.2047 - mae: 12.2047\n",
            "Epoch 45/100\n",
            "2/2 [==============================] - 0s 6ms/step - loss: 13.7970 - mae: 13.7970\n",
            "Epoch 46/100\n",
            "2/2 [==============================] - 0s 6ms/step - loss: 8.4687 - mae: 8.4687\n",
            "Epoch 47/100\n",
            "2/2 [==============================] - 0s 4ms/step - loss: 9.1330 - mae: 9.1330\n",
            "Epoch 48/100\n",
            "2/2 [==============================] - 0s 6ms/step - loss: 10.6190 - mae: 10.6190\n",
            "Epoch 49/100\n",
            "2/2 [==============================] - 0s 5ms/step - loss: 7.7503 - mae: 7.7503\n",
            "Epoch 50/100\n",
            "2/2 [==============================] - 0s 5ms/step - loss: 9.5407 - mae: 9.5407\n",
            "Epoch 51/100\n",
            "2/2 [==============================] - 0s 4ms/step - loss: 9.1584 - mae: 9.1584\n",
            "Epoch 52/100\n",
            "2/2 [==============================] - 0s 6ms/step - loss: 16.3630 - mae: 16.3630\n",
            "Epoch 53/100\n",
            "2/2 [==============================] - 0s 2ms/step - loss: 14.1299 - mae: 14.1299\n",
            "Epoch 54/100\n",
            "2/2 [==============================] - 0s 4ms/step - loss: 21.1247 - mae: 21.1247\n",
            "Epoch 55/100\n",
            "2/2 [==============================] - 0s 2ms/step - loss: 16.3961 - mae: 16.3961\n",
            "Epoch 56/100\n",
            "2/2 [==============================] - 0s 4ms/step - loss: 9.9806 - mae: 9.9806\n",
            "Epoch 57/100\n",
            "2/2 [==============================] - 0s 4ms/step - loss: 9.9606 - mae: 9.9606\n",
            "Epoch 58/100\n",
            "2/2 [==============================] - 0s 4ms/step - loss: 9.2209 - mae: 9.2209\n",
            "Epoch 59/100\n",
            "2/2 [==============================] - 0s 3ms/step - loss: 8.4239 - mae: 8.4239\n",
            "Epoch 60/100\n",
            "2/2 [==============================] - 0s 5ms/step - loss: 9.4869 - mae: 9.4869\n",
            "Epoch 61/100\n",
            "2/2 [==============================] - 0s 4ms/step - loss: 11.4355 - mae: 11.4355\n",
            "Epoch 62/100\n",
            "2/2 [==============================] - 0s 3ms/step - loss: 11.6887 - mae: 11.6887\n",
            "Epoch 63/100\n",
            "2/2 [==============================] - 0s 4ms/step - loss: 7.0838 - mae: 7.0838\n",
            "Epoch 64/100\n",
            "2/2 [==============================] - 0s 3ms/step - loss: 16.9675 - mae: 16.9675\n",
            "Epoch 65/100\n",
            "2/2 [==============================] - 0s 3ms/step - loss: 12.4599 - mae: 12.4599\n",
            "Epoch 66/100\n",
            "2/2 [==============================] - 0s 5ms/step - loss: 13.0184 - mae: 13.0184\n",
            "Epoch 67/100\n",
            "2/2 [==============================] - 0s 4ms/step - loss: 8.0600 - mae: 8.0600\n",
            "Epoch 68/100\n",
            "2/2 [==============================] - 0s 3ms/step - loss: 10.1888 - mae: 10.1888\n",
            "Epoch 69/100\n",
            "2/2 [==============================] - 0s 4ms/step - loss: 12.3633 - mae: 12.3633\n",
            "Epoch 70/100\n",
            "2/2 [==============================] - 0s 5ms/step - loss: 9.0516 - mae: 9.0516\n",
            "Epoch 71/100\n",
            "2/2 [==============================] - 0s 7ms/step - loss: 10.0378 - mae: 10.0378\n",
            "Epoch 72/100\n",
            "2/2 [==============================] - 0s 6ms/step - loss: 10.0516 - mae: 10.0516\n",
            "Epoch 73/100\n",
            "2/2 [==============================] - 0s 6ms/step - loss: 12.6151 - mae: 12.6151\n",
            "Epoch 74/100\n",
            "2/2 [==============================] - 0s 5ms/step - loss: 10.3819 - mae: 10.3819\n",
            "Epoch 75/100\n",
            "2/2 [==============================] - 0s 5ms/step - loss: 9.7229 - mae: 9.7229\n",
            "Epoch 76/100\n",
            "2/2 [==============================] - 0s 3ms/step - loss: 11.2252 - mae: 11.2252\n",
            "Epoch 77/100\n",
            "2/2 [==============================] - 0s 3ms/step - loss: 8.3642 - mae: 8.3642\n",
            "Epoch 78/100\n",
            "2/2 [==============================] - 0s 4ms/step - loss: 9.1274 - mae: 9.1274\n",
            "Epoch 79/100\n",
            "2/2 [==============================] - 0s 6ms/step - loss: 19.5039 - mae: 19.5039\n",
            "Epoch 80/100\n",
            "2/2 [==============================] - 0s 2ms/step - loss: 14.8945 - mae: 14.8945\n",
            "Epoch 81/100\n",
            "2/2 [==============================] - 0s 7ms/step - loss: 9.0034 - mae: 9.0034\n",
            "Epoch 82/100\n",
            "2/2 [==============================] - 0s 4ms/step - loss: 13.0206 - mae: 13.0206\n",
            "Epoch 83/100\n",
            "2/2 [==============================] - 0s 4ms/step - loss: 7.9299 - mae: 7.9299\n",
            "Epoch 84/100\n",
            "2/2 [==============================] - 0s 4ms/step - loss: 7.6872 - mae: 7.6872\n",
            "Epoch 85/100\n",
            "2/2 [==============================] - 0s 5ms/step - loss: 10.0328 - mae: 10.0328\n",
            "Epoch 86/100\n",
            "2/2 [==============================] - 0s 5ms/step - loss: 9.2433 - mae: 9.2433\n",
            "Epoch 87/100\n",
            "2/2 [==============================] - 0s 8ms/step - loss: 12.0209 - mae: 12.0209\n",
            "Epoch 88/100\n",
            "2/2 [==============================] - 0s 8ms/step - loss: 10.6389 - mae: 10.6389\n",
            "Epoch 89/100\n",
            "2/2 [==============================] - 0s 3ms/step - loss: 7.2667 - mae: 7.2667\n",
            "Epoch 90/100\n",
            "2/2 [==============================] - 0s 4ms/step - loss: 12.7786 - mae: 12.7786\n",
            "Epoch 91/100\n",
            "2/2 [==============================] - 0s 9ms/step - loss: 7.3481 - mae: 7.3481\n",
            "Epoch 92/100\n",
            "2/2 [==============================] - 0s 8ms/step - loss: 7.7175 - mae: 7.7175\n",
            "Epoch 93/100\n",
            "2/2 [==============================] - 0s 6ms/step - loss: 7.1263 - mae: 7.1263\n",
            "Epoch 94/100\n",
            "2/2 [==============================] - 0s 4ms/step - loss: 12.6190 - mae: 12.6190\n",
            "Epoch 95/100\n",
            "2/2 [==============================] - 0s 3ms/step - loss: 10.0912 - mae: 10.0912\n",
            "Epoch 96/100\n",
            "2/2 [==============================] - 0s 3ms/step - loss: 9.3558 - mae: 9.3558\n",
            "Epoch 97/100\n",
            "2/2 [==============================] - 0s 6ms/step - loss: 12.6834 - mae: 12.6834\n",
            "Epoch 98/100\n",
            "2/2 [==============================] - 0s 7ms/step - loss: 8.6762 - mae: 8.6762\n",
            "Epoch 99/100\n",
            "2/2 [==============================] - 0s 3ms/step - loss: 9.4693 - mae: 9.4693\n",
            "Epoch 100/100\n",
            "2/2 [==============================] - 0s 6ms/step - loss: 8.7067 - mae: 8.7067\n"
          ]
        },
        {
          "output_type": "execute_result",
          "data": {
            "text/plain": [
              "<keras.callbacks.History at 0x7fb31cdcd390>"
            ]
          },
          "metadata": {},
          "execution_count": 28
        }
      ]
    },
    {
      "cell_type": "code",
      "metadata": {
        "colab": {
          "base_uri": "https://localhost:8080/"
        },
        "id": "Ynj_WQlus9WB",
        "outputId": "e26a5778-5f5e-475d-ac41-c7a74a15aa1c"
      },
      "source": [
        "y_test"
      ],
      "execution_count": null,
      "outputs": [
        {
          "output_type": "execute_result",
          "data": {
            "text/plain": [
              "<tf.Tensor: shape=(10,), dtype=int32, numpy=array([ 70,  74,  78,  82,  86,  90,  94,  98, 102, 106], dtype=int32)>"
            ]
          },
          "metadata": {},
          "execution_count": 29
        }
      ]
    },
    {
      "cell_type": "code",
      "metadata": {
        "colab": {
          "base_uri": "https://localhost:8080/"
        },
        "id": "ZAV9_nbJs9Y_",
        "outputId": "fc6ecd41-e576-45c8-adc2-0ce3b915ebca"
      },
      "source": [
        "y_pred"
      ],
      "execution_count": null,
      "outputs": [
        {
          "output_type": "execute_result",
          "data": {
            "text/plain": [
              "<tf.Tensor: shape=(10,), dtype=float32, numpy=\n",
              "array([52.457294, 55.853645, 59.250004, 62.64636 , 66.04271 , 69.43907 ,\n",
              "       72.835434, 76.23179 , 79.62814 , 83.0245  ], dtype=float32)>"
            ]
          },
          "metadata": {},
          "execution_count": 30
        }
      ]
    },
    {
      "cell_type": "code",
      "metadata": {
        "colab": {
          "base_uri": "https://localhost:8080/",
          "height": 428
        },
        "id": "uL8ezAsys9bX",
        "outputId": "55932068-c436-4d76-a1de-5ef3f9bda0a4"
      },
      "source": [
        "plot_prediction(y_test,y_pred)"
      ],
      "execution_count": null,
      "outputs": [
        {
          "output_type": "display_data",
          "data": {
            "image/png": "[encoded data removed]",
            "text/plain": [
              "<Figure size 720x504 with 1 Axes>"
            ]
          },
          "metadata": {
            "needs_background": "light"
          }
        }
      ]
    },
    {
      "cell_type": "code",
      "metadata": {
        "colab": {
          "base_uri": "https://localhost:8080/"
        },
        "id": "NDuOzGhOs9ed",
        "outputId": "6fb40c9f-8c9c-4a0e-d74d-aa1d9c93d14e"
      },
      "source": [
        "mae(y_test,y_pred)"
      ],
      "execution_count": null,
      "outputs": [
        {
          "output_type": "execute_result",
          "data": {
            "text/plain": [
              "<tf.Tensor: shape=(), dtype=float32, numpy=20.259104>"
            ]
          },
          "metadata": {},
          "execution_count": 32
        }
      ]
    },
    {
      "cell_type": "code",
      "metadata": {
        "colab": {
          "base_uri": "https://localhost:8080/"
        },
        "id": "U8cto9rqs9g1",
        "outputId": "8ded3f45-9dfe-448b-905f-5d6c7f22dd9d"
      },
      "source": [
        "mse(y_test,y_pred)"
      ],
      "execution_count": null,
      "outputs": [
        {
          "output_type": "execute_result",
          "data": {
            "text/plain": [
              "<tf.Tensor: shape=(), dtype=float32, numpy=413.43756>"
            ]
          },
          "metadata": {},
          "execution_count": 33
        }
      ]
    },
    {
      "cell_type": "code",
      "metadata": {
        "colab": {
          "base_uri": "https://localhost:8080/"
        },
        "id": "fsIdiBwss9jS",
        "outputId": "827ddf5a-f3a6-4a2c-ae3f-2e4521619364"
      },
      "source": [
        "# 2.create second model\n",
        "# 2.1 set random seed\n",
        "tf.random.set_seed(42)\n",
        "##2.2create a model\n",
        "model=tf.keras.Sequential([\n",
        "                           tf.keras.layers.Dense(100,activation=\"relu\"),\n",
        "                           tf.keras.layers.Dense(1)\n",
        "])\n",
        "##2.3compile the model\n",
        "model.compile(loss=tf.keras.losses.mae,\n",
        "              optimizer=tf.keras.optimizers.SGD(),\n",
        "              metrics=[\"mse\"])\n",
        "##2.4fit the model\n",
        "model.fit(X_train,y_train,epochs=100)"
      ],
      "execution_count": null,
      "outputs": [
        {
          "output_type": "stream",
          "name": "stdout",
          "text": [
            "Epoch 1/100\n",
            "2/2 [==============================] - 0s 6ms/step - loss: 37.5163 - mse: 2051.7371\n",
            "Epoch 2/100\n",
            "2/2 [==============================] - 0s 12ms/step - loss: 15.3674 - mse: 330.8845\n",
            "Epoch 3/100\n",
            "2/2 [==============================] - 0s 3ms/step - loss: 11.0486 - mse: 174.4426\n",
            "Epoch 4/100\n",
            "2/2 [==============================] - 0s 6ms/step - loss: 8.4438 - mse: 109.0568\n",
            "Epoch 5/100\n",
            "2/2 [==============================] - 0s 6ms/step - loss: 9.1493 - mse: 123.0489\n",
            "Epoch 6/100\n",
            "2/2 [==============================] - 0s 5ms/step - loss: 9.1722 - mse: 119.4456\n",
            "Epoch 7/100\n",
            "2/2 [==============================] - 0s 5ms/step - loss: 10.8420 - mse: 223.9998\n",
            "Epoch 8/100\n",
            "2/2 [==============================] - 0s 2ms/step - loss: 14.4265 - mse: 315.0616\n",
            "Epoch 9/100\n",
            "2/2 [==============================] - 0s 5ms/step - loss: 22.3205 - mse: 834.9088\n",
            "Epoch 10/100\n",
            "2/2 [==============================] - 0s 5ms/step - loss: 11.4851 - mse: 178.0412\n",
            "Epoch 11/100\n",
            "2/2 [==============================] - 0s 5ms/step - loss: 9.3948 - mse: 173.1373\n",
            "Epoch 12/100\n",
            "2/2 [==============================] - 0s 5ms/step - loss: 11.5393 - mse: 181.4072\n",
            "Epoch 13/100\n",
            "2/2 [==============================] - 0s 6ms/step - loss: 8.4915 - mse: 163.3834\n",
            "Epoch 14/100\n",
            "2/2 [==============================] - 0s 6ms/step - loss: 9.8044 - mse: 151.9965\n",
            "Epoch 15/100\n",
            "2/2 [==============================] - 0s 5ms/step - loss: 6.3654 - mse: 57.7262\n",
            "Epoch 16/100\n",
            "2/2 [==============================] - 0s 5ms/step - loss: 12.6394 - mse: 301.6355\n",
            "Epoch 17/100\n",
            "2/2 [==============================] - 0s 7ms/step - loss: 10.7511 - mse: 150.1536\n",
            "Epoch 18/100\n",
            "2/2 [==============================] - 0s 7ms/step - loss: 13.5908 - mse: 233.6806\n",
            "Epoch 19/100\n",
            "2/2 [==============================] - 0s 7ms/step - loss: 20.2453 - mse: 671.2259\n",
            "Epoch 20/100\n",
            "2/2 [==============================] - 0s 5ms/step - loss: 5.5074 - mse: 41.2560\n",
            "Epoch 21/100\n",
            "2/2 [==============================] - 0s 7ms/step - loss: 13.2603 - mse: 336.7635\n",
            "Epoch 22/100\n",
            "2/2 [==============================] - 0s 6ms/step - loss: 18.7483 - mse: 501.3595\n",
            "Epoch 23/100\n",
            "2/2 [==============================] - 0s 5ms/step - loss: 11.4481 - mse: 184.5000\n",
            "Epoch 24/100\n",
            "2/2 [==============================] - 0s 5ms/step - loss: 11.1294 - mse: 241.4797\n",
            "Epoch 25/100\n",
            "2/2 [==============================] - 0s 5ms/step - loss: 17.1312 - mse: 487.8101\n",
            "Epoch 26/100\n",
            "2/2 [==============================] - 0s 5ms/step - loss: 17.1981 - mse: 441.4765\n",
            "Epoch 27/100\n",
            "2/2 [==============================] - 0s 5ms/step - loss: 12.6936 - mse: 210.1593\n",
            "Epoch 28/100\n",
            "2/2 [==============================] - 0s 5ms/step - loss: 12.1368 - mse: 183.2976\n",
            "Epoch 29/100\n",
            "2/2 [==============================] - 0s 7ms/step - loss: 5.1890 - mse: 35.3135\n",
            "Epoch 30/100\n",
            "2/2 [==============================] - 0s 4ms/step - loss: 22.7519 - mse: 1006.2088\n",
            "Epoch 31/100\n",
            "2/2 [==============================] - 0s 5ms/step - loss: 9.7003 - mse: 140.4350\n",
            "Epoch 32/100\n",
            "2/2 [==============================] - 0s 3ms/step - loss: 11.7128 - mse: 241.8584\n",
            "Epoch 33/100\n",
            "2/2 [==============================] - 0s 5ms/step - loss: 8.4930 - mse: 123.1062\n",
            "Epoch 34/100\n",
            "2/2 [==============================] - 0s 4ms/step - loss: 14.9846 - mse: 448.4223\n",
            "Epoch 35/100\n",
            "2/2 [==============================] - 0s 4ms/step - loss: 7.6373 - mse: 78.9840\n",
            "Epoch 36/100\n",
            "2/2 [==============================] - 0s 3ms/step - loss: 17.8385 - mse: 622.3562\n",
            "Epoch 37/100\n",
            "2/2 [==============================] - 0s 4ms/step - loss: 7.2632 - mse: 83.2494\n",
            "Epoch 38/100\n",
            "2/2 [==============================] - 0s 3ms/step - loss: 11.8161 - mse: 203.9387\n",
            "Epoch 39/100\n",
            "2/2 [==============================] - 0s 3ms/step - loss: 15.2471 - mse: 463.0087\n",
            "Epoch 40/100\n",
            "2/2 [==============================] - 0s 3ms/step - loss: 13.0167 - mse: 234.6919\n",
            "Epoch 41/100\n",
            "2/2 [==============================] - 0s 4ms/step - loss: 6.8026 - mse: 90.0600\n",
            "Epoch 42/100\n",
            "2/2 [==============================] - 0s 3ms/step - loss: 11.6391 - mse: 219.9491\n",
            "Epoch 43/100\n",
            "2/2 [==============================] - 0s 5ms/step - loss: 9.3278 - mse: 178.8345\n",
            "Epoch 44/100\n",
            "2/2 [==============================] - 0s 3ms/step - loss: 23.3857 - mse: 1098.3137\n",
            "Epoch 45/100\n",
            "2/2 [==============================] - 0s 3ms/step - loss: 13.8154 - mse: 269.4199\n",
            "Epoch 46/100\n",
            "2/2 [==============================] - 0s 2ms/step - loss: 6.3025 - mse: 59.0153\n",
            "Epoch 47/100\n",
            "2/2 [==============================] - 0s 3ms/step - loss: 8.5488 - mse: 118.6038\n",
            "Epoch 48/100\n",
            "2/2 [==============================] - 0s 2ms/step - loss: 11.9142 - mse: 214.1821\n",
            "Epoch 49/100\n",
            "2/2 [==============================] - 0s 4ms/step - loss: 9.5315 - mse: 123.3609\n",
            "Epoch 50/100\n",
            "2/2 [==============================] - 0s 3ms/step - loss: 13.4517 - mse: 314.7619\n",
            "Epoch 51/100\n",
            "2/2 [==============================] - 0s 3ms/step - loss: 8.7330 - mse: 124.4896\n",
            "Epoch 52/100\n",
            "2/2 [==============================] - 0s 5ms/step - loss: 18.9434 - mse: 708.8434\n",
            "Epoch 53/100\n",
            "2/2 [==============================] - 0s 6ms/step - loss: 8.7991 - mse: 139.6306\n",
            "Epoch 54/100\n",
            "2/2 [==============================] - 0s 4ms/step - loss: 14.0444 - mse: 303.8909\n",
            "Epoch 55/100\n",
            "2/2 [==============================] - 0s 4ms/step - loss: 22.2500 - mse: 866.9422\n",
            "Epoch 56/100\n",
            "2/2 [==============================] - 0s 8ms/step - loss: 13.2893 - mse: 243.6373\n",
            "Epoch 57/100\n",
            "2/2 [==============================] - 0s 6ms/step - loss: 6.6488 - mse: 67.8844\n",
            "Epoch 58/100\n",
            "2/2 [==============================] - 0s 5ms/step - loss: 6.6062 - mse: 73.7887\n",
            "Epoch 59/100\n",
            "2/2 [==============================] - 0s 10ms/step - loss: 12.5529 - mse: 314.3233\n",
            "Epoch 60/100\n",
            "2/2 [==============================] - 0s 11ms/step - loss: 12.6053 - mse: 279.5554\n",
            "Epoch 61/100\n",
            "2/2 [==============================] - 0s 4ms/step - loss: 15.5253 - mse: 348.9956\n",
            "Epoch 62/100\n",
            "2/2 [==============================] - 0s 15ms/step - loss: 8.0537 - mse: 108.4397\n",
            "Epoch 63/100\n",
            "2/2 [==============================] - 0s 6ms/step - loss: 6.9397 - mse: 71.6802\n",
            "Epoch 64/100\n",
            "2/2 [==============================] - 0s 4ms/step - loss: 15.1758 - mse: 455.1856\n",
            "Epoch 65/100\n",
            "2/2 [==============================] - 0s 3ms/step - loss: 12.6745 - mse: 203.8319\n",
            "Epoch 66/100\n",
            "2/2 [==============================] - 0s 3ms/step - loss: 11.3338 - mse: 173.7837\n",
            "Epoch 67/100\n",
            "2/2 [==============================] - 0s 6ms/step - loss: 6.4934 - mse: 64.1963\n",
            "Epoch 68/100\n",
            "2/2 [==============================] - 0s 3ms/step - loss: 11.3267 - mse: 244.5254\n",
            "Epoch 69/100\n",
            "2/2 [==============================] - 0s 3ms/step - loss: 20.1591 - mse: 715.3134\n",
            "Epoch 70/100\n",
            "2/2 [==============================] - 0s 3ms/step - loss: 8.4932 - mse: 142.2126\n",
            "Epoch 71/100\n",
            "2/2 [==============================] - 0s 6ms/step - loss: 8.5189 - mse: 111.5257\n",
            "Epoch 72/100\n",
            "2/2 [==============================] - 0s 7ms/step - loss: 10.3372 - mse: 165.2529\n",
            "Epoch 73/100\n",
            "2/2 [==============================] - 0s 3ms/step - loss: 11.2815 - mse: 234.0668\n",
            "Epoch 74/100\n",
            "2/2 [==============================] - 0s 3ms/step - loss: 24.8089 - mse: 1019.4746\n",
            "Epoch 75/100\n",
            "2/2 [==============================] - 0s 7ms/step - loss: 4.9074 - mse: 35.1630\n",
            "Epoch 76/100\n",
            "2/2 [==============================] - 0s 3ms/step - loss: 14.3607 - mse: 366.2846\n",
            "Epoch 77/100\n",
            "2/2 [==============================] - 0s 3ms/step - loss: 12.7435 - mse: 243.7691\n",
            "Epoch 78/100\n",
            "2/2 [==============================] - 0s 4ms/step - loss: 8.0748 - mse: 88.2456\n",
            "Epoch 79/100\n",
            "2/2 [==============================] - 0s 3ms/step - loss: 20.4829 - mse: 853.6670\n",
            "Epoch 80/100\n",
            "2/2 [==============================] - 0s 3ms/step - loss: 13.1096 - mse: 254.0509\n",
            "Epoch 81/100\n",
            "2/2 [==============================] - 0s 5ms/step - loss: 5.5906 - mse: 41.0834\n",
            "Epoch 82/100\n",
            "2/2 [==============================] - 0s 3ms/step - loss: 7.0712 - mse: 88.6486\n",
            "Epoch 83/100\n",
            "2/2 [==============================] - 0s 4ms/step - loss: 11.5076 - mse: 230.0143\n",
            "Epoch 84/100\n",
            "2/2 [==============================] - 0s 4ms/step - loss: 8.1269 - mse: 110.6161\n",
            "Epoch 85/100\n",
            "2/2 [==============================] - 0s 3ms/step - loss: 15.9129 - mse: 506.1236\n",
            "Epoch 86/100\n",
            "2/2 [==============================] - 0s 5ms/step - loss: 12.3423 - mse: 203.8322\n",
            "Epoch 87/100\n",
            "2/2 [==============================] - 0s 5ms/step - loss: 10.4906 - mse: 182.3402\n",
            "Epoch 88/100\n",
            "2/2 [==============================] - 0s 3ms/step - loss: 9.4745 - mse: 151.3660\n",
            "Epoch 89/100\n",
            "2/2 [==============================] - 0s 5ms/step - loss: 7.0669 - mse: 75.0878\n",
            "Epoch 90/100\n",
            "2/2 [==============================] - 0s 5ms/step - loss: 15.6909 - mse: 465.8458\n",
            "Epoch 91/100\n",
            "2/2 [==============================] - 0s 5ms/step - loss: 11.8988 - mse: 198.6873\n",
            "Epoch 92/100\n",
            "2/2 [==============================] - 0s 10ms/step - loss: 9.0459 - mse: 126.0215\n",
            "Epoch 93/100\n",
            "2/2 [==============================] - 0s 4ms/step - loss: 9.3705 - mse: 123.0223\n",
            "Epoch 94/100\n",
            "2/2 [==============================] - 0s 7ms/step - loss: 12.4233 - mse: 318.3658\n",
            "Epoch 95/100\n",
            "2/2 [==============================] - 0s 5ms/step - loss: 15.4128 - mse: 331.8068\n",
            "Epoch 96/100\n",
            "2/2 [==============================] - 0s 4ms/step - loss: 8.3105 - mse: 153.1527\n",
            "Epoch 97/100\n",
            "2/2 [==============================] - 0s 5ms/step - loss: 9.2332 - mse: 115.3674\n",
            "Epoch 98/100\n",
            "2/2 [==============================] - 0s 4ms/step - loss: 7.9454 - mse: 99.9909\n",
            "Epoch 99/100\n",
            "2/2 [==============================] - 0s 4ms/step - loss: 8.7671 - mse: 153.0048\n",
            "Epoch 100/100\n",
            "2/2 [==============================] - 0s 4ms/step - loss: 17.3712 - mse: 560.6927\n"
          ]
        },
        {
          "output_type": "execute_result",
          "data": {
            "text/plain": [
              "<keras.callbacks.History at 0x7fb31cce9810>"
            ]
          },
          "metadata": {},
          "execution_count": 34
        }
      ]
    },
    {
      "cell_type": "code",
      "metadata": {
        "colab": {
          "base_uri": "https://localhost:8080/",
          "height": 428
        },
        "id": "wugfgR7bs9lc",
        "outputId": "303b503a-b2f3-493d-bc15-f54c0665557f"
      },
      "source": [
        "y_pred_1=model.predict(X_test)\n",
        "y_pred_1\n",
        "plot_prediction(prediction=y_pred_1)"
      ],
      "execution_count": null,
      "outputs": [
        {
          "output_type": "display_data",
          "data": {
            "image/png": "[encoded data removed]",
            "text/plain": [
              "<Figure size 720x504 with 1 Axes>"
            ]
          },
          "metadata": {
            "needs_background": "light"
          }
        }
      ]
    },
    {
      "cell_type": "code",
      "metadata": {
        "colab": {
          "base_uri": "https://localhost:8080/"
        },
        "id": "CRq3Fs4bs9oT",
        "outputId": "6bfb9c73-f202-4dde-aa5e-a036c11f6272"
      },
      "source": [
        "y_pred_1,tf.squeeze(y_pred_1)"
      ],
      "execution_count": null,
      "outputs": [
        {
          "output_type": "execute_result",
          "data": {
            "text/plain": [
              "(array([[ 65.104515],\n",
              "        [ 69.39702 ],\n",
              "        [ 73.689514],\n",
              "        [ 77.98202 ],\n",
              "        [ 82.27452 ],\n",
              "        [ 86.56694 ],\n",
              "        [ 90.85936 ],\n",
              "        [ 95.15179 ],\n",
              "        [ 99.4442  ],\n",
              "        [103.736626]], dtype=float32),\n",
              " <tf.Tensor: shape=(10,), dtype=float32, numpy=\n",
              " array([ 65.104515,  69.39702 ,  73.689514,  77.98202 ,  82.27452 ,\n",
              "         86.56694 ,  90.85936 ,  95.15179 ,  99.4442  , 103.736626],\n",
              "       dtype=float32)>)"
            ]
          },
          "metadata": {},
          "execution_count": 36
        }
      ]
    },
    {
      "cell_type": "code",
      "metadata": {
        "colab": {
          "base_uri": "https://localhost:8080/"
        },
        "id": "igBF-MEVs9q7",
        "outputId": "40d2ebb8-0e1f-47ab-9ff7-f17743d6d908"
      },
      "source": [
        "mae_1=mae(y_test,tf.squeeze(y_pred_1))\n",
        "mse_1=mse(y_test,tf.squeeze(y_pred_1))\n",
        "mae_1,mse_1"
      ],
      "execution_count": null,
      "outputs": [
        {
          "output_type": "execute_result",
          "data": {
            "text/plain": [
              "(<tf.Tensor: shape=(), dtype=float32, numpy=3.5793502>,\n",
              " <tf.Tensor: shape=(), dtype=float32, numpy=13.51737>)"
            ]
          },
          "metadata": {},
          "execution_count": 37
        }
      ]
    },
    {
      "cell_type": "code",
      "metadata": {
        "colab": {
          "base_uri": "https://localhost:8080/"
        },
        "id": "FXUPMayYs9t8",
        "outputId": "2e73db56-d19b-4b1d-82e5-7ffcfbb7136d"
      },
      "source": [
        "###create the third model1\n",
        "# 1.set random seed\n",
        "tf.random.set_seed(42)\n",
        "\n",
        "##2.create the model\n",
        "model_2=tf.keras.Sequential([\n",
        "                           tf.keras.layers.Dense(100,activation=\"relu\"),\n",
        "                           tf.keras.layers.Dense(100,activation=\"relu\"),\n",
        "                           tf.keras.layers.Dense(1)\n",
        "])\n",
        "\n",
        "##2.compile the model\n",
        "model_2.compile(loss=tf.keras.losses.mae,\n",
        "              optimizer=tf.keras.optimizers.SGD(),\n",
        "              metrics=[\"mae\"])\n",
        "\n",
        "#3.fit the model\n",
        "model_2.fit(X_train,y_train,epochs=500)"
      ],
      "execution_count": null,
      "outputs": [
        {
          "output_type": "stream",
          "name": "stdout",
          "text": [
            "Epoch 1/500\n",
            "2/2 [==============================] - 0s 2ms/step - loss: 38.8952 - mae: 38.8952\n",
            "Epoch 2/500\n",
            "2/2 [==============================] - 0s 5ms/step - loss: 21.6284 - mae: 21.6284\n",
            "Epoch 3/500\n",
            "2/2 [==============================] - 0s 3ms/step - loss: 14.4901 - mae: 14.4901\n",
            "Epoch 4/500\n",
            "2/2 [==============================] - 0s 3ms/step - loss: 16.4775 - mae: 16.4775\n",
            "Epoch 5/500\n",
            "2/2 [==============================] - 0s 5ms/step - loss: 13.6818 - mae: 13.6818\n",
            "Epoch 6/500\n",
            "2/2 [==============================] - 0s 3ms/step - loss: 18.8250 - mae: 18.8250\n",
            "Epoch 7/500\n",
            "2/2 [==============================] - 0s 4ms/step - loss: 14.3851 - mae: 14.3851\n",
            "Epoch 8/500\n",
            "2/2 [==============================] - 0s 3ms/step - loss: 10.0894 - mae: 10.0894\n",
            "Epoch 9/500\n",
            "2/2 [==============================] - 0s 4ms/step - loss: 26.5707 - mae: 26.5707\n",
            "Epoch 10/500\n",
            "2/2 [==============================] - 0s 3ms/step - loss: 29.9993 - mae: 29.9993\n",
            "Epoch 11/500\n",
            "2/2 [==============================] - 0s 9ms/step - loss: 16.3487 - mae: 16.3487\n",
            "Epoch 12/500\n",
            "2/2 [==============================] - 0s 3ms/step - loss: 21.0099 - mae: 21.0099\n",
            "Epoch 13/500\n",
            "2/2 [==============================] - 0s 5ms/step - loss: 8.0691 - mae: 8.0691\n",
            "Epoch 14/500\n",
            "2/2 [==============================] - 0s 4ms/step - loss: 25.9145 - mae: 25.9145\n",
            "Epoch 15/500\n",
            "2/2 [==============================] - 0s 3ms/step - loss: 15.3711 - mae: 15.3711\n",
            "Epoch 16/500\n",
            "2/2 [==============================] - 0s 5ms/step - loss: 20.2203 - mae: 20.2203\n",
            "Epoch 17/500\n",
            "2/2 [==============================] - 0s 8ms/step - loss: 9.2807 - mae: 9.2807\n",
            "Epoch 18/500\n",
            "2/2 [==============================] - 0s 4ms/step - loss: 16.4473 - mae: 16.4473\n",
            "Epoch 19/500\n",
            "2/2 [==============================] - 0s 4ms/step - loss: 26.9050 - mae: 26.9050\n",
            "Epoch 20/500\n",
            "2/2 [==============================] - 0s 6ms/step - loss: 12.8459 - mae: 12.8459\n",
            "Epoch 21/500\n",
            "2/2 [==============================] - 0s 3ms/step - loss: 22.1207 - mae: 22.1207\n",
            "Epoch 22/500\n",
            "2/2 [==============================] - 0s 4ms/step - loss: 9.5084 - mae: 9.5084\n",
            "Epoch 23/500\n",
            "2/2 [==============================] - 0s 5ms/step - loss: 11.7159 - mae: 11.7159\n",
            "Epoch 24/500\n",
            "2/2 [==============================] - 0s 4ms/step - loss: 17.1945 - mae: 17.1945\n",
            "Epoch 25/500\n",
            "2/2 [==============================] - 0s 8ms/step - loss: 14.5166 - mae: 14.5166\n",
            "Epoch 26/500\n",
            "2/2 [==============================] - 0s 4ms/step - loss: 6.8414 - mae: 6.8414\n",
            "Epoch 27/500\n",
            "2/2 [==============================] - 0s 5ms/step - loss: 12.1019 - mae: 12.1019\n",
            "Epoch 28/500\n",
            "2/2 [==============================] - 0s 4ms/step - loss: 7.9583 - mae: 7.9583\n",
            "Epoch 29/500\n",
            "2/2 [==============================] - 0s 4ms/step - loss: 15.6700 - mae: 15.6700\n",
            "Epoch 30/500\n",
            "2/2 [==============================] - 0s 7ms/step - loss: 26.2645 - mae: 26.2645\n",
            "Epoch 31/500\n",
            "2/2 [==============================] - 0s 3ms/step - loss: 49.6682 - mae: 49.6682\n",
            "Epoch 32/500\n",
            "2/2 [==============================] - 0s 4ms/step - loss: 10.5598 - mae: 10.5598\n",
            "Epoch 33/500\n",
            "2/2 [==============================] - 0s 8ms/step - loss: 20.0947 - mae: 20.0947\n",
            "Epoch 34/500\n",
            "2/2 [==============================] - 0s 4ms/step - loss: 6.8458 - mae: 6.8458\n",
            "Epoch 35/500\n",
            "2/2 [==============================] - 0s 6ms/step - loss: 10.6061 - mae: 10.6061\n",
            "Epoch 36/500\n",
            "2/2 [==============================] - 0s 4ms/step - loss: 26.3514 - mae: 26.3514\n",
            "Epoch 37/500\n",
            "2/2 [==============================] - 0s 8ms/step - loss: 17.1439 - mae: 17.1439\n",
            "Epoch 38/500\n",
            "2/2 [==============================] - 0s 7ms/step - loss: 16.8061 - mae: 16.8061\n",
            "Epoch 39/500\n",
            "2/2 [==============================] - 0s 5ms/step - loss: 9.3976 - mae: 9.3976\n",
            "Epoch 40/500\n",
            "2/2 [==============================] - 0s 7ms/step - loss: 19.7852 - mae: 19.7852\n",
            "Epoch 41/500\n",
            "2/2 [==============================] - 0s 4ms/step - loss: 4.2620 - mae: 4.2620\n",
            "Epoch 42/500\n",
            "2/2 [==============================] - 0s 3ms/step - loss: 24.2293 - mae: 24.2293\n",
            "Epoch 43/500\n",
            "2/2 [==============================] - 0s 3ms/step - loss: 12.0488 - mae: 12.0488\n",
            "Epoch 44/500\n",
            "2/2 [==============================] - 0s 3ms/step - loss: 16.1403 - mae: 16.1403\n",
            "Epoch 45/500\n",
            "2/2 [==============================] - 0s 2ms/step - loss: 10.2384 - mae: 10.2384\n",
            "Epoch 46/500\n",
            "2/2 [==============================] - 0s 3ms/step - loss: 18.1224 - mae: 18.1224\n",
            "Epoch 47/500\n",
            "2/2 [==============================] - 0s 2ms/step - loss: 8.3328 - mae: 8.3328\n",
            "Epoch 48/500\n",
            "2/2 [==============================] - 0s 3ms/step - loss: 14.8293 - mae: 14.8293\n",
            "Epoch 49/500\n",
            "2/2 [==============================] - 0s 3ms/step - loss: 12.4803 - mae: 12.4803\n",
            "Epoch 50/500\n",
            "2/2 [==============================] - 0s 6ms/step - loss: 19.5861 - mae: 19.5861\n",
            "Epoch 51/500\n",
            "2/2 [==============================] - 0s 4ms/step - loss: 10.2988 - mae: 10.2988\n",
            "Epoch 52/500\n",
            "2/2 [==============================] - 0s 4ms/step - loss: 25.7497 - mae: 25.7497\n",
            "Epoch 53/500\n",
            "2/2 [==============================] - 0s 5ms/step - loss: 8.6156 - mae: 8.6156\n",
            "Epoch 54/500\n",
            "2/2 [==============================] - 0s 2ms/step - loss: 31.9660 - mae: 31.9660\n",
            "Epoch 55/500\n",
            "2/2 [==============================] - 0s 2ms/step - loss: 26.1928 - mae: 26.1928\n",
            "Epoch 56/500\n",
            "2/2 [==============================] - 0s 4ms/step - loss: 10.1632 - mae: 10.1632\n",
            "Epoch 57/500\n",
            "2/2 [==============================] - 0s 7ms/step - loss: 16.8819 - mae: 16.8819\n",
            "Epoch 58/500\n",
            "2/2 [==============================] - 0s 10ms/step - loss: 11.3338 - mae: 11.3338\n",
            "Epoch 59/500\n",
            "2/2 [==============================] - 0s 18ms/step - loss: 20.6158 - mae: 20.6158\n",
            "Epoch 60/500\n",
            "2/2 [==============================] - 0s 7ms/step - loss: 5.9869 - mae: 5.9869\n",
            "Epoch 61/500\n",
            "2/2 [==============================] - 0s 4ms/step - loss: 17.7456 - mae: 17.7456\n",
            "Epoch 62/500\n",
            "2/2 [==============================] - 0s 8ms/step - loss: 12.1748 - mae: 12.1748\n",
            "Epoch 63/500\n",
            "2/2 [==============================] - 0s 10ms/step - loss: 12.1373 - mae: 12.1373\n",
            "Epoch 64/500\n",
            "2/2 [==============================] - 0s 14ms/step - loss: 22.4764 - mae: 22.4764\n",
            "Epoch 65/500\n",
            "2/2 [==============================] - 0s 4ms/step - loss: 10.8081 - mae: 10.8081\n",
            "Epoch 66/500\n",
            "2/2 [==============================] - 0s 5ms/step - loss: 21.5782 - mae: 21.5782\n",
            "Epoch 67/500\n",
            "2/2 [==============================] - 0s 4ms/step - loss: 13.3860 - mae: 13.3860\n",
            "Epoch 68/500\n",
            "2/2 [==============================] - 0s 4ms/step - loss: 18.1637 - mae: 18.1637\n",
            "Epoch 69/500\n",
            "2/2 [==============================] - 0s 4ms/step - loss: 12.7815 - mae: 12.7815\n",
            "Epoch 70/500\n",
            "2/2 [==============================] - 0s 7ms/step - loss: 11.9720 - mae: 11.9720\n",
            "Epoch 71/500\n",
            "2/2 [==============================] - 0s 9ms/step - loss: 15.3678 - mae: 15.3678\n",
            "Epoch 72/500\n",
            "2/2 [==============================] - 0s 6ms/step - loss: 13.8381 - mae: 13.8381\n",
            "Epoch 73/500\n",
            "2/2 [==============================] - 0s 6ms/step - loss: 11.0379 - mae: 11.0379\n",
            "Epoch 74/500\n",
            "2/2 [==============================] - 0s 7ms/step - loss: 24.6039 - mae: 24.6039\n",
            "Epoch 75/500\n",
            "2/2 [==============================] - 0s 5ms/step - loss: 10.7204 - mae: 10.7204\n",
            "Epoch 76/500\n",
            "2/2 [==============================] - 0s 6ms/step - loss: 14.7215 - mae: 14.7215\n",
            "Epoch 77/500\n",
            "2/2 [==============================] - 0s 4ms/step - loss: 22.4039 - mae: 22.4039\n",
            "Epoch 78/500\n",
            "2/2 [==============================] - 0s 10ms/step - loss: 8.9195 - mae: 8.9195\n",
            "Epoch 79/500\n",
            "2/2 [==============================] - 0s 5ms/step - loss: 25.9458 - mae: 25.9458\n",
            "Epoch 80/500\n",
            "2/2 [==============================] - 0s 3ms/step - loss: 17.8024 - mae: 17.8024\n",
            "Epoch 81/500\n",
            "2/2 [==============================] - 0s 5ms/step - loss: 9.9747 - mae: 9.9747\n",
            "Epoch 82/500\n",
            "2/2 [==============================] - 0s 4ms/step - loss: 21.0251 - mae: 21.0251\n",
            "Epoch 83/500\n",
            "2/2 [==============================] - 0s 4ms/step - loss: 13.9691 - mae: 13.9691\n",
            "Epoch 84/500\n",
            "2/2 [==============================] - 0s 6ms/step - loss: 10.4910 - mae: 10.4910\n",
            "Epoch 85/500\n",
            "2/2 [==============================] - 0s 5ms/step - loss: 20.6215 - mae: 20.6215\n",
            "Epoch 86/500\n",
            "2/2 [==============================] - 0s 4ms/step - loss: 11.4249 - mae: 11.4249\n",
            "Epoch 87/500\n",
            "2/2 [==============================] - 0s 6ms/step - loss: 22.3555 - mae: 22.3555\n",
            "Epoch 88/500\n",
            "2/2 [==============================] - 0s 4ms/step - loss: 10.5435 - mae: 10.5435\n",
            "Epoch 89/500\n",
            "2/2 [==============================] - 0s 8ms/step - loss: 15.0070 - mae: 15.0070\n",
            "Epoch 90/500\n",
            "2/2 [==============================] - 0s 4ms/step - loss: 22.7592 - mae: 22.7592\n",
            "Epoch 91/500\n",
            "2/2 [==============================] - 0s 6ms/step - loss: 9.4683 - mae: 9.4683\n",
            "Epoch 92/500\n",
            "2/2 [==============================] - 0s 4ms/step - loss: 21.3905 - mae: 21.3905\n",
            "Epoch 93/500\n",
            "2/2 [==============================] - 0s 4ms/step - loss: 11.1134 - mae: 11.1134\n",
            "Epoch 94/500\n",
            "2/2 [==============================] - 0s 4ms/step - loss: 10.3186 - mae: 10.3186\n",
            "Epoch 95/500\n",
            "2/2 [==============================] - 0s 3ms/step - loss: 21.3148 - mae: 21.3148\n",
            "Epoch 96/500\n",
            "2/2 [==============================] - 0s 3ms/step - loss: 5.1835 - mae: 5.1835\n",
            "Epoch 97/500\n",
            "2/2 [==============================] - 0s 4ms/step - loss: 31.6368 - mae: 31.6368\n",
            "Epoch 98/500\n",
            "2/2 [==============================] - 0s 5ms/step - loss: 12.3087 - mae: 12.3087\n",
            "Epoch 99/500\n",
            "2/2 [==============================] - 0s 3ms/step - loss: 14.4728 - mae: 14.4728\n",
            "Epoch 100/500\n",
            "2/2 [==============================] - 0s 3ms/step - loss: 29.1100 - mae: 29.1100\n",
            "Epoch 101/500\n",
            "2/2 [==============================] - 0s 4ms/step - loss: 9.5974 - mae: 9.5974\n",
            "Epoch 102/500\n",
            "2/2 [==============================] - 0s 3ms/step - loss: 18.8328 - mae: 18.8328\n",
            "Epoch 103/500\n",
            "2/2 [==============================] - 0s 3ms/step - loss: 7.5190 - mae: 7.5190\n",
            "Epoch 104/500\n",
            "2/2 [==============================] - 0s 3ms/step - loss: 24.9185 - mae: 24.9185\n",
            "Epoch 105/500\n",
            "2/2 [==============================] - 0s 3ms/step - loss: 8.2602 - mae: 8.2602\n",
            "Epoch 106/500\n",
            "2/2 [==============================] - 0s 5ms/step - loss: 15.1561 - mae: 15.1561\n",
            "Epoch 107/500\n",
            "2/2 [==============================] - 0s 3ms/step - loss: 23.6999 - mae: 23.6999\n",
            "Epoch 108/500\n",
            "2/2 [==============================] - 0s 3ms/step - loss: 9.5551 - mae: 9.5551\n",
            "Epoch 109/500\n",
            "2/2 [==============================] - 0s 3ms/step - loss: 18.6432 - mae: 18.6432\n",
            "Epoch 110/500\n",
            "2/2 [==============================] - 0s 3ms/step - loss: 7.2081 - mae: 7.2081\n",
            "Epoch 111/500\n",
            "2/2 [==============================] - 0s 7ms/step - loss: 15.8829 - mae: 15.8829\n",
            "Epoch 112/500\n",
            "2/2 [==============================] - 0s 3ms/step - loss: 10.5201 - mae: 10.5201\n",
            "Epoch 113/500\n",
            "2/2 [==============================] - 0s 3ms/step - loss: 8.5891 - mae: 8.5891\n",
            "Epoch 114/500\n",
            "2/2 [==============================] - 0s 6ms/step - loss: 24.2266 - mae: 24.2266\n",
            "Epoch 115/500\n",
            "2/2 [==============================] - 0s 4ms/step - loss: 20.0990 - mae: 20.0990\n",
            "Epoch 116/500\n",
            "2/2 [==============================] - 0s 4ms/step - loss: 11.9744 - mae: 11.9744\n",
            "Epoch 117/500\n",
            "2/2 [==============================] - 0s 6ms/step - loss: 13.0794 - mae: 13.0794\n",
            "Epoch 118/500\n",
            "2/2 [==============================] - 0s 3ms/step - loss: 26.1955 - mae: 26.1955\n",
            "Epoch 119/500\n",
            "2/2 [==============================] - 0s 6ms/step - loss: 12.9101 - mae: 12.9101\n",
            "Epoch 120/500\n",
            "2/2 [==============================] - 0s 5ms/step - loss: 51.3907 - mae: 51.3907\n",
            "Epoch 121/500\n",
            "2/2 [==============================] - 0s 5ms/step - loss: 8.3135 - mae: 8.3135\n",
            "Epoch 122/500\n",
            "2/2 [==============================] - 0s 4ms/step - loss: 29.4499 - mae: 29.4499\n",
            "Epoch 123/500\n",
            "2/2 [==============================] - 0s 4ms/step - loss: 22.5817 - mae: 22.5817\n",
            "Epoch 124/500\n",
            "2/2 [==============================] - 0s 3ms/step - loss: 10.6758 - mae: 10.6758\n",
            "Epoch 125/500\n",
            "2/2 [==============================] - 0s 7ms/step - loss: 15.8287 - mae: 15.8287\n",
            "Epoch 126/500\n",
            "2/2 [==============================] - 0s 4ms/step - loss: 20.6486 - mae: 20.6486\n",
            "Epoch 127/500\n",
            "2/2 [==============================] - 0s 5ms/step - loss: 11.9351 - mae: 11.9351\n",
            "Epoch 128/500\n",
            "2/2 [==============================] - 0s 3ms/step - loss: 23.8556 - mae: 23.8556\n",
            "Epoch 129/500\n",
            "2/2 [==============================] - 0s 6ms/step - loss: 15.1645 - mae: 15.1645\n",
            "Epoch 130/500\n",
            "2/2 [==============================] - 0s 6ms/step - loss: 14.3010 - mae: 14.3010\n",
            "Epoch 131/500\n",
            "2/2 [==============================] - 0s 9ms/step - loss: 8.8245 - mae: 8.8245\n",
            "Epoch 132/500\n",
            "2/2 [==============================] - 0s 7ms/step - loss: 22.2111 - mae: 22.2111\n",
            "Epoch 133/500\n",
            "2/2 [==============================] - 0s 4ms/step - loss: 9.9942 - mae: 9.9942\n",
            "Epoch 134/500\n",
            "2/2 [==============================] - 0s 6ms/step - loss: 24.9526 - mae: 24.9526\n",
            "Epoch 135/500\n",
            "2/2 [==============================] - 0s 4ms/step - loss: 15.2047 - mae: 15.2047\n",
            "Epoch 136/500\n",
            "2/2 [==============================] - 0s 7ms/step - loss: 10.0076 - mae: 10.0076\n",
            "Epoch 137/500\n",
            "2/2 [==============================] - 0s 16ms/step - loss: 25.0180 - mae: 25.0180\n",
            "Epoch 138/500\n",
            "2/2 [==============================] - 0s 4ms/step - loss: 15.5038 - mae: 15.5038\n",
            "Epoch 139/500\n",
            "2/2 [==============================] - 0s 3ms/step - loss: 15.3877 - mae: 15.3877\n",
            "Epoch 140/500\n",
            "2/2 [==============================] - 0s 3ms/step - loss: 19.9945 - mae: 19.9945\n",
            "Epoch 141/500\n",
            "2/2 [==============================] - 0s 3ms/step - loss: 10.8106 - mae: 10.8106\n",
            "Epoch 142/500\n",
            "2/2 [==============================] - 0s 4ms/step - loss: 12.3746 - mae: 12.3746\n",
            "Epoch 143/500\n",
            "2/2 [==============================] - 0s 4ms/step - loss: 7.1442 - mae: 7.1442\n",
            "Epoch 144/500\n",
            "2/2 [==============================] - 0s 12ms/step - loss: 13.7706 - mae: 13.7706\n",
            "Epoch 145/500\n",
            "2/2 [==============================] - 0s 11ms/step - loss: 24.7062 - mae: 24.7062\n",
            "Epoch 146/500\n",
            "2/2 [==============================] - 0s 5ms/step - loss: 16.5463 - mae: 16.5463\n",
            "Epoch 147/500\n",
            "2/2 [==============================] - 0s 5ms/step - loss: 11.5556 - mae: 11.5556\n",
            "Epoch 148/500\n",
            "2/2 [==============================] - 0s 5ms/step - loss: 21.5740 - mae: 21.5740\n",
            "Epoch 149/500\n",
            "2/2 [==============================] - 0s 4ms/step - loss: 14.8844 - mae: 14.8844\n",
            "Epoch 150/500\n",
            "2/2 [==============================] - 0s 11ms/step - loss: 10.7988 - mae: 10.7988\n",
            "Epoch 151/500\n",
            "2/2 [==============================] - 0s 5ms/step - loss: 25.0259 - mae: 25.0259\n",
            "Epoch 152/500\n",
            "2/2 [==============================] - 0s 7ms/step - loss: 18.3749 - mae: 18.3749\n",
            "Epoch 153/500\n",
            "2/2 [==============================] - 0s 7ms/step - loss: 17.8900 - mae: 17.8900\n",
            "Epoch 154/500\n",
            "2/2 [==============================] - 0s 10ms/step - loss: 16.5232 - mae: 16.5232\n",
            "Epoch 155/500\n",
            "2/2 [==============================] - 0s 6ms/step - loss: 13.0832 - mae: 13.0832\n",
            "Epoch 156/500\n",
            "2/2 [==============================] - 0s 5ms/step - loss: 7.2037 - mae: 7.2037\n",
            "Epoch 157/500\n",
            "2/2 [==============================] - 0s 4ms/step - loss: 24.1685 - mae: 24.1685\n",
            "Epoch 158/500\n",
            "2/2 [==============================] - 0s 6ms/step - loss: 18.4350 - mae: 18.4350\n",
            "Epoch 159/500\n",
            "2/2 [==============================] - 0s 7ms/step - loss: 7.0919 - mae: 7.0919\n",
            "Epoch 160/500\n",
            "2/2 [==============================] - 0s 4ms/step - loss: 22.8446 - mae: 22.8446\n",
            "Epoch 161/500\n",
            "2/2 [==============================] - 0s 4ms/step - loss: 11.3548 - mae: 11.3548\n",
            "Epoch 162/500\n",
            "2/2 [==============================] - 0s 3ms/step - loss: 23.6935 - mae: 23.6935\n",
            "Epoch 163/500\n",
            "2/2 [==============================] - 0s 3ms/step - loss: 9.9116 - mae: 9.9116\n",
            "Epoch 164/500\n",
            "2/2 [==============================] - 0s 3ms/step - loss: 19.2935 - mae: 19.2935\n",
            "Epoch 165/500\n",
            "2/2 [==============================] - 0s 7ms/step - loss: 10.3505 - mae: 10.3505\n",
            "Epoch 166/500\n",
            "2/2 [==============================] - 0s 5ms/step - loss: 18.1238 - mae: 18.1238\n",
            "Epoch 167/500\n",
            "2/2 [==============================] - 0s 7ms/step - loss: 22.6466 - mae: 22.6466\n",
            "Epoch 168/500\n",
            "2/2 [==============================] - 0s 3ms/step - loss: 11.7030 - mae: 11.7030\n",
            "Epoch 169/500\n",
            "2/2 [==============================] - 0s 6ms/step - loss: 19.9712 - mae: 19.9712\n",
            "Epoch 170/500\n",
            "2/2 [==============================] - 0s 5ms/step - loss: 9.4293 - mae: 9.4293\n",
            "Epoch 171/500\n",
            "2/2 [==============================] - 0s 4ms/step - loss: 19.1530 - mae: 19.1530\n",
            "Epoch 172/500\n",
            "2/2 [==============================] - 0s 16ms/step - loss: 9.6674 - mae: 9.6674\n",
            "Epoch 173/500\n",
            "2/2 [==============================] - 0s 6ms/step - loss: 22.9403 - mae: 22.9403\n",
            "Epoch 174/500\n",
            "2/2 [==============================] - 0s 4ms/step - loss: 11.5654 - mae: 11.5654\n",
            "Epoch 175/500\n",
            "2/2 [==============================] - 0s 6ms/step - loss: 26.8300 - mae: 26.8300\n",
            "Epoch 176/500\n",
            "2/2 [==============================] - 0s 3ms/step - loss: 8.9129 - mae: 8.9129\n",
            "Epoch 177/500\n",
            "2/2 [==============================] - 0s 12ms/step - loss: 10.4324 - mae: 10.4324\n",
            "Epoch 178/500\n",
            "2/2 [==============================] - 0s 6ms/step - loss: 19.5973 - mae: 19.5973\n",
            "Epoch 179/500\n",
            "2/2 [==============================] - 0s 10ms/step - loss: 5.2669 - mae: 5.2669\n",
            "Epoch 180/500\n",
            "2/2 [==============================] - 0s 9ms/step - loss: 8.4538 - mae: 8.4538\n",
            "Epoch 181/500\n",
            "2/2 [==============================] - 0s 6ms/step - loss: 26.8650 - mae: 26.8650\n",
            "Epoch 182/500\n",
            "2/2 [==============================] - 0s 8ms/step - loss: 9.1350 - mae: 9.1350\n",
            "Epoch 183/500\n",
            "2/2 [==============================] - 0s 3ms/step - loss: 16.3089 - mae: 16.3089\n",
            "Epoch 184/500\n",
            "2/2 [==============================] - 0s 6ms/step - loss: 46.0717 - mae: 46.0717\n",
            "Epoch 185/500\n",
            "2/2 [==============================] - 0s 7ms/step - loss: 10.4186 - mae: 10.4186\n",
            "Epoch 186/500\n",
            "2/2 [==============================] - 0s 5ms/step - loss: 20.9578 - mae: 20.9578\n",
            "Epoch 187/500\n",
            "2/2 [==============================] - 0s 3ms/step - loss: 12.5122 - mae: 12.5122\n",
            "Epoch 188/500\n",
            "2/2 [==============================] - 0s 4ms/step - loss: 24.0336 - mae: 24.0336\n",
            "Epoch 189/500\n",
            "2/2 [==============================] - 0s 3ms/step - loss: 18.2824 - mae: 18.2824\n",
            "Epoch 190/500\n",
            "2/2 [==============================] - 0s 3ms/step - loss: 12.3693 - mae: 12.3693\n",
            "Epoch 191/500\n",
            "2/2 [==============================] - 0s 5ms/step - loss: 13.8898 - mae: 13.8898\n",
            "Epoch 192/500\n",
            "2/2 [==============================] - 0s 3ms/step - loss: 12.6429 - mae: 12.6429\n",
            "Epoch 193/500\n",
            "2/2 [==============================] - 0s 5ms/step - loss: 17.1484 - mae: 17.1484\n",
            "Epoch 194/500\n",
            "2/2 [==============================] - 0s 3ms/step - loss: 10.1000 - mae: 10.1000\n",
            "Epoch 195/500\n",
            "2/2 [==============================] - 0s 15ms/step - loss: 14.3300 - mae: 14.3300\n",
            "Epoch 196/500\n",
            "2/2 [==============================] - 0s 9ms/step - loss: 20.1435 - mae: 20.1435\n",
            "Epoch 197/500\n",
            "2/2 [==============================] - 0s 11ms/step - loss: 18.7572 - mae: 18.7572\n",
            "Epoch 198/500\n",
            "2/2 [==============================] - 0s 4ms/step - loss: 15.8676 - mae: 15.8676\n",
            "Epoch 199/500\n",
            "2/2 [==============================] - 0s 3ms/step - loss: 11.2377 - mae: 11.2377\n",
            "Epoch 200/500\n",
            "2/2 [==============================] - 0s 4ms/step - loss: 12.0111 - mae: 12.0111\n",
            "Epoch 201/500\n",
            "2/2 [==============================] - 0s 5ms/step - loss: 12.8329 - mae: 12.8329\n",
            "Epoch 202/500\n",
            "2/2 [==============================] - 0s 7ms/step - loss: 36.2720 - mae: 36.2720\n",
            "Epoch 203/500\n",
            "2/2 [==============================] - 0s 10ms/step - loss: 9.4759 - mae: 9.4759\n",
            "Epoch 204/500\n",
            "2/2 [==============================] - 0s 8ms/step - loss: 23.3755 - mae: 23.3755\n",
            "Epoch 205/500\n",
            "2/2 [==============================] - 0s 6ms/step - loss: 5.6413 - mae: 5.6413\n",
            "Epoch 206/500\n",
            "2/2 [==============================] - 0s 11ms/step - loss: 16.5662 - mae: 16.5662\n",
            "Epoch 207/500\n",
            "2/2 [==============================] - 0s 3ms/step - loss: 21.4995 - mae: 21.4995\n",
            "Epoch 208/500\n",
            "2/2 [==============================] - 0s 4ms/step - loss: 10.8545 - mae: 10.8545\n",
            "Epoch 209/500\n",
            "2/2 [==============================] - 0s 3ms/step - loss: 14.8457 - mae: 14.8457\n",
            "Epoch 210/500\n",
            "2/2 [==============================] - 0s 3ms/step - loss: 26.2008 - mae: 26.2008\n",
            "Epoch 211/500\n",
            "2/2 [==============================] - 0s 2ms/step - loss: 22.7829 - mae: 22.7829\n",
            "Epoch 212/500\n",
            "2/2 [==============================] - 0s 10ms/step - loss: 13.7806 - mae: 13.7806\n",
            "Epoch 213/500\n",
            "2/2 [==============================] - 0s 2ms/step - loss: 13.4630 - mae: 13.4630\n",
            "Epoch 214/500\n",
            "2/2 [==============================] - 0s 13ms/step - loss: 24.8070 - mae: 24.8070\n",
            "Epoch 215/500\n",
            "2/2 [==============================] - 0s 4ms/step - loss: 7.8576 - mae: 7.8576\n",
            "Epoch 216/500\n",
            "2/2 [==============================] - 0s 3ms/step - loss: 14.9884 - mae: 14.9884\n",
            "Epoch 217/500\n",
            "2/2 [==============================] - 0s 3ms/step - loss: 25.1652 - mae: 25.1652\n",
            "Epoch 218/500\n",
            "2/2 [==============================] - 0s 3ms/step - loss: 19.9155 - mae: 19.9155\n",
            "Epoch 219/500\n",
            "2/2 [==============================] - 0s 4ms/step - loss: 11.0138 - mae: 11.0138\n",
            "Epoch 220/500\n",
            "2/2 [==============================] - 0s 13ms/step - loss: 14.3032 - mae: 14.3032\n",
            "Epoch 221/500\n",
            "2/2 [==============================] - 0s 4ms/step - loss: 42.2693 - mae: 42.2693\n",
            "Epoch 222/500\n",
            "2/2 [==============================] - 0s 5ms/step - loss: 18.2231 - mae: 18.2231\n",
            "Epoch 223/500\n",
            "2/2 [==============================] - 0s 3ms/step - loss: 15.8908 - mae: 15.8908\n",
            "Epoch 224/500\n",
            "2/2 [==============================] - 0s 6ms/step - loss: 13.6331 - mae: 13.6331\n",
            "Epoch 225/500\n",
            "2/2 [==============================] - 0s 11ms/step - loss: 12.9863 - mae: 12.9863\n",
            "Epoch 226/500\n",
            "2/2 [==============================] - 0s 4ms/step - loss: 17.9902 - mae: 17.9902\n",
            "Epoch 227/500\n",
            "2/2 [==============================] - 0s 6ms/step - loss: 15.8429 - mae: 15.8429\n",
            "Epoch 228/500\n",
            "2/2 [==============================] - 0s 5ms/step - loss: 12.8411 - mae: 12.8411\n",
            "Epoch 229/500\n",
            "2/2 [==============================] - 0s 3ms/step - loss: 16.9671 - mae: 16.9671\n",
            "Epoch 230/500\n",
            "2/2 [==============================] - 0s 3ms/step - loss: 16.5942 - mae: 16.5942\n",
            "Epoch 231/500\n",
            "2/2 [==============================] - 0s 3ms/step - loss: 20.8907 - mae: 20.8907\n",
            "Epoch 232/500\n",
            "2/2 [==============================] - 0s 15ms/step - loss: 11.5457 - mae: 11.5457\n",
            "Epoch 233/500\n",
            "2/2 [==============================] - 0s 17ms/step - loss: 23.4274 - mae: 23.4274\n",
            "Epoch 234/500\n",
            "2/2 [==============================] - 0s 10ms/step - loss: 11.9629 - mae: 11.9629\n",
            "Epoch 235/500\n",
            "2/2 [==============================] - 0s 5ms/step - loss: 21.7044 - mae: 21.7044\n",
            "Epoch 236/500\n",
            "2/2 [==============================] - 0s 12ms/step - loss: 15.6690 - mae: 15.6690\n",
            "Epoch 237/500\n",
            "2/2 [==============================] - 0s 10ms/step - loss: 15.5332 - mae: 15.5332\n",
            "Epoch 238/500\n",
            "2/2 [==============================] - 0s 6ms/step - loss: 10.3499 - mae: 10.3499\n",
            "Epoch 239/500\n",
            "2/2 [==============================] - 0s 5ms/step - loss: 20.2295 - mae: 20.2295\n",
            "Epoch 240/500\n",
            "2/2 [==============================] - 0s 6ms/step - loss: 6.8574 - mae: 6.8574\n",
            "Epoch 241/500\n",
            "2/2 [==============================] - 0s 6ms/step - loss: 15.7750 - mae: 15.7750\n",
            "Epoch 242/500\n",
            "2/2 [==============================] - 0s 6ms/step - loss: 19.1888 - mae: 19.1888\n",
            "Epoch 243/500\n",
            "2/2 [==============================] - 0s 4ms/step - loss: 13.6310 - mae: 13.6310\n",
            "Epoch 244/500\n",
            "2/2 [==============================] - 0s 5ms/step - loss: 19.2241 - mae: 19.2241\n",
            "Epoch 245/500\n",
            "2/2 [==============================] - 0s 5ms/step - loss: 10.1027 - mae: 10.1027\n",
            "Epoch 246/500\n",
            "2/2 [==============================] - 0s 4ms/step - loss: 14.8421 - mae: 14.8421\n",
            "Epoch 247/500\n",
            "2/2 [==============================] - 0s 3ms/step - loss: 34.5342 - mae: 34.5342\n",
            "Epoch 248/500\n",
            "2/2 [==============================] - 0s 5ms/step - loss: 10.8209 - mae: 10.8209\n",
            "Epoch 249/500\n",
            "2/2 [==============================] - 0s 4ms/step - loss: 13.5807 - mae: 13.5807\n",
            "Epoch 250/500\n",
            "2/2 [==============================] - 0s 3ms/step - loss: 22.3674 - mae: 22.3674\n",
            "Epoch 251/500\n",
            "2/2 [==============================] - 0s 4ms/step - loss: 7.9852 - mae: 7.9852\n",
            "Epoch 252/500\n",
            "2/2 [==============================] - 0s 5ms/step - loss: 26.0969 - mae: 26.0969\n",
            "Epoch 253/500\n",
            "2/2 [==============================] - 0s 5ms/step - loss: 25.6807 - mae: 25.6807\n",
            "Epoch 254/500\n",
            "2/2 [==============================] - 0s 5ms/step - loss: 17.6552 - mae: 17.6552\n",
            "Epoch 255/500\n",
            "2/2 [==============================] - 0s 4ms/step - loss: 27.5934 - mae: 27.5934\n",
            "Epoch 256/500\n",
            "2/2 [==============================] - 0s 2ms/step - loss: 12.0650 - mae: 12.0650\n",
            "Epoch 257/500\n",
            "2/2 [==============================] - 0s 3ms/step - loss: 12.1269 - mae: 12.1269\n",
            "Epoch 258/500\n",
            "2/2 [==============================] - 0s 4ms/step - loss: 16.4080 - mae: 16.4080\n",
            "Epoch 259/500\n",
            "2/2 [==============================] - 0s 3ms/step - loss: 22.2188 - mae: 22.2188\n",
            "Epoch 260/500\n",
            "2/2 [==============================] - 0s 4ms/step - loss: 24.3216 - mae: 24.3216\n",
            "Epoch 261/500\n",
            "2/2 [==============================] - 0s 4ms/step - loss: 4.0085 - mae: 4.0085\n",
            "Epoch 262/500\n",
            "2/2 [==============================] - 0s 3ms/step - loss: 11.2854 - mae: 11.2854\n",
            "Epoch 263/500\n",
            "2/2 [==============================] - 0s 3ms/step - loss: 10.2476 - mae: 10.2476\n",
            "Epoch 264/500\n",
            "2/2 [==============================] - 0s 3ms/step - loss: 18.8844 - mae: 18.8844\n",
            "Epoch 265/500\n",
            "2/2 [==============================] - 0s 2ms/step - loss: 11.2022 - mae: 11.2022\n",
            "Epoch 266/500\n",
            "2/2 [==============================] - 0s 4ms/step - loss: 9.0622 - mae: 9.0622\n",
            "Epoch 267/500\n",
            "2/2 [==============================] - 0s 9ms/step - loss: 9.6045 - mae: 9.6045\n",
            "Epoch 268/500\n",
            "2/2 [==============================] - 0s 3ms/step - loss: 20.0080 - mae: 20.0080\n",
            "Epoch 269/500\n",
            "2/2 [==============================] - 0s 3ms/step - loss: 10.0653 - mae: 10.0653\n",
            "Epoch 270/500\n",
            "2/2 [==============================] - 0s 3ms/step - loss: 11.9711 - mae: 11.9711\n",
            "Epoch 271/500\n",
            "2/2 [==============================] - 0s 5ms/step - loss: 8.9870 - mae: 8.9870\n",
            "Epoch 272/500\n",
            "2/2 [==============================] - 0s 2ms/step - loss: 23.8150 - mae: 23.8150\n",
            "Epoch 273/500\n",
            "2/2 [==============================] - 0s 4ms/step - loss: 18.7034 - mae: 18.7034\n",
            "Epoch 274/500\n",
            "2/2 [==============================] - 0s 3ms/step - loss: 13.1297 - mae: 13.1297\n",
            "Epoch 275/500\n",
            "2/2 [==============================] - 0s 17ms/step - loss: 16.5071 - mae: 16.5071\n",
            "Epoch 276/500\n",
            "2/2 [==============================] - 0s 6ms/step - loss: 9.7305 - mae: 9.7305\n",
            "Epoch 277/500\n",
            "2/2 [==============================] - 0s 10ms/step - loss: 15.6834 - mae: 15.6834\n",
            "Epoch 278/500\n",
            "2/2 [==============================] - 0s 6ms/step - loss: 7.9984 - mae: 7.9984\n",
            "Epoch 279/500\n",
            "2/2 [==============================] - 0s 8ms/step - loss: 10.6575 - mae: 10.6575\n",
            "Epoch 280/500\n",
            "2/2 [==============================] - 0s 4ms/step - loss: 22.6561 - mae: 22.6561\n",
            "Epoch 281/500\n",
            "2/2 [==============================] - 0s 4ms/step - loss: 13.9253 - mae: 13.9253\n",
            "Epoch 282/500\n",
            "2/2 [==============================] - 0s 3ms/step - loss: 12.1076 - mae: 12.1076\n",
            "Epoch 283/500\n",
            "2/2 [==============================] - 0s 6ms/step - loss: 12.0979 - mae: 12.0979\n",
            "Epoch 284/500\n",
            "2/2 [==============================] - 0s 4ms/step - loss: 6.0582 - mae: 6.0582\n",
            "Epoch 285/500\n",
            "2/2 [==============================] - 0s 3ms/step - loss: 21.7160 - mae: 21.7160\n",
            "Epoch 286/500\n",
            "2/2 [==============================] - 0s 5ms/step - loss: 8.4750 - mae: 8.4750\n",
            "Epoch 287/500\n",
            "2/2 [==============================] - 0s 3ms/step - loss: 21.7380 - mae: 21.7380\n",
            "Epoch 288/500\n",
            "2/2 [==============================] - 0s 3ms/step - loss: 14.7782 - mae: 14.7782\n",
            "Epoch 289/500\n",
            "2/2 [==============================] - 0s 3ms/step - loss: 13.0882 - mae: 13.0882\n",
            "Epoch 290/500\n",
            "2/2 [==============================] - 0s 3ms/step - loss: 13.2349 - mae: 13.2349\n",
            "Epoch 291/500\n",
            "2/2 [==============================] - 0s 3ms/step - loss: 11.3417 - mae: 11.3417\n",
            "Epoch 292/500\n",
            "2/2 [==============================] - 0s 3ms/step - loss: 12.3732 - mae: 12.3732\n",
            "Epoch 293/500\n",
            "2/2 [==============================] - 0s 7ms/step - loss: 5.9956 - mae: 5.9956\n",
            "Epoch 294/500\n",
            "2/2 [==============================] - 0s 8ms/step - loss: 34.6606 - mae: 34.6606\n",
            "Epoch 295/500\n",
            "2/2 [==============================] - 0s 3ms/step - loss: 11.9156 - mae: 11.9156\n",
            "Epoch 296/500\n",
            "2/2 [==============================] - 0s 3ms/step - loss: 18.5063 - mae: 18.5063\n",
            "Epoch 297/500\n",
            "2/2 [==============================] - 0s 3ms/step - loss: 5.6001 - mae: 5.6001\n",
            "Epoch 298/500\n",
            "2/2 [==============================] - 0s 4ms/step - loss: 24.5978 - mae: 24.5978\n",
            "Epoch 299/500\n",
            "2/2 [==============================] - 0s 3ms/step - loss: 8.0883 - mae: 8.0883\n",
            "Epoch 300/500\n",
            "2/2 [==============================] - 0s 5ms/step - loss: 22.2674 - mae: 22.2674\n",
            "Epoch 301/500\n",
            "2/2 [==============================] - 0s 11ms/step - loss: 12.1226 - mae: 12.1226\n",
            "Epoch 302/500\n",
            "2/2 [==============================] - 0s 6ms/step - loss: 17.4457 - mae: 17.4457\n",
            "Epoch 303/500\n",
            "2/2 [==============================] - 0s 2ms/step - loss: 12.5034 - mae: 12.5034\n",
            "Epoch 304/500\n",
            "2/2 [==============================] - 0s 5ms/step - loss: 17.7509 - mae: 17.7509\n",
            "Epoch 305/500\n",
            "2/2 [==============================] - 0s 7ms/step - loss: 14.6074 - mae: 14.6074\n",
            "Epoch 306/500\n",
            "2/2 [==============================] - 0s 6ms/step - loss: 11.5934 - mae: 11.5934\n",
            "Epoch 307/500\n",
            "2/2 [==============================] - 0s 3ms/step - loss: 13.2405 - mae: 13.2405\n",
            "Epoch 308/500\n",
            "2/2 [==============================] - 0s 6ms/step - loss: 19.9150 - mae: 19.9150\n",
            "Epoch 309/500\n",
            "2/2 [==============================] - 0s 7ms/step - loss: 13.9719 - mae: 13.9719\n",
            "Epoch 310/500\n",
            "2/2 [==============================] - 0s 6ms/step - loss: 11.2632 - mae: 11.2632\n",
            "Epoch 311/500\n",
            "2/2 [==============================] - 0s 6ms/step - loss: 9.4686 - mae: 9.4686\n",
            "Epoch 312/500\n",
            "2/2 [==============================] - 0s 3ms/step - loss: 26.0571 - mae: 26.0571\n",
            "Epoch 313/500\n",
            "2/2 [==============================] - 0s 9ms/step - loss: 21.2175 - mae: 21.2175\n",
            "Epoch 314/500\n",
            "2/2 [==============================] - 0s 8ms/step - loss: 11.5286 - mae: 11.5286\n",
            "Epoch 315/500\n",
            "2/2 [==============================] - 0s 5ms/step - loss: 38.6122 - mae: 38.6122\n",
            "Epoch 316/500\n",
            "2/2 [==============================] - 0s 7ms/step - loss: 10.0279 - mae: 10.0279\n",
            "Epoch 317/500\n",
            "2/2 [==============================] - 0s 3ms/step - loss: 25.4090 - mae: 25.4090\n",
            "Epoch 318/500\n",
            "2/2 [==============================] - 0s 11ms/step - loss: 26.1771 - mae: 26.1771\n",
            "Epoch 319/500\n",
            "2/2 [==============================] - 0s 9ms/step - loss: 12.4314 - mae: 12.4314\n",
            "Epoch 320/500\n",
            "2/2 [==============================] - 0s 4ms/step - loss: 21.0196 - mae: 21.0196\n",
            "Epoch 321/500\n",
            "2/2 [==============================] - 0s 14ms/step - loss: 5.3801 - mae: 5.3801\n",
            "Epoch 322/500\n",
            "2/2 [==============================] - 0s 7ms/step - loss: 15.2062 - mae: 15.2062\n",
            "Epoch 323/500\n",
            "2/2 [==============================] - 0s 5ms/step - loss: 15.8984 - mae: 15.8984\n",
            "Epoch 324/500\n",
            "2/2 [==============================] - 0s 5ms/step - loss: 14.7789 - mae: 14.7789\n",
            "Epoch 325/500\n",
            "2/2 [==============================] - 0s 9ms/step - loss: 9.8218 - mae: 9.8218\n",
            "Epoch 326/500\n",
            "2/2 [==============================] - 0s 7ms/step - loss: 16.7923 - mae: 16.7923\n",
            "Epoch 327/500\n",
            "2/2 [==============================] - 0s 6ms/step - loss: 20.0313 - mae: 20.0313\n",
            "Epoch 328/500\n",
            "2/2 [==============================] - 0s 10ms/step - loss: 15.6571 - mae: 15.6571\n",
            "Epoch 329/500\n",
            "2/2 [==============================] - 0s 5ms/step - loss: 15.0973 - mae: 15.0973\n",
            "Epoch 330/500\n",
            "2/2 [==============================] - 0s 3ms/step - loss: 13.1349 - mae: 13.1349\n",
            "Epoch 331/500\n",
            "2/2 [==============================] - 0s 5ms/step - loss: 28.3178 - mae: 28.3178\n",
            "Epoch 332/500\n",
            "2/2 [==============================] - 0s 3ms/step - loss: 11.4046 - mae: 11.4046\n",
            "Epoch 333/500\n",
            "2/2 [==============================] - 0s 6ms/step - loss: 14.1663 - mae: 14.1663\n",
            "Epoch 334/500\n",
            "2/2 [==============================] - 0s 3ms/step - loss: 12.1970 - mae: 12.1970\n",
            "Epoch 335/500\n",
            "2/2 [==============================] - 0s 5ms/step - loss: 10.0189 - mae: 10.0189\n",
            "Epoch 336/500\n",
            "2/2 [==============================] - 0s 4ms/step - loss: 61.1097 - mae: 61.1097\n",
            "Epoch 337/500\n",
            "2/2 [==============================] - 0s 4ms/step - loss: 17.0303 - mae: 17.0303\n",
            "Epoch 338/500\n",
            "2/2 [==============================] - 0s 9ms/step - loss: 17.3941 - mae: 17.3941\n",
            "Epoch 339/500\n",
            "2/2 [==============================] - 0s 5ms/step - loss: 29.3668 - mae: 29.3668\n",
            "Epoch 340/500\n",
            "2/2 [==============================] - 0s 4ms/step - loss: 13.0362 - mae: 13.0362\n",
            "Epoch 341/500\n",
            "2/2 [==============================] - 0s 2ms/step - loss: 19.8949 - mae: 19.8949\n",
            "Epoch 342/500\n",
            "2/2 [==============================] - 0s 3ms/step - loss: 7.4871 - mae: 7.4871\n",
            "Epoch 343/500\n",
            "2/2 [==============================] - 0s 3ms/step - loss: 9.9993 - mae: 9.9993\n",
            "Epoch 344/500\n",
            "2/2 [==============================] - 0s 5ms/step - loss: 20.1673 - mae: 20.1673\n",
            "Epoch 345/500\n",
            "2/2 [==============================] - 0s 11ms/step - loss: 20.0056 - mae: 20.0056\n",
            "Epoch 346/500\n",
            "2/2 [==============================] - 0s 6ms/step - loss: 10.8755 - mae: 10.8755\n",
            "Epoch 347/500\n",
            "2/2 [==============================] - 0s 4ms/step - loss: 22.4828 - mae: 22.4828\n",
            "Epoch 348/500\n",
            "2/2 [==============================] - 0s 4ms/step - loss: 12.1925 - mae: 12.1925\n",
            "Epoch 349/500\n",
            "2/2 [==============================] - 0s 5ms/step - loss: 12.9307 - mae: 12.9307\n",
            "Epoch 350/500\n",
            "2/2 [==============================] - 0s 4ms/step - loss: 8.1382 - mae: 8.1382\n",
            "Epoch 351/500\n",
            "2/2 [==============================] - 0s 19ms/step - loss: 26.8818 - mae: 26.8818\n",
            "Epoch 352/500\n",
            "2/2 [==============================] - 0s 8ms/step - loss: 24.8332 - mae: 24.8332\n",
            "Epoch 353/500\n",
            "2/2 [==============================] - 0s 14ms/step - loss: 17.7665 - mae: 17.7665\n",
            "Epoch 354/500\n",
            "2/2 [==============================] - 0s 5ms/step - loss: 11.2805 - mae: 11.2805\n",
            "Epoch 355/500\n",
            "2/2 [==============================] - 0s 3ms/step - loss: 12.1787 - mae: 12.1787\n",
            "Epoch 356/500\n",
            "2/2 [==============================] - 0s 4ms/step - loss: 12.2741 - mae: 12.2741\n",
            "Epoch 357/500\n",
            "2/2 [==============================] - 0s 4ms/step - loss: 24.3205 - mae: 24.3205\n",
            "Epoch 358/500\n",
            "2/2 [==============================] - 0s 3ms/step - loss: 11.1733 - mae: 11.1733\n",
            "Epoch 359/500\n",
            "2/2 [==============================] - 0s 3ms/step - loss: 15.4527 - mae: 15.4527\n",
            "Epoch 360/500\n",
            "2/2 [==============================] - 0s 3ms/step - loss: 22.8511 - mae: 22.8511\n",
            "Epoch 361/500\n",
            "2/2 [==============================] - 0s 4ms/step - loss: 13.9384 - mae: 13.9384\n",
            "Epoch 362/500\n",
            "2/2 [==============================] - 0s 4ms/step - loss: 13.7929 - mae: 13.7929\n",
            "Epoch 363/500\n",
            "2/2 [==============================] - 0s 6ms/step - loss: 10.7057 - mae: 10.7057\n",
            "Epoch 364/500\n",
            "2/2 [==============================] - 0s 7ms/step - loss: 11.7993 - mae: 11.7993\n",
            "Epoch 365/500\n",
            "2/2 [==============================] - 0s 5ms/step - loss: 13.5882 - mae: 13.5882\n",
            "Epoch 366/500\n",
            "2/2 [==============================] - 0s 7ms/step - loss: 9.9136 - mae: 9.9136\n",
            "Epoch 367/500\n",
            "2/2 [==============================] - 0s 7ms/step - loss: 25.9831 - mae: 25.9831\n",
            "Epoch 368/500\n",
            "2/2 [==============================] - 0s 6ms/step - loss: 25.2501 - mae: 25.2501\n",
            "Epoch 369/500\n",
            "2/2 [==============================] - 0s 7ms/step - loss: 15.5312 - mae: 15.5312\n",
            "Epoch 370/500\n",
            "2/2 [==============================] - 0s 8ms/step - loss: 23.3448 - mae: 23.3448\n",
            "Epoch 371/500\n",
            "2/2 [==============================] - 0s 6ms/step - loss: 7.6449 - mae: 7.6449\n",
            "Epoch 372/500\n",
            "2/2 [==============================] - 0s 4ms/step - loss: 9.2490 - mae: 9.2490\n",
            "Epoch 373/500\n",
            "2/2 [==============================] - 0s 3ms/step - loss: 23.3147 - mae: 23.3147\n",
            "Epoch 374/500\n",
            "2/2 [==============================] - 0s 14ms/step - loss: 14.5116 - mae: 14.5116\n",
            "Epoch 375/500\n",
            "2/2 [==============================] - 0s 5ms/step - loss: 11.4620 - mae: 11.4620\n",
            "Epoch 376/500\n",
            "2/2 [==============================] - 0s 7ms/step - loss: 14.7238 - mae: 14.7238\n",
            "Epoch 377/500\n",
            "2/2 [==============================] - 0s 6ms/step - loss: 17.7393 - mae: 17.7393\n",
            "Epoch 378/500\n",
            "2/2 [==============================] - 0s 4ms/step - loss: 8.8218 - mae: 8.8218\n",
            "Epoch 379/500\n",
            "2/2 [==============================] - 0s 6ms/step - loss: 23.0569 - mae: 23.0569\n",
            "Epoch 380/500\n",
            "2/2 [==============================] - 0s 5ms/step - loss: 11.5091 - mae: 11.5091\n",
            "Epoch 381/500\n",
            "2/2 [==============================] - 0s 8ms/step - loss: 15.0727 - mae: 15.0727\n",
            "Epoch 382/500\n",
            "2/2 [==============================] - 0s 7ms/step - loss: 10.8962 - mae: 10.8962\n",
            "Epoch 383/500\n",
            "2/2 [==============================] - 0s 6ms/step - loss: 11.5666 - mae: 11.5666\n",
            "Epoch 384/500\n",
            "2/2 [==============================] - 0s 8ms/step - loss: 7.3389 - mae: 7.3389\n",
            "Epoch 385/500\n",
            "2/2 [==============================] - 0s 6ms/step - loss: 11.9278 - mae: 11.9278\n",
            "Epoch 386/500\n",
            "2/2 [==============================] - 0s 4ms/step - loss: 14.2452 - mae: 14.2452\n",
            "Epoch 387/500\n",
            "2/2 [==============================] - 0s 4ms/step - loss: 14.5039 - mae: 14.5039\n",
            "Epoch 388/500\n",
            "2/2 [==============================] - 0s 10ms/step - loss: 17.1345 - mae: 17.1345\n",
            "Epoch 389/500\n",
            "2/2 [==============================] - 0s 12ms/step - loss: 13.3177 - mae: 13.3177\n",
            "Epoch 390/500\n",
            "2/2 [==============================] - 0s 8ms/step - loss: 21.7811 - mae: 21.7811\n",
            "Epoch 391/500\n",
            "2/2 [==============================] - 0s 7ms/step - loss: 12.7165 - mae: 12.7165\n",
            "Epoch 392/500\n",
            "2/2 [==============================] - 0s 3ms/step - loss: 18.9583 - mae: 18.9583\n",
            "Epoch 393/500\n",
            "2/2 [==============================] - 0s 5ms/step - loss: 9.9279 - mae: 9.9279\n",
            "Epoch 394/500\n",
            "2/2 [==============================] - 0s 4ms/step - loss: 13.8312 - mae: 13.8312\n",
            "Epoch 395/500\n",
            "2/2 [==============================] - 0s 4ms/step - loss: 26.6539 - mae: 26.6539\n",
            "Epoch 396/500\n",
            "2/2 [==============================] - 0s 5ms/step - loss: 8.4979 - mae: 8.4979\n",
            "Epoch 397/500\n",
            "2/2 [==============================] - 0s 7ms/step - loss: 14.2739 - mae: 14.2739\n",
            "Epoch 398/500\n",
            "2/2 [==============================] - 0s 11ms/step - loss: 22.1675 - mae: 22.1675\n",
            "Epoch 399/500\n",
            "2/2 [==============================] - 0s 8ms/step - loss: 10.2166 - mae: 10.2166\n",
            "Epoch 400/500\n",
            "2/2 [==============================] - 0s 4ms/step - loss: 21.8126 - mae: 21.8126\n",
            "Epoch 401/500\n",
            "2/2 [==============================] - 0s 5ms/step - loss: 9.8755 - mae: 9.8755\n",
            "Epoch 402/500\n",
            "2/2 [==============================] - 0s 6ms/step - loss: 24.8821 - mae: 24.8821\n",
            "Epoch 403/500\n",
            "2/2 [==============================] - 0s 6ms/step - loss: 19.7437 - mae: 19.7437\n",
            "Epoch 404/500\n",
            "2/2 [==============================] - 0s 10ms/step - loss: 15.2432 - mae: 15.2432\n",
            "Epoch 405/500\n",
            "2/2 [==============================] - 0s 4ms/step - loss: 9.8329 - mae: 9.8329\n",
            "Epoch 406/500\n",
            "2/2 [==============================] - 0s 5ms/step - loss: 20.6108 - mae: 20.6108\n",
            "Epoch 407/500\n",
            "2/2 [==============================] - 0s 6ms/step - loss: 11.9959 - mae: 11.9959\n",
            "Epoch 408/500\n",
            "2/2 [==============================] - 0s 7ms/step - loss: 21.6722 - mae: 21.6722\n",
            "Epoch 409/500\n",
            "2/2 [==============================] - 0s 5ms/step - loss: 9.9724 - mae: 9.9724\n",
            "Epoch 410/500\n",
            "2/2 [==============================] - 0s 6ms/step - loss: 13.1689 - mae: 13.1689\n",
            "Epoch 411/500\n",
            "2/2 [==============================] - 0s 7ms/step - loss: 19.5741 - mae: 19.5741\n",
            "Epoch 412/500\n",
            "2/2 [==============================] - 0s 6ms/step - loss: 6.9873 - mae: 6.9873\n",
            "Epoch 413/500\n",
            "2/2 [==============================] - 0s 4ms/step - loss: 11.4547 - mae: 11.4547\n",
            "Epoch 414/500\n",
            "2/2 [==============================] - 0s 8ms/step - loss: 20.0673 - mae: 20.0673\n",
            "Epoch 415/500\n",
            "2/2 [==============================] - 0s 3ms/step - loss: 4.2332 - mae: 4.2332\n",
            "Epoch 416/500\n",
            "2/2 [==============================] - 0s 5ms/step - loss: 23.8508 - mae: 23.8508\n",
            "Epoch 417/500\n",
            "2/2 [==============================] - 0s 6ms/step - loss: 4.3996 - mae: 4.3996\n",
            "Epoch 418/500\n",
            "2/2 [==============================] - 0s 9ms/step - loss: 9.5843 - mae: 9.5843\n",
            "Epoch 419/500\n",
            "2/2 [==============================] - 0s 6ms/step - loss: 11.7055 - mae: 11.7055\n",
            "Epoch 420/500\n",
            "2/2 [==============================] - 0s 5ms/step - loss: 20.8928 - mae: 20.8928\n",
            "Epoch 421/500\n",
            "2/2 [==============================] - 0s 8ms/step - loss: 11.7315 - mae: 11.7315\n",
            "Epoch 422/500\n",
            "2/2 [==============================] - 0s 6ms/step - loss: 12.6559 - mae: 12.6559\n",
            "Epoch 423/500\n",
            "2/2 [==============================] - 0s 6ms/step - loss: 6.8098 - mae: 6.8098\n",
            "Epoch 424/500\n",
            "2/2 [==============================] - 0s 4ms/step - loss: 9.7677 - mae: 9.7677\n",
            "Epoch 425/500\n",
            "2/2 [==============================] - 0s 6ms/step - loss: 8.9524 - mae: 8.9524\n",
            "Epoch 426/500\n",
            "2/2 [==============================] - 0s 6ms/step - loss: 17.7832 - mae: 17.7832\n",
            "Epoch 427/500\n",
            "2/2 [==============================] - 0s 7ms/step - loss: 15.3638 - mae: 15.3638\n",
            "Epoch 428/500\n",
            "2/2 [==============================] - 0s 7ms/step - loss: 11.0075 - mae: 11.0075\n",
            "Epoch 429/500\n",
            "2/2 [==============================] - 0s 4ms/step - loss: 24.3883 - mae: 24.3883\n",
            "Epoch 430/500\n",
            "2/2 [==============================] - 0s 6ms/step - loss: 10.4702 - mae: 10.4702\n",
            "Epoch 431/500\n",
            "2/2 [==============================] - 0s 8ms/step - loss: 35.7439 - mae: 35.7439\n",
            "Epoch 432/500\n",
            "2/2 [==============================] - 0s 4ms/step - loss: 15.8595 - mae: 15.8595\n",
            "Epoch 433/500\n",
            "2/2 [==============================] - 0s 6ms/step - loss: 8.2336 - mae: 8.2336\n",
            "Epoch 434/500\n",
            "2/2 [==============================] - 0s 6ms/step - loss: 25.4002 - mae: 25.4002\n",
            "Epoch 435/500\n",
            "2/2 [==============================] - 0s 5ms/step - loss: 23.6163 - mae: 23.6163\n",
            "Epoch 436/500\n",
            "2/2 [==============================] - 0s 3ms/step - loss: 10.5811 - mae: 10.5811\n",
            "Epoch 437/500\n",
            "2/2 [==============================] - 0s 7ms/step - loss: 10.5271 - mae: 10.5271\n",
            "Epoch 438/500\n",
            "2/2 [==============================] - 0s 5ms/step - loss: 12.0026 - mae: 12.0026\n",
            "Epoch 439/500\n",
            "2/2 [==============================] - 0s 7ms/step - loss: 49.2259 - mae: 49.2259\n",
            "Epoch 440/500\n",
            "2/2 [==============================] - 0s 7ms/step - loss: 17.4493 - mae: 17.4493\n",
            "Epoch 441/500\n",
            "2/2 [==============================] - 0s 21ms/step - loss: 9.2990 - mae: 9.2990\n",
            "Epoch 442/500\n",
            "2/2 [==============================] - 0s 6ms/step - loss: 21.8123 - mae: 21.8123\n",
            "Epoch 443/500\n",
            "2/2 [==============================] - 0s 4ms/step - loss: 11.2043 - mae: 11.2043\n",
            "Epoch 444/500\n",
            "2/2 [==============================] - 0s 5ms/step - loss: 20.9311 - mae: 20.9311\n",
            "Epoch 445/500\n",
            "2/2 [==============================] - 0s 6ms/step - loss: 12.6570 - mae: 12.6570\n",
            "Epoch 446/500\n",
            "2/2 [==============================] - 0s 12ms/step - loss: 18.2709 - mae: 18.2709\n",
            "Epoch 447/500\n",
            "2/2 [==============================] - 0s 6ms/step - loss: 6.7320 - mae: 6.7320\n",
            "Epoch 448/500\n",
            "2/2 [==============================] - 0s 11ms/step - loss: 8.5454 - mae: 8.5454\n",
            "Epoch 449/500\n",
            "2/2 [==============================] - 0s 6ms/step - loss: 12.2529 - mae: 12.2529\n",
            "Epoch 450/500\n",
            "2/2 [==============================] - 0s 6ms/step - loss: 18.4689 - mae: 18.4689\n",
            "Epoch 451/500\n",
            "2/2 [==============================] - 0s 10ms/step - loss: 10.5722 - mae: 10.5722\n",
            "Epoch 452/500\n",
            "2/2 [==============================] - 0s 4ms/step - loss: 15.0891 - mae: 15.0891\n",
            "Epoch 453/500\n",
            "2/2 [==============================] - 0s 4ms/step - loss: 7.0004 - mae: 7.0004\n",
            "Epoch 454/500\n",
            "2/2 [==============================] - 0s 5ms/step - loss: 23.5242 - mae: 23.5242\n",
            "Epoch 455/500\n",
            "2/2 [==============================] - 0s 8ms/step - loss: 12.3454 - mae: 12.3454\n",
            "Epoch 456/500\n",
            "2/2 [==============================] - 0s 4ms/step - loss: 13.9055 - mae: 13.9055\n",
            "Epoch 457/500\n",
            "2/2 [==============================] - 0s 3ms/step - loss: 24.8332 - mae: 24.8332\n",
            "Epoch 458/500\n",
            "2/2 [==============================] - 0s 3ms/step - loss: 10.6555 - mae: 10.6555\n",
            "Epoch 459/500\n",
            "2/2 [==============================] - 0s 5ms/step - loss: 24.6425 - mae: 24.6425\n",
            "Epoch 460/500\n",
            "2/2 [==============================] - 0s 3ms/step - loss: 19.9409 - mae: 19.9409\n",
            "Epoch 461/500\n",
            "2/2 [==============================] - 0s 6ms/step - loss: 10.0111 - mae: 10.0111\n",
            "Epoch 462/500\n",
            "2/2 [==============================] - 0s 3ms/step - loss: 10.4486 - mae: 10.4486\n",
            "Epoch 463/500\n",
            "2/2 [==============================] - 0s 3ms/step - loss: 23.5579 - mae: 23.5579\n",
            "Epoch 464/500\n",
            "2/2 [==============================] - 0s 11ms/step - loss: 10.8905 - mae: 10.8905\n",
            "Epoch 465/500\n",
            "2/2 [==============================] - 0s 6ms/step - loss: 19.7104 - mae: 19.7104\n",
            "Epoch 466/500\n",
            "2/2 [==============================] - 0s 9ms/step - loss: 19.8087 - mae: 19.8087\n",
            "Epoch 467/500\n",
            "2/2 [==============================] - 0s 4ms/step - loss: 7.4957 - mae: 7.4957\n",
            "Epoch 468/500\n",
            "2/2 [==============================] - 0s 6ms/step - loss: 13.7939 - mae: 13.7939\n",
            "Epoch 469/500\n",
            "2/2 [==============================] - 0s 3ms/step - loss: 35.4687 - mae: 35.4687\n",
            "Epoch 470/500\n",
            "2/2 [==============================] - 0s 8ms/step - loss: 9.0883 - mae: 9.0883\n",
            "Epoch 471/500\n",
            "2/2 [==============================] - 0s 6ms/step - loss: 14.0977 - mae: 14.0977\n",
            "Epoch 472/500\n",
            "2/2 [==============================] - 0s 4ms/step - loss: 11.0945 - mae: 11.0945\n",
            "Epoch 473/500\n",
            "2/2 [==============================] - 0s 4ms/step - loss: 13.6819 - mae: 13.6819\n",
            "Epoch 474/500\n",
            "2/2 [==============================] - 0s 7ms/step - loss: 32.5152 - mae: 32.5152\n",
            "Epoch 475/500\n",
            "2/2 [==============================] - 0s 6ms/step - loss: 4.8131 - mae: 4.8131\n",
            "Epoch 476/500\n",
            "2/2 [==============================] - 0s 3ms/step - loss: 11.4187 - mae: 11.4187\n",
            "Epoch 477/500\n",
            "2/2 [==============================] - 0s 5ms/step - loss: 24.8318 - mae: 24.8318\n",
            "Epoch 478/500\n",
            "2/2 [==============================] - 0s 3ms/step - loss: 14.3715 - mae: 14.3715\n",
            "Epoch 479/500\n",
            "2/2 [==============================] - 0s 3ms/step - loss: 11.9763 - mae: 11.9763\n",
            "Epoch 480/500\n",
            "2/2 [==============================] - 0s 7ms/step - loss: 10.5404 - mae: 10.5404\n",
            "Epoch 481/500\n",
            "2/2 [==============================] - 0s 22ms/step - loss: 16.4370 - mae: 16.4370\n",
            "Epoch 482/500\n",
            "2/2 [==============================] - 0s 2ms/step - loss: 15.2662 - mae: 15.2662\n",
            "Epoch 483/500\n",
            "2/2 [==============================] - 0s 3ms/step - loss: 12.3925 - mae: 12.3925\n",
            "Epoch 484/500\n",
            "2/2 [==============================] - 0s 3ms/step - loss: 24.1976 - mae: 24.1976\n",
            "Epoch 485/500\n",
            "2/2 [==============================] - 0s 5ms/step - loss: 22.0333 - mae: 22.0333\n",
            "Epoch 486/500\n",
            "2/2 [==============================] - 0s 3ms/step - loss: 3.6746 - mae: 3.6746\n",
            "Epoch 487/500\n",
            "2/2 [==============================] - 0s 3ms/step - loss: 11.2637 - mae: 11.2637\n",
            "Epoch 488/500\n",
            "2/2 [==============================] - 0s 5ms/step - loss: 24.5137 - mae: 24.5137\n",
            "Epoch 489/500\n",
            "2/2 [==============================] - 0s 4ms/step - loss: 21.7140 - mae: 21.7140\n",
            "Epoch 490/500\n",
            "2/2 [==============================] - 0s 7ms/step - loss: 11.4988 - mae: 11.4988\n",
            "Epoch 491/500\n",
            "2/2 [==============================] - 0s 5ms/step - loss: 21.4403 - mae: 21.4403\n",
            "Epoch 492/500\n",
            "2/2 [==============================] - 0s 5ms/step - loss: 9.1484 - mae: 9.1484\n",
            "Epoch 493/500\n",
            "2/2 [==============================] - 0s 5ms/step - loss: 14.0982 - mae: 14.0982\n",
            "Epoch 494/500\n",
            "2/2 [==============================] - 0s 3ms/step - loss: 19.7262 - mae: 19.7262\n",
            "Epoch 495/500\n",
            "2/2 [==============================] - 0s 5ms/step - loss: 12.7653 - mae: 12.7653\n",
            "Epoch 496/500\n",
            "2/2 [==============================] - 0s 5ms/step - loss: 8.2579 - mae: 8.2579\n",
            "Epoch 497/500\n",
            "2/2 [==============================] - 0s 3ms/step - loss: 15.6622 - mae: 15.6622\n",
            "Epoch 498/500\n",
            "2/2 [==============================] - 0s 3ms/step - loss: 19.6068 - mae: 19.6068\n",
            "Epoch 499/500\n",
            "2/2 [==============================] - 0s 5ms/step - loss: 14.7975 - mae: 14.7975\n",
            "Epoch 500/500\n",
            "2/2 [==============================] - 0s 5ms/step - loss: 7.8403 - mae: 7.8403\n"
          ]
        },
        {
          "output_type": "execute_result",
          "data": {
            "text/plain": [
              "<keras.callbacks.History at 0x7fb2cf4d2790>"
            ]
          },
          "metadata": {},
          "execution_count": 68
        }
      ]
    },
    {
      "cell_type": "code",
      "metadata": {
        "colab": {
          "base_uri": "https://localhost:8080/"
        },
        "id": "w7FJCdqEs9vy",
        "outputId": "fc37cc2a-98ef-4d55-ffde-a408778d3fcd"
      },
      "source": [
        "##lets make and plot prediction\n",
        "y_pred_2=model_2.predict(X_test)\n",
        "y_pred_2"
      ],
      "execution_count": null,
      "outputs": [
        {
          "output_type": "execute_result",
          "data": {
            "text/plain": [
              "array([[105.92939],\n",
              "       [112.68033],\n",
              "       [119.43126],\n",
              "       [126.18217],\n",
              "       [132.93306],\n",
              "       [139.68398],\n",
              "       [146.43488],\n",
              "       [153.18579],\n",
              "       [159.93668],\n",
              "       [166.68759]], dtype=float32)"
            ]
          },
          "metadata": {},
          "execution_count": 69
        }
      ]
    },
    {
      "cell_type": "code",
      "metadata": {
        "colab": {
          "base_uri": "https://localhost:8080/",
          "height": 428
        },
        "id": "n38cdiqKs9zQ",
        "outputId": "376f2b2e-5754-45e7-c15e-4820844b17d4"
      },
      "source": [
        "plot_prediction(prediction=tf.squeeze(y_pred_2))"
      ],
      "execution_count": null,
      "outputs": [
        {
          "output_type": "display_data",
          "data": {
            "image/png": "[encoded data removed]",
            "text/plain": [
              "<Figure size 720x504 with 1 Axes>"
            ]
          },
          "metadata": {
            "needs_background": "light"
          }
        }
      ]
    },
    {
      "cell_type": "code",
      "metadata": {
        "colab": {
          "base_uri": "https://localhost:8080/"
        },
        "id": "Cbqpcr5ks91L",
        "outputId": "ca9f35c1-0083-4c2b-85b7-91d67900406b"
      },
      "source": [
        "####3.lets find mae and mse\n",
        "mae_2=mae(y_test,tf.squeeze(y_pred_2))\n",
        "mse_2=mse(y_test,tf.squeeze(y_pred_2))\n",
        "mae_2,mse_2"
      ],
      "execution_count": null,
      "outputs": [
        {
          "output_type": "execute_result",
          "data": {
            "text/plain": [
              "(<tf.Tensor: shape=(), dtype=float32, numpy=48.30851>,\n",
              " <tf.Tensor: shape=(), dtype=float32, numpy=2396.144>)"
            ]
          },
          "metadata": {},
          "execution_count": 71
        }
      ]
    },
    {
      "cell_type": "code",
      "metadata": {
        "colab": {
          "base_uri": "https://localhost:8080/"
        },
        "id": "p8wTr180s94Q",
        "outputId": "ee3fe8f2-04cc-469f-a002-303333862633"
      },
      "source": [
        "model.summary()            "
      ],
      "execution_count": null,
      "outputs": [
        {
          "output_type": "stream",
          "name": "stdout",
          "text": [
            "Model: \"sequential_3\"\n",
            "_________________________________________________________________\n",
            "Layer (type)                 Output Shape              Param #   \n",
            "=================================================================\n",
            "dense_5 (Dense)              (None, 100)               200       \n",
            "_________________________________________________________________\n",
            "dense_6 (Dense)              (None, 100)               10100     \n",
            "_________________________________________________________________\n",
            "dense_7 (Dense)              (None, 1)                 101       \n",
            "=================================================================\n",
            "Total params: 10,401\n",
            "Trainable params: 10,401\n",
            "Non-trainable params: 0\n",
            "_________________________________________________________________\n"
          ]
        }
      ]
    },
    {
      "cell_type": "code",
      "metadata": {
        "id": "VHvKSKHZs96K"
      },
      "source": [
        "##saving our models\n",
        "##there are twom ways to save models\n",
        "##1.the save model format\n",
        "# 2.the HDF5 format\n"
      ],
      "execution_count": null,
      "outputs": []
    },
    {
      "cell_type": "code",
      "metadata": {
        "id": "PG6qfFgLs98b",
        "colab": {
          "base_uri": "https://localhost:8080/"
        },
        "outputId": "e45009d9-26a2-4c60-928a-e380e6976510"
      },
      "source": [
        "#save model using the savemodel format\n",
        "model_2.save('best_model_SavedModel_format')"
      ],
      "execution_count": null,
      "outputs": [
        {
          "output_type": "stream",
          "name": "stdout",
          "text": [
            "INFO:tensorflow:Assets written to: best_model_SavedModel_format/assets\n"
          ]
        }
      ]
    },
    {
      "cell_type": "code",
      "metadata": {
        "id": "5zxEcu3ts9-Z"
      },
      "source": [
        "#save model using the HDF5 format\n",
        "model_2.save('best_model_HDF5_format.h5')"
      ],
      "execution_count": null,
      "outputs": []
    },
    {
      "cell_type": "code",
      "metadata": {
        "id": "fClsMgkgs-BL",
        "colab": {
          "base_uri": "https://localhost:8080/"
        },
        "outputId": "51d25e97-bdac-410b-b79d-9a3a7ee4c4b3"
      },
      "source": [
        "#loading in a saved model\n",
        "path=\"/content/best_model_SavedModel_format\"\n",
        "loaded_savedmodel_format=tf.keras.models.load_model(path)\n",
        "loaded_savedmodel_format.summary()"
      ],
      "execution_count": null,
      "outputs": [
        {
          "output_type": "stream",
          "name": "stdout",
          "text": [
            "Model: \"sequential_7\"\n",
            "_________________________________________________________________\n",
            "Layer (type)                 Output Shape              Param #   \n",
            "=================================================================\n",
            "dense_14 (Dense)             (None, 100)               200       \n",
            "_________________________________________________________________\n",
            "dense_15 (Dense)             (None, 100)               10100     \n",
            "_________________________________________________________________\n",
            "dense_16 (Dense)             (None, 1)                 101       \n",
            "=================================================================\n",
            "Total params: 10,401\n",
            "Trainable params: 10,401\n",
            "Non-trainable params: 0\n",
            "_________________________________________________________________\n"
          ]
        }
      ]
    },
    {
      "cell_type": "code",
      "metadata": {
        "colab": {
          "base_uri": "https://localhost:8080/"
        },
        "id": "FS44iU6Vaf6Q",
        "outputId": "f2876587-2289-4155-e88a-64a774006967"
      },
      "source": [
        "##save model using savedmodel format\n",
        "model_2.save('best_model_1_Savedmodel_format')"
      ],
      "execution_count": null,
      "outputs": [
        {
          "output_type": "stream",
          "name": "stdout",
          "text": [
            "INFO:tensorflow:Assets written to: best_model_1_Savedmodel_format/assets\n"
          ]
        }
      ]
    },
    {
      "cell_type": "code",
      "metadata": {
        "id": "Ub-FySjnaf85"
      },
      "source": [
        "model_2.save('best_model_HDF5_format.h5')"
      ],
      "execution_count": null,
      "outputs": []
    },
    {
      "cell_type": "code",
      "metadata": {
        "colab": {
          "base_uri": "https://localhost:8080/"
        },
        "id": "jq0FSRZCaf_e",
        "outputId": "7b9fb4b7-56e7-4a4b-b270-100036db5567"
      },
      "source": [
        "# loading iin saved model\n",
        "path=\"/content/best_model_1_Savedmodel_format\"\n",
        "loaded_savedmodel_format_1=tf.keras.models.load_model(path)\n",
        "loaded_savedmodel_format_1.summary()"
      ],
      "execution_count": null,
      "outputs": [
        {
          "output_type": "stream",
          "name": "stdout",
          "text": [
            "Model: \"sequential_7\"\n",
            "_________________________________________________________________\n",
            "Layer (type)                 Output Shape              Param #   \n",
            "=================================================================\n",
            "dense_14 (Dense)             (None, 100)               200       \n",
            "_________________________________________________________________\n",
            "dense_15 (Dense)             (None, 100)               10100     \n",
            "_________________________________________________________________\n",
            "dense_16 (Dense)             (None, 1)                 101       \n",
            "=================================================================\n",
            "Total params: 10,401\n",
            "Trainable params: 10,401\n",
            "Non-trainable params: 0\n",
            "_________________________________________________________________\n"
          ]
        }
      ]
    },
    {
      "cell_type": "code",
      "metadata": {
        "colab": {
          "base_uri": "https://localhost:8080/"
        },
        "id": "8BTX6cIbagCR",
        "outputId": "4132239d-0764-4778-a74e-0c2eab023029"
      },
      "source": [
        "model_2.summary()"
      ],
      "execution_count": null,
      "outputs": [
        {
          "output_type": "stream",
          "name": "stdout",
          "text": [
            "Model: \"sequential_7\"\n",
            "_________________________________________________________________\n",
            "Layer (type)                 Output Shape              Param #   \n",
            "=================================================================\n",
            "dense_14 (Dense)             (None, 100)               200       \n",
            "_________________________________________________________________\n",
            "dense_15 (Dense)             (None, 100)               10100     \n",
            "_________________________________________________________________\n",
            "dense_16 (Dense)             (None, 1)                 101       \n",
            "=================================================================\n",
            "Total params: 10,401\n",
            "Trainable params: 10,401\n",
            "Non-trainable params: 0\n",
            "_________________________________________________________________\n"
          ]
        }
      ]
    },
    {
      "cell_type": "code",
      "metadata": {
        "colab": {
          "base_uri": "https://localhost:8080/"
        },
        "id": "cgaDDtJyagE0",
        "outputId": "98da4833-a8d2-4b4f-a9bd-5c5c4d1c982f"
      },
      "source": [
        "model_2.save(\"best_savedmodel_format\")"
      ],
      "execution_count": null,
      "outputs": [
        {
          "output_type": "stream",
          "name": "stdout",
          "text": [
            "INFO:tensorflow:Assets written to: best_savedmodel_format/assets\n"
          ]
        }
      ]
    },
    {
      "cell_type": "code",
      "metadata": {
        "id": "0rm_aiX6iWw8"
      },
      "source": [
        "model_2.save(\"best_hdf5_format.h5\")"
      ],
      "execution_count": null,
      "outputs": []
    },
    {
      "cell_type": "code",
      "metadata": {
        "colab": {
          "base_uri": "https://localhost:8080/"
        },
        "id": "80M6I9QSieP7",
        "outputId": "5185bb8b-5e5c-432a-c0e5-fa8ca81a19fd"
      },
      "source": [
        "# loading saved model\n",
        "loaded_SavedModel_format=tf.keras.models.load_model(\"/content/best_savedmodel_format\")\n",
        "loaded_SavedModel_format.summary()"
      ],
      "execution_count": null,
      "outputs": [
        {
          "output_type": "stream",
          "name": "stdout",
          "text": [
            "Model: \"sequential_7\"\n",
            "_________________________________________________________________\n",
            "Layer (type)                 Output Shape              Param #   \n",
            "=================================================================\n",
            "dense_14 (Dense)             (None, 100)               200       \n",
            "_________________________________________________________________\n",
            "dense_15 (Dense)             (None, 100)               10100     \n",
            "_________________________________________________________________\n",
            "dense_16 (Dense)             (None, 1)                 101       \n",
            "=================================================================\n",
            "Total params: 10,401\n",
            "Trainable params: 10,401\n",
            "Non-trainable params: 0\n",
            "_________________________________________________________________\n"
          ]
        }
      ]
    },
    {
      "cell_type": "code",
      "metadata": {
        "colab": {
          "base_uri": "https://localhost:8080/"
        },
        "id": "RtlJQ-Zfi08s",
        "outputId": "64f6647c-117e-46a9-ea2d-fc9881abe369"
      },
      "source": [
        "model_2_preds=model_2.predict(X_test)\n",
        "loaded_SavedModel_format_preds=loaded_SavedModel_format.predict(X_test)\n",
        "model_2_preds==loaded_SavedModel_format_preds\n"
      ],
      "execution_count": null,
      "outputs": [
        {
          "output_type": "execute_result",
          "data": {
            "text/plain": [
              "array([[ True],\n",
              "       [ True],\n",
              "       [ True],\n",
              "       [ True],\n",
              "       [ True],\n",
              "       [ True],\n",
              "       [ True],\n",
              "       [ True],\n",
              "       [ True],\n",
              "       [ True]])"
            ]
          },
          "metadata": {},
          "execution_count": 95
        }
      ]
    },
    {
      "cell_type": "code",
      "metadata": {
        "colab": {
          "base_uri": "https://localhost:8080/"
        },
        "id": "_D5Ge_vUagHA",
        "outputId": "bde57dd0-fc1c-45a6-9a80-6b5f45da75d7"
      },
      "source": [
        "model_2,loaded_savedmodel_format"
      ],
      "execution_count": null,
      "outputs": [
        {
          "output_type": "execute_result",
          "data": {
            "text/plain": [
              "(<keras.engine.sequential.Sequential at 0x7fb2cf53fc90>, array([[105.92939],\n",
              "        [112.68033],\n",
              "        [119.43126],\n",
              "        [126.18217],\n",
              "        [132.93306],\n",
              "        [139.68398],\n",
              "        [146.43488],\n",
              "        [153.18579],\n",
              "        [159.93668],\n",
              "        [166.68759]], dtype=float32))"
            ]
          },
          "metadata": {},
          "execution_count": 89
        }
      ]
    },
    {
      "cell_type": "code",
      "metadata": {
        "colab": {
          "base_uri": "https://localhost:8080/"
        },
        "id": "YEUs4ldBagQx",
        "outputId": "f78563b4-c50a-49be-f2a3-7f0bf0f03570"
      },
      "source": [
        "##save filr from google colab to google drive\n",
        "!cp /content/best_hdf5_format.h5 /content/sample_data"
      ],
      "execution_count": null,
      "outputs": [
        {
          "output_type": "stream",
          "name": "stdout",
          "text": [
            "cp: cannot stat '/content/best_hdf5_format.h5': No such file or directory\n"
          ]
        }
      ]
    },
    {
      "cell_type": "code",
      "metadata": {
        "colab": {
          "base_uri": "https://localhost:8080/"
        },
        "id": "mhPNjAd5agTR",
        "outputId": "f772fa86-5db4-4fd9-93a1-47099b035264"
      },
      "source": [
        "!ls /content/sample_data"
      ],
      "execution_count": null,
      "outputs": [
        {
          "output_type": "stream",
          "name": "stdout",
          "text": [
            "anscombe.json\t\t      mnist_test.csv\n",
            "california_housing_test.csv   mnist_train_small.csv\n",
            "california_housing_train.csv  README.md\n"
          ]
        }
      ]
    },
    {
      "cell_type": "code",
      "metadata": {
        "colab": {
          "base_uri": "https://localhost:8080/"
        },
        "id": "HlP7Z-ygagVK",
        "outputId": "6e21bf1e-0779-42fb-adf7-af0007a6ccd8"
      },
      "source": [
        "from google.colab import drive\n",
        "drive.mount('\\content\\drive')"
      ],
      "execution_count": null,
      "outputs": [
        {
          "name": "stdout",
          "output_type": "stream",
          "text": [
            "Go to this URL in a browser: https://accounts.google.com/o/oauth2/auth?client_id=947318989803-6bn6qk8qdgf4n4g3pfee6491hc0brc4i.apps.googleusercontent.com&redirect_uri=urn%3aietf%3awg%3aoauth%3a2.0%3aoob&scope=email%20https%3a%2f%2fwww.googleapis.com%2fauth%2fdocs.test%20https%3a%2f%2fwww.googleapis.com%2fauth%2fdrive%20https%3a%2f%2fwww.googleapis.com%2fauth%2fdrive.photos.readonly%20https%3a%2f%2fwww.googleapis.com%2fauth%2fpeopleapi.readonly%20https%3a%2f%2fwww.googleapis.com%2fauth%2fdrive.activity.readonly%20https%3a%2f%2fwww.googleapis.com%2fauth%2fexperimentsandconfigs%20https%3a%2f%2fwww.googleapis.com%2fauth%2fphotos.native&response_type=code\n",
            "\n",
            "Enter your authorization code:\n",
            "4/1AX4XfWiOa0WAhra-y44aOK6sMANGiYmTw1tPfI5lhNCTEzcy0zdw55UpNog\n"
          ]
        }
      ]
    },
    {
      "cell_type": "code",
      "metadata": {
        "id": "ehFD9CiRagW7"
      },
      "source": [
        ""
      ],
      "execution_count": null,
      "outputs": []
    },
    {
      "cell_type": "code",
      "metadata": {
        "id": "-HAZL1XtagY_"
      },
      "source": [
        ""
      ],
      "execution_count": null,
      "outputs": []
    },
    {
      "cell_type": "code",
      "metadata": {
        "id": "GSDc5LFFagcQ"
      },
      "source": [
        ""
      ],
      "execution_count": null,
      "outputs": []
    },
    {
      "cell_type": "code",
      "metadata": {
        "id": "s6ex1hX2ageN"
      },
      "source": [
        ""
      ],
      "execution_count": null,
      "outputs": []
    },
    {
      "cell_type": "code",
      "metadata": {
        "id": "zIaVFPxzagf4"
      },
      "source": [
        ""
      ],
      "execution_count": null,
      "outputs": []
    },
    {
      "cell_type": "code",
      "metadata": {
        "id": "v-ew3vZ9agiw"
      },
      "source": [
        ""
      ],
      "execution_count": null,
      "outputs": []
    },
    {
      "cell_type": "code",
      "metadata": {
        "id": "txNHpZaqagks"
      },
      "source": [
        ""
      ],
      "execution_count": null,
      "outputs": []
    },
    {
      "cell_type": "code",
      "metadata": {
        "id": "gur_NNyPagn3"
      },
      "source": [
        ""
      ],
      "execution_count": null,
      "outputs": []
    },
    {
      "cell_type": "code",
      "metadata": {
        "id": "osatD6y1agqU"
      },
      "source": [
        ""
      ],
      "execution_count": null,
      "outputs": []
    },
    {
      "cell_type": "code",
      "metadata": {
        "id": "zFX1jmFpagtI"
      },
      "source": [
        ""
      ],
      "execution_count": null,
      "outputs": []
    },
    {
      "cell_type": "code",
      "metadata": {
        "id": "vDeOFH11agvr"
      },
      "source": [
        ""
      ],
      "execution_count": null,
      "outputs": []
    },
    {
      "cell_type": "code",
      "metadata": {
        "id": "hHxdlPCTagxf"
      },
      "source": [
        ""
      ],
      "execution_count": null,
      "outputs": []
    },
    {
      "cell_type": "code",
      "metadata": {
        "id": "sX-HuaPKag0m"
      },
      "source": [
        ""
      ],
      "execution_count": null,
      "outputs": []
    },
    {
      "cell_type": "code",
      "metadata": {
        "id": "NGnDKrwWag3O"
      },
      "source": [
        ""
      ],
      "execution_count": null,
      "outputs": []
    },
    {
      "cell_type": "code",
      "metadata": {
        "id": "E9XMCXIuag5T"
      },
      "source": [
        ""
      ],
      "execution_count": null,
      "outputs": []
    },
    {
      "cell_type": "code",
      "metadata": {
        "id": "mjbxbpbkag9n"
      },
      "source": [
        ""
      ],
      "execution_count": null,
      "outputs": []
    },
    {
      "cell_type": "code",
      "metadata": {
        "id": "OezV59Heag_o"
      },
      "source": [
        ""
      ],
      "execution_count": null,
      "outputs": []
    },
    {
      "cell_type": "code",
      "metadata": {
        "id": "HoaOOHXsahG0"
      },
      "source": [
        ""
      ],
      "execution_count": null,
      "outputs": []
    },
    {
      "cell_type": "code",
      "metadata": {
        "id": "1ynKjZkDahJ4"
      },
      "source": [
        ""
      ],
      "execution_count": null,
      "outputs": []
    },
    {
      "cell_type": "code",
      "metadata": {
        "id": "EuscQbggahMA"
      },
      "source": [
        ""
      ],
      "execution_count": null,
      "outputs": []
    },
    {
      "cell_type": "code",
      "metadata": {
        "id": "MI57CsgKahOd"
      },
      "source": [
        ""
      ],
      "execution_count": null,
      "outputs": []
    },
    {
      "cell_type": "code",
      "metadata": {
        "id": "9iqz-6cRahSL"
      },
      "source": [
        ""
      ],
      "execution_count": null,
      "outputs": []
    },
    {
      "cell_type": "code",
      "metadata": {
        "id": "K2x9E2FdahUU"
      },
      "source": [
        ""
      ],
      "execution_count": null,
      "outputs": []
    },
    {
      "cell_type": "code",
      "metadata": {
        "id": "PCTOL2QHahXg"
      },
      "source": [
        ""
      ],
      "execution_count": null,
      "outputs": []
    },
    {
      "cell_type": "code",
      "metadata": {
        "id": "kcdUcrO1ahaq"
      },
      "source": [
        ""
      ],
      "execution_count": null,
      "outputs": []
    },
    {
      "cell_type": "code",
      "metadata": {
        "id": "R7hH-FFSahdL"
      },
      "source": [
        ""
      ],
      "execution_count": null,
      "outputs": []
    },
    {
      "cell_type": "code",
      "metadata": {
        "id": "LTJM7dy9ahfd"
      },
      "source": [
        ""
      ],
      "execution_count": null,
      "outputs": []
    },
    {
      "cell_type": "code",
      "metadata": {
        "id": "Tld8Obw1ahiD"
      },
      "source": [
        ""
      ],
      "execution_count": null,
      "outputs": []
    },
    {
      "cell_type": "code",
      "metadata": {
        "id": "s8X1qHCFahkk"
      },
      "source": [
        ""
      ],
      "execution_count": null,
      "outputs": []
    },
    {
      "cell_type": "code",
      "metadata": {
        "id": "8dPmmLIEahnR"
      },
      "source": [
        ""
      ],
      "execution_count": null,
      "outputs": []
    },
    {
      "cell_type": "code",
      "metadata": {
        "id": "yj1w_THhahqd"
      },
      "source": [
        ""
      ],
      "execution_count": null,
      "outputs": []
    },
    {
      "cell_type": "code",
      "metadata": {
        "id": "0Y_V1iSbahu5"
      },
      "source": [
        ""
      ],
      "execution_count": null,
      "outputs": []
    },
    {
      "cell_type": "code",
      "metadata": {
        "id": "99JjIZWvahxT"
      },
      "source": [
        ""
      ],
      "execution_count": null,
      "outputs": []
    },
    {
      "cell_type": "code",
      "metadata": {
        "colab": {
          "base_uri": "https://localhost:8080/"
        },
        "id": "wZ4z2DIfZTU_",
        "outputId": "9f4e2263-2109-4880-e0a2-d203c15de73f"
      },
      "source": [
        "#calculate mean absolute error\n",
        "mae=tf.metrics.mean_absolute_error(y_true=y_test,y_pred=y_pred)\n",
        "mae\n"
      ],
      "execution_count": null,
      "outputs": [
        {
          "output_type": "execute_result",
          "data": {
            "text/plain": [
              "<tf.Tensor: shape=(), dtype=float32, numpy=20.259104>"
            ]
          },
          "metadata": {},
          "execution_count": 43
        }
      ]
    },
    {
      "cell_type": "code",
      "metadata": {
        "colab": {
          "base_uri": "https://localhost:8080/"
        },
        "id": "-zPoVDoKa7Yf",
        "outputId": "d75bc9ca-ffaf-4184-f660-4fa94d947bba"
      },
      "source": [
        "y_test"
      ],
      "execution_count": null,
      "outputs": [
        {
          "output_type": "execute_result",
          "data": {
            "text/plain": [
              "<tf.Tensor: shape=(10,), dtype=int32, numpy=array([ 70,  74,  78,  82,  86,  90,  94,  98, 102, 106], dtype=int32)>"
            ]
          },
          "metadata": {},
          "execution_count": 44
        }
      ]
    },
    {
      "cell_type": "code",
      "metadata": {
        "colab": {
          "base_uri": "https://localhost:8080/"
        },
        "id": "So82FkxLa-aP",
        "outputId": "e8d603b8-5548-484c-d234-00454603095f"
      },
      "source": [
        "y_pred"
      ],
      "execution_count": null,
      "outputs": [
        {
          "output_type": "execute_result",
          "data": {
            "text/plain": [
              "<tf.Tensor: shape=(10,), dtype=float32, numpy=\n",
              "array([52.457294, 55.853645, 59.250004, 62.64636 , 66.04271 , 69.43907 ,\n",
              "       72.835434, 76.23179 , 79.62814 , 83.0245  ], dtype=float32)>"
            ]
          },
          "metadata": {},
          "execution_count": 45
        }
      ]
    },
    {
      "cell_type": "code",
      "metadata": {
        "colab": {
          "base_uri": "https://localhost:8080/"
        },
        "id": "ItkDT0R3bBs6",
        "outputId": "e38e4293-b0a5-49f7-ec6e-a4b2e1a566bd"
      },
      "source": [
        "tf.constant(y_pred)"
      ],
      "execution_count": null,
      "outputs": [
        {
          "output_type": "execute_result",
          "data": {
            "text/plain": [
              "<tf.Tensor: shape=(10,), dtype=float32, numpy=\n",
              "array([52.457294, 55.853645, 59.250004, 62.64636 , 66.04271 , 69.43907 ,\n",
              "       72.835434, 76.23179 , 79.62814 , 83.0245  ], dtype=float32)>"
            ]
          },
          "metadata": {},
          "execution_count": 46
        }
      ]
    },
    {
      "cell_type": "code",
      "metadata": {
        "colab": {
          "base_uri": "https://localhost:8080/"
        },
        "id": "JKfvHKy3bE7x",
        "outputId": "a2d6922c-e084-403f-d049-41de6c9da27b"
      },
      "source": [
        "tf.squeeze(y_pred)"
      ],
      "execution_count": null,
      "outputs": [
        {
          "output_type": "execute_result",
          "data": {
            "text/plain": [
              "<tf.Tensor: shape=(10,), dtype=float32, numpy=\n",
              "array([52.457294, 55.853645, 59.250004, 62.64636 , 66.04271 , 69.43907 ,\n",
              "       72.835434, 76.23179 , 79.62814 , 83.0245  ], dtype=float32)>"
            ]
          },
          "metadata": {},
          "execution_count": 47
        }
      ]
    },
    {
      "cell_type": "code",
      "metadata": {
        "colab": {
          "base_uri": "https://localhost:8080/"
        },
        "id": "yYwuN9gPbehu",
        "outputId": "5d45e0f4-aaa3-41d7-e545-fa8e3f8a92ef"
      },
      "source": [
        "y_test"
      ],
      "execution_count": null,
      "outputs": [
        {
          "output_type": "execute_result",
          "data": {
            "text/plain": [
              "<tf.Tensor: shape=(10,), dtype=int32, numpy=array([ 70,  74,  78,  82,  86,  90,  94,  98, 102, 106], dtype=int32)>"
            ]
          },
          "metadata": {},
          "execution_count": 48
        }
      ]
    },
    {
      "cell_type": "code",
      "metadata": {
        "colab": {
          "base_uri": "https://localhost:8080/"
        },
        "id": "mRl7rf9NbH46",
        "outputId": "8bcc4d28-f024-483d-dbf7-f69517a779a7"
      },
      "source": [
        "#calculate absolute error\n",
        "mae=tf.metrics.mean_absolute_error(y_true=y_test,y_pred=tf.squeeze(y_pred))\n",
        "mae"
      ],
      "execution_count": null,
      "outputs": [
        {
          "output_type": "execute_result",
          "data": {
            "text/plain": [
              "<tf.Tensor: shape=(), dtype=float32, numpy=20.259104>"
            ]
          },
          "metadata": {},
          "execution_count": 49
        }
      ]
    },
    {
      "cell_type": "code",
      "metadata": {
        "colab": {
          "base_uri": "https://localhost:8080/"
        },
        "id": "VJOSjzu-bTGn",
        "outputId": "84bcb964-0d58-45e2-f15c-ee88d37dcf37"
      },
      "source": [
        "##calculate mean squarred error\n",
        "mse=tf.metrics.mean_squared_error(y_true=y_test,y_pred=tf.squeeze(y_pred))\n",
        "mse"
      ],
      "execution_count": null,
      "outputs": [
        {
          "output_type": "execute_result",
          "data": {
            "text/plain": [
              "<tf.Tensor: shape=(), dtype=float32, numpy=413.43756>"
            ]
          },
          "metadata": {},
          "execution_count": 50
        }
      ]
    },
    {
      "cell_type": "code",
      "metadata": {
        "id": "N_JjI4EucU0s"
      },
      "source": [
        "#make some function to reuse mae and mse\n",
        "def mae(y_true,y_pred):\n",
        "\n",
        "  return tf.metrics.mean_absolute_error(y_true=y_test,y_pred=tf.squeeze(y_pred))\n",
        "\n",
        "def mse(y_true,y_pred):\n",
        "  return tf.metrics.mean_squared_error(y_true=y_test,y_pred=tf.squeeze(y_pred))  "
      ],
      "execution_count": null,
      "outputs": []
    },
    {
      "cell_type": "code",
      "metadata": {
        "id": "kZ858ziUc4Zt"
      },
      "source": [
        "##running experiments to improve our model\n",
        "# 1.get more data---more examples\n",
        "# 2.larger model---no of units(neurons)\n",
        "# 3.more epochs\n",
        "\n",
        "\n",
        "# build models\n",
        "# 1.1 layer 100 epochs\n",
        "# 2. 2layers 100 epochs\n",
        "# 3.2 layers 500 epochs"
      ],
      "execution_count": null,
      "outputs": []
    },
    {
      "cell_type": "code",
      "metadata": {
        "colab": {
          "base_uri": "https://localhost:8080/"
        },
        "id": "_0b_fja4f37N",
        "outputId": "2cad4078-52f2-45de-9729-b07fd1e32052"
      },
      "source": [
        "# model no 1\n",
        "# 1. create model\n",
        "model_1=tf.keras.Sequential([\n",
        "                           tf.keras.layers.Dense(1)\n",
        "])\n",
        "#2.compile our model\n",
        "model_1.compile(loss=tf.keras.losses.mae,\n",
        "              optimizer=tf.keras.optimizers.SGD(),\n",
        "              metrics=[\"mae\"])\n",
        "#3. fit our model\n",
        "model_1.fit(X_train,y_train,epochs=100)"
      ],
      "execution_count": null,
      "outputs": [
        {
          "output_type": "stream",
          "name": "stdout",
          "text": [
            "Epoch 1/100\n",
            "2/2 [==============================] - 0s 5ms/step - loss: 8.8160 - mae: 8.8160\n",
            "Epoch 2/100\n",
            "2/2 [==============================] - 0s 5ms/step - loss: 9.4374 - mae: 9.4374\n",
            "Epoch 3/100\n",
            "2/2 [==============================] - 0s 5ms/step - loss: 11.9512 - mae: 11.9512\n",
            "Epoch 4/100\n",
            "2/2 [==============================] - 0s 3ms/step - loss: 9.1800 - mae: 9.1800\n",
            "Epoch 5/100\n",
            "2/2 [==============================] - 0s 4ms/step - loss: 10.0313 - mae: 10.0313\n",
            "Epoch 6/100\n",
            "2/2 [==============================] - 0s 3ms/step - loss: 9.3097 - mae: 9.3097\n",
            "Epoch 7/100\n",
            "2/2 [==============================] - 0s 4ms/step - loss: 8.4690 - mae: 8.4690\n",
            "Epoch 8/100\n",
            "2/2 [==============================] - 0s 6ms/step - loss: 9.0316 - mae: 9.0316\n",
            "Epoch 9/100\n",
            "2/2 [==============================] - 0s 8ms/step - loss: 18.5057 - mae: 18.5057\n",
            "Epoch 10/100\n",
            "2/2 [==============================] - 0s 3ms/step - loss: 9.9744 - mae: 9.9744\n",
            "Epoch 11/100\n",
            "2/2 [==============================] - 0s 3ms/step - loss: 8.3410 - mae: 8.3410\n",
            "Epoch 12/100\n",
            "2/2 [==============================] - 0s 4ms/step - loss: 10.5511 - mae: 10.5511\n",
            "Epoch 13/100\n",
            "2/2 [==============================] - 0s 3ms/step - loss: 9.7502 - mae: 9.7502\n",
            "Epoch 14/100\n",
            "2/2 [==============================] - 0s 2ms/step - loss: 15.7489 - mae: 15.7489\n",
            "Epoch 15/100\n",
            "2/2 [==============================] - 0s 3ms/step - loss: 11.6066 - mae: 11.6066\n",
            "Epoch 16/100\n",
            "2/2 [==============================] - 0s 4ms/step - loss: 8.4748 - mae: 8.4748\n",
            "Epoch 17/100\n",
            "2/2 [==============================] - 0s 3ms/step - loss: 13.4903 - mae: 13.4903\n",
            "Epoch 18/100\n",
            "2/2 [==============================] - 0s 3ms/step - loss: 11.2834 - mae: 11.2834\n",
            "Epoch 19/100\n",
            "2/2 [==============================] - 0s 3ms/step - loss: 18.2172 - mae: 18.2172\n",
            "Epoch 20/100\n",
            "2/2 [==============================] - 0s 4ms/step - loss: 14.9262 - mae: 14.9262\n",
            "Epoch 21/100\n",
            "2/2 [==============================] - 0s 3ms/step - loss: 10.8143 - mae: 10.8143\n",
            "Epoch 22/100\n",
            "2/2 [==============================] - 0s 3ms/step - loss: 8.5618 - mae: 8.5618\n",
            "Epoch 23/100\n",
            "2/2 [==============================] - 0s 7ms/step - loss: 9.7289 - mae: 9.7289\n",
            "Epoch 24/100\n",
            "2/2 [==============================] - 0s 3ms/step - loss: 10.9237 - mae: 10.9237\n",
            "Epoch 25/100\n",
            "2/2 [==============================] - 0s 4ms/step - loss: 9.1435 - mae: 9.1435\n",
            "Epoch 26/100\n",
            "2/2 [==============================] - 0s 2ms/step - loss: 13.1596 - mae: 13.1596\n",
            "Epoch 27/100\n",
            "2/2 [==============================] - 0s 4ms/step - loss: 10.6398 - mae: 10.6398\n",
            "Epoch 28/100\n",
            "2/2 [==============================] - 0s 3ms/step - loss: 12.8491 - mae: 12.8491\n",
            "Epoch 29/100\n",
            "2/2 [==============================] - 0s 4ms/step - loss: 9.4979 - mae: 9.4979\n",
            "Epoch 30/100\n",
            "2/2 [==============================] - 0s 3ms/step - loss: 16.3569 - mae: 16.3569\n",
            "Epoch 31/100\n",
            "2/2 [==============================] - 0s 4ms/step - loss: 23.6240 - mae: 23.6240\n",
            "Epoch 32/100\n",
            "2/2 [==============================] - 0s 3ms/step - loss: 7.6109 - mae: 7.6109\n",
            "Epoch 33/100\n",
            "2/2 [==============================] - 0s 3ms/step - loss: 9.3107 - mae: 9.3107\n",
            "Epoch 34/100\n",
            "2/2 [==============================] - 0s 2ms/step - loss: 13.7115 - mae: 13.7115\n",
            "Epoch 35/100\n",
            "2/2 [==============================] - 0s 3ms/step - loss: 11.1285 - mae: 11.1285\n",
            "Epoch 36/100\n",
            "2/2 [==============================] - 0s 2ms/step - loss: 13.3326 - mae: 13.3326\n",
            "Epoch 37/100\n",
            "2/2 [==============================] - 0s 3ms/step - loss: 9.4627 - mae: 9.4627\n",
            "Epoch 38/100\n",
            "2/2 [==============================] - 0s 2ms/step - loss: 10.1215 - mae: 10.1215\n",
            "Epoch 39/100\n",
            "2/2 [==============================] - 0s 4ms/step - loss: 10.1802 - mae: 10.1802\n",
            "Epoch 40/100\n",
            "2/2 [==============================] - 0s 3ms/step - loss: 10.9184 - mae: 10.9184\n",
            "Epoch 41/100\n",
            "2/2 [==============================] - 0s 2ms/step - loss: 7.9077 - mae: 7.9077\n",
            "Epoch 42/100\n",
            "2/2 [==============================] - 0s 2ms/step - loss: 10.0763 - mae: 10.0763\n",
            "Epoch 43/100\n",
            "2/2 [==============================] - 0s 3ms/step - loss: 8.6899 - mae: 8.6899\n",
            "Epoch 44/100\n",
            "2/2 [==============================] - 0s 2ms/step - loss: 12.1848 - mae: 12.1848\n",
            "Epoch 45/100\n",
            "2/2 [==============================] - 0s 3ms/step - loss: 13.8046 - mae: 13.8046\n",
            "Epoch 46/100\n",
            "2/2 [==============================] - 0s 3ms/step - loss: 8.4704 - mae: 8.4704\n",
            "Epoch 47/100\n",
            "2/2 [==============================] - 0s 2ms/step - loss: 9.1193 - mae: 9.1193\n",
            "Epoch 48/100\n",
            "2/2 [==============================] - 0s 3ms/step - loss: 10.6019 - mae: 10.6019\n",
            "Epoch 49/100\n",
            "2/2 [==============================] - 0s 2ms/step - loss: 7.7377 - mae: 7.7377\n",
            "Epoch 50/100\n",
            "2/2 [==============================] - 0s 3ms/step - loss: 9.5248 - mae: 9.5248\n",
            "Epoch 51/100\n",
            "2/2 [==============================] - 0s 2ms/step - loss: 9.1491 - mae: 9.1491\n",
            "Epoch 52/100\n",
            "2/2 [==============================] - 0s 3ms/step - loss: 16.3421 - mae: 16.3421\n",
            "Epoch 53/100\n",
            "2/2 [==============================] - 0s 3ms/step - loss: 14.1324 - mae: 14.1324\n",
            "Epoch 54/100\n",
            "2/2 [==============================] - 0s 3ms/step - loss: 21.1414 - mae: 21.1414\n",
            "Epoch 55/100\n",
            "2/2 [==============================] - 0s 3ms/step - loss: 16.3755 - mae: 16.3755\n",
            "Epoch 56/100\n",
            "2/2 [==============================] - 0s 2ms/step - loss: 9.9880 - mae: 9.9880\n",
            "Epoch 57/100\n",
            "2/2 [==============================] - 0s 2ms/step - loss: 9.9453 - mae: 9.9453\n",
            "Epoch 58/100\n",
            "2/2 [==============================] - 0s 3ms/step - loss: 9.2063 - mae: 9.2063\n",
            "Epoch 59/100\n",
            "2/2 [==============================] - 0s 3ms/step - loss: 8.4105 - mae: 8.4105\n",
            "Epoch 60/100\n",
            "2/2 [==============================] - 0s 5ms/step - loss: 9.4740 - mae: 9.4740\n",
            "Epoch 61/100\n",
            "2/2 [==============================] - 0s 3ms/step - loss: 11.4166 - mae: 11.4166\n",
            "Epoch 62/100\n",
            "2/2 [==============================] - 0s 3ms/step - loss: 11.6955 - mae: 11.6955\n",
            "Epoch 63/100\n",
            "2/2 [==============================] - 0s 3ms/step - loss: 7.0719 - mae: 7.0719\n",
            "Epoch 64/100\n",
            "2/2 [==============================] - 0s 3ms/step - loss: 16.9764 - mae: 16.9764\n",
            "Epoch 65/100\n",
            "2/2 [==============================] - 0s 3ms/step - loss: 12.4639 - mae: 12.4639\n",
            "Epoch 66/100\n",
            "2/2 [==============================] - 0s 4ms/step - loss: 13.0259 - mae: 13.0259\n",
            "Epoch 67/100\n",
            "2/2 [==============================] - 0s 6ms/step - loss: 8.0575 - mae: 8.0575\n",
            "Epoch 68/100\n",
            "2/2 [==============================] - 0s 4ms/step - loss: 10.1904 - mae: 10.1904\n",
            "Epoch 69/100\n",
            "2/2 [==============================] - 0s 3ms/step - loss: 12.3715 - mae: 12.3715\n",
            "Epoch 70/100\n",
            "2/2 [==============================] - 0s 3ms/step - loss: 9.0372 - mae: 9.0372\n",
            "Epoch 71/100\n",
            "2/2 [==============================] - 0s 4ms/step - loss: 10.0228 - mae: 10.0228\n",
            "Epoch 72/100\n",
            "2/2 [==============================] - 0s 5ms/step - loss: 10.0385 - mae: 10.0385\n",
            "Epoch 73/100\n",
            "2/2 [==============================] - 0s 3ms/step - loss: 12.5957 - mae: 12.5957\n",
            "Epoch 74/100\n",
            "2/2 [==============================] - 0s 4ms/step - loss: 10.3893 - mae: 10.3893\n",
            "Epoch 75/100\n",
            "2/2 [==============================] - 0s 4ms/step - loss: 9.7091 - mae: 9.7091\n",
            "Epoch 76/100\n",
            "2/2 [==============================] - 0s 3ms/step - loss: 11.2084 - mae: 11.2084\n",
            "Epoch 77/100\n",
            "2/2 [==============================] - 0s 3ms/step - loss: 8.3513 - mae: 8.3513\n",
            "Epoch 78/100\n",
            "2/2 [==============================] - 0s 4ms/step - loss: 9.1086 - mae: 9.1086\n",
            "Epoch 79/100\n",
            "2/2 [==============================] - 0s 5ms/step - loss: 19.5193 - mae: 19.5193\n",
            "Epoch 80/100\n",
            "2/2 [==============================] - 0s 8ms/step - loss: 14.8743 - mae: 14.8743\n",
            "Epoch 81/100\n",
            "2/2 [==============================] - 0s 12ms/step - loss: 9.0128 - mae: 9.0128\n",
            "Epoch 82/100\n",
            "2/2 [==============================] - 0s 4ms/step - loss: 13.0024 - mae: 13.0024\n",
            "Epoch 83/100\n",
            "2/2 [==============================] - 0s 3ms/step - loss: 7.9140 - mae: 7.9140\n",
            "Epoch 84/100\n",
            "2/2 [==============================] - 0s 3ms/step - loss: 7.6842 - mae: 7.6842\n",
            "Epoch 85/100\n",
            "2/2 [==============================] - 0s 3ms/step - loss: 10.0359 - mae: 10.0359\n",
            "Epoch 86/100\n",
            "2/2 [==============================] - 0s 4ms/step - loss: 9.2429 - mae: 9.2429\n",
            "Epoch 87/100\n",
            "2/2 [==============================] - 0s 6ms/step - loss: 12.0268 - mae: 12.0268\n",
            "Epoch 88/100\n",
            "2/2 [==============================] - 0s 3ms/step - loss: 10.6447 - mae: 10.6447\n",
            "Epoch 89/100\n",
            "2/2 [==============================] - 0s 3ms/step - loss: 7.2602 - mae: 7.2602\n",
            "Epoch 90/100\n",
            "2/2 [==============================] - 0s 3ms/step - loss: 12.7860 - mae: 12.7860\n",
            "Epoch 91/100\n",
            "2/2 [==============================] - 0s 3ms/step - loss: 7.4673 - mae: 7.4673\n",
            "Epoch 92/100\n",
            "2/2 [==============================] - 0s 4ms/step - loss: 6.7465 - mae: 6.7465\n",
            "Epoch 93/100\n",
            "2/2 [==============================] - 0s 6ms/step - loss: 11.9362 - mae: 11.9362\n",
            "Epoch 94/100\n",
            "2/2 [==============================] - 0s 3ms/step - loss: 8.8692 - mae: 8.8692\n",
            "Epoch 95/100\n",
            "2/2 [==============================] - 0s 3ms/step - loss: 7.7097 - mae: 7.7097\n",
            "Epoch 96/100\n",
            "2/2 [==============================] - 0s 6ms/step - loss: 6.7426 - mae: 6.7426\n",
            "Epoch 97/100\n",
            "2/2 [==============================] - 0s 3ms/step - loss: 8.6192 - mae: 8.6192\n",
            "Epoch 98/100\n",
            "2/2 [==============================] - 0s 3ms/step - loss: 9.3901 - mae: 9.3901\n",
            "Epoch 99/100\n",
            "2/2 [==============================] - 0s 3ms/step - loss: 9.1252 - mae: 9.1252\n",
            "Epoch 100/100\n",
            "2/2 [==============================] - 0s 3ms/step - loss: 10.4838 - mae: 10.4838\n"
          ]
        },
        {
          "output_type": "execute_result",
          "data": {
            "text/plain": [
              "<keras.callbacks.History at 0x7fb31cd67650>"
            ]
          },
          "metadata": {},
          "execution_count": 53
        }
      ]
    },
    {
      "cell_type": "code",
      "metadata": {
        "colab": {
          "base_uri": "https://localhost:8080/"
        },
        "id": "TJ50pnpYgadr",
        "outputId": "481a9f90-28f0-475c-ba61-51d5bccc5c3c"
      },
      "source": [
        "#make  and  plot prediction for model_1\n",
        "y_pred_1=model_1.predict(X_test)\n",
        "y_pred_1"
      ],
      "execution_count": null,
      "outputs": [
        {
          "output_type": "execute_result",
          "data": {
            "text/plain": [
              "array([[56.56293 ],\n",
              "       [60.24667 ],\n",
              "       [63.93041 ],\n",
              "       [67.61415 ],\n",
              "       [71.29788 ],\n",
              "       [74.98162 ],\n",
              "       [78.66536 ],\n",
              "       [82.3491  ],\n",
              "       [86.03284 ],\n",
              "       [89.716576]], dtype=float32)"
            ]
          },
          "metadata": {},
          "execution_count": 54
        }
      ]
    },
    {
      "cell_type": "code",
      "metadata": {
        "colab": {
          "base_uri": "https://localhost:8080/",
          "height": 428
        },
        "id": "TkTsYP_Zg7Oo",
        "outputId": "59b61ae3-98d6-4ca8-de36-25f44aa7f9da"
      },
      "source": [
        "plot_prediction(prediction=y_pred_1)"
      ],
      "execution_count": null,
      "outputs": [
        {
          "output_type": "display_data",
          "data": {
            "image/png": "[encoded data removed]",
            "text/plain": [
              "<Figure size 720x504 with 1 Axes>"
            ]
          },
          "metadata": {
            "needs_background": "light"
          }
        }
      ]
    },
    {
      "cell_type": "code",
      "metadata": {
        "colab": {
          "base_uri": "https://localhost:8080/"
        },
        "id": "zAFMGy8ShPim",
        "outputId": "8ee03d10-68f9-492b-a1ed-e2f435dec1cb"
      },
      "source": [
        "##calculate model_1 evaluation metrics\n",
        "mae_1=mae(y_test,tf.squeeze(y_pred_1))\n",
        "mse_1=mse(y_test,tf.squeeze(y_pred_1))\n",
        "mae_1,mse_1"
      ],
      "execution_count": null,
      "outputs": [
        {
          "output_type": "execute_result",
          "data": {
            "text/plain": [
              "(<tf.Tensor: shape=(), dtype=float32, numpy=14.860248>,\n",
              " <tf.Tensor: shape=(), dtype=float32, numpy=221.6521>)"
            ]
          },
          "metadata": {},
          "execution_count": 56
        }
      ]
    },
    {
      "cell_type": "code",
      "metadata": {
        "colab": {
          "base_uri": "https://localhost:8080/"
        },
        "id": "b6M2i4GLhp19",
        "outputId": "4b7c15d1-505a-42b6-a872-62094e9879c8"
      },
      "source": [
        "##build model 2\n",
        "#2 dense layers trained for 100 epochs\n",
        "tf.random.set_seed(42)\n",
        "\n",
        "#1.create the model \n",
        "model_2=tf.keras.Sequential([\n",
        "                             tf.keras.layers.Dense(10),\n",
        "                             tf.keras.layers.Dense(1)\n",
        "])\n",
        "\n",
        "##2. compile the model\n",
        "model_2.compile(loss=tf.keras.losses.mae,\n",
        "                optimizer=tf.keras.optimizers.SGD(),\n",
        "                metrics=[\"mse\"])\n",
        "\n",
        "##3. fit the model\n",
        "model_2.fit(X_train,y_train,epochs=100)\n",
        "\n"
      ],
      "execution_count": null,
      "outputs": [
        {
          "output_type": "stream",
          "name": "stdout",
          "text": [
            "Epoch 1/100\n",
            "2/2 [==============================] - 0s 5ms/step - loss: 27.4058 - mse: 1084.1482\n",
            "Epoch 2/100\n",
            "2/2 [==============================] - 0s 2ms/step - loss: 24.6339 - mse: 777.9203\n",
            "Epoch 3/100\n",
            "2/2 [==============================] - 0s 4ms/step - loss: 29.8935 - mse: 1334.8956\n",
            "Epoch 4/100\n",
            "2/2 [==============================] - 0s 9ms/step - loss: 27.4055 - mse: 1106.8035\n",
            "Epoch 5/100\n",
            "2/2 [==============================] - 0s 4ms/step - loss: 14.9463 - mse: 281.1077\n",
            "Epoch 6/100\n",
            "2/2 [==============================] - 0s 7ms/step - loss: 11.8819 - mse: 168.6621\n",
            "Epoch 7/100\n",
            "2/2 [==============================] - 0s 7ms/step - loss: 11.1988 - mse: 151.3509\n",
            "Epoch 8/100\n",
            "2/2 [==============================] - 0s 9ms/step - loss: 11.0910 - mse: 160.3745\n",
            "Epoch 9/100\n",
            "2/2 [==============================] - 0s 5ms/step - loss: 40.4763 - mse: 2586.0090\n",
            "Epoch 10/100\n",
            "2/2 [==============================] - 0s 5ms/step - loss: 27.8688 - mse: 1094.4382\n",
            "Epoch 11/100\n",
            "2/2 [==============================] - 0s 5ms/step - loss: 10.2473 - mse: 147.9359\n",
            "Epoch 12/100\n",
            "2/2 [==============================] - 0s 6ms/step - loss: 25.2803 - mse: 890.3866\n",
            "Epoch 13/100\n",
            "2/2 [==============================] - 0s 5ms/step - loss: 16.9897 - mse: 399.9678\n",
            "Epoch 14/100\n",
            "2/2 [==============================] - 0s 6ms/step - loss: 25.9217 - mse: 1049.5515\n",
            "Epoch 15/100\n",
            "2/2 [==============================] - 0s 7ms/step - loss: 17.9948 - mse: 450.2580\n",
            "Epoch 16/100\n",
            "2/2 [==============================] - 0s 2ms/step - loss: 7.3510 - mse: 80.6206\n",
            "Epoch 17/100\n",
            "2/2 [==============================] - 0s 6ms/step - loss: 10.8636 - mse: 174.7868\n",
            "Epoch 18/100\n",
            "2/2 [==============================] - 0s 5ms/step - loss: 19.5304 - mse: 565.8053\n",
            "Epoch 19/100\n",
            "2/2 [==============================] - 0s 4ms/step - loss: 10.3469 - mse: 167.7749\n",
            "Epoch 20/100\n",
            "2/2 [==============================] - 0s 8ms/step - loss: 17.6985 - mse: 455.7096\n",
            "Epoch 21/100\n",
            "2/2 [==============================] - 0s 7ms/step - loss: 15.8984 - mse: 347.1929\n",
            "Epoch 22/100\n",
            "2/2 [==============================] - 0s 4ms/step - loss: 14.1991 - mse: 285.1767\n",
            "Epoch 23/100\n",
            "2/2 [==============================] - 0s 6ms/step - loss: 8.7720 - mse: 91.7852\n",
            "Epoch 24/100\n",
            "2/2 [==============================] - 0s 7ms/step - loss: 11.0570 - mse: 153.7430\n",
            "Epoch 25/100\n",
            "2/2 [==============================] - 0s 7ms/step - loss: 12.6838 - mse: 233.2949\n",
            "Epoch 26/100\n",
            "2/2 [==============================] - 0s 9ms/step - loss: 26.1877 - mse: 1024.6091\n",
            "Epoch 27/100\n",
            "2/2 [==============================] - 0s 5ms/step - loss: 11.7432 - mse: 194.8454\n",
            "Epoch 28/100\n",
            "2/2 [==============================] - 0s 8ms/step - loss: 22.8730 - mse: 835.6074\n",
            "Epoch 29/100\n",
            "2/2 [==============================] - 0s 5ms/step - loss: 9.2459 - mse: 96.7786\n",
            "Epoch 30/100\n",
            "2/2 [==============================] - 0s 3ms/step - loss: 29.2641 - mse: 1535.1349\n",
            "Epoch 31/100\n",
            "2/2 [==============================] - 0s 4ms/step - loss: 53.0225 - mse: 5030.2988\n",
            "Epoch 32/100\n",
            "2/2 [==============================] - 0s 5ms/step - loss: 11.9951 - mse: 211.7025\n",
            "Epoch 33/100\n",
            "2/2 [==============================] - 0s 5ms/step - loss: 15.6357 - mse: 337.3666\n",
            "Epoch 34/100\n",
            "2/2 [==============================] - 0s 6ms/step - loss: 12.6925 - mse: 214.4824\n",
            "Epoch 35/100\n",
            "2/2 [==============================] - 0s 3ms/step - loss: 9.2398 - mse: 92.9126\n",
            "Epoch 36/100\n",
            "2/2 [==============================] - 0s 9ms/step - loss: 16.6497 - mse: 403.6573\n",
            "Epoch 37/100\n",
            "2/2 [==============================] - 0s 7ms/step - loss: 11.0382 - mse: 192.3919\n",
            "Epoch 38/100\n",
            "2/2 [==============================] - 0s 5ms/step - loss: 18.1634 - mse: 433.6717\n",
            "Epoch 39/100\n",
            "2/2 [==============================] - 0s 3ms/step - loss: 19.1013 - mse: 529.6439\n",
            "Epoch 40/100\n",
            "2/2 [==============================] - 0s 2ms/step - loss: 20.4324 - mse: 610.1324\n",
            "Epoch 41/100\n",
            "2/2 [==============================] - 0s 3ms/step - loss: 14.9102 - mse: 279.6183\n",
            "Epoch 42/100\n",
            "2/2 [==============================] - 0s 3ms/step - loss: 12.2809 - mse: 186.6180\n",
            "Epoch 43/100\n",
            "2/2 [==============================] - 0s 3ms/step - loss: 10.7333 - mse: 167.0952\n",
            "Epoch 44/100\n",
            "2/2 [==============================] - 0s 5ms/step - loss: 23.0260 - mse: 830.4244\n",
            "Epoch 45/100\n",
            "2/2 [==============================] - 0s 3ms/step - loss: 10.3897 - mse: 128.9549\n",
            "Epoch 46/100\n",
            "2/2 [==============================] - 0s 3ms/step - loss: 11.7904 - mse: 181.9212\n",
            "Epoch 47/100\n",
            "2/2 [==============================] - 0s 3ms/step - loss: 9.6438 - mse: 153.8708\n",
            "Epoch 48/100\n",
            "2/2 [==============================] - 0s 3ms/step - loss: 17.2335 - mse: 402.8494\n",
            "Epoch 49/100\n",
            "2/2 [==============================] - 0s 5ms/step - loss: 9.5729 - mse: 99.8337\n",
            "Epoch 50/100\n",
            "2/2 [==============================] - 0s 8ms/step - loss: 13.8185 - mse: 260.3670\n",
            "Epoch 51/100\n",
            "2/2 [==============================] - 0s 4ms/step - loss: 11.5958 - mse: 154.7956\n",
            "Epoch 52/100\n",
            "2/2 [==============================] - 0s 3ms/step - loss: 30.5538 - mse: 1613.0886\n",
            "Epoch 53/100\n",
            "2/2 [==============================] - 0s 3ms/step - loss: 14.3541 - mse: 302.5293\n",
            "Epoch 54/100\n",
            "2/2 [==============================] - 0s 4ms/step - loss: 23.9713 - mse: 859.3983\n",
            "Epoch 55/100\n",
            "2/2 [==============================] - 0s 3ms/step - loss: 23.1938 - mse: 805.5452\n",
            "Epoch 56/100\n",
            "2/2 [==============================] - 0s 3ms/step - loss: 10.8837 - mse: 170.9834\n",
            "Epoch 57/100\n",
            "2/2 [==============================] - 0s 4ms/step - loss: 12.7445 - mse: 198.7015\n",
            "Epoch 58/100\n",
            "2/2 [==============================] - 0s 3ms/step - loss: 9.5995 - mse: 102.5890\n",
            "Epoch 59/100\n",
            "2/2 [==============================] - 0s 4ms/step - loss: 12.5172 - mse: 216.3367\n",
            "Epoch 60/100\n",
            "2/2 [==============================] - 0s 17ms/step - loss: 12.3200 - mse: 208.6371\n",
            "Epoch 61/100\n",
            "2/2 [==============================] - 0s 7ms/step - loss: 17.4604 - mse: 428.6393\n",
            "Epoch 62/100\n",
            "2/2 [==============================] - 0s 6ms/step - loss: 10.6052 - mse: 136.9777\n",
            "Epoch 63/100\n",
            "2/2 [==============================] - 0s 7ms/step - loss: 10.4893 - mse: 152.4555\n",
            "Epoch 64/100\n",
            "2/2 [==============================] - 0s 3ms/step - loss: 24.8450 - mse: 911.7512\n",
            "Epoch 65/100\n",
            "2/2 [==============================] - 0s 3ms/step - loss: 10.6761 - mse: 142.7374\n",
            "Epoch 66/100\n",
            "2/2 [==============================] - 0s 12ms/step - loss: 21.7809 - mse: 704.4492\n",
            "Epoch 67/100\n",
            "2/2 [==============================] - 0s 4ms/step - loss: 10.7136 - mse: 136.0194\n",
            "Epoch 68/100\n",
            "2/2 [==============================] - 0s 9ms/step - loss: 10.6397 - mse: 149.2300\n",
            "Epoch 69/100\n",
            "2/2 [==============================] - 0s 13ms/step - loss: 22.6914 - mse: 742.1761\n",
            "Epoch 70/100\n",
            "2/2 [==============================] - 0s 6ms/step - loss: 9.3316 - mse: 166.1628\n",
            "Epoch 71/100\n",
            "2/2 [==============================] - 0s 5ms/step - loss: 15.4355 - mse: 323.0843\n",
            "Epoch 72/100\n",
            "2/2 [==============================] - 0s 4ms/step - loss: 6.7437 - mse: 67.0210\n",
            "Epoch 73/100\n",
            "2/2 [==============================] - 0s 3ms/step - loss: 11.6891 - mse: 183.7296\n",
            "Epoch 74/100\n",
            "2/2 [==============================] - 0s 3ms/step - loss: 24.0400 - mse: 908.8992\n",
            "Epoch 75/100\n",
            "2/2 [==============================] - 0s 3ms/step - loss: 9.5896 - mse: 149.3948\n",
            "Epoch 76/100\n",
            "2/2 [==============================] - 0s 5ms/step - loss: 12.4371 - mse: 188.3310\n",
            "Epoch 77/100\n",
            "2/2 [==============================] - 0s 4ms/step - loss: 16.6489 - mse: 429.2708\n",
            "Epoch 78/100\n",
            "2/2 [==============================] - 0s 3ms/step - loss: 9.0614 - mse: 95.4870\n",
            "Epoch 79/100\n",
            "2/2 [==============================] - 0s 4ms/step - loss: 23.9675 - mse: 864.0864\n",
            "Epoch 80/100\n",
            "2/2 [==============================] - 0s 4ms/step - loss: 26.7463 - mse: 1104.4032\n",
            "Epoch 81/100\n",
            "2/2 [==============================] - 0s 3ms/step - loss: 11.6714 - mse: 170.7055\n",
            "Epoch 82/100\n",
            "2/2 [==============================] - 0s 4ms/step - loss: 12.0228 - mse: 211.9191\n",
            "Epoch 83/100\n",
            "2/2 [==============================] - 0s 5ms/step - loss: 17.4218 - mse: 395.5589\n",
            "Epoch 84/100\n",
            "2/2 [==============================] - 0s 5ms/step - loss: 7.2629 - mse: 73.0935\n",
            "Epoch 85/100\n",
            "2/2 [==============================] - 0s 5ms/step - loss: 14.9650 - mse: 312.8361\n",
            "Epoch 86/100\n",
            "2/2 [==============================] - 0s 4ms/step - loss: 15.2862 - mse: 315.3605\n",
            "Epoch 87/100\n",
            "2/2 [==============================] - 0s 5ms/step - loss: 19.1086 - mse: 521.2534\n",
            "Epoch 88/100\n",
            "2/2 [==============================] - 0s 8ms/step - loss: 29.8229 - mse: 1287.1907\n",
            "Epoch 89/100\n",
            "2/2 [==============================] - 0s 6ms/step - loss: 10.1742 - mse: 124.1342\n",
            "Epoch 90/100\n",
            "2/2 [==============================] - 0s 8ms/step - loss: 21.5240 - mse: 663.8611\n",
            "Epoch 91/100\n",
            "2/2 [==============================] - 0s 8ms/step - loss: 10.5716 - mse: 161.7467\n",
            "Epoch 92/100\n",
            "2/2 [==============================] - 0s 6ms/step - loss: 18.3977 - mse: 464.1326\n",
            "Epoch 93/100\n",
            "2/2 [==============================] - 0s 5ms/step - loss: 7.4138 - mse: 81.9820\n",
            "Epoch 94/100\n",
            "2/2 [==============================] - 0s 4ms/step - loss: 17.7380 - mse: 445.7379\n",
            "Epoch 95/100\n",
            "2/2 [==============================] - 0s 7ms/step - loss: 11.1144 - mse: 164.0820\n",
            "Epoch 96/100\n",
            "2/2 [==============================] - 0s 3ms/step - loss: 19.4346 - mse: 510.5842\n",
            "Epoch 97/100\n",
            "2/2 [==============================] - 0s 6ms/step - loss: 12.1593 - mse: 209.9755\n",
            "Epoch 98/100\n",
            "2/2 [==============================] - 0s 7ms/step - loss: 11.5653 - mse: 169.4052\n",
            "Epoch 99/100\n",
            "2/2 [==============================] - 0s 3ms/step - loss: 13.8827 - mse: 265.4630\n",
            "Epoch 100/100\n",
            "2/2 [==============================] - 0s 4ms/step - loss: 20.2277 - mse: 608.8218\n"
          ]
        },
        {
          "output_type": "execute_result",
          "data": {
            "text/plain": [
              "<keras.callbacks.History at 0x7fb31cb74910>"
            ]
          },
          "metadata": {},
          "execution_count": 57
        }
      ]
    },
    {
      "cell_type": "code",
      "metadata": {
        "colab": {
          "base_uri": "https://localhost:8080/"
        },
        "id": "trhUO3YmjS7n",
        "outputId": "32af85df-3ae4-4458-e660-6ba0784dd377"
      },
      "source": [
        "y_pred_2=model_2.predict(X_test)\n",
        "y_pred_2"
      ],
      "execution_count": null,
      "outputs": [
        {
          "output_type": "stream",
          "name": "stdout",
          "text": [
            "WARNING:tensorflow:5 out of the last 5 calls to <function Model.make_predict_function.<locals>.predict_function at 0x7fb31c9df950> triggered tf.function retracing. Tracing is expensive and the excessive number of tracings could be due to (1) creating @tf.function repeatedly in a loop, (2) passing tensors with different shapes, (3) passing Python objects instead of tensors. For (1), please define your @tf.function outside of the loop. For (2), @tf.function has experimental_relax_shapes=True option that relaxes argument shapes that can avoid unnecessary retracing. For (3), please refer to https://www.tensorflow.org/guide/function#controlling_retracing and https://www.tensorflow.org/api_docs/python/tf/function for  more details.\n"
          ]
        },
        {
          "output_type": "execute_result",
          "data": {
            "text/plain": [
              "array([[ 70.55218 ],\n",
              "       [ 75.13991 ],\n",
              "       [ 79.72763 ],\n",
              "       [ 84.31535 ],\n",
              "       [ 88.903076],\n",
              "       [ 93.49081 ],\n",
              "       [ 98.07853 ],\n",
              "       [102.66625 ],\n",
              "       [107.253975],\n",
              "       [111.8417  ]], dtype=float32)"
            ]
          },
          "metadata": {},
          "execution_count": 58
        }
      ]
    },
    {
      "cell_type": "code",
      "metadata": {
        "colab": {
          "base_uri": "https://localhost:8080/"
        },
        "id": "vX_C3_5MjgWx",
        "outputId": "dc4bdb4e-79d9-4e68-a0a0-14a1a56f5fb3"
      },
      "source": [
        "y_test"
      ],
      "execution_count": null,
      "outputs": [
        {
          "output_type": "execute_result",
          "data": {
            "text/plain": [
              "<tf.Tensor: shape=(10,), dtype=int32, numpy=array([ 70,  74,  78,  82,  86,  90,  94,  98, 102, 106], dtype=int32)>"
            ]
          },
          "metadata": {},
          "execution_count": 59
        }
      ]
    },
    {
      "cell_type": "code",
      "metadata": {
        "colab": {
          "base_uri": "https://localhost:8080/"
        },
        "id": "3dI3WDUgjiE5",
        "outputId": "e7b5ae57-a014-4392-85f1-f54ae45ce79c"
      },
      "source": [
        "##make and plot prediction\n",
        "y_pred_2=model_2.predict(X_test)\n",
        "y_pred_2"
      ],
      "execution_count": null,
      "outputs": [
        {
          "output_type": "execute_result",
          "data": {
            "text/plain": [
              "array([[ 70.55218 ],\n",
              "       [ 75.13991 ],\n",
              "       [ 79.72763 ],\n",
              "       [ 84.31535 ],\n",
              "       [ 88.903076],\n",
              "       [ 93.49081 ],\n",
              "       [ 98.07853 ],\n",
              "       [102.66625 ],\n",
              "       [107.253975],\n",
              "       [111.8417  ]], dtype=float32)"
            ]
          },
          "metadata": {},
          "execution_count": 60
        }
      ]
    },
    {
      "cell_type": "code",
      "metadata": {
        "colab": {
          "base_uri": "https://localhost:8080/",
          "height": 428
        },
        "id": "RIiMq65Zj0oR",
        "outputId": "57d8f25a-5422-4929-acac-7f1fdd221288"
      },
      "source": [
        "plot_prediction(prediction=y_pred_2)"
      ],
      "execution_count": null,
      "outputs": [
        {
          "output_type": "display_data",
          "data": {
            "image/png": "[encoded data removed]",
            "text/plain": [
              "<Figure size 720x504 with 1 Axes>"
            ]
          },
          "metadata": {
            "needs_background": "light"
          }
        }
      ]
    },
    {
      "cell_type": "code",
      "metadata": {
        "colab": {
          "base_uri": "https://localhost:8080/"
        },
        "id": "NRzl0tfRj5zJ",
        "outputId": "444e859d-148c-4515-99bd-10ce2fbca529"
      },
      "source": [
        "##calculate the model evaluation metrics\n",
        "mae_2=mae(y_test,tf.squeeze(y_pred_2))\n",
        "mse_2=mse(y_test,tf.squeeze(y_pred_2))\n",
        "mae_2,mse_2"
      ],
      "execution_count": null,
      "outputs": [
        {
          "output_type": "execute_result",
          "data": {
            "text/plain": [
              "(<tf.Tensor: shape=(), dtype=float32, numpy=3.1969407>,\n",
              " <tf.Tensor: shape=(), dtype=float32, numpy=13.070143>)"
            ]
          },
          "metadata": {},
          "execution_count": 62
        }
      ]
    },
    {
      "cell_type": "code",
      "metadata": {
        "colab": {
          "base_uri": "https://localhost:8080/"
        },
        "id": "7fOnZbC5kUHJ",
        "outputId": "0448f956-8382-49f4-d8ef-1b5df5d652b5"
      },
      "source": [
        "# build model--3\n",
        "#3 layers and trained for 500 epochs\n",
        "#set random seeed\n",
        "tf.random.set_seed(50)\n",
        "\n",
        "#1.create model_3\n",
        "model_3=tf.keras.Sequential([\n",
        "                             tf.keras.layers.Dense(100),\n",
        "                             tf.keras.layers.Dense(50),\n",
        "                             tf.keras.layers.Dense(1)\n",
        "])\n",
        "\n",
        "##2. compile our model\n",
        "model_3.compile(loss=tf.keras.losses.mae,\n",
        "                optimizer=tf.keras.optimizers.SGD(),\n",
        "                metrics=[\"mae\"])\n",
        "\n",
        "##3. fit the model\n",
        "model_3.fit(X_train,y_train,epochs=500)"
      ],
      "execution_count": null,
      "outputs": [
        {
          "output_type": "stream",
          "name": "stdout",
          "text": [
            "Epoch 1/500\n",
            "2/2 [==============================] - 0s 3ms/step - loss: 36.5826 - mae: 36.5826\n",
            "Epoch 2/500\n",
            "2/2 [==============================] - 0s 3ms/step - loss: 45.1856 - mae: 45.1856\n",
            "Epoch 3/500\n",
            "2/2 [==============================] - 0s 3ms/step - loss: 30.2020 - mae: 30.2020\n",
            "Epoch 4/500\n",
            "2/2 [==============================] - 0s 4ms/step - loss: 26.3074 - mae: 26.3074\n",
            "Epoch 5/500\n",
            "2/2 [==============================] - 0s 8ms/step - loss: 31.1371 - mae: 31.1371\n",
            "Epoch 6/500\n",
            "2/2 [==============================] - 0s 7ms/step - loss: 15.5187 - mae: 15.5187\n",
            "Epoch 7/500\n",
            "2/2 [==============================] - 0s 5ms/step - loss: 14.8102 - mae: 14.8102\n",
            "Epoch 8/500\n",
            "2/2 [==============================] - 0s 3ms/step - loss: 21.9072 - mae: 21.9072\n",
            "Epoch 9/500\n",
            "2/2 [==============================] - 0s 5ms/step - loss: 10.7176 - mae: 10.7176\n",
            "Epoch 10/500\n",
            "2/2 [==============================] - 0s 6ms/step - loss: 28.5105 - mae: 28.5105\n",
            "Epoch 11/500\n",
            "2/2 [==============================] - 0s 3ms/step - loss: 13.4789 - mae: 13.4789\n",
            "Epoch 12/500\n",
            "2/2 [==============================] - 0s 5ms/step - loss: 9.6214 - mae: 9.6214\n",
            "Epoch 13/500\n",
            "2/2 [==============================] - 0s 3ms/step - loss: 13.2279 - mae: 13.2279\n",
            "Epoch 14/500\n",
            "2/2 [==============================] - 0s 5ms/step - loss: 14.0348 - mae: 14.0348\n",
            "Epoch 15/500\n",
            "2/2 [==============================] - 0s 7ms/step - loss: 31.9001 - mae: 31.9001\n",
            "Epoch 16/500\n",
            "2/2 [==============================] - 0s 3ms/step - loss: 25.0166 - mae: 25.0166\n",
            "Epoch 17/500\n",
            "2/2 [==============================] - 0s 2ms/step - loss: 29.9648 - mae: 29.9648\n",
            "Epoch 18/500\n",
            "2/2 [==============================] - 0s 5ms/step - loss: 21.4259 - mae: 21.4259\n",
            "Epoch 19/500\n",
            "2/2 [==============================] - 0s 7ms/step - loss: 10.5052 - mae: 10.5052\n",
            "Epoch 20/500\n",
            "2/2 [==============================] - 0s 5ms/step - loss: 7.4406 - mae: 7.4406\n",
            "Epoch 21/500\n",
            "2/2 [==============================] - 0s 4ms/step - loss: 63.2581 - mae: 63.2581\n",
            "Epoch 22/500\n",
            "2/2 [==============================] - 0s 4ms/step - loss: 26.5360 - mae: 26.5360\n",
            "Epoch 23/500\n",
            "2/2 [==============================] - 0s 4ms/step - loss: 20.3302 - mae: 20.3302\n",
            "Epoch 24/500\n",
            "2/2 [==============================] - 0s 8ms/step - loss: 20.6246 - mae: 20.6246\n",
            "Epoch 25/500\n",
            "2/2 [==============================] - 0s 5ms/step - loss: 24.4611 - mae: 24.4611\n",
            "Epoch 26/500\n",
            "2/2 [==============================] - 0s 3ms/step - loss: 24.2286 - mae: 24.2286\n",
            "Epoch 27/500\n",
            "2/2 [==============================] - 0s 4ms/step - loss: 11.8251 - mae: 11.8251\n",
            "Epoch 28/500\n",
            "2/2 [==============================] - 0s 5ms/step - loss: 24.2936 - mae: 24.2936\n",
            "Epoch 29/500\n",
            "2/2 [==============================] - 0s 5ms/step - loss: 14.4114 - mae: 14.4114\n",
            "Epoch 30/500\n",
            "2/2 [==============================] - 0s 4ms/step - loss: 16.2597 - mae: 16.2597\n",
            "Epoch 31/500\n",
            "2/2 [==============================] - 0s 10ms/step - loss: 37.8159 - mae: 37.8159\n",
            "Epoch 32/500\n",
            "2/2 [==============================] - 0s 7ms/step - loss: 32.4070 - mae: 32.4070\n",
            "Epoch 33/500\n",
            "2/2 [==============================] - 0s 3ms/step - loss: 19.7485 - mae: 19.7485\n",
            "Epoch 34/500\n",
            "2/2 [==============================] - 0s 6ms/step - loss: 32.2581 - mae: 32.2581\n",
            "Epoch 35/500\n",
            "2/2 [==============================] - 0s 9ms/step - loss: 18.1804 - mae: 18.1804\n",
            "Epoch 36/500\n",
            "2/2 [==============================] - 0s 6ms/step - loss: 34.0841 - mae: 34.0841\n",
            "Epoch 37/500\n",
            "2/2 [==============================] - 0s 3ms/step - loss: 17.0397 - mae: 17.0397\n",
            "Epoch 38/500\n",
            "2/2 [==============================] - 0s 5ms/step - loss: 15.1439 - mae: 15.1439\n",
            "Epoch 39/500\n",
            "2/2 [==============================] - 0s 4ms/step - loss: 15.0296 - mae: 15.0296\n",
            "Epoch 40/500\n",
            "2/2 [==============================] - 0s 5ms/step - loss: 28.8277 - mae: 28.8277\n",
            "Epoch 41/500\n",
            "2/2 [==============================] - 0s 4ms/step - loss: 10.3820 - mae: 10.3820\n",
            "Epoch 42/500\n",
            "2/2 [==============================] - 0s 4ms/step - loss: 12.6537 - mae: 12.6537\n",
            "Epoch 43/500\n",
            "2/2 [==============================] - 0s 3ms/step - loss: 15.3195 - mae: 15.3195\n",
            "Epoch 44/500\n",
            "2/2 [==============================] - 0s 3ms/step - loss: 12.2290 - mae: 12.2290\n",
            "Epoch 45/500\n",
            "2/2 [==============================] - 0s 3ms/step - loss: 24.0201 - mae: 24.0201\n",
            "Epoch 46/500\n",
            "2/2 [==============================] - 0s 5ms/step - loss: 16.4357 - mae: 16.4357\n",
            "Epoch 47/500\n",
            "2/2 [==============================] - 0s 5ms/step - loss: 26.9985 - mae: 26.9985\n",
            "Epoch 48/500\n",
            "2/2 [==============================] - 0s 6ms/step - loss: 19.9273 - mae: 19.9273\n",
            "Epoch 49/500\n",
            "2/2 [==============================] - 0s 3ms/step - loss: 16.1729 - mae: 16.1729\n",
            "Epoch 50/500\n",
            "2/2 [==============================] - 0s 3ms/step - loss: 20.2081 - mae: 20.2081\n",
            "Epoch 51/500\n",
            "2/2 [==============================] - 0s 3ms/step - loss: 16.0630 - mae: 16.0630\n",
            "Epoch 52/500\n",
            "2/2 [==============================] - 0s 5ms/step - loss: 30.2292 - mae: 30.2292\n",
            "Epoch 53/500\n",
            "2/2 [==============================] - 0s 3ms/step - loss: 9.4437 - mae: 9.4437\n",
            "Epoch 54/500\n",
            "2/2 [==============================] - 0s 5ms/step - loss: 26.6521 - mae: 26.6521\n",
            "Epoch 55/500\n",
            "2/2 [==============================] - 0s 5ms/step - loss: 16.7628 - mae: 16.7628\n",
            "Epoch 56/500\n",
            "2/2 [==============================] - 0s 5ms/step - loss: 21.3768 - mae: 21.3768\n",
            "Epoch 57/500\n",
            "2/2 [==============================] - 0s 3ms/step - loss: 41.2956 - mae: 41.2956\n",
            "Epoch 58/500\n",
            "2/2 [==============================] - 0s 3ms/step - loss: 20.8019 - mae: 20.8019\n",
            "Epoch 59/500\n",
            "2/2 [==============================] - 0s 2ms/step - loss: 40.2950 - mae: 40.2950\n",
            "Epoch 60/500\n",
            "2/2 [==============================] - 0s 4ms/step - loss: 26.2806 - mae: 26.2806\n",
            "Epoch 61/500\n",
            "2/2 [==============================] - 0s 9ms/step - loss: 25.9492 - mae: 25.9492\n",
            "Epoch 62/500\n",
            "2/2 [==============================] - 0s 3ms/step - loss: 19.1467 - mae: 19.1467\n",
            "Epoch 63/500\n",
            "2/2 [==============================] - 0s 4ms/step - loss: 33.7704 - mae: 33.7704\n",
            "Epoch 64/500\n",
            "2/2 [==============================] - 0s 3ms/step - loss: 17.9965 - mae: 17.9965\n",
            "Epoch 65/500\n",
            "2/2 [==============================] - 0s 8ms/step - loss: 20.2901 - mae: 20.2901\n",
            "Epoch 66/500\n",
            "2/2 [==============================] - 0s 3ms/step - loss: 20.1864 - mae: 20.1864\n",
            "Epoch 67/500\n",
            "2/2 [==============================] - 0s 11ms/step - loss: 19.3328 - mae: 19.3328\n",
            "Epoch 68/500\n",
            "2/2 [==============================] - 0s 6ms/step - loss: 13.2410 - mae: 13.2410\n",
            "Epoch 69/500\n",
            "2/2 [==============================] - 0s 11ms/step - loss: 15.7899 - mae: 15.7899\n",
            "Epoch 70/500\n",
            "2/2 [==============================] - 0s 3ms/step - loss: 19.1887 - mae: 19.1887\n",
            "Epoch 71/500\n",
            "2/2 [==============================] - 0s 5ms/step - loss: 28.0920 - mae: 28.0920\n",
            "Epoch 72/500\n",
            "2/2 [==============================] - 0s 5ms/step - loss: 17.7260 - mae: 17.7260\n",
            "Epoch 73/500\n",
            "2/2 [==============================] - 0s 6ms/step - loss: 21.6596 - mae: 21.6596\n",
            "Epoch 74/500\n",
            "2/2 [==============================] - 0s 6ms/step - loss: 15.6387 - mae: 15.6387\n",
            "Epoch 75/500\n",
            "2/2 [==============================] - 0s 6ms/step - loss: 21.9618 - mae: 21.9618\n",
            "Epoch 76/500\n",
            "2/2 [==============================] - 0s 2ms/step - loss: 33.8283 - mae: 33.8283\n",
            "Epoch 77/500\n",
            "2/2 [==============================] - 0s 5ms/step - loss: 18.3090 - mae: 18.3090\n",
            "Epoch 78/500\n",
            "2/2 [==============================] - 0s 3ms/step - loss: 32.4173 - mae: 32.4173\n",
            "Epoch 79/500\n",
            "2/2 [==============================] - 0s 9ms/step - loss: 15.1788 - mae: 15.1788\n",
            "Epoch 80/500\n",
            "2/2 [==============================] - 0s 4ms/step - loss: 31.5668 - mae: 31.5668\n",
            "Epoch 81/500\n",
            "2/2 [==============================] - 0s 5ms/step - loss: 14.1071 - mae: 14.1071\n",
            "Epoch 82/500\n",
            "2/2 [==============================] - 0s 7ms/step - loss: 29.2926 - mae: 29.2926\n",
            "Epoch 83/500\n",
            "2/2 [==============================] - 0s 6ms/step - loss: 14.3112 - mae: 14.3112\n",
            "Epoch 84/500\n",
            "2/2 [==============================] - 0s 5ms/step - loss: 16.8787 - mae: 16.8787\n",
            "Epoch 85/500\n",
            "2/2 [==============================] - 0s 6ms/step - loss: 36.5454 - mae: 36.5454\n",
            "Epoch 86/500\n",
            "2/2 [==============================] - 0s 5ms/step - loss: 26.2386 - mae: 26.2386\n",
            "Epoch 87/500\n",
            "2/2 [==============================] - 0s 4ms/step - loss: 9.5498 - mae: 9.5498\n",
            "Epoch 88/500\n",
            "2/2 [==============================] - 0s 6ms/step - loss: 15.6583 - mae: 15.6583\n",
            "Epoch 89/500\n",
            "2/2 [==============================] - 0s 4ms/step - loss: 10.6886 - mae: 10.6886\n",
            "Epoch 90/500\n",
            "2/2 [==============================] - 0s 5ms/step - loss: 17.5799 - mae: 17.5799\n",
            "Epoch 91/500\n",
            "2/2 [==============================] - 0s 6ms/step - loss: 30.4704 - mae: 30.4704\n",
            "Epoch 92/500\n",
            "2/2 [==============================] - 0s 3ms/step - loss: 10.7587 - mae: 10.7587\n",
            "Epoch 93/500\n",
            "2/2 [==============================] - 0s 9ms/step - loss: 28.6988 - mae: 28.6988\n",
            "Epoch 94/500\n",
            "2/2 [==============================] - 0s 4ms/step - loss: 23.1985 - mae: 23.1985\n",
            "Epoch 95/500\n",
            "2/2 [==============================] - 0s 7ms/step - loss: 34.4754 - mae: 34.4754\n",
            "Epoch 96/500\n",
            "2/2 [==============================] - 0s 9ms/step - loss: 23.5128 - mae: 23.5128\n",
            "Epoch 97/500\n",
            "2/2 [==============================] - 0s 3ms/step - loss: 27.5555 - mae: 27.5555\n",
            "Epoch 98/500\n",
            "2/2 [==============================] - 0s 6ms/step - loss: 13.6499 - mae: 13.6499\n",
            "Epoch 99/500\n",
            "2/2 [==============================] - 0s 7ms/step - loss: 32.4674 - mae: 32.4674\n",
            "Epoch 100/500\n",
            "2/2 [==============================] - 0s 7ms/step - loss: 16.4692 - mae: 16.4692\n",
            "Epoch 101/500\n",
            "2/2 [==============================] - 0s 5ms/step - loss: 27.7694 - mae: 27.7694\n",
            "Epoch 102/500\n",
            "2/2 [==============================] - 0s 6ms/step - loss: 22.4350 - mae: 22.4350\n",
            "Epoch 103/500\n",
            "2/2 [==============================] - 0s 5ms/step - loss: 22.5678 - mae: 22.5678\n",
            "Epoch 104/500\n",
            "2/2 [==============================] - 0s 7ms/step - loss: 17.1792 - mae: 17.1792\n",
            "Epoch 105/500\n",
            "2/2 [==============================] - 0s 10ms/step - loss: 19.0136 - mae: 19.0136\n",
            "Epoch 106/500\n",
            "2/2 [==============================] - 0s 9ms/step - loss: 14.8934 - mae: 14.8934\n",
            "Epoch 107/500\n",
            "2/2 [==============================] - 0s 6ms/step - loss: 20.0362 - mae: 20.0362\n",
            "Epoch 108/500\n",
            "2/2 [==============================] - 0s 3ms/step - loss: 19.0990 - mae: 19.0990\n",
            "Epoch 109/500\n",
            "2/2 [==============================] - 0s 5ms/step - loss: 12.0503 - mae: 12.0503\n",
            "Epoch 110/500\n",
            "2/2 [==============================] - 0s 4ms/step - loss: 35.5004 - mae: 35.5004\n",
            "Epoch 111/500\n",
            "2/2 [==============================] - 0s 8ms/step - loss: 22.6691 - mae: 22.6691\n",
            "Epoch 112/500\n",
            "2/2 [==============================] - 0s 7ms/step - loss: 24.3155 - mae: 24.3155\n",
            "Epoch 113/500\n",
            "2/2 [==============================] - 0s 3ms/step - loss: 24.6777 - mae: 24.6777\n",
            "Epoch 114/500\n",
            "2/2 [==============================] - 0s 3ms/step - loss: 41.0085 - mae: 41.0085\n",
            "Epoch 115/500\n",
            "2/2 [==============================] - 0s 3ms/step - loss: 20.9031 - mae: 20.9031\n",
            "Epoch 116/500\n",
            "2/2 [==============================] - 0s 3ms/step - loss: 23.5527 - mae: 23.5527\n",
            "Epoch 117/500\n",
            "2/2 [==============================] - 0s 5ms/step - loss: 33.1411 - mae: 33.1411\n",
            "Epoch 118/500\n",
            "2/2 [==============================] - 0s 3ms/step - loss: 18.0269 - mae: 18.0269\n",
            "Epoch 119/500\n",
            "2/2 [==============================] - 0s 7ms/step - loss: 37.2188 - mae: 37.2188\n",
            "Epoch 120/500\n",
            "2/2 [==============================] - 0s 5ms/step - loss: 29.9609 - mae: 29.9609\n",
            "Epoch 121/500\n",
            "2/2 [==============================] - 0s 3ms/step - loss: 10.3723 - mae: 10.3723\n",
            "Epoch 122/500\n",
            "2/2 [==============================] - 0s 6ms/step - loss: 15.3635 - mae: 15.3635\n",
            "Epoch 123/500\n",
            "2/2 [==============================] - 0s 5ms/step - loss: 36.5460 - mae: 36.5460\n",
            "Epoch 124/500\n",
            "2/2 [==============================] - 0s 5ms/step - loss: 23.9759 - mae: 23.9759\n",
            "Epoch 125/500\n",
            "2/2 [==============================] - 0s 6ms/step - loss: 46.9342 - mae: 46.9342\n",
            "Epoch 126/500\n",
            "2/2 [==============================] - 0s 5ms/step - loss: 17.1612 - mae: 17.1612\n",
            "Epoch 127/500\n",
            "2/2 [==============================] - 0s 10ms/step - loss: 18.1471 - mae: 18.1471\n",
            "Epoch 128/500\n",
            "2/2 [==============================] - 0s 7ms/step - loss: 11.2501 - mae: 11.2501\n",
            "Epoch 129/500\n",
            "2/2 [==============================] - 0s 6ms/step - loss: 11.0607 - mae: 11.0607\n",
            "Epoch 130/500\n",
            "2/2 [==============================] - 0s 3ms/step - loss: 29.4588 - mae: 29.4588\n",
            "Epoch 131/500\n",
            "2/2 [==============================] - 0s 5ms/step - loss: 23.7428 - mae: 23.7428\n",
            "Epoch 132/500\n",
            "2/2 [==============================] - 0s 9ms/step - loss: 33.5699 - mae: 33.5699\n",
            "Epoch 133/500\n",
            "2/2 [==============================] - 0s 4ms/step - loss: 32.2201 - mae: 32.2201\n",
            "Epoch 134/500\n",
            "2/2 [==============================] - 0s 5ms/step - loss: 15.9708 - mae: 15.9708\n",
            "Epoch 135/500\n",
            "2/2 [==============================] - 0s 7ms/step - loss: 28.7610 - mae: 28.7610\n",
            "Epoch 136/500\n",
            "2/2 [==============================] - 0s 4ms/step - loss: 10.3699 - mae: 10.3699\n",
            "Epoch 137/500\n",
            "2/2 [==============================] - 0s 3ms/step - loss: 15.2445 - mae: 15.2445\n",
            "Epoch 138/500\n",
            "2/2 [==============================] - 0s 4ms/step - loss: 18.5474 - mae: 18.5474\n",
            "Epoch 139/500\n",
            "2/2 [==============================] - 0s 3ms/step - loss: 32.3705 - mae: 32.3705\n",
            "Epoch 140/500\n",
            "2/2 [==============================] - 0s 5ms/step - loss: 14.1268 - mae: 14.1268\n",
            "Epoch 141/500\n",
            "2/2 [==============================] - 0s 3ms/step - loss: 20.4355 - mae: 20.4355\n",
            "Epoch 142/500\n",
            "2/2 [==============================] - 0s 6ms/step - loss: 50.1758 - mae: 50.1758\n",
            "Epoch 143/500\n",
            "2/2 [==============================] - 0s 4ms/step - loss: 30.8142 - mae: 30.8142\n",
            "Epoch 144/500\n",
            "2/2 [==============================] - 0s 4ms/step - loss: 6.9133 - mae: 6.9133\n",
            "Epoch 145/500\n",
            "2/2 [==============================] - 0s 6ms/step - loss: 30.3478 - mae: 30.3478\n",
            "Epoch 146/500\n",
            "2/2 [==============================] - 0s 3ms/step - loss: 12.0713 - mae: 12.0713\n",
            "Epoch 147/500\n",
            "2/2 [==============================] - 0s 4ms/step - loss: 35.3060 - mae: 35.3060\n",
            "Epoch 148/500\n",
            "2/2 [==============================] - 0s 5ms/step - loss: 20.7692 - mae: 20.7692\n",
            "Epoch 149/500\n",
            "2/2 [==============================] - 0s 7ms/step - loss: 34.1143 - mae: 34.1143\n",
            "Epoch 150/500\n",
            "2/2 [==============================] - 0s 2ms/step - loss: 19.7274 - mae: 19.7274\n",
            "Epoch 151/500\n",
            "2/2 [==============================] - 0s 3ms/step - loss: 26.0297 - mae: 26.0297\n",
            "Epoch 152/500\n",
            "2/2 [==============================] - 0s 7ms/step - loss: 26.6413 - mae: 26.6413\n",
            "Epoch 153/500\n",
            "2/2 [==============================] - 0s 3ms/step - loss: 13.8994 - mae: 13.8994\n",
            "Epoch 154/500\n",
            "2/2 [==============================] - 0s 7ms/step - loss: 23.0227 - mae: 23.0227\n",
            "Epoch 155/500\n",
            "2/2 [==============================] - 0s 9ms/step - loss: 40.2597 - mae: 40.2597\n",
            "Epoch 156/500\n",
            "2/2 [==============================] - 0s 4ms/step - loss: 20.3622 - mae: 20.3622\n",
            "Epoch 157/500\n",
            "2/2 [==============================] - 0s 8ms/step - loss: 19.7401 - mae: 19.7401\n",
            "Epoch 158/500\n",
            "2/2 [==============================] - 0s 16ms/step - loss: 5.9266 - mae: 5.9266\n",
            "Epoch 159/500\n",
            "2/2 [==============================] - 0s 3ms/step - loss: 14.9358 - mae: 14.9358\n",
            "Epoch 160/500\n",
            "2/2 [==============================] - 0s 3ms/step - loss: 13.5565 - mae: 13.5565\n",
            "Epoch 161/500\n",
            "2/2 [==============================] - 0s 3ms/step - loss: 37.7672 - mae: 37.7672\n",
            "Epoch 162/500\n",
            "2/2 [==============================] - 0s 3ms/step - loss: 31.1292 - mae: 31.1292\n",
            "Epoch 163/500\n",
            "2/2 [==============================] - 0s 3ms/step - loss: 14.3283 - mae: 14.3283\n",
            "Epoch 164/500\n",
            "2/2 [==============================] - 0s 5ms/step - loss: 22.8940 - mae: 22.8940\n",
            "Epoch 165/500\n",
            "2/2 [==============================] - 0s 5ms/step - loss: 42.2214 - mae: 42.2214\n",
            "Epoch 166/500\n",
            "2/2 [==============================] - 0s 4ms/step - loss: 22.5514 - mae: 22.5514\n",
            "Epoch 167/500\n",
            "2/2 [==============================] - 0s 5ms/step - loss: 15.0716 - mae: 15.0716\n",
            "Epoch 168/500\n",
            "2/2 [==============================] - 0s 17ms/step - loss: 15.6985 - mae: 15.6985\n",
            "Epoch 169/500\n",
            "2/2 [==============================] - 0s 2ms/step - loss: 34.8908 - mae: 34.8908\n",
            "Epoch 170/500\n",
            "2/2 [==============================] - 0s 3ms/step - loss: 21.4981 - mae: 21.4981\n",
            "Epoch 171/500\n",
            "2/2 [==============================] - 0s 3ms/step - loss: 6.1543 - mae: 6.1543\n",
            "Epoch 172/500\n",
            "2/2 [==============================] - 0s 7ms/step - loss: 10.7256 - mae: 10.7256\n",
            "Epoch 173/500\n",
            "2/2 [==============================] - 0s 2ms/step - loss: 20.7705 - mae: 20.7705\n",
            "Epoch 174/500\n",
            "2/2 [==============================] - 0s 3ms/step - loss: 23.0278 - mae: 23.0278\n",
            "Epoch 175/500\n",
            "2/2 [==============================] - 0s 8ms/step - loss: 26.3268 - mae: 26.3268\n",
            "Epoch 176/500\n",
            "2/2 [==============================] - 0s 7ms/step - loss: 30.0722 - mae: 30.0722\n",
            "Epoch 177/500\n",
            "2/2 [==============================] - 0s 4ms/step - loss: 8.3269 - mae: 8.3269\n",
            "Epoch 178/500\n",
            "2/2 [==============================] - 0s 5ms/step - loss: 31.8461 - mae: 31.8461\n",
            "Epoch 179/500\n",
            "2/2 [==============================] - 0s 2ms/step - loss: 15.7126 - mae: 15.7126\n",
            "Epoch 180/500\n",
            "2/2 [==============================] - 0s 6ms/step - loss: 31.4981 - mae: 31.4981\n",
            "Epoch 181/500\n",
            "2/2 [==============================] - 0s 7ms/step - loss: 14.1756 - mae: 14.1756\n",
            "Epoch 182/500\n",
            "2/2 [==============================] - 0s 7ms/step - loss: 35.0965 - mae: 35.0965\n",
            "Epoch 183/500\n",
            "2/2 [==============================] - 0s 5ms/step - loss: 19.7839 - mae: 19.7839\n",
            "Epoch 184/500\n",
            "2/2 [==============================] - 0s 4ms/step - loss: 15.1441 - mae: 15.1441\n",
            "Epoch 185/500\n",
            "2/2 [==============================] - 0s 8ms/step - loss: 17.0016 - mae: 17.0016\n",
            "Epoch 186/500\n",
            "2/2 [==============================] - 0s 3ms/step - loss: 22.6521 - mae: 22.6521\n",
            "Epoch 187/500\n",
            "2/2 [==============================] - 0s 4ms/step - loss: 23.1227 - mae: 23.1227\n",
            "Epoch 188/500\n",
            "2/2 [==============================] - 0s 6ms/step - loss: 19.7875 - mae: 19.7875\n",
            "Epoch 189/500\n",
            "2/2 [==============================] - 0s 7ms/step - loss: 16.7717 - mae: 16.7717\n",
            "Epoch 190/500\n",
            "2/2 [==============================] - 0s 6ms/step - loss: 34.6765 - mae: 34.6765\n",
            "Epoch 191/500\n",
            "2/2 [==============================] - 0s 13ms/step - loss: 18.7786 - mae: 18.7786\n",
            "Epoch 192/500\n",
            "2/2 [==============================] - 0s 10ms/step - loss: 33.2168 - mae: 33.2168\n",
            "Epoch 193/500\n",
            "2/2 [==============================] - 0s 4ms/step - loss: 16.1868 - mae: 16.1868\n",
            "Epoch 194/500\n",
            "2/2 [==============================] - 0s 3ms/step - loss: 38.4789 - mae: 38.4789\n",
            "Epoch 195/500\n",
            "2/2 [==============================] - 0s 3ms/step - loss: 33.6810 - mae: 33.6810\n",
            "Epoch 196/500\n",
            "2/2 [==============================] - 0s 4ms/step - loss: 17.7737 - mae: 17.7737\n",
            "Epoch 197/500\n",
            "2/2 [==============================] - 0s 3ms/step - loss: 28.8029 - mae: 28.8029\n",
            "Epoch 198/500\n",
            "2/2 [==============================] - 0s 7ms/step - loss: 5.6627 - mae: 5.6627\n",
            "Epoch 199/500\n",
            "2/2 [==============================] - 0s 4ms/step - loss: 15.5055 - mae: 15.5055\n",
            "Epoch 200/500\n",
            "2/2 [==============================] - 0s 3ms/step - loss: 22.3497 - mae: 22.3497\n",
            "Epoch 201/500\n",
            "2/2 [==============================] - 0s 4ms/step - loss: 50.9686 - mae: 50.9686\n",
            "Epoch 202/500\n",
            "2/2 [==============================] - 0s 3ms/step - loss: 30.3205 - mae: 30.3205\n",
            "Epoch 203/500\n",
            "2/2 [==============================] - 0s 8ms/step - loss: 10.9221 - mae: 10.9221\n",
            "Epoch 204/500\n",
            "2/2 [==============================] - 0s 4ms/step - loss: 6.3634 - mae: 6.3634\n",
            "Epoch 205/500\n",
            "2/2 [==============================] - 0s 6ms/step - loss: 55.2253 - mae: 55.2253\n",
            "Epoch 206/500\n",
            "2/2 [==============================] - 0s 4ms/step - loss: 28.1261 - mae: 28.1261\n",
            "Epoch 207/500\n",
            "2/2 [==============================] - 0s 3ms/step - loss: 19.7616 - mae: 19.7616\n",
            "Epoch 208/500\n",
            "2/2 [==============================] - 0s 3ms/step - loss: 18.2356 - mae: 18.2356\n",
            "Epoch 209/500\n",
            "2/2 [==============================] - 0s 5ms/step - loss: 25.0736 - mae: 25.0736\n",
            "Epoch 210/500\n",
            "2/2 [==============================] - 0s 4ms/step - loss: 35.9877 - mae: 35.9877\n",
            "Epoch 211/500\n",
            "2/2 [==============================] - 0s 5ms/step - loss: 20.1083 - mae: 20.1083\n",
            "Epoch 212/500\n",
            "2/2 [==============================] - 0s 5ms/step - loss: 61.5985 - mae: 61.5985\n",
            "Epoch 213/500\n",
            "2/2 [==============================] - 0s 4ms/step - loss: 32.3650 - mae: 32.3650\n",
            "Epoch 214/500\n",
            "2/2 [==============================] - 0s 5ms/step - loss: 15.5904 - mae: 15.5904\n",
            "Epoch 215/500\n",
            "2/2 [==============================] - 0s 7ms/step - loss: 27.5279 - mae: 27.5279\n",
            "Epoch 216/500\n",
            "2/2 [==============================] - 0s 7ms/step - loss: 18.3666 - mae: 18.3666\n",
            "Epoch 217/500\n",
            "2/2 [==============================] - 0s 4ms/step - loss: 14.9989 - mae: 14.9989\n",
            "Epoch 218/500\n",
            "2/2 [==============================] - 0s 5ms/step - loss: 29.3129 - mae: 29.3129\n",
            "Epoch 219/500\n",
            "2/2 [==============================] - 0s 4ms/step - loss: 10.1059 - mae: 10.1059\n",
            "Epoch 220/500\n",
            "2/2 [==============================] - 0s 4ms/step - loss: 17.3402 - mae: 17.3402\n",
            "Epoch 221/500\n",
            "2/2 [==============================] - 0s 7ms/step - loss: 17.0454 - mae: 17.0454\n",
            "Epoch 222/500\n",
            "2/2 [==============================] - 0s 6ms/step - loss: 14.4180 - mae: 14.4180\n",
            "Epoch 223/500\n",
            "2/2 [==============================] - 0s 3ms/step - loss: 24.5962 - mae: 24.5962\n",
            "Epoch 224/500\n",
            "2/2 [==============================] - 0s 6ms/step - loss: 27.2561 - mae: 27.2561\n",
            "Epoch 225/500\n",
            "2/2 [==============================] - 0s 5ms/step - loss: 15.8777 - mae: 15.8777\n",
            "Epoch 226/500\n",
            "2/2 [==============================] - 0s 5ms/step - loss: 36.2116 - mae: 36.2116\n",
            "Epoch 227/500\n",
            "2/2 [==============================] - 0s 5ms/step - loss: 23.8787 - mae: 23.8787\n",
            "Epoch 228/500\n",
            "2/2 [==============================] - 0s 3ms/step - loss: 25.0672 - mae: 25.0672\n",
            "Epoch 229/500\n",
            "2/2 [==============================] - 0s 5ms/step - loss: 13.6289 - mae: 13.6289\n",
            "Epoch 230/500\n",
            "2/2 [==============================] - 0s 3ms/step - loss: 35.0094 - mae: 35.0094\n",
            "Epoch 231/500\n",
            "2/2 [==============================] - 0s 2ms/step - loss: 19.5533 - mae: 19.5533\n",
            "Epoch 232/500\n",
            "2/2 [==============================] - 0s 5ms/step - loss: 8.8106 - mae: 8.8106\n",
            "Epoch 233/500\n",
            "2/2 [==============================] - 0s 5ms/step - loss: 44.6450 - mae: 44.6450\n",
            "Epoch 234/500\n",
            "2/2 [==============================] - 0s 3ms/step - loss: 27.4121 - mae: 27.4121\n",
            "Epoch 235/500\n",
            "2/2 [==============================] - 0s 3ms/step - loss: 10.2571 - mae: 10.2571\n",
            "Epoch 236/500\n",
            "2/2 [==============================] - 0s 13ms/step - loss: 36.2423 - mae: 36.2423\n",
            "Epoch 237/500\n",
            "2/2 [==============================] - 0s 9ms/step - loss: 27.1602 - mae: 27.1602\n",
            "Epoch 238/500\n",
            "2/2 [==============================] - 0s 2ms/step - loss: 19.0721 - mae: 19.0721\n",
            "Epoch 239/500\n",
            "2/2 [==============================] - 0s 4ms/step - loss: 23.4968 - mae: 23.4968\n",
            "Epoch 240/500\n",
            "2/2 [==============================] - 0s 3ms/step - loss: 36.7243 - mae: 36.7243\n",
            "Epoch 241/500\n",
            "2/2 [==============================] - 0s 5ms/step - loss: 17.2489 - mae: 17.2489\n",
            "Epoch 242/500\n",
            "2/2 [==============================] - 0s 9ms/step - loss: 16.6850 - mae: 16.6850\n",
            "Epoch 243/500\n",
            "2/2 [==============================] - 0s 2ms/step - loss: 29.3925 - mae: 29.3925\n",
            "Epoch 244/500\n",
            "2/2 [==============================] - 0s 4ms/step - loss: 10.1771 - mae: 10.1771\n",
            "Epoch 245/500\n",
            "2/2 [==============================] - 0s 2ms/step - loss: 25.1087 - mae: 25.1087\n",
            "Epoch 246/500\n",
            "2/2 [==============================] - 0s 3ms/step - loss: 20.1767 - mae: 20.1767\n",
            "Epoch 247/500\n",
            "2/2 [==============================] - 0s 4ms/step - loss: 20.5734 - mae: 20.5734\n",
            "Epoch 248/500\n",
            "2/2 [==============================] - 0s 5ms/step - loss: 36.8637 - mae: 36.8637\n",
            "Epoch 249/500\n",
            "2/2 [==============================] - 0s 8ms/step - loss: 25.1566 - mae: 25.1566\n",
            "Epoch 250/500\n",
            "2/2 [==============================] - 0s 3ms/step - loss: 29.9578 - mae: 29.9578\n",
            "Epoch 251/500\n",
            "2/2 [==============================] - 0s 3ms/step - loss: 18.7942 - mae: 18.7942\n",
            "Epoch 252/500\n",
            "2/2 [==============================] - 0s 3ms/step - loss: 22.7822 - mae: 22.7822\n",
            "Epoch 253/500\n",
            "2/2 [==============================] - 0s 3ms/step - loss: 48.3520 - mae: 48.3520\n",
            "Epoch 254/500\n",
            "2/2 [==============================] - 0s 3ms/step - loss: 19.3949 - mae: 19.3949\n",
            "Epoch 255/500\n",
            "2/2 [==============================] - 0s 3ms/step - loss: 19.3355 - mae: 19.3355\n",
            "Epoch 256/500\n",
            "2/2 [==============================] - 0s 3ms/step - loss: 23.1556 - mae: 23.1556\n",
            "Epoch 257/500\n",
            "2/2 [==============================] - 0s 4ms/step - loss: 46.1192 - mae: 46.1192\n",
            "Epoch 258/500\n",
            "2/2 [==============================] - 0s 5ms/step - loss: 22.7202 - mae: 22.7202\n",
            "Epoch 259/500\n",
            "2/2 [==============================] - 0s 4ms/step - loss: 37.8028 - mae: 37.8028\n",
            "Epoch 260/500\n",
            "2/2 [==============================] - 0s 5ms/step - loss: 16.2105 - mae: 16.2105\n",
            "Epoch 261/500\n",
            "2/2 [==============================] - 0s 5ms/step - loss: 26.1707 - mae: 26.1707\n",
            "Epoch 262/500\n",
            "2/2 [==============================] - 0s 3ms/step - loss: 28.7530 - mae: 28.7530\n",
            "Epoch 263/500\n",
            "2/2 [==============================] - 0s 7ms/step - loss: 24.6214 - mae: 24.6214\n",
            "Epoch 264/500\n",
            "2/2 [==============================] - 0s 4ms/step - loss: 32.8722 - mae: 32.8722\n",
            "Epoch 265/500\n",
            "2/2 [==============================] - 0s 3ms/step - loss: 22.3626 - mae: 22.3626\n",
            "Epoch 266/500\n",
            "2/2 [==============================] - 0s 4ms/step - loss: 46.6036 - mae: 46.6036\n",
            "Epoch 267/500\n",
            "2/2 [==============================] - 0s 4ms/step - loss: 29.9020 - mae: 29.9020\n",
            "Epoch 268/500\n",
            "2/2 [==============================] - 0s 2ms/step - loss: 13.3300 - mae: 13.3300\n",
            "Epoch 269/500\n",
            "2/2 [==============================] - 0s 8ms/step - loss: 20.6232 - mae: 20.6232\n",
            "Epoch 270/500\n",
            "2/2 [==============================] - 0s 9ms/step - loss: 64.7741 - mae: 64.7741\n",
            "Epoch 271/500\n",
            "2/2 [==============================] - 0s 5ms/step - loss: 28.4115 - mae: 28.4115\n",
            "Epoch 272/500\n",
            "2/2 [==============================] - 0s 6ms/step - loss: 10.4826 - mae: 10.4826\n",
            "Epoch 273/500\n",
            "2/2 [==============================] - 0s 6ms/step - loss: 14.3272 - mae: 14.3272\n",
            "Epoch 274/500\n",
            "2/2 [==============================] - 0s 5ms/step - loss: 19.9435 - mae: 19.9435\n",
            "Epoch 275/500\n",
            "2/2 [==============================] - 0s 9ms/step - loss: 21.7362 - mae: 21.7362\n",
            "Epoch 276/500\n",
            "2/2 [==============================] - 0s 6ms/step - loss: 32.0097 - mae: 32.0097\n",
            "Epoch 277/500\n",
            "2/2 [==============================] - 0s 8ms/step - loss: 19.6037 - mae: 19.6037\n",
            "Epoch 278/500\n",
            "2/2 [==============================] - 0s 9ms/step - loss: 17.8501 - mae: 17.8501\n",
            "Epoch 279/500\n",
            "2/2 [==============================] - 0s 7ms/step - loss: 29.9846 - mae: 29.9846\n",
            "Epoch 280/500\n",
            "2/2 [==============================] - 0s 7ms/step - loss: 8.8964 - mae: 8.8964\n",
            "Epoch 281/500\n",
            "2/2 [==============================] - 0s 9ms/step - loss: 11.3060 - mae: 11.3060\n",
            "Epoch 282/500\n",
            "2/2 [==============================] - 0s 9ms/step - loss: 10.3926 - mae: 10.3926\n",
            "Epoch 283/500\n",
            "2/2 [==============================] - 0s 10ms/step - loss: 30.6293 - mae: 30.6293\n",
            "Epoch 284/500\n",
            "2/2 [==============================] - 0s 10ms/step - loss: 15.2400 - mae: 15.2400\n",
            "Epoch 285/500\n",
            "2/2 [==============================] - 0s 6ms/step - loss: 31.5596 - mae: 31.5596\n",
            "Epoch 286/500\n",
            "2/2 [==============================] - 0s 10ms/step - loss: 9.9221 - mae: 9.9221\n",
            "Epoch 287/500\n",
            "2/2 [==============================] - 0s 7ms/step - loss: 28.7022 - mae: 28.7022\n",
            "Epoch 288/500\n",
            "2/2 [==============================] - 0s 9ms/step - loss: 17.7374 - mae: 17.7374\n",
            "Epoch 289/500\n",
            "2/2 [==============================] - 0s 8ms/step - loss: 20.1973 - mae: 20.1973\n",
            "Epoch 290/500\n",
            "2/2 [==============================] - 0s 6ms/step - loss: 13.7760 - mae: 13.7760\n",
            "Epoch 291/500\n",
            "2/2 [==============================] - 0s 3ms/step - loss: 18.4794 - mae: 18.4794\n",
            "Epoch 292/500\n",
            "2/2 [==============================] - 0s 6ms/step - loss: 22.1582 - mae: 22.1582\n",
            "Epoch 293/500\n",
            "2/2 [==============================] - 0s 6ms/step - loss: 20.1978 - mae: 20.1978\n",
            "Epoch 294/500\n",
            "2/2 [==============================] - 0s 12ms/step - loss: 26.9864 - mae: 26.9864\n",
            "Epoch 295/500\n",
            "2/2 [==============================] - 0s 4ms/step - loss: 19.4252 - mae: 19.4252\n",
            "Epoch 296/500\n",
            "2/2 [==============================] - 0s 3ms/step - loss: 24.9033 - mae: 24.9033\n",
            "Epoch 297/500\n",
            "2/2 [==============================] - 0s 5ms/step - loss: 34.0272 - mae: 34.0272\n",
            "Epoch 298/500\n",
            "2/2 [==============================] - 0s 5ms/step - loss: 18.0364 - mae: 18.0364\n",
            "Epoch 299/500\n",
            "2/2 [==============================] - 0s 4ms/step - loss: 31.2907 - mae: 31.2907\n",
            "Epoch 300/500\n",
            "2/2 [==============================] - 0s 5ms/step - loss: 12.7744 - mae: 12.7744\n",
            "Epoch 301/500\n",
            "2/2 [==============================] - 0s 3ms/step - loss: 17.5713 - mae: 17.5713\n",
            "Epoch 302/500\n",
            "2/2 [==============================] - 0s 5ms/step - loss: 29.6868 - mae: 29.6868\n",
            "Epoch 303/500\n",
            "2/2 [==============================] - 0s 3ms/step - loss: 9.4011 - mae: 9.4011\n",
            "Epoch 304/500\n",
            "2/2 [==============================] - 0s 4ms/step - loss: 14.2751 - mae: 14.2751\n",
            "Epoch 305/500\n",
            "2/2 [==============================] - 0s 4ms/step - loss: 20.0356 - mae: 20.0356\n",
            "Epoch 306/500\n",
            "2/2 [==============================] - 0s 4ms/step - loss: 24.5784 - mae: 24.5784\n",
            "Epoch 307/500\n",
            "2/2 [==============================] - 0s 3ms/step - loss: 34.2414 - mae: 34.2414\n",
            "Epoch 308/500\n",
            "2/2 [==============================] - 0s 10ms/step - loss: 16.5583 - mae: 16.5583\n",
            "Epoch 309/500\n",
            "2/2 [==============================] - 0s 7ms/step - loss: 28.3538 - mae: 28.3538\n",
            "Epoch 310/500\n",
            "2/2 [==============================] - 0s 6ms/step - loss: 22.3488 - mae: 22.3488\n",
            "Epoch 311/500\n",
            "2/2 [==============================] - 0s 4ms/step - loss: 17.1426 - mae: 17.1426\n",
            "Epoch 312/500\n",
            "2/2 [==============================] - 0s 5ms/step - loss: 37.4706 - mae: 37.4706\n",
            "Epoch 313/500\n",
            "2/2 [==============================] - 0s 11ms/step - loss: 28.6386 - mae: 28.6386\n",
            "Epoch 314/500\n",
            "2/2 [==============================] - 0s 5ms/step - loss: 13.6541 - mae: 13.6541\n",
            "Epoch 315/500\n",
            "2/2 [==============================] - 0s 3ms/step - loss: 16.9591 - mae: 16.9591\n",
            "Epoch 316/500\n",
            "2/2 [==============================] - 0s 5ms/step - loss: 17.5983 - mae: 17.5983\n",
            "Epoch 317/500\n",
            "2/2 [==============================] - 0s 14ms/step - loss: 17.9066 - mae: 17.9066\n",
            "Epoch 318/500\n",
            "2/2 [==============================] - 0s 5ms/step - loss: 22.7389 - mae: 22.7389\n",
            "Epoch 319/500\n",
            "2/2 [==============================] - 0s 3ms/step - loss: 54.4728 - mae: 54.4728\n",
            "Epoch 320/500\n",
            "2/2 [==============================] - 0s 3ms/step - loss: 28.4392 - mae: 28.4392\n",
            "Epoch 321/500\n",
            "2/2 [==============================] - 0s 4ms/step - loss: 13.4618 - mae: 13.4618\n",
            "Epoch 322/500\n",
            "2/2 [==============================] - 0s 4ms/step - loss: 7.9504 - mae: 7.9504\n",
            "Epoch 323/500\n",
            "2/2 [==============================] - 0s 4ms/step - loss: 10.0476 - mae: 10.0476\n",
            "Epoch 324/500\n",
            "2/2 [==============================] - 0s 4ms/step - loss: 37.5640 - mae: 37.5640\n",
            "Epoch 325/500\n",
            "2/2 [==============================] - 0s 6ms/step - loss: 30.6353 - mae: 30.6353\n",
            "Epoch 326/500\n",
            "2/2 [==============================] - 0s 4ms/step - loss: 11.9462 - mae: 11.9462\n",
            "Epoch 327/500\n",
            "2/2 [==============================] - 0s 4ms/step - loss: 34.6314 - mae: 34.6314\n",
            "Epoch 328/500\n",
            "2/2 [==============================] - 0s 4ms/step - loss: 17.4929 - mae: 17.4929\n",
            "Epoch 329/500\n",
            "2/2 [==============================] - 0s 3ms/step - loss: 30.5159 - mae: 30.5159\n",
            "Epoch 330/500\n",
            "2/2 [==============================] - 0s 3ms/step - loss: 8.8071 - mae: 8.8071\n",
            "Epoch 331/500\n",
            "2/2 [==============================] - 0s 4ms/step - loss: 33.7881 - mae: 33.7881\n",
            "Epoch 332/500\n",
            "2/2 [==============================] - 0s 3ms/step - loss: 16.8842 - mae: 16.8842\n",
            "Epoch 333/500\n",
            "2/2 [==============================] - 0s 3ms/step - loss: 32.0852 - mae: 32.0852\n",
            "Epoch 334/500\n",
            "2/2 [==============================] - 0s 5ms/step - loss: 15.3491 - mae: 15.3491\n",
            "Epoch 335/500\n",
            "2/2 [==============================] - 0s 6ms/step - loss: 39.4056 - mae: 39.4056\n",
            "Epoch 336/500\n",
            "2/2 [==============================] - 0s 8ms/step - loss: 36.9909 - mae: 36.9909\n",
            "Epoch 337/500\n",
            "2/2 [==============================] - 0s 3ms/step - loss: 26.4471 - mae: 26.4471\n",
            "Epoch 338/500\n",
            "2/2 [==============================] - 0s 3ms/step - loss: 24.5997 - mae: 24.5997\n",
            "Epoch 339/500\n",
            "2/2 [==============================] - 0s 3ms/step - loss: 26.2850 - mae: 26.2850\n",
            "Epoch 340/500\n",
            "2/2 [==============================] - 0s 3ms/step - loss: 20.7858 - mae: 20.7858\n",
            "Epoch 341/500\n",
            "2/2 [==============================] - 0s 3ms/step - loss: 23.8987 - mae: 23.8987\n",
            "Epoch 342/500\n",
            "2/2 [==============================] - 0s 3ms/step - loss: 50.1308 - mae: 50.1308\n",
            "Epoch 343/500\n",
            "2/2 [==============================] - 0s 3ms/step - loss: 19.9228 - mae: 19.9228\n",
            "Epoch 344/500\n",
            "2/2 [==============================] - 0s 3ms/step - loss: 82.0185 - mae: 82.0185\n",
            "Epoch 345/500\n",
            "2/2 [==============================] - 0s 2ms/step - loss: 30.2753 - mae: 30.2753\n",
            "Epoch 346/500\n",
            "2/2 [==============================] - 0s 6ms/step - loss: 8.8231 - mae: 8.8231\n",
            "Epoch 347/500\n",
            "2/2 [==============================] - 0s 3ms/step - loss: 13.5153 - mae: 13.5153\n",
            "Epoch 348/500\n",
            "2/2 [==============================] - 0s 4ms/step - loss: 16.2345 - mae: 16.2345\n",
            "Epoch 349/500\n",
            "2/2 [==============================] - 0s 3ms/step - loss: 35.8730 - mae: 35.8730\n",
            "Epoch 350/500\n",
            "2/2 [==============================] - 0s 4ms/step - loss: 20.2401 - mae: 20.2401\n",
            "Epoch 351/500\n",
            "2/2 [==============================] - 0s 3ms/step - loss: 75.3346 - mae: 75.3346\n",
            "Epoch 352/500\n",
            "2/2 [==============================] - 0s 3ms/step - loss: 25.5320 - mae: 25.5320\n",
            "Epoch 353/500\n",
            "2/2 [==============================] - 0s 3ms/step - loss: 27.6184 - mae: 27.6184\n",
            "Epoch 354/500\n",
            "2/2 [==============================] - 0s 2ms/step - loss: 17.7030 - mae: 17.7030\n",
            "Epoch 355/500\n",
            "2/2 [==============================] - 0s 7ms/step - loss: 18.4447 - mae: 18.4447\n",
            "Epoch 356/500\n",
            "2/2 [==============================] - 0s 3ms/step - loss: 18.8982 - mae: 18.8982\n",
            "Epoch 357/500\n",
            "2/2 [==============================] - 0s 4ms/step - loss: 20.7414 - mae: 20.7414\n",
            "Epoch 358/500\n",
            "2/2 [==============================] - 0s 10ms/step - loss: 24.0691 - mae: 24.0691\n",
            "Epoch 359/500\n",
            "2/2 [==============================] - 0s 3ms/step - loss: 42.3841 - mae: 42.3841\n",
            "Epoch 360/500\n",
            "2/2 [==============================] - 0s 3ms/step - loss: 17.7442 - mae: 17.7442\n",
            "Epoch 361/500\n",
            "2/2 [==============================] - 0s 3ms/step - loss: 32.5820 - mae: 32.5820\n",
            "Epoch 362/500\n",
            "2/2 [==============================] - 0s 12ms/step - loss: 15.2975 - mae: 15.2975\n",
            "Epoch 363/500\n",
            "2/2 [==============================] - 0s 4ms/step - loss: 22.4589 - mae: 22.4589\n",
            "Epoch 364/500\n",
            "2/2 [==============================] - 0s 4ms/step - loss: 14.6119 - mae: 14.6119\n",
            "Epoch 365/500\n",
            "2/2 [==============================] - 0s 3ms/step - loss: 27.4143 - mae: 27.4143\n",
            "Epoch 366/500\n",
            "2/2 [==============================] - 0s 3ms/step - loss: 22.1797 - mae: 22.1797\n",
            "Epoch 367/500\n",
            "2/2 [==============================] - 0s 3ms/step - loss: 17.1454 - mae: 17.1454\n",
            "Epoch 368/500\n",
            "2/2 [==============================] - 0s 3ms/step - loss: 16.1290 - mae: 16.1290\n",
            "Epoch 369/500\n",
            "2/2 [==============================] - 0s 4ms/step - loss: 35.8238 - mae: 35.8238\n",
            "Epoch 370/500\n",
            "2/2 [==============================] - 0s 4ms/step - loss: 19.2892 - mae: 19.2892\n",
            "Epoch 371/500\n",
            "2/2 [==============================] - 0s 3ms/step - loss: 61.6241 - mae: 61.6241\n",
            "Epoch 372/500\n",
            "2/2 [==============================] - 0s 3ms/step - loss: 17.2532 - mae: 17.2532\n",
            "Epoch 373/500\n",
            "2/2 [==============================] - 0s 3ms/step - loss: 28.7307 - mae: 28.7307\n",
            "Epoch 374/500\n",
            "2/2 [==============================] - 0s 5ms/step - loss: 18.4711 - mae: 18.4711\n",
            "Epoch 375/500\n",
            "2/2 [==============================] - 0s 5ms/step - loss: 22.9026 - mae: 22.9026\n",
            "Epoch 376/500\n",
            "2/2 [==============================] - 0s 7ms/step - loss: 23.2341 - mae: 23.2341\n",
            "Epoch 377/500\n",
            "2/2 [==============================] - 0s 7ms/step - loss: 16.9994 - mae: 16.9994\n",
            "Epoch 378/500\n",
            "2/2 [==============================] - 0s 4ms/step - loss: 19.7740 - mae: 19.7740\n",
            "Epoch 379/500\n",
            "2/2 [==============================] - 0s 20ms/step - loss: 22.7533 - mae: 22.7533\n",
            "Epoch 380/500\n",
            "2/2 [==============================] - 0s 3ms/step - loss: 45.8854 - mae: 45.8854\n",
            "Epoch 381/500\n",
            "2/2 [==============================] - 0s 6ms/step - loss: 18.9012 - mae: 18.9012\n",
            "Epoch 382/500\n",
            "2/2 [==============================] - 0s 6ms/step - loss: 24.3219 - mae: 24.3219\n",
            "Epoch 383/500\n",
            "2/2 [==============================] - 0s 12ms/step - loss: 35.4260 - mae: 35.4260\n",
            "Epoch 384/500\n",
            "2/2 [==============================] - 0s 22ms/step - loss: 26.1487 - mae: 26.1487\n",
            "Epoch 385/500\n",
            "2/2 [==============================] - 0s 6ms/step - loss: 35.0147 - mae: 35.0147\n",
            "Epoch 386/500\n",
            "2/2 [==============================] - 0s 5ms/step - loss: 16.4871 - mae: 16.4871\n",
            "Epoch 387/500\n",
            "2/2 [==============================] - 0s 8ms/step - loss: 33.2841 - mae: 33.2841\n",
            "Epoch 388/500\n",
            "2/2 [==============================] - 0s 6ms/step - loss: 15.5433 - mae: 15.5433\n",
            "Epoch 389/500\n",
            "2/2 [==============================] - 0s 6ms/step - loss: 35.0937 - mae: 35.0937\n",
            "Epoch 390/500\n",
            "2/2 [==============================] - 0s 3ms/step - loss: 17.7052 - mae: 17.7052\n",
            "Epoch 391/500\n",
            "2/2 [==============================] - 0s 5ms/step - loss: 30.4530 - mae: 30.4530\n",
            "Epoch 392/500\n",
            "2/2 [==============================] - 0s 3ms/step - loss: 8.9391 - mae: 8.9391\n",
            "Epoch 393/500\n",
            "2/2 [==============================] - 0s 7ms/step - loss: 47.9708 - mae: 47.9708\n",
            "Epoch 394/500\n",
            "2/2 [==============================] - 0s 8ms/step - loss: 22.8344 - mae: 22.8344\n",
            "Epoch 395/500\n",
            "2/2 [==============================] - 0s 4ms/step - loss: 27.7129 - mae: 27.7129\n",
            "Epoch 396/500\n",
            "2/2 [==============================] - 0s 5ms/step - loss: 20.6894 - mae: 20.6894\n",
            "Epoch 397/500\n",
            "2/2 [==============================] - 0s 3ms/step - loss: 19.5994 - mae: 19.5994\n",
            "Epoch 398/500\n",
            "2/2 [==============================] - 0s 3ms/step - loss: 12.7398 - mae: 12.7398\n",
            "Epoch 399/500\n",
            "2/2 [==============================] - 0s 2ms/step - loss: 20.8309 - mae: 20.8309\n",
            "Epoch 400/500\n",
            "2/2 [==============================] - 0s 7ms/step - loss: 17.4614 - mae: 17.4614\n",
            "Epoch 401/500\n",
            "2/2 [==============================] - 0s 6ms/step - loss: 28.6988 - mae: 28.6988\n",
            "Epoch 402/500\n",
            "2/2 [==============================] - 0s 4ms/step - loss: 7.5983 - mae: 7.5983\n",
            "Epoch 403/500\n",
            "2/2 [==============================] - 0s 15ms/step - loss: 35.2486 - mae: 35.2486\n",
            "Epoch 404/500\n",
            "2/2 [==============================] - 0s 2ms/step - loss: 18.5778 - mae: 18.5778\n",
            "Epoch 405/500\n",
            "2/2 [==============================] - 0s 4ms/step - loss: 31.1068 - mae: 31.1068\n",
            "Epoch 406/500\n",
            "2/2 [==============================] - 0s 5ms/step - loss: 4.1176 - mae: 4.1176\n",
            "Epoch 407/500\n",
            "2/2 [==============================] - 0s 4ms/step - loss: 18.1554 - mae: 18.1554\n",
            "Epoch 408/500\n",
            "2/2 [==============================] - 0s 3ms/step - loss: 25.1051 - mae: 25.1051\n",
            "Epoch 409/500\n",
            "2/2 [==============================] - 0s 4ms/step - loss: 32.4357 - mae: 32.4357\n",
            "Epoch 410/500\n",
            "2/2 [==============================] - 0s 4ms/step - loss: 28.2917 - mae: 28.2917\n",
            "Epoch 411/500\n",
            "2/2 [==============================] - 0s 3ms/step - loss: 18.0597 - mae: 18.0597\n",
            "Epoch 412/500\n",
            "2/2 [==============================] - 0s 5ms/step - loss: 19.5871 - mae: 19.5871\n",
            "Epoch 413/500\n",
            "2/2 [==============================] - 0s 4ms/step - loss: 18.6207 - mae: 18.6207\n",
            "Epoch 414/500\n",
            "2/2 [==============================] - 0s 6ms/step - loss: 25.6461 - mae: 25.6461\n",
            "Epoch 415/500\n",
            "2/2 [==============================] - 0s 7ms/step - loss: 29.1433 - mae: 29.1433\n",
            "Epoch 416/500\n",
            "2/2 [==============================] - 0s 19ms/step - loss: 26.3196 - mae: 26.3196\n",
            "Epoch 417/500\n",
            "2/2 [==============================] - 0s 10ms/step - loss: 19.5885 - mae: 19.5885\n",
            "Epoch 418/500\n",
            "2/2 [==============================] - 0s 8ms/step - loss: 16.6206 - mae: 16.6206\n",
            "Epoch 419/500\n",
            "2/2 [==============================] - 0s 8ms/step - loss: 32.2810 - mae: 32.2810\n",
            "Epoch 420/500\n",
            "2/2 [==============================] - 0s 6ms/step - loss: 12.9787 - mae: 12.9787\n",
            "Epoch 421/500\n",
            "2/2 [==============================] - 0s 6ms/step - loss: 17.2955 - mae: 17.2955\n",
            "Epoch 422/500\n",
            "2/2 [==============================] - 0s 7ms/step - loss: 35.9284 - mae: 35.9284\n",
            "Epoch 423/500\n",
            "2/2 [==============================] - 0s 12ms/step - loss: 23.2707 - mae: 23.2707\n",
            "Epoch 424/500\n",
            "2/2 [==============================] - 0s 8ms/step - loss: 6.5572 - mae: 6.5572\n",
            "Epoch 425/500\n",
            "2/2 [==============================] - 0s 4ms/step - loss: 16.2970 - mae: 16.2970\n",
            "Epoch 426/500\n",
            "2/2 [==============================] - 0s 14ms/step - loss: 31.0745 - mae: 31.0745\n",
            "Epoch 427/500\n",
            "2/2 [==============================] - 0s 8ms/step - loss: 14.4230 - mae: 14.4230\n",
            "Epoch 428/500\n",
            "2/2 [==============================] - 0s 5ms/step - loss: 36.2261 - mae: 36.2261\n",
            "Epoch 429/500\n",
            "2/2 [==============================] - 0s 8ms/step - loss: 24.6091 - mae: 24.6091\n",
            "Epoch 430/500\n",
            "2/2 [==============================] - 0s 6ms/step - loss: 30.6260 - mae: 30.6260\n",
            "Epoch 431/500\n",
            "2/2 [==============================] - 0s 8ms/step - loss: 24.4393 - mae: 24.4393\n",
            "Epoch 432/500\n",
            "2/2 [==============================] - 0s 5ms/step - loss: 38.0234 - mae: 38.0234\n",
            "Epoch 433/500\n",
            "2/2 [==============================] - 0s 7ms/step - loss: 27.7975 - mae: 27.7975\n",
            "Epoch 434/500\n",
            "2/2 [==============================] - 0s 3ms/step - loss: 21.3615 - mae: 21.3615\n",
            "Epoch 435/500\n",
            "2/2 [==============================] - 0s 6ms/step - loss: 24.7437 - mae: 24.7437\n",
            "Epoch 436/500\n",
            "2/2 [==============================] - 0s 4ms/step - loss: 7.6946 - mae: 7.6946\n",
            "Epoch 437/500\n",
            "2/2 [==============================] - 0s 5ms/step - loss: 8.6615 - mae: 8.6615\n",
            "Epoch 438/500\n",
            "2/2 [==============================] - 0s 7ms/step - loss: 33.3753 - mae: 33.3753\n",
            "Epoch 439/500\n",
            "2/2 [==============================] - 0s 6ms/step - loss: 24.6944 - mae: 24.6944\n",
            "Epoch 440/500\n",
            "2/2 [==============================] - 0s 7ms/step - loss: 38.3145 - mae: 38.3145\n",
            "Epoch 441/500\n",
            "2/2 [==============================] - 0s 11ms/step - loss: 26.6175 - mae: 26.6175\n",
            "Epoch 442/500\n",
            "2/2 [==============================] - 0s 7ms/step - loss: 27.8528 - mae: 27.8528\n",
            "Epoch 443/500\n",
            "2/2 [==============================] - 0s 9ms/step - loss: 16.8012 - mae: 16.8012\n",
            "Epoch 444/500\n",
            "2/2 [==============================] - 0s 6ms/step - loss: 17.7332 - mae: 17.7332\n",
            "Epoch 445/500\n",
            "2/2 [==============================] - 0s 19ms/step - loss: 16.5684 - mae: 16.5684\n",
            "Epoch 446/500\n",
            "2/2 [==============================] - 0s 4ms/step - loss: 36.1846 - mae: 36.1846\n",
            "Epoch 447/500\n",
            "2/2 [==============================] - 0s 4ms/step - loss: 23.3166 - mae: 23.3166\n",
            "Epoch 448/500\n",
            "2/2 [==============================] - 0s 9ms/step - loss: 24.9103 - mae: 24.9103\n",
            "Epoch 449/500\n",
            "2/2 [==============================] - 0s 3ms/step - loss: 16.8816 - mae: 16.8816\n",
            "Epoch 450/500\n",
            "2/2 [==============================] - 0s 4ms/step - loss: 35.0932 - mae: 35.0932\n",
            "Epoch 451/500\n",
            "2/2 [==============================] - 0s 5ms/step - loss: 19.9438 - mae: 19.9438\n",
            "Epoch 452/500\n",
            "2/2 [==============================] - 0s 3ms/step - loss: 12.1761 - mae: 12.1761\n",
            "Epoch 453/500\n",
            "2/2 [==============================] - 0s 8ms/step - loss: 12.7489 - mae: 12.7489\n",
            "Epoch 454/500\n",
            "2/2 [==============================] - 0s 4ms/step - loss: 26.9918 - mae: 26.9918\n",
            "Epoch 455/500\n",
            "2/2 [==============================] - 0s 13ms/step - loss: 21.1823 - mae: 21.1823\n",
            "Epoch 456/500\n",
            "2/2 [==============================] - 0s 5ms/step - loss: 18.1564 - mae: 18.1564\n",
            "Epoch 457/500\n",
            "2/2 [==============================] - 0s 3ms/step - loss: 20.9209 - mae: 20.9209\n",
            "Epoch 458/500\n",
            "2/2 [==============================] - 0s 6ms/step - loss: 18.6188 - mae: 18.6188\n",
            "Epoch 459/500\n",
            "2/2 [==============================] - 0s 4ms/step - loss: 31.4871 - mae: 31.4871\n",
            "Epoch 460/500\n",
            "2/2 [==============================] - 0s 3ms/step - loss: 13.6787 - mae: 13.6787\n",
            "Epoch 461/500\n",
            "2/2 [==============================] - 0s 5ms/step - loss: 31.0315 - mae: 31.0315\n",
            "Epoch 462/500\n",
            "2/2 [==============================] - 0s 3ms/step - loss: 6.6005 - mae: 6.6005\n",
            "Epoch 463/500\n",
            "2/2 [==============================] - 0s 3ms/step - loss: 25.7189 - mae: 25.7189\n",
            "Epoch 464/500\n",
            "2/2 [==============================] - 0s 12ms/step - loss: 35.1018 - mae: 35.1018\n",
            "Epoch 465/500\n",
            "2/2 [==============================] - 0s 6ms/step - loss: 23.1520 - mae: 23.1520\n",
            "Epoch 466/500\n",
            "2/2 [==============================] - 0s 3ms/step - loss: 36.8711 - mae: 36.8711\n",
            "Epoch 467/500\n",
            "2/2 [==============================] - 0s 6ms/step - loss: 19.1828 - mae: 19.1828\n",
            "Epoch 468/500\n",
            "2/2 [==============================] - 0s 4ms/step - loss: 18.5513 - mae: 18.5513\n",
            "Epoch 469/500\n",
            "2/2 [==============================] - 0s 5ms/step - loss: 17.2440 - mae: 17.2440\n",
            "Epoch 470/500\n",
            "2/2 [==============================] - 0s 14ms/step - loss: 34.2847 - mae: 34.2847\n",
            "Epoch 471/500\n",
            "2/2 [==============================] - 0s 3ms/step - loss: 18.3062 - mae: 18.3062\n",
            "Epoch 472/500\n",
            "2/2 [==============================] - 0s 5ms/step - loss: 28.0643 - mae: 28.0643\n",
            "Epoch 473/500\n",
            "2/2 [==============================] - 0s 13ms/step - loss: 19.7241 - mae: 19.7241\n",
            "Epoch 474/500\n",
            "2/2 [==============================] - 0s 6ms/step - loss: 18.1093 - mae: 18.1093\n",
            "Epoch 475/500\n",
            "2/2 [==============================] - 0s 7ms/step - loss: 24.7520 - mae: 24.7520\n",
            "Epoch 476/500\n",
            "2/2 [==============================] - 0s 3ms/step - loss: 32.1781 - mae: 32.1781\n",
            "Epoch 477/500\n",
            "2/2 [==============================] - 0s 8ms/step - loss: 16.1218 - mae: 16.1218\n",
            "Epoch 478/500\n",
            "2/2 [==============================] - 0s 8ms/step - loss: 22.3238 - mae: 22.3238\n",
            "Epoch 479/500\n",
            "2/2 [==============================] - 0s 3ms/step - loss: 43.8585 - mae: 43.8585\n",
            "Epoch 480/500\n",
            "2/2 [==============================] - 0s 5ms/step - loss: 20.6279 - mae: 20.6279\n",
            "Epoch 481/500\n",
            "2/2 [==============================] - 0s 3ms/step - loss: 46.2879 - mae: 46.2879\n",
            "Epoch 482/500\n",
            "2/2 [==============================] - 0s 8ms/step - loss: 21.5970 - mae: 21.5970\n",
            "Epoch 483/500\n",
            "2/2 [==============================] - 0s 5ms/step - loss: 51.9453 - mae: 51.9453\n",
            "Epoch 484/500\n",
            "2/2 [==============================] - 0s 6ms/step - loss: 23.1564 - mae: 23.1564\n",
            "Epoch 485/500\n",
            "2/2 [==============================] - 0s 10ms/step - loss: 28.6764 - mae: 28.6764\n",
            "Epoch 486/500\n",
            "2/2 [==============================] - 0s 4ms/step - loss: 17.2943 - mae: 17.2943\n",
            "Epoch 487/500\n",
            "2/2 [==============================] - 0s 7ms/step - loss: 25.0938 - mae: 25.0938\n",
            "Epoch 488/500\n",
            "2/2 [==============================] - 0s 4ms/step - loss: 27.1030 - mae: 27.1030\n",
            "Epoch 489/500\n",
            "2/2 [==============================] - 0s 5ms/step - loss: 23.4077 - mae: 23.4077\n",
            "Epoch 490/500\n",
            "2/2 [==============================] - 0s 3ms/step - loss: 51.9647 - mae: 51.9647\n",
            "Epoch 491/500\n",
            "2/2 [==============================] - 0s 11ms/step - loss: 33.9873 - mae: 33.9873\n",
            "Epoch 492/500\n",
            "2/2 [==============================] - 0s 7ms/step - loss: 16.4721 - mae: 16.4721\n",
            "Epoch 493/500\n",
            "2/2 [==============================] - 0s 4ms/step - loss: 22.4875 - mae: 22.4875\n",
            "Epoch 494/500\n",
            "2/2 [==============================] - 0s 3ms/step - loss: 46.7539 - mae: 46.7539\n",
            "Epoch 495/500\n",
            "2/2 [==============================] - 0s 3ms/step - loss: 24.6860 - mae: 24.6860\n",
            "Epoch 496/500\n",
            "2/2 [==============================] - 0s 20ms/step - loss: 29.6762 - mae: 29.6762\n",
            "Epoch 497/500\n",
            "2/2 [==============================] - 0s 4ms/step - loss: 25.8817 - mae: 25.8817\n",
            "Epoch 498/500\n",
            "2/2 [==============================] - 0s 12ms/step - loss: 19.4410 - mae: 19.4410\n",
            "Epoch 499/500\n",
            "2/2 [==============================] - 0s 3ms/step - loss: 24.0146 - mae: 24.0146\n",
            "Epoch 500/500\n",
            "2/2 [==============================] - 0s 6ms/step - loss: 41.6185 - mae: 41.6185\n"
          ]
        },
        {
          "output_type": "execute_result",
          "data": {
            "text/plain": [
              "<keras.callbacks.History at 0x7fb31cb34c90>"
            ]
          },
          "metadata": {},
          "execution_count": 63
        }
      ]
    },
    {
      "cell_type": "code",
      "metadata": {
        "colab": {
          "base_uri": "https://localhost:8080/"
        },
        "id": "fAI1500Rljps",
        "outputId": "6097ef50-69a8-4ae4-853c-e7595fcb1535"
      },
      "source": [
        "##make and plot prediction \n",
        "y_pred_3=model_3.predict(X_test)\n",
        "y_pred_3"
      ],
      "execution_count": null,
      "outputs": [
        {
          "output_type": "stream",
          "name": "stdout",
          "text": [
            "WARNING:tensorflow:6 out of the last 7 calls to <function Model.make_predict_function.<locals>.predict_function at 0x7fb31ccb4050> triggered tf.function retracing. Tracing is expensive and the excessive number of tracings could be due to (1) creating @tf.function repeatedly in a loop, (2) passing tensors with different shapes, (3) passing Python objects instead of tensors. For (1), please define your @tf.function outside of the loop. For (2), @tf.function has experimental_relax_shapes=True option that relaxes argument shapes that can avoid unnecessary retracing. For (3), please refer to https://www.tensorflow.org/guide/function#controlling_retracing and https://www.tensorflow.org/api_docs/python/tf/function for  more details.\n"
          ]
        },
        {
          "output_type": "execute_result",
          "data": {
            "text/plain": [
              "array([[20.647337],\n",
              "       [21.784824],\n",
              "       [22.922314],\n",
              "       [24.059801],\n",
              "       [25.197287],\n",
              "       [26.334774],\n",
              "       [27.472261],\n",
              "       [28.609749],\n",
              "       [29.747234],\n",
              "       [30.884722]], dtype=float32)"
            ]
          },
          "metadata": {},
          "execution_count": 64
        }
      ]
    },
    {
      "cell_type": "code",
      "metadata": {
        "colab": {
          "base_uri": "https://localhost:8080/",
          "height": 428
        },
        "id": "uJLDWBxkm-fj",
        "outputId": "a9ffdbf8-bc9e-4543-bda0-a4fa8d82af5a"
      },
      "source": [
        "plot_prediction(prediction=y_pred_3)"
      ],
      "execution_count": null,
      "outputs": [
        {
          "output_type": "display_data",
          "data": {
            "image/png": "[encoded data removed]",
            "text/plain": [
              "<Figure size 720x504 with 1 Axes>"
            ]
          },
          "metadata": {
            "needs_background": "light"
          }
        }
      ]
    },
    {
      "cell_type": "code",
      "metadata": {
        "colab": {
          "base_uri": "https://localhost:8080/"
        },
        "id": "7r0DN_N9nOFf",
        "outputId": "b5b61fb2-6597-49a0-ba4f-ab38136ef220"
      },
      "source": [
        "##calculate the evaluation metrics\n",
        "mae_3=mae(y_test,tf.squeeze(y_pred))\n",
        "\n",
        "mse_3=mse(y_test,tf.squeeze(y_pred))\n",
        "mse_3,mae_3"
      ],
      "execution_count": null,
      "outputs": [
        {
          "output_type": "execute_result",
          "data": {
            "text/plain": [
              "(<tf.Tensor: shape=(), dtype=float32, numpy=413.43756>,\n",
              " <tf.Tensor: shape=(), dtype=float32, numpy=20.259104>)"
            ]
          },
          "metadata": {},
          "execution_count": 66
        }
      ]
    },
    {
      "cell_type": "code",
      "metadata": {
        "id": "FzjS1nh2nbLI",
        "colab": {
          "base_uri": "https://localhost:8080/",
          "height": 143
        },
        "outputId": "7c583750-c336-4d8e-97ab-69a6faab4bad"
      },
      "source": [
        "##compairing the results of our experiment\n",
        "#lets compare  our results using a pandas dataframe\n",
        "import pandas as pd\n",
        "model_results=[[\"model_1\",mae_1.numpy(),mse_1.numpy()],\n",
        "               [\"model_2\",mae_2.numpy(),mse_2.numpy()],\n",
        "               [\"model_3\",mae_3.numpy(),mse_3.numpy()]]\n",
        "all_results=pd.DataFrame(model_results,columns=[\"columns\",\"mae\",\"mse\"])\n",
        "all_results               "
      ],
      "execution_count": null,
      "outputs": [
        {
          "output_type": "execute_result",
          "data": {
            "text/html": [
              "<div>\n",
              "<style scoped>\n",
              "    .dataframe tbody tr th:only-of-type {\n",
              "        vertical-align: middle;\n",
              "    }\n",
              "\n",
              "    .dataframe tbody tr th {\n",
              "        vertical-align: top;\n",
              "    }\n",
              "\n",
              "    .dataframe thead th {\n",
              "        text-align: right;\n",
              "    }\n",
              "</style>\n",
              "<table border=\"1\" class=\"dataframe\">\n",
              "  <thead>\n",
              "    <tr style=\"text-align: right;\">\n",
              "      <th></th>\n",
              "      <th>columns</th>\n",
              "      <th>mae</th>\n",
              "      <th>mse</th>\n",
              "    </tr>\n",
              "  </thead>\n",
              "  <tbody>\n",
              "    <tr>\n",
              "      <th>0</th>\n",
              "      <td>model_1</td>\n",
              "      <td>14.860248</td>\n",
              "      <td>221.652100</td>\n",
              "    </tr>\n",
              "    <tr>\n",
              "      <th>1</th>\n",
              "      <td>model_2</td>\n",
              "      <td>3.196941</td>\n",
              "      <td>13.070143</td>\n",
              "    </tr>\n",
              "    <tr>\n",
              "      <th>2</th>\n",
              "      <td>model_3</td>\n",
              "      <td>20.259104</td>\n",
              "      <td>413.437561</td>\n",
              "    </tr>\n",
              "  </tbody>\n",
              "</table>\n",
              "</div>"
            ],
            "text/plain": [
              "   columns        mae         mse\n",
              "0  model_1  14.860248  221.652100\n",
              "1  model_2   3.196941   13.070143\n",
              "2  model_3  20.259104  413.437561"
            ]
          },
          "metadata": {},
          "execution_count": 67
        }
      ]
    },
    {
      "cell_type": "code",
      "metadata": {
        "id": "_zoRc9az3mLa"
      },
      "source": [
        ""
      ],
      "execution_count": null,
      "outputs": []
    }
  ]
}