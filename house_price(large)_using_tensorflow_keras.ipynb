{
  "nbformat": 4,
  "nbformat_minor": 0,
  "metadata": {
    "colab": {
      "name": "house price(large) using tensorflow  keras",
      "provenance": [],
      "collapsed_sections": [],
      "authorship_tag": "ABX9TyPgDbh8NPMLQCGyh4QhmoIA",
      "include_colab_link": true
    },
    "kernelspec": {
      "name": "python3",
      "display_name": "Python 3"
    },
    "language_info": {
      "name": "python"
    }
  },
  "cells": [
    {
      "cell_type": "markdown",
      "metadata": {
        "id": "view-in-github",
        "colab_type": "text"
      },
      "source": [
        "<a href=\"https://colab.research.google.com/github/R329aghav/Raghavjr/blob/main/house_price(large)_using_tensorflow_keras.ipynb\" target=\"_parent\"><img src=\"https://colab.research.google.com/assets/colab-badge.svg\" alt=\"Open In Colab\"/></a>"
      ]
    },
    {
      "cell_type": "code",
      "metadata": {
        "id": "XpM7c7gQ78_O"
      },
      "source": [
        "from google.colab import drive\n",
        "drive.mount('/content/drive')\n"
      ],
      "execution_count": null,
      "outputs": []
    },
    {
      "cell_type": "code",
      "metadata": {
        "id": "2b3PeaVe8NoM"
      },
      "source": [
        "import pandas as pd\n",
        "import numpy as np\n",
        "import matplotlib.pyplot as plt\n",
        "import seaborn as sns\n",
        "import tensorflow as tf\n",
        "import keras\n",
        "from keras.models import Sequential\n",
        "from keras.layers import Dense\n",
        "from keras.layers import Dropout\n",
        "path=\"/content/drive/MyDrive/DATASETS/California_Houses.csv.zip\""
      ],
      "execution_count": null,
      "outputs": []
    },
    {
      "cell_type": "code",
      "metadata": {
        "id": "zKAU0-gZAsgz"
      },
      "source": [
        "data=pd.read_csv(path)\n",
        "data.columns,data.shape,data.ndim,data.size,data.size"
      ],
      "execution_count": null,
      "outputs": []
    },
    {
      "cell_type": "code",
      "metadata": {
        "id": "KtDwmrAFCg8q"
      },
      "source": [
        "X=data.drop(['Median_House_Value'],axis=1)\n",
        "y=data['Median_House_Value']\n",
        "from sklearn.preprocessing import MinMaxScaler\n",
        "scaler=MinMaxScaler()\n",
        "X=scaler.fit_transform(X)\n",
        "\n",
        "from sklearn.model_selection import train_test_split\n",
        "X_train,X_test,y_train,y_test=train_test_split(X,y,test_size=0.2,random_state=42)\n",
        "print(\"X_train_shape:\",X_train.shape)\n",
        "print(\"X_test_shape:\",X_test.shape)\n",
        "print(\"y_train_shape:\",y_train.shape)\n",
        "print(\"y_test_shape\",y_test.shape)\n",
        "X"
      ],
      "execution_count": null,
      "outputs": []
    },
    {
      "cell_type": "code",
      "metadata": {
        "id": "AiUqbsYoCrmr"
      },
      "source": [
        "import tensorflow as tf\n",
        "import keras\n",
        "from keras.models import Sequential\n",
        "from keras.layers import Dense\n",
        "from keras.layers import Dropout\n",
        "import pandas as pd\n",
        "import numpy  as np\n",
        "import matplotlib.pyplot as plt\n",
        "import seaborn as sns\n",
        "###create neral netwook\n",
        "keras_model=Sequential()\n",
        "\n",
        "###1.create first input layer\n",
        "\n",
        "keras_model.add(Dense(200,activation=\"relu\",kernel_initializer=\"uniform\",input_dim=13))\n",
        "\n",
        "##2. create hidden layer\n",
        "\n",
        "keras_model.add(Dense(100,activation=\"relu\",kernel_initializer=\"uniform\"))\n",
        "\n",
        "##3. create output layer\n",
        "\n",
        "keras_model.add(Dense(1,activation=\"linear\",kernel_initializer=\"uniform\"))\n",
        "\n",
        "##4.compile our model\n",
        "\n",
        "keras_model.compile(optimizer=\"Adam\",loss=\"mean_squared_error\",metrics=[\"accuracy\"])\n",
        "\n",
        "##5. fit our model\n",
        "\n",
        "keras_model.fit(X_train,y_train,epochs=500,batch_size=200,verbose=0)\n"
      ],
      "execution_count": null,
      "outputs": []
    },
    {
      "cell_type": "code",
      "metadata": {
        "id": "w0WgH9Vhd9Sr"
      },
      "source": [
        "keras_model.evaluate(X_test,y_test)"
      ],
      "execution_count": null,
      "outputs": []
    },
    {
      "cell_type": "code",
      "metadata": {
        "id": "A9WApsqR5oMT"
      },
      "source": [
        "y_pred_keras=keras_model.predict(X_test)\n",
        "\n",
        "dataframe=pd.Series({\"Actual\":y_test,\"predicted\":y_pred_keras})\n",
        "dataframe,y_pred_keras,y_test"
      ],
      "execution_count": null,
      "outputs": []
    },
    {
      "cell_type": "code",
      "metadata": {
        "id": "tgAp40116XH3"
      },
      "source": [
        "from sklearn.metrics import mean_squared_error\n",
        "mse=mean_squared_error(y_test,y_pred_keras)\n",
        "mse"
      ],
      "execution_count": null,
      "outputs": []
    },
    {
      "cell_type": "code",
      "metadata": {
        "id": "IOX35Tm9fLho"
      },
      "source": [
        "# improve our model\n",
        "##separste X and y\n"
      ],
      "execution_count": null,
      "outputs": []
    },
    {
      "cell_type": "code",
      "metadata": {
        "id": "nWBa9FM110VU"
      },
      "source": [
        "from sklearn.linear_model import LinearRegression\n",
        "from sklearn.metrics import mean_squared_error\n",
        "reg=LinearRegression()\n",
        "regression_model=reg.fit(X_train,y_train)\n",
        "regression_model,reg.coef_,reg.score(X_test,y_test)\n"
      ],
      "execution_count": null,
      "outputs": []
    },
    {
      "cell_type": "code",
      "metadata": {
        "id": "BUEy4REn4ZmQ"
      },
      "source": [
        "from sklearn.metrics import mean_squared_error\n",
        "y_pred_lm=regression_model.predict(X_test)\n",
        "y_pred_lm"
      ],
      "execution_count": null,
      "outputs": []
    },
    {
      "cell_type": "code",
      "metadata": {
        "id": "tivtzvLm6z3f"
      },
      "source": [
        "mse=mean_squared_error(y_test,y_pred_lm)\n",
        "mse"
      ],
      "execution_count": null,
      "outputs": []
    },
    {
      "cell_type": "code",
      "metadata": {
        "id": "kWsVgUVv6-_m"
      },
      "source": [
        "plt.figure(1)\n",
        "\n",
        "plt.subplot(1,2,1)\n",
        "plt.scatter(y_test,y_pred_keras)\n",
        "plt.xlabel(\"Actual value\")\n",
        "plt.ylabel(\"Predicted value\")\n",
        "plt.title(\"using keras model\")\n",
        "plt.show()\n",
        "\n",
        "plt.subplot(1,2,2)\n",
        "plt.scatter(y_test,y_pred_lm)\n",
        "plt.xlabel(\"Actual value\")\n",
        "plt.ylabel(\"predicted value\")\n",
        "plt.title(\"using  linear regression\")\n",
        "plt.show()\n",
        "mse=mean_squared_error(y_test,y_pred_lm)\n",
        "mse"
      ],
      "execution_count": null,
      "outputs": []
    },
    {
      "cell_type": "code",
      "metadata": {
        "id": "5j25f1WY8Uca"
      },
      "source": [
        "# using tensorflow \n",
        "import tensorflow as tf\n",
        "X=tf.constant(X)\n",
        "y=tf.constant(y)\n",
        "X,y,X.shape,y.shape"
      ],
      "execution_count": null,
      "outputs": []
    },
    {
      "cell_type": "code",
      "metadata": {
        "id": "kG7MHago83e3"
      },
      "source": [
        "from sklearn.preprocessing import MinMaxScaler\n",
        "scaler=MinMaxScaler()\n",
        "X=scaler.fit_transform(X)\n",
        "X"
      ],
      "execution_count": null,
      "outputs": []
    },
    {
      "cell_type": "code",
      "metadata": {
        "id": "w30sQ9cm-1QC"
      },
      "source": [
        "tensor_model=tf.keras.Sequential([\n",
        "                                   #  provides training and inference features on this mode\n",
        "    # create first input layer\n",
        "\n",
        "    tf.keras.layers.Dense(500,activation=\"relu\",kernel_initializer=\"uniform\",input_dim=13),\n",
        "\n",
        "    ##2.create hidden layer\n",
        "\n",
        "    tf.keras.layers.Dense(100,activation=\"relu\",kernel_initializer=\"uniform\"),\n",
        "\n",
        "    ##3.create output layer\n",
        "\n",
        "    tf.keras.layers.Dense(1,activation=\"linear\")\n",
        "    \n",
        "   \n",
        "])\n",
        "  ##4. compile your model\n",
        "tensor_model.compile(optimizer=tf.keras.optimizers.Adam(lr=0.001),\n",
        "                       loss=tf.keras.losses.mae,\n",
        "                       metrics=[\"mae\"])\n",
        "\n",
        "tensor_model.fit(X_train,y_train,epochs=100,batch_size=100,verbose=1)\n"
      ],
      "execution_count": null,
      "outputs": []
    },
    {
      "cell_type": "code",
      "metadata": {
        "id": "4XjsMR9k_Eu6"
      },
      "source": [
        "tensor_model.evaluate(X_test,y_test)"
      ],
      "execution_count": null,
      "outputs": []
    },
    {
      "cell_type": "code",
      "metadata": {
        "id": "C3P_gLhODZQY"
      },
      "source": [
        "y_pred_tf=tensor_model.predict(X_test)\n",
        "y_pred_tf"
      ],
      "execution_count": null,
      "outputs": []
    },
    {
      "cell_type": "code",
      "metadata": {
        "id": "S7pB1CfXDngv"
      },
      "source": [
        "from sklearn.metrics import mean_squared_error\n",
        "mse=mean_squared_error(y_test,y_pred_tf)\n",
        "mse"
      ],
      "execution_count": null,
      "outputs": []
    },
    {
      "cell_type": "code",
      "metadata": {
        "id": "nEUHwlt7D33T"
      },
      "source": [
        ""
      ],
      "execution_count": null,
      "outputs": []
    }
  ]
}