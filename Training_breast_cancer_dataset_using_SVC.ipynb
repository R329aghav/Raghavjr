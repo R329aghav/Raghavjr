{
  "nbformat": 4,
  "nbformat_minor": 0,
  "metadata": {
    "colab": {
      "name": "Training breast cancer dataset using SVC ",
      "provenance": [],
      "collapsed_sections": [],
      "authorship_tag": "ABX9TyMwz1HUYjS11XDmhAtVJzuj",
      "include_colab_link": true
    },
    "kernelspec": {
      "name": "python3",
      "display_name": "Python 3"
    },
    "language_info": {
      "name": "python"
    }
  },
  "cells": [
    {
      "cell_type": "markdown",
      "metadata": {
        "id": "view-in-github",
        "colab_type": "text"
      },
      "source": [
        "<a href=\"https://colab.research.google.com/github/R329aghav/Raghavjr/blob/main/Training_breast_cancer_dataset_using_SVC.ipynb\" target=\"_parent\"><img src=\"https://colab.research.google.com/assets/colab-badge.svg\" alt=\"Open In Colab\"/></a>"
      ]
    },
    {
      "cell_type": "code",
      "metadata": {
        "id": "Ng5HVra4Fkig"
      },
      "source": [
        "from google.colab import drive\n",
        "drive.mount('/content/drive')"
      ],
      "execution_count": null,
      "outputs": []
    },
    {
      "cell_type": "code",
      "metadata": {
        "id": "JFNmjO8Eg58q"
      },
      "source": [
        "import pandas as pd\n",
        "import numpy as np\n",
        "import matplotlib.pyplot as plt\n"
      ],
      "execution_count": null,
      "outputs": []
    },
    {
      "cell_type": "code",
      "metadata": {
        "id": "oJtAnH13rqja"
      },
      "source": [
        "path=\"/content/drive/MyDrive/DATASETS/data.csv\""
      ],
      "execution_count": null,
      "outputs": []
    },
    {
      "cell_type": "code",
      "metadata": {
        "id": "Hfw-IvBHsBKX"
      },
      "source": [
        "data=pd.read_csv(path)\n",
        "data.head()"
      ],
      "execution_count": null,
      "outputs": []
    },
    {
      "cell_type": "code",
      "metadata": {
        "id": "TGHAQ52lsDzL"
      },
      "source": [
        "del data['Unnamed: 32']"
      ],
      "execution_count": null,
      "outputs": []
    },
    {
      "cell_type": "code",
      "metadata": {
        "id": "D5FLFMIEsaU2"
      },
      "source": [
        "data.head()"
      ],
      "execution_count": null,
      "outputs": []
    },
    {
      "cell_type": "code",
      "metadata": {
        "id": "3yzOpdQ5sccs"
      },
      "source": [
        "import seaborn as sns\n",
        "from matplotlib import pyplot as plt\n",
        "ax=sns.countplot(data['diagnosis'],label='Count')\n",
        "B,M=data['diagnosis'].value_counts()\n",
        "print('Benign',B)\n",
        "print('Malignant',M)"
      ],
      "execution_count": null,
      "outputs": []
    },
    {
      "cell_type": "code",
      "metadata": {
        "id": "JEAXdUhzsoa3"
      },
      "source": [
        "X=data.iloc[:,2:].values\n",
        "y=data.iloc[:,1].values"
      ],
      "execution_count": null,
      "outputs": []
    },
    {
      "cell_type": "code",
      "metadata": {
        "id": "KrhAKjqytFKO"
      },
      "source": [
        "print(\"X_shape--->\",X.shape)\n",
        "print(\"Y_shape-->\",y.shape)"
      ],
      "execution_count": null,
      "outputs": []
    },
    {
      "cell_type": "code",
      "metadata": {
        "id": "T05OXu_qtgRE"
      },
      "source": [
        "#spliting the dataset for training and tetsing\n",
        "from sklearn.model_selection import train_test_split\n",
        "X_train,X_test,y_train,y_test=train_test_split(X,y,test_size=0.2,random_state=0)"
      ],
      "execution_count": null,
      "outputs": []
    },
    {
      "cell_type": "code",
      "metadata": {
        "id": "mZFS3DsDtutl"
      },
      "source": [
        "print(\"X_train_shape-->\",X_train.shape)\n",
        "print(\"X_test_shape-->\",X_test.shape)\n",
        "print(\"y_train_shape-->\",y_train.shape)\n",
        "print(\"y_test_shape-->\",y_test.shape)"
      ],
      "execution_count": null,
      "outputs": []
    },
    {
      "cell_type": "code",
      "metadata": {
        "id": "3m8t-zCDwMYS"
      },
      "source": [
        "from sklearn.preprocessing import StandardScaler\n",
        "sc=StandardScaler()\n",
        "X_train=sc.fit_transform(X_train)\n",
        "X_test=sc.fit_transform(X_test)\n",
        "# y_test=sc.fit_transform(np.reshape(y_test,(114,1)))"
      ],
      "execution_count": null,
      "outputs": []
    },
    {
      "cell_type": "code",
      "metadata": {
        "id": "o489qJsWuAMh"
      },
      "source": [
        "#importing SVC algorithm\n",
        "from sklearn.svm import SVC\n",
        "classifier_1=SVC(kernel='linear')\n",
        "classifier_1.fit(X_train,y_train)"
      ],
      "execution_count": null,
      "outputs": []
    },
    {
      "cell_type": "code",
      "metadata": {
        "id": "T_EDSZZFuZBV"
      },
      "source": [
        "classifier_1.score(X_test,y_test)"
      ],
      "execution_count": null,
      "outputs": []
    },
    {
      "cell_type": "code",
      "metadata": {
        "id": "CqdGXNsTuq-9"
      },
      "source": [
        "#importing SVC algorithm\n",
        "from sklearn.svm import SVC\n",
        "classifier_2=SVC(kernel='poly')\n",
        "classifier_2.fit(X_train,y_train)"
      ],
      "execution_count": null,
      "outputs": []
    },
    {
      "cell_type": "code",
      "metadata": {
        "id": "Pk5Ji7T5u0q1"
      },
      "source": [
        "classifier_2.score(X_test,y_test)"
      ],
      "execution_count": null,
      "outputs": []
    },
    {
      "cell_type": "code",
      "metadata": {
        "id": "mvsG0cpeu355"
      },
      "source": [
        "#importing SVC algorithm\n",
        "from sklearn.svm import SVC\n",
        "classifier_3=SVC(kernel='poly',degree=2)\n",
        "classifier_3.fit(X_train,y_train)"
      ],
      "execution_count": null,
      "outputs": []
    },
    {
      "cell_type": "code",
      "metadata": {
        "id": "psoE7FMqu9um"
      },
      "source": [
        "classifier_3.score(X_test,y_test)"
      ],
      "execution_count": null,
      "outputs": []
    },
    {
      "cell_type": "code",
      "metadata": {
        "id": "SNF-emCQvG74"
      },
      "source": [
        "#importing SVC algorithm\n",
        "from sklearn.svm import SVC\n",
        "classifier_3=SVC(kernel='rbf')\n",
        "classifier_3.fit(X_train,y_train)"
      ],
      "execution_count": null,
      "outputs": []
    },
    {
      "cell_type": "code",
      "metadata": {
        "id": "tYZDKQ1CvWlq"
      },
      "source": [
        "classifier_3.score(X_test,y_test)"
      ],
      "execution_count": null,
      "outputs": []
    },
    {
      "cell_type": "code",
      "metadata": {
        "id": "WeyLuTBYvA1w"
      },
      "source": [
        "predicted=classifier_1.predict(X_test)"
      ],
      "execution_count": null,
      "outputs": []
    },
    {
      "cell_type": "code",
      "metadata": {
        "id": "Acux4RXkveCK"
      },
      "source": [
        "dataframe=pd.DataFrame(y_test,predicted)"
      ],
      "execution_count": null,
      "outputs": []
    },
    {
      "cell_type": "code",
      "metadata": {
        "id": "acA5oQbKvld2"
      },
      "source": [
        "print(dataframe)"
      ],
      "execution_count": null,
      "outputs": []
    },
    {
      "cell_type": "code",
      "metadata": {
        "id": "jy8Wdc0Svn4k"
      },
      "source": [
        "dataframe=pd.DataFrame({ 'Actual':y_test,'predict':predicted})"
      ],
      "execution_count": null,
      "outputs": []
    },
    {
      "cell_type": "code",
      "metadata": {
        "id": "eN0uLdYMv14T"
      },
      "source": [
        "print(dataframe)"
      ],
      "execution_count": null,
      "outputs": []
    },
    {
      "cell_type": "code",
      "metadata": {
        "id": "2hiJ_OFiv4h6"
      },
      "source": [
        "dataframe.describe()"
      ],
      "execution_count": null,
      "outputs": []
    },
    {
      "cell_type": "code",
      "metadata": {
        "id": "VIJlCnb4xsd7"
      },
      "source": [
        ""
      ],
      "execution_count": null,
      "outputs": []
    }
  ]
}