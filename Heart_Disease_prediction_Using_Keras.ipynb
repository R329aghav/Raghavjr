{
  "nbformat": 4,
  "nbformat_minor": 0,
  "metadata": {
    "colab": {
      "name": "Heart Disease prediction Using Keras",
      "provenance": [],
      "collapsed_sections": [],
      "authorship_tag": "ABX9TyONOwM4LGiZyWf1QuwzhwIq",
      "include_colab_link": true
    },
    "kernelspec": {
      "display_name": "Python 3",
      "name": "python3"
    },
    "language_info": {
      "name": "python"
    }
  },
  "cells": [
    {
      "cell_type": "markdown",
      "metadata": {
        "id": "view-in-github",
        "colab_type": "text"
      },
      "source": [
        "<a href=\"https://colab.research.google.com/github/R329aghav/Raghavjr/blob/main/Heart_Disease_prediction_Using_Keras.ipynb\" target=\"_parent\"><img src=\"https://colab.research.google.com/assets/colab-badge.svg\" alt=\"Open In Colab\"/></a>"
      ]
    },
    {
      "cell_type": "code",
      "metadata": {
        "id": "o7QKH5F6fxgh"
      },
      "source": [
        "from google.colab import drive"
      ],
      "execution_count": null,
      "outputs": []
    },
    {
      "cell_type": "code",
      "metadata": {
        "colab": {
          "base_uri": "https://localhost:8080/"
        },
        "id": "2P30jdGWjNQ4",
        "outputId": "028420cb-9492-4435-bf20-961e72e2bbd5"
      },
      "source": [
        "drive.mount('/content/drive')"
      ],
      "execution_count": null,
      "outputs": [
        {
          "output_type": "stream",
          "text": [
            "Mounted at /content/drive\n"
          ],
          "name": "stdout"
        }
      ]
    },
    {
      "cell_type": "code",
      "metadata": {
        "id": "Avc-WkV6xxqm"
      },
      "source": [
        "import pandas as pd\n",
        "path=\"/content/drive/MyDrive/DATASETS/data.csv\""
      ],
      "execution_count": null,
      "outputs": []
    },
    {
      "cell_type": "code",
      "metadata": {
        "id": "YXT3l4INzYKv"
      },
      "source": [
        "data=pd.read_csv(path)"
      ],
      "execution_count": null,
      "outputs": []
    },
    {
      "cell_type": "code",
      "metadata": {
        "colab": {
          "base_uri": "https://localhost:8080/",
          "height": 243
        },
        "id": "8aHXAwVDzdBH",
        "outputId": "a08ea35e-e6b1-4271-de1d-7299dbb58103"
      },
      "source": [
        "data.head()"
      ],
      "execution_count": null,
      "outputs": [
        {
          "output_type": "execute_result",
          "data": {
            "text/html": [
              "<div>\n",
              "<style scoped>\n",
              "    .dataframe tbody tr th:only-of-type {\n",
              "        vertical-align: middle;\n",
              "    }\n",
              "\n",
              "    .dataframe tbody tr th {\n",
              "        vertical-align: top;\n",
              "    }\n",
              "\n",
              "    .dataframe thead th {\n",
              "        text-align: right;\n",
              "    }\n",
              "</style>\n",
              "<table border=\"1\" class=\"dataframe\">\n",
              "  <thead>\n",
              "    <tr style=\"text-align: right;\">\n",
              "      <th></th>\n",
              "      <th>id</th>\n",
              "      <th>diagnosis</th>\n",
              "      <th>radius_mean</th>\n",
              "      <th>texture_mean</th>\n",
              "      <th>perimeter_mean</th>\n",
              "      <th>area_mean</th>\n",
              "      <th>smoothness_mean</th>\n",
              "      <th>compactness_mean</th>\n",
              "      <th>concavity_mean</th>\n",
              "      <th>concave points_mean</th>\n",
              "      <th>symmetry_mean</th>\n",
              "      <th>fractal_dimension_mean</th>\n",
              "      <th>radius_se</th>\n",
              "      <th>texture_se</th>\n",
              "      <th>perimeter_se</th>\n",
              "      <th>area_se</th>\n",
              "      <th>smoothness_se</th>\n",
              "      <th>compactness_se</th>\n",
              "      <th>concavity_se</th>\n",
              "      <th>concave points_se</th>\n",
              "      <th>symmetry_se</th>\n",
              "      <th>fractal_dimension_se</th>\n",
              "      <th>radius_worst</th>\n",
              "      <th>texture_worst</th>\n",
              "      <th>perimeter_worst</th>\n",
              "      <th>area_worst</th>\n",
              "      <th>smoothness_worst</th>\n",
              "      <th>compactness_worst</th>\n",
              "      <th>concavity_worst</th>\n",
              "      <th>concave points_worst</th>\n",
              "      <th>symmetry_worst</th>\n",
              "      <th>fractal_dimension_worst</th>\n",
              "      <th>Unnamed: 32</th>\n",
              "    </tr>\n",
              "  </thead>\n",
              "  <tbody>\n",
              "    <tr>\n",
              "      <th>0</th>\n",
              "      <td>842302</td>\n",
              "      <td>M</td>\n",
              "      <td>17.99</td>\n",
              "      <td>10.38</td>\n",
              "      <td>122.80</td>\n",
              "      <td>1001.0</td>\n",
              "      <td>0.11840</td>\n",
              "      <td>0.27760</td>\n",
              "      <td>0.3001</td>\n",
              "      <td>0.14710</td>\n",
              "      <td>0.2419</td>\n",
              "      <td>0.07871</td>\n",
              "      <td>1.0950</td>\n",
              "      <td>0.9053</td>\n",
              "      <td>8.589</td>\n",
              "      <td>153.40</td>\n",
              "      <td>0.006399</td>\n",
              "      <td>0.04904</td>\n",
              "      <td>0.05373</td>\n",
              "      <td>0.01587</td>\n",
              "      <td>0.03003</td>\n",
              "      <td>0.006193</td>\n",
              "      <td>25.38</td>\n",
              "      <td>17.33</td>\n",
              "      <td>184.60</td>\n",
              "      <td>2019.0</td>\n",
              "      <td>0.1622</td>\n",
              "      <td>0.6656</td>\n",
              "      <td>0.7119</td>\n",
              "      <td>0.2654</td>\n",
              "      <td>0.4601</td>\n",
              "      <td>0.11890</td>\n",
              "      <td>NaN</td>\n",
              "    </tr>\n",
              "    <tr>\n",
              "      <th>1</th>\n",
              "      <td>842517</td>\n",
              "      <td>M</td>\n",
              "      <td>20.57</td>\n",
              "      <td>17.77</td>\n",
              "      <td>132.90</td>\n",
              "      <td>1326.0</td>\n",
              "      <td>0.08474</td>\n",
              "      <td>0.07864</td>\n",
              "      <td>0.0869</td>\n",
              "      <td>0.07017</td>\n",
              "      <td>0.1812</td>\n",
              "      <td>0.05667</td>\n",
              "      <td>0.5435</td>\n",
              "      <td>0.7339</td>\n",
              "      <td>3.398</td>\n",
              "      <td>74.08</td>\n",
              "      <td>0.005225</td>\n",
              "      <td>0.01308</td>\n",
              "      <td>0.01860</td>\n",
              "      <td>0.01340</td>\n",
              "      <td>0.01389</td>\n",
              "      <td>0.003532</td>\n",
              "      <td>24.99</td>\n",
              "      <td>23.41</td>\n",
              "      <td>158.80</td>\n",
              "      <td>1956.0</td>\n",
              "      <td>0.1238</td>\n",
              "      <td>0.1866</td>\n",
              "      <td>0.2416</td>\n",
              "      <td>0.1860</td>\n",
              "      <td>0.2750</td>\n",
              "      <td>0.08902</td>\n",
              "      <td>NaN</td>\n",
              "    </tr>\n",
              "    <tr>\n",
              "      <th>2</th>\n",
              "      <td>84300903</td>\n",
              "      <td>M</td>\n",
              "      <td>19.69</td>\n",
              "      <td>21.25</td>\n",
              "      <td>130.00</td>\n",
              "      <td>1203.0</td>\n",
              "      <td>0.10960</td>\n",
              "      <td>0.15990</td>\n",
              "      <td>0.1974</td>\n",
              "      <td>0.12790</td>\n",
              "      <td>0.2069</td>\n",
              "      <td>0.05999</td>\n",
              "      <td>0.7456</td>\n",
              "      <td>0.7869</td>\n",
              "      <td>4.585</td>\n",
              "      <td>94.03</td>\n",
              "      <td>0.006150</td>\n",
              "      <td>0.04006</td>\n",
              "      <td>0.03832</td>\n",
              "      <td>0.02058</td>\n",
              "      <td>0.02250</td>\n",
              "      <td>0.004571</td>\n",
              "      <td>23.57</td>\n",
              "      <td>25.53</td>\n",
              "      <td>152.50</td>\n",
              "      <td>1709.0</td>\n",
              "      <td>0.1444</td>\n",
              "      <td>0.4245</td>\n",
              "      <td>0.4504</td>\n",
              "      <td>0.2430</td>\n",
              "      <td>0.3613</td>\n",
              "      <td>0.08758</td>\n",
              "      <td>NaN</td>\n",
              "    </tr>\n",
              "    <tr>\n",
              "      <th>3</th>\n",
              "      <td>84348301</td>\n",
              "      <td>M</td>\n",
              "      <td>11.42</td>\n",
              "      <td>20.38</td>\n",
              "      <td>77.58</td>\n",
              "      <td>386.1</td>\n",
              "      <td>0.14250</td>\n",
              "      <td>0.28390</td>\n",
              "      <td>0.2414</td>\n",
              "      <td>0.10520</td>\n",
              "      <td>0.2597</td>\n",
              "      <td>0.09744</td>\n",
              "      <td>0.4956</td>\n",
              "      <td>1.1560</td>\n",
              "      <td>3.445</td>\n",
              "      <td>27.23</td>\n",
              "      <td>0.009110</td>\n",
              "      <td>0.07458</td>\n",
              "      <td>0.05661</td>\n",
              "      <td>0.01867</td>\n",
              "      <td>0.05963</td>\n",
              "      <td>0.009208</td>\n",
              "      <td>14.91</td>\n",
              "      <td>26.50</td>\n",
              "      <td>98.87</td>\n",
              "      <td>567.7</td>\n",
              "      <td>0.2098</td>\n",
              "      <td>0.8663</td>\n",
              "      <td>0.6869</td>\n",
              "      <td>0.2575</td>\n",
              "      <td>0.6638</td>\n",
              "      <td>0.17300</td>\n",
              "      <td>NaN</td>\n",
              "    </tr>\n",
              "    <tr>\n",
              "      <th>4</th>\n",
              "      <td>84358402</td>\n",
              "      <td>M</td>\n",
              "      <td>20.29</td>\n",
              "      <td>14.34</td>\n",
              "      <td>135.10</td>\n",
              "      <td>1297.0</td>\n",
              "      <td>0.10030</td>\n",
              "      <td>0.13280</td>\n",
              "      <td>0.1980</td>\n",
              "      <td>0.10430</td>\n",
              "      <td>0.1809</td>\n",
              "      <td>0.05883</td>\n",
              "      <td>0.7572</td>\n",
              "      <td>0.7813</td>\n",
              "      <td>5.438</td>\n",
              "      <td>94.44</td>\n",
              "      <td>0.011490</td>\n",
              "      <td>0.02461</td>\n",
              "      <td>0.05688</td>\n",
              "      <td>0.01885</td>\n",
              "      <td>0.01756</td>\n",
              "      <td>0.005115</td>\n",
              "      <td>22.54</td>\n",
              "      <td>16.67</td>\n",
              "      <td>152.20</td>\n",
              "      <td>1575.0</td>\n",
              "      <td>0.1374</td>\n",
              "      <td>0.2050</td>\n",
              "      <td>0.4000</td>\n",
              "      <td>0.1625</td>\n",
              "      <td>0.2364</td>\n",
              "      <td>0.07678</td>\n",
              "      <td>NaN</td>\n",
              "    </tr>\n",
              "  </tbody>\n",
              "</table>\n",
              "</div>"
            ],
            "text/plain": [
              "         id diagnosis  ...  fractal_dimension_worst  Unnamed: 32\n",
              "0    842302         M  ...                  0.11890          NaN\n",
              "1    842517         M  ...                  0.08902          NaN\n",
              "2  84300903         M  ...                  0.08758          NaN\n",
              "3  84348301         M  ...                  0.17300          NaN\n",
              "4  84358402         M  ...                  0.07678          NaN\n",
              "\n",
              "[5 rows x 33 columns]"
            ]
          },
          "metadata": {
            "tags": []
          },
          "execution_count": 5
        }
      ]
    },
    {
      "cell_type": "code",
      "metadata": {
        "colab": {
          "base_uri": "https://localhost:8080/",
          "height": 369
        },
        "id": "KPXW8Sljze1B",
        "outputId": "fe69bcc3-7fe4-4b84-bc83-9df1ca1e60e5"
      },
      "source": [
        "import seaborn as sns\n",
        "from matplotlib import pyplot as plt\n",
        "ax=sns.countplot(data['diagnosis'],label='Count')\n",
        "B,M=data['diagnosis'].value_counts()\n",
        "print('Benign',B)\n",
        "print('Malignant',M)"
      ],
      "execution_count": null,
      "outputs": [
        {
          "output_type": "stream",
          "text": [
            "Benign 357\n",
            "Malignant 212\n"
          ],
          "name": "stdout"
        },
        {
          "output_type": "stream",
          "text": [
            "/usr/local/lib/python3.7/dist-packages/seaborn/_decorators.py:43: FutureWarning: Pass the following variable as a keyword arg: x. From version 0.12, the only valid positional argument will be `data`, and passing other arguments without an explicit keyword will result in an error or misinterpretation.\n",
            "  FutureWarning\n"
          ],
          "name": "stderr"
        },
        {
          "output_type": "display_data",
          "data": {
            "image/png": "[encoded data removed]",
            "text/plain": [
              "<Figure size 432x288 with 1 Axes>"
            ]
          },
          "metadata": {
            "tags": [],
            "needs_background": "light"
          }
        }
      ]
    },
    {
      "cell_type": "code",
      "metadata": {
        "id": "6WPavHoE071K"
      },
      "source": [
        "import numpy as np\n",
        "import pandas as pd\n",
        "from matplotlib import pyplot as plt\n",
        "import seaborn as sns"
      ],
      "execution_count": null,
      "outputs": []
    },
    {
      "cell_type": "code",
      "metadata": {
        "id": "PfIUK7D11Qe7"
      },
      "source": [
        "del data['Unnamed: 32']"
      ],
      "execution_count": null,
      "outputs": []
    },
    {
      "cell_type": "code",
      "metadata": {
        "id": "y5dVTYNz2Uri"
      },
      "source": [
        "X=data.iloc[:,2:].values\n",
        "y=data.iloc[:,1].values"
      ],
      "execution_count": null,
      "outputs": []
    },
    {
      "cell_type": "code",
      "metadata": {
        "id": "u0BMpMBT3U5I"
      },
      "source": [
        "#Encoding categorical data\n",
        "from sklearn.preprocessing import LabelEncoder\n",
        "labelencoder_X_1=LabelEncoder()\n",
        "y=labelencoder_X_1.fit_transform(y)"
      ],
      "execution_count": null,
      "outputs": []
    },
    {
      "cell_type": "code",
      "metadata": {
        "id": "7iz5Z0hI3ziN"
      },
      "source": [
        "#spliting the dataset for training and tetsing\n",
        "from sklearn.model_selection import train_test_split\n",
        "X_train,X_test,y_train,y_test=train_test_split(X,y,test_size=0.1,random_state=0)"
      ],
      "execution_count": null,
      "outputs": []
    },
    {
      "cell_type": "code",
      "metadata": {
        "id": "BHXCQ5Xu4NsF"
      },
      "source": [
        "#feture scaling use for standard scale----range +1 to -1\n",
        "from sklearn.preprocessing import StandardScaler\n",
        "sc=StandardScaler()\n",
        "X_train=sc.fit_transform(X_train)\n",
        "X_test=sc.fit_transform(X_test)\n"
      ],
      "execution_count": null,
      "outputs": []
    },
    {
      "cell_type": "code",
      "metadata": {
        "colab": {
          "base_uri": "https://localhost:8080/"
        },
        "id": "hJdPBhYH5XSJ",
        "outputId": "87cbd3db-6d64-4e3c-fcad-34d8f45d6fdc"
      },
      "source": [
        "X_test"
      ],
      "execution_count": null,
      "outputs": [
        {
          "output_type": "execute_result",
          "data": {
            "text/plain": [
              "array([[-0.19207516,  0.21655218, -0.11542614, ...,  1.60315155,\n",
              "         1.38812047,  1.39561107],\n",
              "       [-0.24797128,  1.29875111, -0.31114085, ..., -0.76400211,\n",
              "        -0.79834577, -0.93437281],\n",
              "       [-0.00967731, -0.89539007, -0.07447263, ..., -0.40317641,\n",
              "        -1.38855752, -0.97661799],\n",
              "       ...,\n",
              "       [-0.46861385,  0.07241152, -0.46935075, ..., -0.49962508,\n",
              "        -0.33652424, -0.40576652],\n",
              "       [-0.75986205, -0.81073603, -0.78878818, ..., -0.67538685,\n",
              "        -0.01842311,  0.13529668],\n",
              "       [-0.80399056,  1.71744542, -0.84310547, ..., -1.40405566,\n",
              "        -0.02225565, -0.77243298]])"
            ]
          },
          "metadata": {
            "tags": []
          },
          "execution_count": 22
        }
      ]
    },
    {
      "cell_type": "code",
      "metadata": {
        "colab": {
          "base_uri": "https://localhost:8080/"
        },
        "id": "pjPo1Cmg5mIk",
        "outputId": "3f6180da-3686-4e8a-99b3-0415dec2c50f"
      },
      "source": [
        "X_test"
      ],
      "execution_count": null,
      "outputs": [
        {
          "output_type": "execute_result",
          "data": {
            "text/plain": [
              "array([[-0.19207516,  0.21655218, -0.11542614, ...,  1.60315155,\n",
              "         1.38812047,  1.39561107],\n",
              "       [-0.24797128,  1.29875111, -0.31114085, ..., -0.76400211,\n",
              "        -0.79834577, -0.93437281],\n",
              "       [-0.00967731, -0.89539007, -0.07447263, ..., -0.40317641,\n",
              "        -1.38855752, -0.97661799],\n",
              "       ...,\n",
              "       [-0.46861385,  0.07241152, -0.46935075, ..., -0.49962508,\n",
              "        -0.33652424, -0.40576652],\n",
              "       [-0.75986205, -0.81073603, -0.78878818, ..., -0.67538685,\n",
              "        -0.01842311,  0.13529668],\n",
              "       [-0.80399056,  1.71744542, -0.84310547, ..., -1.40405566,\n",
              "        -0.02225565, -0.77243298]])"
            ]
          },
          "metadata": {
            "tags": []
          },
          "execution_count": 23
        }
      ]
    },
    {
      "cell_type": "code",
      "metadata": {
        "colab": {
          "base_uri": "https://localhost:8080/"
        },
        "id": "QRyEtgc95od3",
        "outputId": "03c21c11-9d28-4a57-92b6-ee007195005d"
      },
      "source": [
        "!pip install keras"
      ],
      "execution_count": null,
      "outputs": [
        {
          "output_type": "stream",
          "text": [
            "Requirement already satisfied: keras in /usr/local/lib/python3.7/dist-packages (2.4.3)\n",
            "Requirement already satisfied: h5py in /usr/local/lib/python3.7/dist-packages (from keras) (3.1.0)\n",
            "Requirement already satisfied: scipy>=0.14 in /usr/local/lib/python3.7/dist-packages (from keras) (1.4.1)\n",
            "Requirement already satisfied: numpy>=1.9.1 in /usr/local/lib/python3.7/dist-packages (from keras) (1.19.5)\n",
            "Requirement already satisfied: pyyaml in /usr/local/lib/python3.7/dist-packages (from keras) (3.13)\n",
            "Requirement already satisfied: cached-property in /usr/local/lib/python3.7/dist-packages (from h5py->keras) (1.5.2)\n"
          ],
          "name": "stdout"
        }
      ]
    },
    {
      "cell_type": "code",
      "metadata": {
        "id": "yw8aubpv6Cgc"
      },
      "source": [
        "import keras\n",
        "from keras.models import Sequential\n",
        "from keras.layers import Dense\n",
        "from keras.layers.convolutional import Conv2D\n",
        "from keras.layers import Dense, Flatten, MaxPooling2D\n",
        "from keras.utils import np_utils\n",
        "from keras.layers import LeakyReLU,PReLU,ELU\n",
        "from keras.layers import Dropout"
      ],
      "execution_count": null,
      "outputs": []
    },
    {
      "cell_type": "code",
      "metadata": {
        "id": "Vav5Z9Pj67hB"
      },
      "source": [
        "#adding the input and first layer\n",
        "classifier=Sequential()"
      ],
      "execution_count": null,
      "outputs": []
    },
    {
      "cell_type": "code",
      "metadata": {
        "id": "tkJkpu3j9hYR"
      },
      "source": [
        "classifier.add(Dense(16,kernel_initializer='uniform',activation='relu',input_dim=30))"
      ],
      "execution_count": null,
      "outputs": []
    },
    {
      "cell_type": "code",
      "metadata": {
        "id": "69AYqMcI94mm"
      },
      "source": [
        "#adding the second hidden layer\n",
        "classifier.add(Dense(16,kernel_initializer='uniform',activation='relu'))"
      ],
      "execution_count": null,
      "outputs": []
    },
    {
      "cell_type": "code",
      "metadata": {
        "id": "LOivu30XEHQS"
      },
      "source": [
        "#adding the output layer\n",
        "classifier.add(Dense(1,kernel_initializer='uniform',activation='sigmoid'))"
      ],
      "execution_count": null,
      "outputs": []
    },
    {
      "cell_type": "code",
      "metadata": {
        "id": "PdHb5ypIESsr"
      },
      "source": [
        "classifier.compile(optimizer=\"Adam\",loss='binary_crossentropy',metrics=['accuracy'])"
      ],
      "execution_count": null,
      "outputs": []
    },
    {
      "cell_type": "code",
      "metadata": {
        "colab": {
          "base_uri": "https://localhost:8080/"
        },
        "id": "KTi36f4VGhvF",
        "outputId": "59809d4e-dcfe-4859-c42b-f5e4bf00d972"
      },
      "source": [
        "classifier.fit(X_train,y_train,batch_size=100,epochs=160)"
      ],
      "execution_count": null,
      "outputs": [
        {
          "output_type": "stream",
          "text": [
            "Epoch 1/160\n",
            "6/6 [==============================] - 0s 3ms/step - loss: 0.0189 - accuracy: 0.9922\n",
            "Epoch 2/160\n",
            "6/6 [==============================] - 0s 2ms/step - loss: 0.0186 - accuracy: 0.9922\n",
            "Epoch 3/160\n",
            "6/6 [==============================] - 0s 4ms/step - loss: 0.0183 - accuracy: 0.9922\n",
            "Epoch 4/160\n",
            "6/6 [==============================] - 0s 3ms/step - loss: 0.0181 - accuracy: 0.9922\n",
            "Epoch 5/160\n",
            "6/6 [==============================] - 0s 3ms/step - loss: 0.0179 - accuracy: 0.9922\n",
            "Epoch 6/160\n",
            "6/6 [==============================] - 0s 3ms/step - loss: 0.0178 - accuracy: 0.9922\n",
            "Epoch 7/160\n",
            "6/6 [==============================] - 0s 3ms/step - loss: 0.0176 - accuracy: 0.9922\n",
            "Epoch 8/160\n",
            "6/6 [==============================] - 0s 3ms/step - loss: 0.0175 - accuracy: 0.9922\n",
            "Epoch 9/160\n",
            "6/6 [==============================] - 0s 3ms/step - loss: 0.0173 - accuracy: 0.9922\n",
            "Epoch 10/160\n",
            "6/6 [==============================] - 0s 4ms/step - loss: 0.0171 - accuracy: 0.9922\n",
            "Epoch 11/160\n",
            "6/6 [==============================] - 0s 3ms/step - loss: 0.0170 - accuracy: 0.9922\n",
            "Epoch 12/160\n",
            "6/6 [==============================] - 0s 3ms/step - loss: 0.0168 - accuracy: 0.9922\n",
            "Epoch 13/160\n",
            "6/6 [==============================] - 0s 3ms/step - loss: 0.0167 - accuracy: 0.9922\n",
            "Epoch 14/160\n",
            "6/6 [==============================] - 0s 3ms/step - loss: 0.0167 - accuracy: 0.9922\n",
            "Epoch 15/160\n",
            "6/6 [==============================] - 0s 3ms/step - loss: 0.0165 - accuracy: 0.9922\n",
            "Epoch 16/160\n",
            "6/6 [==============================] - 0s 3ms/step - loss: 0.0163 - accuracy: 0.9922\n",
            "Epoch 17/160\n",
            "6/6 [==============================] - 0s 3ms/step - loss: 0.0163 - accuracy: 0.9922\n",
            "Epoch 18/160\n",
            "6/6 [==============================] - 0s 3ms/step - loss: 0.0163 - accuracy: 0.9922\n",
            "Epoch 19/160\n",
            "6/6 [==============================] - 0s 3ms/step - loss: 0.0162 - accuracy: 0.9941\n",
            "Epoch 20/160\n",
            "6/6 [==============================] - 0s 3ms/step - loss: 0.0162 - accuracy: 0.9941\n",
            "Epoch 21/160\n",
            "6/6 [==============================] - 0s 4ms/step - loss: 0.0159 - accuracy: 0.9941\n",
            "Epoch 22/160\n",
            "6/6 [==============================] - 0s 3ms/step - loss: 0.0157 - accuracy: 0.9941\n",
            "Epoch 23/160\n",
            "6/6 [==============================] - 0s 3ms/step - loss: 0.0155 - accuracy: 0.9941\n",
            "Epoch 24/160\n",
            "6/6 [==============================] - 0s 3ms/step - loss: 0.0155 - accuracy: 0.9941\n",
            "Epoch 25/160\n",
            "6/6 [==============================] - 0s 2ms/step - loss: 0.0153 - accuracy: 0.9941\n",
            "Epoch 26/160\n",
            "6/6 [==============================] - 0s 3ms/step - loss: 0.0153 - accuracy: 0.9941\n",
            "Epoch 27/160\n",
            "6/6 [==============================] - 0s 3ms/step - loss: 0.0152 - accuracy: 0.9941\n",
            "Epoch 28/160\n",
            "6/6 [==============================] - 0s 4ms/step - loss: 0.0151 - accuracy: 0.9941\n",
            "Epoch 29/160\n",
            "6/6 [==============================] - 0s 3ms/step - loss: 0.0149 - accuracy: 0.9941\n",
            "Epoch 30/160\n",
            "6/6 [==============================] - 0s 4ms/step - loss: 0.0148 - accuracy: 0.9941\n",
            "Epoch 31/160\n",
            "6/6 [==============================] - 0s 3ms/step - loss: 0.0147 - accuracy: 0.9941\n",
            "Epoch 32/160\n",
            "6/6 [==============================] - 0s 3ms/step - loss: 0.0146 - accuracy: 0.9941\n",
            "Epoch 33/160\n",
            "6/6 [==============================] - 0s 3ms/step - loss: 0.0145 - accuracy: 0.9941\n",
            "Epoch 34/160\n",
            "6/6 [==============================] - 0s 3ms/step - loss: 0.0148 - accuracy: 0.9941\n",
            "Epoch 35/160\n",
            "6/6 [==============================] - 0s 3ms/step - loss: 0.0146 - accuracy: 0.9941\n",
            "Epoch 36/160\n",
            "6/6 [==============================] - 0s 3ms/step - loss: 0.0143 - accuracy: 0.9941\n",
            "Epoch 37/160\n",
            "6/6 [==============================] - 0s 3ms/step - loss: 0.0142 - accuracy: 0.9941\n",
            "Epoch 38/160\n",
            "6/6 [==============================] - 0s 3ms/step - loss: 0.0141 - accuracy: 0.9941\n",
            "Epoch 39/160\n",
            "6/6 [==============================] - 0s 4ms/step - loss: 0.0139 - accuracy: 0.9941\n",
            "Epoch 40/160\n",
            "6/6 [==============================] - 0s 3ms/step - loss: 0.0141 - accuracy: 0.9941\n",
            "Epoch 41/160\n",
            "6/6 [==============================] - 0s 3ms/step - loss: 0.0138 - accuracy: 0.9941\n",
            "Epoch 42/160\n",
            "6/6 [==============================] - 0s 3ms/step - loss: 0.0137 - accuracy: 0.9941\n",
            "Epoch 43/160\n",
            "6/6 [==============================] - 0s 3ms/step - loss: 0.0136 - accuracy: 0.9941\n",
            "Epoch 44/160\n",
            "6/6 [==============================] - 0s 2ms/step - loss: 0.0136 - accuracy: 0.9941\n",
            "Epoch 45/160\n",
            "6/6 [==============================] - 0s 4ms/step - loss: 0.0139 - accuracy: 0.9941\n",
            "Epoch 46/160\n",
            "6/6 [==============================] - 0s 4ms/step - loss: 0.0138 - accuracy: 0.9941\n",
            "Epoch 47/160\n",
            "6/6 [==============================] - 0s 3ms/step - loss: 0.0135 - accuracy: 0.9941\n",
            "Epoch 48/160\n",
            "6/6 [==============================] - 0s 3ms/step - loss: 0.0134 - accuracy: 0.9941\n",
            "Epoch 49/160\n",
            "6/6 [==============================] - 0s 3ms/step - loss: 0.0133 - accuracy: 0.9941\n",
            "Epoch 50/160\n",
            "6/6 [==============================] - 0s 3ms/step - loss: 0.0132 - accuracy: 0.9941\n",
            "Epoch 51/160\n",
            "6/6 [==============================] - 0s 3ms/step - loss: 0.0130 - accuracy: 0.9941\n",
            "Epoch 52/160\n",
            "6/6 [==============================] - 0s 3ms/step - loss: 0.0129 - accuracy: 0.9941\n",
            "Epoch 53/160\n",
            "6/6 [==============================] - 0s 3ms/step - loss: 0.0128 - accuracy: 0.9941\n",
            "Epoch 54/160\n",
            "6/6 [==============================] - 0s 3ms/step - loss: 0.0127 - accuracy: 0.9941\n",
            "Epoch 55/160\n",
            "6/6 [==============================] - 0s 3ms/step - loss: 0.0126 - accuracy: 0.9941\n",
            "Epoch 56/160\n",
            "6/6 [==============================] - 0s 3ms/step - loss: 0.0126 - accuracy: 0.9941\n",
            "Epoch 57/160\n",
            "6/6 [==============================] - 0s 3ms/step - loss: 0.0124 - accuracy: 0.9941\n",
            "Epoch 58/160\n",
            "6/6 [==============================] - 0s 4ms/step - loss: 0.0123 - accuracy: 0.9941\n",
            "Epoch 59/160\n",
            "6/6 [==============================] - 0s 4ms/step - loss: 0.0124 - accuracy: 0.9941\n",
            "Epoch 60/160\n",
            "6/6 [==============================] - 0s 3ms/step - loss: 0.0125 - accuracy: 0.9941\n",
            "Epoch 61/160\n",
            "6/6 [==============================] - 0s 4ms/step - loss: 0.0124 - accuracy: 0.9941\n",
            "Epoch 62/160\n",
            "6/6 [==============================] - 0s 3ms/step - loss: 0.0124 - accuracy: 0.9941\n",
            "Epoch 63/160\n",
            "6/6 [==============================] - 0s 3ms/step - loss: 0.0127 - accuracy: 0.9941\n",
            "Epoch 64/160\n",
            "6/6 [==============================] - 0s 4ms/step - loss: 0.0134 - accuracy: 0.9941\n",
            "Epoch 65/160\n",
            "6/6 [==============================] - 0s 3ms/step - loss: 0.0132 - accuracy: 0.9941\n",
            "Epoch 66/160\n",
            "6/6 [==============================] - 0s 3ms/step - loss: 0.0127 - accuracy: 0.9941\n",
            "Epoch 67/160\n",
            "6/6 [==============================] - 0s 6ms/step - loss: 0.0121 - accuracy: 0.9941\n",
            "Epoch 68/160\n",
            "6/6 [==============================] - 0s 3ms/step - loss: 0.0120 - accuracy: 0.9941\n",
            "Epoch 69/160\n",
            "6/6 [==============================] - 0s 3ms/step - loss: 0.0117 - accuracy: 0.9941\n",
            "Epoch 70/160\n",
            "6/6 [==============================] - 0s 4ms/step - loss: 0.0115 - accuracy: 0.9941\n",
            "Epoch 71/160\n",
            "6/6 [==============================] - 0s 4ms/step - loss: 0.0115 - accuracy: 0.9941\n",
            "Epoch 72/160\n",
            "6/6 [==============================] - 0s 4ms/step - loss: 0.0116 - accuracy: 0.9941\n",
            "Epoch 73/160\n",
            "6/6 [==============================] - 0s 3ms/step - loss: 0.0114 - accuracy: 0.9941\n",
            "Epoch 74/160\n",
            "6/6 [==============================] - 0s 3ms/step - loss: 0.0112 - accuracy: 0.9941\n",
            "Epoch 75/160\n",
            "6/6 [==============================] - 0s 4ms/step - loss: 0.0117 - accuracy: 0.9941\n",
            "Epoch 76/160\n",
            "6/6 [==============================] - 0s 3ms/step - loss: 0.0124 - accuracy: 0.9941\n",
            "Epoch 77/160\n",
            "6/6 [==============================] - 0s 4ms/step - loss: 0.0126 - accuracy: 0.9941\n",
            "Epoch 78/160\n",
            "6/6 [==============================] - 0s 3ms/step - loss: 0.0123 - accuracy: 0.9941\n",
            "Epoch 79/160\n",
            "6/6 [==============================] - 0s 4ms/step - loss: 0.0117 - accuracy: 0.9941\n",
            "Epoch 80/160\n",
            "6/6 [==============================] - 0s 3ms/step - loss: 0.0115 - accuracy: 0.9941\n",
            "Epoch 81/160\n",
            "6/6 [==============================] - 0s 3ms/step - loss: 0.0114 - accuracy: 0.9941\n",
            "Epoch 82/160\n",
            "6/6 [==============================] - 0s 3ms/step - loss: 0.0111 - accuracy: 0.9941\n",
            "Epoch 83/160\n",
            "6/6 [==============================] - 0s 3ms/step - loss: 0.0111 - accuracy: 0.9941\n",
            "Epoch 84/160\n",
            "6/6 [==============================] - 0s 3ms/step - loss: 0.0115 - accuracy: 0.9961\n",
            "Epoch 85/160\n",
            "6/6 [==============================] - 0s 3ms/step - loss: 0.0115 - accuracy: 0.9961\n",
            "Epoch 86/160\n",
            "6/6 [==============================] - 0s 4ms/step - loss: 0.0113 - accuracy: 0.9961\n",
            "Epoch 87/160\n",
            "6/6 [==============================] - 0s 3ms/step - loss: 0.0109 - accuracy: 0.9961\n",
            "Epoch 88/160\n",
            "6/6 [==============================] - 0s 3ms/step - loss: 0.0105 - accuracy: 0.9961\n",
            "Epoch 89/160\n",
            "6/6 [==============================] - 0s 3ms/step - loss: 0.0105 - accuracy: 0.9941\n",
            "Epoch 90/160\n",
            "6/6 [==============================] - 0s 3ms/step - loss: 0.0104 - accuracy: 0.9961\n",
            "Epoch 91/160\n",
            "6/6 [==============================] - 0s 2ms/step - loss: 0.0105 - accuracy: 0.9961\n",
            "Epoch 92/160\n",
            "6/6 [==============================] - 0s 2ms/step - loss: 0.0105 - accuracy: 0.9961\n",
            "Epoch 93/160\n",
            "6/6 [==============================] - 0s 3ms/step - loss: 0.0104 - accuracy: 0.9941\n",
            "Epoch 94/160\n",
            "6/6 [==============================] - 0s 4ms/step - loss: 0.0103 - accuracy: 0.9961\n",
            "Epoch 95/160\n",
            "6/6 [==============================] - 0s 4ms/step - loss: 0.0101 - accuracy: 0.9961\n",
            "Epoch 96/160\n",
            "6/6 [==============================] - 0s 4ms/step - loss: 0.0100 - accuracy: 0.9961\n",
            "Epoch 97/160\n",
            "6/6 [==============================] - 0s 4ms/step - loss: 0.0099 - accuracy: 0.9961\n",
            "Epoch 98/160\n",
            "6/6 [==============================] - 0s 4ms/step - loss: 0.0098 - accuracy: 0.9961\n",
            "Epoch 99/160\n",
            "6/6 [==============================] - 0s 2ms/step - loss: 0.0099 - accuracy: 0.9961\n",
            "Epoch 100/160\n",
            "6/6 [==============================] - 0s 2ms/step - loss: 0.0100 - accuracy: 0.9961\n",
            "Epoch 101/160\n",
            "6/6 [==============================] - 0s 2ms/step - loss: 0.0099 - accuracy: 0.9941\n",
            "Epoch 102/160\n",
            "6/6 [==============================] - 0s 3ms/step - loss: 0.0098 - accuracy: 0.9941\n",
            "Epoch 103/160\n",
            "6/6 [==============================] - 0s 3ms/step - loss: 0.0097 - accuracy: 0.9941\n",
            "Epoch 104/160\n",
            "6/6 [==============================] - 0s 3ms/step - loss: 0.0098 - accuracy: 0.9941\n",
            "Epoch 105/160\n",
            "6/6 [==============================] - 0s 3ms/step - loss: 0.0098 - accuracy: 0.9941\n",
            "Epoch 106/160\n",
            "6/6 [==============================] - 0s 5ms/step - loss: 0.0097 - accuracy: 0.9941\n",
            "Epoch 107/160\n",
            "6/6 [==============================] - 0s 3ms/step - loss: 0.0095 - accuracy: 0.9941\n",
            "Epoch 108/160\n",
            "6/6 [==============================] - 0s 3ms/step - loss: 0.0094 - accuracy: 0.9961\n",
            "Epoch 109/160\n",
            "6/6 [==============================] - 0s 3ms/step - loss: 0.0094 - accuracy: 0.9961\n",
            "Epoch 110/160\n",
            "6/6 [==============================] - 0s 3ms/step - loss: 0.0093 - accuracy: 0.9961\n",
            "Epoch 111/160\n",
            "6/6 [==============================] - 0s 3ms/step - loss: 0.0092 - accuracy: 0.9961\n",
            "Epoch 112/160\n",
            "6/6 [==============================] - 0s 3ms/step - loss: 0.0093 - accuracy: 0.9961\n",
            "Epoch 113/160\n",
            "6/6 [==============================] - 0s 3ms/step - loss: 0.0091 - accuracy: 0.9961\n",
            "Epoch 114/160\n",
            "6/6 [==============================] - 0s 3ms/step - loss: 0.0090 - accuracy: 0.9961\n",
            "Epoch 115/160\n",
            "6/6 [==============================] - 0s 3ms/step - loss: 0.0089 - accuracy: 0.9961\n",
            "Epoch 116/160\n",
            "6/6 [==============================] - 0s 3ms/step - loss: 0.0089 - accuracy: 0.9961\n",
            "Epoch 117/160\n",
            "6/6 [==============================] - 0s 4ms/step - loss: 0.0088 - accuracy: 0.9961\n",
            "Epoch 118/160\n",
            "6/6 [==============================] - 0s 4ms/step - loss: 0.0088 - accuracy: 0.9961\n",
            "Epoch 119/160\n",
            "6/6 [==============================] - 0s 3ms/step - loss: 0.0088 - accuracy: 0.9961\n",
            "Epoch 120/160\n",
            "6/6 [==============================] - 0s 3ms/step - loss: 0.0087 - accuracy: 0.9961\n",
            "Epoch 121/160\n",
            "6/6 [==============================] - 0s 3ms/step - loss: 0.0087 - accuracy: 0.9961\n",
            "Epoch 122/160\n",
            "6/6 [==============================] - 0s 3ms/step - loss: 0.0087 - accuracy: 0.9961\n",
            "Epoch 123/160\n",
            "6/6 [==============================] - 0s 3ms/step - loss: 0.0086 - accuracy: 0.9961\n",
            "Epoch 124/160\n",
            "6/6 [==============================] - 0s 4ms/step - loss: 0.0086 - accuracy: 0.9961\n",
            "Epoch 125/160\n",
            "6/6 [==============================] - 0s 3ms/step - loss: 0.0086 - accuracy: 0.9980\n",
            "Epoch 126/160\n",
            "6/6 [==============================] - 0s 3ms/step - loss: 0.0089 - accuracy: 0.9980\n",
            "Epoch 127/160\n",
            "6/6 [==============================] - 0s 2ms/step - loss: 0.0089 - accuracy: 0.9980\n",
            "Epoch 128/160\n",
            "6/6 [==============================] - 0s 2ms/step - loss: 0.0088 - accuracy: 0.9980\n",
            "Epoch 129/160\n",
            "6/6 [==============================] - 0s 3ms/step - loss: 0.0086 - accuracy: 0.9980\n",
            "Epoch 130/160\n",
            "6/6 [==============================] - 0s 3ms/step - loss: 0.0084 - accuracy: 0.9980\n",
            "Epoch 131/160\n",
            "6/6 [==============================] - 0s 3ms/step - loss: 0.0083 - accuracy: 0.9961\n",
            "Epoch 132/160\n",
            "6/6 [==============================] - 0s 3ms/step - loss: 0.0086 - accuracy: 0.9961\n",
            "Epoch 133/160\n",
            "6/6 [==============================] - 0s 3ms/step - loss: 0.0084 - accuracy: 0.9961\n",
            "Epoch 134/160\n",
            "6/6 [==============================] - 0s 3ms/step - loss: 0.0085 - accuracy: 0.9980\n",
            "Epoch 135/160\n",
            "6/6 [==============================] - 0s 3ms/step - loss: 0.0087 - accuracy: 0.9980\n",
            "Epoch 136/160\n",
            "6/6 [==============================] - 0s 3ms/step - loss: 0.0086 - accuracy: 0.9980\n",
            "Epoch 137/160\n",
            "6/6 [==============================] - 0s 3ms/step - loss: 0.0085 - accuracy: 0.9980\n",
            "Epoch 138/160\n",
            "6/6 [==============================] - 0s 3ms/step - loss: 0.0083 - accuracy: 0.9980\n",
            "Epoch 139/160\n",
            "6/6 [==============================] - 0s 3ms/step - loss: 0.0082 - accuracy: 0.9980\n",
            "Epoch 140/160\n",
            "6/6 [==============================] - 0s 3ms/step - loss: 0.0081 - accuracy: 0.9980\n",
            "Epoch 141/160\n",
            "6/6 [==============================] - 0s 3ms/step - loss: 0.0080 - accuracy: 0.9980\n",
            "Epoch 142/160\n",
            "6/6 [==============================] - 0s 3ms/step - loss: 0.0079 - accuracy: 0.9980\n",
            "Epoch 143/160\n",
            "6/6 [==============================] - 0s 3ms/step - loss: 0.0079 - accuracy: 0.9980\n",
            "Epoch 144/160\n",
            "6/6 [==============================] - 0s 3ms/step - loss: 0.0078 - accuracy: 0.9980\n",
            "Epoch 145/160\n",
            "6/6 [==============================] - 0s 3ms/step - loss: 0.0078 - accuracy: 0.9980\n",
            "Epoch 146/160\n",
            "6/6 [==============================] - 0s 2ms/step - loss: 0.0078 - accuracy: 0.9961\n",
            "Epoch 147/160\n",
            "6/6 [==============================] - 0s 3ms/step - loss: 0.0077 - accuracy: 0.9980\n",
            "Epoch 148/160\n",
            "6/6 [==============================] - 0s 2ms/step - loss: 0.0077 - accuracy: 0.9980\n",
            "Epoch 149/160\n",
            "6/6 [==============================] - 0s 3ms/step - loss: 0.0076 - accuracy: 0.9980\n",
            "Epoch 150/160\n",
            "6/6 [==============================] - 0s 5ms/step - loss: 0.0075 - accuracy: 0.9980\n",
            "Epoch 151/160\n",
            "6/6 [==============================] - 0s 3ms/step - loss: 0.0075 - accuracy: 0.9980\n",
            "Epoch 152/160\n",
            "6/6 [==============================] - 0s 3ms/step - loss: 0.0075 - accuracy: 0.9980\n",
            "Epoch 153/160\n",
            "6/6 [==============================] - 0s 4ms/step - loss: 0.0074 - accuracy: 0.9980\n",
            "Epoch 154/160\n",
            "6/6 [==============================] - 0s 3ms/step - loss: 0.0074 - accuracy: 0.9980\n",
            "Epoch 155/160\n",
            "6/6 [==============================] - 0s 3ms/step - loss: 0.0075 - accuracy: 0.9980\n",
            "Epoch 156/160\n",
            "6/6 [==============================] - 0s 3ms/step - loss: 0.0082 - accuracy: 0.9980\n",
            "Epoch 157/160\n",
            "6/6 [==============================] - 0s 3ms/step - loss: 0.0082 - accuracy: 0.9980\n",
            "Epoch 158/160\n",
            "6/6 [==============================] - 0s 3ms/step - loss: 0.0079 - accuracy: 0.9980\n",
            "Epoch 159/160\n",
            "6/6 [==============================] - 0s 3ms/step - loss: 0.0074 - accuracy: 0.9980\n",
            "Epoch 160/160\n",
            "6/6 [==============================] - 0s 3ms/step - loss: 0.0073 - accuracy: 0.9980\n"
          ],
          "name": "stdout"
        },
        {
          "output_type": "execute_result",
          "data": {
            "text/plain": [
              "<keras.callbacks.History at 0x7f81ff56ea10>"
            ]
          },
          "metadata": {
            "tags": []
          },
          "execution_count": 77
        }
      ]
    },
    {
      "cell_type": "code",
      "metadata": {
        "colab": {
          "base_uri": "https://localhost:8080/"
        },
        "id": "vcjindlmHLGG",
        "outputId": "959306a7-c42d-493e-8eac-d6e09c6728ac"
      },
      "source": [
        "X_test"
      ],
      "execution_count": null,
      "outputs": [
        {
          "output_type": "execute_result",
          "data": {
            "text/plain": [
              "array([[-0.19207516,  0.21655218, -0.11542614, ...,  1.60315155,\n",
              "         1.38812047,  1.39561107],\n",
              "       [-0.24797128,  1.29875111, -0.31114085, ..., -0.76400211,\n",
              "        -0.79834577, -0.93437281],\n",
              "       [-0.00967731, -0.89539007, -0.07447263, ..., -0.40317641,\n",
              "        -1.38855752, -0.97661799],\n",
              "       ...,\n",
              "       [-0.46861385,  0.07241152, -0.46935075, ..., -0.49962508,\n",
              "        -0.33652424, -0.40576652],\n",
              "       [-0.75986205, -0.81073603, -0.78878818, ..., -0.67538685,\n",
              "        -0.01842311,  0.13529668],\n",
              "       [-0.80399056,  1.71744542, -0.84310547, ..., -1.40405566,\n",
              "        -0.02225565, -0.77243298]])"
            ]
          },
          "metadata": {
            "tags": []
          },
          "execution_count": 78
        }
      ]
    },
    {
      "cell_type": "code",
      "metadata": {
        "id": "wtOgOYMkIjgF"
      },
      "source": [
        "#predicting the set results ----->converting value in to bool and set thresold value\n",
        "y_pred=classifier.predict(X_test)\n",
        "y_pred=(y_pred>0.5)"
      ],
      "execution_count": null,
      "outputs": []
    },
    {
      "cell_type": "code",
      "metadata": {
        "id": "uOFoRIbGI5zc"
      },
      "source": [
        "#making confusion matrics\n",
        "from sklearn.metrics import confusion_matrix\n",
        "cm=confusion_matrix(y_test,y_pred)"
      ],
      "execution_count": null,
      "outputs": []
    },
    {
      "cell_type": "code",
      "metadata": {
        "colab": {
          "base_uri": "https://localhost:8080/",
          "height": 265
        },
        "id": "BG3-i62qJjEi",
        "outputId": "c122fce9-b494-4c60-8498-301cd038e008"
      },
      "source": [
        "sns.heatmap(cm,annot=True)\n",
        "plt.savefig('h.png')"
      ],
      "execution_count": null,
      "outputs": [
        {
          "output_type": "display_data",
          "data": {
            "image/png": "[encoded data removed]",
            "text/plain": [
              "<Figure size 432x288 with 2 Axes>"
            ]
          },
          "metadata": {
            "tags": [],
            "needs_background": "light"
          }
        }
      ]
    },
    {
      "cell_type": "code",
      "metadata": {
        "id": "Xttt0PtyJy08"
      },
      "source": [
        ""
      ],
      "execution_count": null,
      "outputs": []
    }
  ]
}