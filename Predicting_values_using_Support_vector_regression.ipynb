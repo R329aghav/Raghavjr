{
  "nbformat": 4,
  "nbformat_minor": 0,
  "metadata": {
    "colab": {
      "name": "Predicting values using Support vector regression",
      "provenance": [],
      "collapsed_sections": [],
      "authorship_tag": "ABX9TyMTdbpRH1c5nhFmcer6f+h0",
      "include_colab_link": true
    },
    "kernelspec": {
      "name": "python3",
      "display_name": "Python 3"
    },
    "language_info": {
      "name": "python"
    }
  },
  "cells": [
    {
      "cell_type": "markdown",
      "metadata": {
        "id": "view-in-github",
        "colab_type": "text"
      },
      "source": [
        "<a href=\"https://colab.research.google.com/github/R329aghav/Raghavjr/blob/main/Predicting_values_using_Support_vector_regression.ipynb\" target=\"_parent\"><img src=\"https://colab.research.google.com/assets/colab-badge.svg\" alt=\"Open In Colab\"/></a>"
      ]
    },
    {
      "cell_type": "code",
      "metadata": {
        "colab": {
          "base_uri": "https://localhost:8080/"
        },
        "id": "jWNFf8NSHwRH",
        "outputId": "41c582a2-d297-4f3c-9eac-70f34cebb057"
      },
      "source": [
        "from google.colab import drive\n",
        "drive.mount('/content/drive')"
      ],
      "execution_count": null,
      "outputs": [
        {
          "output_type": "stream",
          "text": [
            "Mounted at /content/drive\n"
          ],
          "name": "stdout"
        }
      ]
    },
    {
      "cell_type": "code",
      "metadata": {
        "id": "m0ahRb30LNf5"
      },
      "source": [
        "import pandas as pd\n",
        "path=\"/content/drive/MyDrive/DATASETS/bangalore house price prediction OHE-data.csv\"\n",
        "data=pd.read_csv(path)"
      ],
      "execution_count": null,
      "outputs": []
    },
    {
      "cell_type": "code",
      "metadata": {
        "colab": {
          "base_uri": "https://localhost:8080/",
          "height": 290
        },
        "id": "vPuDs2FmlJo2",
        "outputId": "f4096cf1-5097-43c3-f3bd-0542320019c2"
      },
      "source": [
        "data.head()"
      ],
      "execution_count": null,
      "outputs": [
        {
          "output_type": "execute_result",
          "data": {
            "text/html": [
              "<div>\n",
              "<style scoped>\n",
              "    .dataframe tbody tr th:only-of-type {\n",
              "        vertical-align: middle;\n",
              "    }\n",
              "\n",
              "    .dataframe tbody tr th {\n",
              "        vertical-align: top;\n",
              "    }\n",
              "\n",
              "    .dataframe thead th {\n",
              "        text-align: right;\n",
              "    }\n",
              "</style>\n",
              "<table border=\"1\" class=\"dataframe\">\n",
              "  <thead>\n",
              "    <tr style=\"text-align: right;\">\n",
              "      <th></th>\n",
              "      <th>bath</th>\n",
              "      <th>balcony</th>\n",
              "      <th>price</th>\n",
              "      <th>total_sqft_int</th>\n",
              "      <th>bhk</th>\n",
              "      <th>price_per_sqft</th>\n",
              "      <th>area_typeSuper built-up  Area</th>\n",
              "      <th>area_typeBuilt-up  Area</th>\n",
              "      <th>area_typePlot  Area</th>\n",
              "      <th>availability_Ready To Move</th>\n",
              "      <th>location_Whitefield</th>\n",
              "      <th>location_Sarjapur  Road</th>\n",
              "      <th>location_Electronic City</th>\n",
              "      <th>location_Marathahalli</th>\n",
              "      <th>location_Raja Rajeshwari Nagar</th>\n",
              "      <th>location_Haralur Road</th>\n",
              "      <th>location_Hennur Road</th>\n",
              "      <th>location_Bannerghatta Road</th>\n",
              "      <th>location_Uttarahalli</th>\n",
              "      <th>location_Thanisandra</th>\n",
              "      <th>location_Electronic City Phase II</th>\n",
              "      <th>location_Hebbal</th>\n",
              "      <th>location_7th Phase JP Nagar</th>\n",
              "      <th>location_Yelahanka</th>\n",
              "      <th>location_Kanakpura Road</th>\n",
              "      <th>location_KR Puram</th>\n",
              "      <th>location_Sarjapur</th>\n",
              "      <th>location_Rajaji Nagar</th>\n",
              "      <th>location_Kasavanhalli</th>\n",
              "      <th>location_Bellandur</th>\n",
              "      <th>location_Begur Road</th>\n",
              "      <th>location_Banashankari</th>\n",
              "      <th>location_Kothanur</th>\n",
              "      <th>location_Hormavu</th>\n",
              "      <th>location_Harlur</th>\n",
              "      <th>location_Akshaya Nagar</th>\n",
              "      <th>location_Jakkur</th>\n",
              "      <th>location_Electronics City Phase 1</th>\n",
              "      <th>location_Varthur</th>\n",
              "      <th>location_Chandapura</th>\n",
              "      <th>...</th>\n",
              "      <th>location_Green Glen Layout</th>\n",
              "      <th>location_Old Madras Road</th>\n",
              "      <th>location_Rachenahalli</th>\n",
              "      <th>location_Panathur</th>\n",
              "      <th>location_Kudlu Gate</th>\n",
              "      <th>location_Thigalarapalya</th>\n",
              "      <th>location_Ambedkar Nagar</th>\n",
              "      <th>location_Jigani</th>\n",
              "      <th>location_Yelahanka New Town</th>\n",
              "      <th>location_Talaghattapura</th>\n",
              "      <th>location_Mysore Road</th>\n",
              "      <th>location_Kadugodi</th>\n",
              "      <th>location_Frazer Town</th>\n",
              "      <th>location_Dodda Nekkundi</th>\n",
              "      <th>location_Devanahalli</th>\n",
              "      <th>location_Kanakapura</th>\n",
              "      <th>location_Attibele</th>\n",
              "      <th>location_Anekal</th>\n",
              "      <th>location_Lakshminarayana Pura</th>\n",
              "      <th>location_Nagarbhavi</th>\n",
              "      <th>location_Ananth Nagar</th>\n",
              "      <th>location_5th Phase JP Nagar</th>\n",
              "      <th>location_TC Palaya</th>\n",
              "      <th>location_CV Raman Nagar</th>\n",
              "      <th>location_Kengeri Satellite Town</th>\n",
              "      <th>location_Kudlu</th>\n",
              "      <th>location_Jalahalli</th>\n",
              "      <th>location_Subramanyapura</th>\n",
              "      <th>location_Bhoganhalli</th>\n",
              "      <th>location_Doddathoguru</th>\n",
              "      <th>location_Kalena Agrahara</th>\n",
              "      <th>location_Horamavu Agara</th>\n",
              "      <th>location_Vidyaranyapura</th>\n",
              "      <th>location_BTM 2nd Stage</th>\n",
              "      <th>location_Hebbal Kempapura</th>\n",
              "      <th>location_Hosur Road</th>\n",
              "      <th>location_Horamavu Banaswadi</th>\n",
              "      <th>location_Domlur</th>\n",
              "      <th>location_Mahadevpura</th>\n",
              "      <th>location_Tumkur Road</th>\n",
              "    </tr>\n",
              "  </thead>\n",
              "  <tbody>\n",
              "    <tr>\n",
              "      <th>0</th>\n",
              "      <td>3</td>\n",
              "      <td>2.0</td>\n",
              "      <td>150.0</td>\n",
              "      <td>1672.0</td>\n",
              "      <td>3</td>\n",
              "      <td>8971.291866</td>\n",
              "      <td>1</td>\n",
              "      <td>0</td>\n",
              "      <td>0</td>\n",
              "      <td>1</td>\n",
              "      <td>0</td>\n",
              "      <td>0</td>\n",
              "      <td>0</td>\n",
              "      <td>0</td>\n",
              "      <td>0</td>\n",
              "      <td>0</td>\n",
              "      <td>0</td>\n",
              "      <td>0</td>\n",
              "      <td>0</td>\n",
              "      <td>0</td>\n",
              "      <td>0</td>\n",
              "      <td>0</td>\n",
              "      <td>0</td>\n",
              "      <td>0</td>\n",
              "      <td>0</td>\n",
              "      <td>0</td>\n",
              "      <td>0</td>\n",
              "      <td>0</td>\n",
              "      <td>0</td>\n",
              "      <td>0</td>\n",
              "      <td>0</td>\n",
              "      <td>0</td>\n",
              "      <td>0</td>\n",
              "      <td>0</td>\n",
              "      <td>0</td>\n",
              "      <td>0</td>\n",
              "      <td>0</td>\n",
              "      <td>0</td>\n",
              "      <td>0</td>\n",
              "      <td>0</td>\n",
              "      <td>...</td>\n",
              "      <td>0</td>\n",
              "      <td>0</td>\n",
              "      <td>0</td>\n",
              "      <td>0</td>\n",
              "      <td>0</td>\n",
              "      <td>0</td>\n",
              "      <td>0</td>\n",
              "      <td>0</td>\n",
              "      <td>0</td>\n",
              "      <td>0</td>\n",
              "      <td>0</td>\n",
              "      <td>0</td>\n",
              "      <td>0</td>\n",
              "      <td>0</td>\n",
              "      <td>0</td>\n",
              "      <td>0</td>\n",
              "      <td>0</td>\n",
              "      <td>0</td>\n",
              "      <td>0</td>\n",
              "      <td>0</td>\n",
              "      <td>0</td>\n",
              "      <td>0</td>\n",
              "      <td>0</td>\n",
              "      <td>0</td>\n",
              "      <td>0</td>\n",
              "      <td>0</td>\n",
              "      <td>0</td>\n",
              "      <td>0</td>\n",
              "      <td>0</td>\n",
              "      <td>0</td>\n",
              "      <td>0</td>\n",
              "      <td>0</td>\n",
              "      <td>0</td>\n",
              "      <td>0</td>\n",
              "      <td>0</td>\n",
              "      <td>0</td>\n",
              "      <td>0</td>\n",
              "      <td>0</td>\n",
              "      <td>0</td>\n",
              "      <td>0</td>\n",
              "    </tr>\n",
              "    <tr>\n",
              "      <th>1</th>\n",
              "      <td>3</td>\n",
              "      <td>3.0</td>\n",
              "      <td>149.0</td>\n",
              "      <td>1750.0</td>\n",
              "      <td>3</td>\n",
              "      <td>8514.285714</td>\n",
              "      <td>0</td>\n",
              "      <td>1</td>\n",
              "      <td>0</td>\n",
              "      <td>1</td>\n",
              "      <td>0</td>\n",
              "      <td>0</td>\n",
              "      <td>0</td>\n",
              "      <td>0</td>\n",
              "      <td>0</td>\n",
              "      <td>0</td>\n",
              "      <td>0</td>\n",
              "      <td>0</td>\n",
              "      <td>0</td>\n",
              "      <td>0</td>\n",
              "      <td>0</td>\n",
              "      <td>0</td>\n",
              "      <td>0</td>\n",
              "      <td>0</td>\n",
              "      <td>0</td>\n",
              "      <td>0</td>\n",
              "      <td>0</td>\n",
              "      <td>0</td>\n",
              "      <td>0</td>\n",
              "      <td>0</td>\n",
              "      <td>0</td>\n",
              "      <td>0</td>\n",
              "      <td>0</td>\n",
              "      <td>0</td>\n",
              "      <td>0</td>\n",
              "      <td>0</td>\n",
              "      <td>0</td>\n",
              "      <td>0</td>\n",
              "      <td>0</td>\n",
              "      <td>0</td>\n",
              "      <td>...</td>\n",
              "      <td>0</td>\n",
              "      <td>0</td>\n",
              "      <td>0</td>\n",
              "      <td>0</td>\n",
              "      <td>0</td>\n",
              "      <td>0</td>\n",
              "      <td>0</td>\n",
              "      <td>0</td>\n",
              "      <td>0</td>\n",
              "      <td>0</td>\n",
              "      <td>0</td>\n",
              "      <td>0</td>\n",
              "      <td>0</td>\n",
              "      <td>0</td>\n",
              "      <td>0</td>\n",
              "      <td>0</td>\n",
              "      <td>0</td>\n",
              "      <td>0</td>\n",
              "      <td>0</td>\n",
              "      <td>0</td>\n",
              "      <td>0</td>\n",
              "      <td>0</td>\n",
              "      <td>0</td>\n",
              "      <td>0</td>\n",
              "      <td>0</td>\n",
              "      <td>0</td>\n",
              "      <td>0</td>\n",
              "      <td>0</td>\n",
              "      <td>0</td>\n",
              "      <td>0</td>\n",
              "      <td>0</td>\n",
              "      <td>0</td>\n",
              "      <td>0</td>\n",
              "      <td>0</td>\n",
              "      <td>0</td>\n",
              "      <td>0</td>\n",
              "      <td>0</td>\n",
              "      <td>0</td>\n",
              "      <td>0</td>\n",
              "      <td>0</td>\n",
              "    </tr>\n",
              "    <tr>\n",
              "      <th>2</th>\n",
              "      <td>3</td>\n",
              "      <td>2.0</td>\n",
              "      <td>150.0</td>\n",
              "      <td>1750.0</td>\n",
              "      <td>3</td>\n",
              "      <td>8571.428571</td>\n",
              "      <td>1</td>\n",
              "      <td>0</td>\n",
              "      <td>0</td>\n",
              "      <td>1</td>\n",
              "      <td>0</td>\n",
              "      <td>0</td>\n",
              "      <td>0</td>\n",
              "      <td>0</td>\n",
              "      <td>0</td>\n",
              "      <td>0</td>\n",
              "      <td>0</td>\n",
              "      <td>0</td>\n",
              "      <td>0</td>\n",
              "      <td>0</td>\n",
              "      <td>0</td>\n",
              "      <td>0</td>\n",
              "      <td>0</td>\n",
              "      <td>0</td>\n",
              "      <td>0</td>\n",
              "      <td>0</td>\n",
              "      <td>0</td>\n",
              "      <td>0</td>\n",
              "      <td>0</td>\n",
              "      <td>0</td>\n",
              "      <td>0</td>\n",
              "      <td>0</td>\n",
              "      <td>0</td>\n",
              "      <td>0</td>\n",
              "      <td>0</td>\n",
              "      <td>0</td>\n",
              "      <td>0</td>\n",
              "      <td>0</td>\n",
              "      <td>0</td>\n",
              "      <td>0</td>\n",
              "      <td>...</td>\n",
              "      <td>0</td>\n",
              "      <td>0</td>\n",
              "      <td>0</td>\n",
              "      <td>0</td>\n",
              "      <td>0</td>\n",
              "      <td>0</td>\n",
              "      <td>0</td>\n",
              "      <td>0</td>\n",
              "      <td>0</td>\n",
              "      <td>0</td>\n",
              "      <td>0</td>\n",
              "      <td>0</td>\n",
              "      <td>0</td>\n",
              "      <td>0</td>\n",
              "      <td>0</td>\n",
              "      <td>0</td>\n",
              "      <td>0</td>\n",
              "      <td>0</td>\n",
              "      <td>0</td>\n",
              "      <td>0</td>\n",
              "      <td>0</td>\n",
              "      <td>0</td>\n",
              "      <td>0</td>\n",
              "      <td>0</td>\n",
              "      <td>0</td>\n",
              "      <td>0</td>\n",
              "      <td>0</td>\n",
              "      <td>0</td>\n",
              "      <td>0</td>\n",
              "      <td>0</td>\n",
              "      <td>0</td>\n",
              "      <td>0</td>\n",
              "      <td>0</td>\n",
              "      <td>0</td>\n",
              "      <td>0</td>\n",
              "      <td>0</td>\n",
              "      <td>0</td>\n",
              "      <td>0</td>\n",
              "      <td>0</td>\n",
              "      <td>0</td>\n",
              "    </tr>\n",
              "    <tr>\n",
              "      <th>3</th>\n",
              "      <td>2</td>\n",
              "      <td>2.0</td>\n",
              "      <td>40.0</td>\n",
              "      <td>1250.0</td>\n",
              "      <td>2</td>\n",
              "      <td>3200.000000</td>\n",
              "      <td>1</td>\n",
              "      <td>0</td>\n",
              "      <td>0</td>\n",
              "      <td>1</td>\n",
              "      <td>0</td>\n",
              "      <td>0</td>\n",
              "      <td>0</td>\n",
              "      <td>0</td>\n",
              "      <td>0</td>\n",
              "      <td>0</td>\n",
              "      <td>0</td>\n",
              "      <td>0</td>\n",
              "      <td>0</td>\n",
              "      <td>0</td>\n",
              "      <td>0</td>\n",
              "      <td>0</td>\n",
              "      <td>0</td>\n",
              "      <td>0</td>\n",
              "      <td>0</td>\n",
              "      <td>0</td>\n",
              "      <td>0</td>\n",
              "      <td>0</td>\n",
              "      <td>0</td>\n",
              "      <td>0</td>\n",
              "      <td>0</td>\n",
              "      <td>0</td>\n",
              "      <td>0</td>\n",
              "      <td>0</td>\n",
              "      <td>0</td>\n",
              "      <td>0</td>\n",
              "      <td>0</td>\n",
              "      <td>0</td>\n",
              "      <td>0</td>\n",
              "      <td>0</td>\n",
              "      <td>...</td>\n",
              "      <td>0</td>\n",
              "      <td>0</td>\n",
              "      <td>0</td>\n",
              "      <td>0</td>\n",
              "      <td>0</td>\n",
              "      <td>0</td>\n",
              "      <td>0</td>\n",
              "      <td>0</td>\n",
              "      <td>0</td>\n",
              "      <td>0</td>\n",
              "      <td>0</td>\n",
              "      <td>0</td>\n",
              "      <td>0</td>\n",
              "      <td>0</td>\n",
              "      <td>0</td>\n",
              "      <td>0</td>\n",
              "      <td>0</td>\n",
              "      <td>0</td>\n",
              "      <td>0</td>\n",
              "      <td>0</td>\n",
              "      <td>0</td>\n",
              "      <td>0</td>\n",
              "      <td>0</td>\n",
              "      <td>0</td>\n",
              "      <td>0</td>\n",
              "      <td>0</td>\n",
              "      <td>0</td>\n",
              "      <td>0</td>\n",
              "      <td>0</td>\n",
              "      <td>0</td>\n",
              "      <td>0</td>\n",
              "      <td>0</td>\n",
              "      <td>0</td>\n",
              "      <td>0</td>\n",
              "      <td>0</td>\n",
              "      <td>0</td>\n",
              "      <td>0</td>\n",
              "      <td>0</td>\n",
              "      <td>0</td>\n",
              "      <td>0</td>\n",
              "    </tr>\n",
              "    <tr>\n",
              "      <th>4</th>\n",
              "      <td>2</td>\n",
              "      <td>2.0</td>\n",
              "      <td>83.0</td>\n",
              "      <td>1200.0</td>\n",
              "      <td>2</td>\n",
              "      <td>6916.666667</td>\n",
              "      <td>0</td>\n",
              "      <td>0</td>\n",
              "      <td>1</td>\n",
              "      <td>1</td>\n",
              "      <td>0</td>\n",
              "      <td>0</td>\n",
              "      <td>0</td>\n",
              "      <td>0</td>\n",
              "      <td>0</td>\n",
              "      <td>0</td>\n",
              "      <td>0</td>\n",
              "      <td>0</td>\n",
              "      <td>0</td>\n",
              "      <td>0</td>\n",
              "      <td>0</td>\n",
              "      <td>0</td>\n",
              "      <td>0</td>\n",
              "      <td>0</td>\n",
              "      <td>0</td>\n",
              "      <td>0</td>\n",
              "      <td>0</td>\n",
              "      <td>0</td>\n",
              "      <td>0</td>\n",
              "      <td>0</td>\n",
              "      <td>0</td>\n",
              "      <td>0</td>\n",
              "      <td>0</td>\n",
              "      <td>0</td>\n",
              "      <td>0</td>\n",
              "      <td>0</td>\n",
              "      <td>0</td>\n",
              "      <td>0</td>\n",
              "      <td>0</td>\n",
              "      <td>0</td>\n",
              "      <td>...</td>\n",
              "      <td>0</td>\n",
              "      <td>0</td>\n",
              "      <td>0</td>\n",
              "      <td>0</td>\n",
              "      <td>0</td>\n",
              "      <td>0</td>\n",
              "      <td>0</td>\n",
              "      <td>0</td>\n",
              "      <td>0</td>\n",
              "      <td>0</td>\n",
              "      <td>0</td>\n",
              "      <td>0</td>\n",
              "      <td>0</td>\n",
              "      <td>0</td>\n",
              "      <td>0</td>\n",
              "      <td>0</td>\n",
              "      <td>0</td>\n",
              "      <td>0</td>\n",
              "      <td>0</td>\n",
              "      <td>0</td>\n",
              "      <td>0</td>\n",
              "      <td>0</td>\n",
              "      <td>0</td>\n",
              "      <td>0</td>\n",
              "      <td>0</td>\n",
              "      <td>0</td>\n",
              "      <td>0</td>\n",
              "      <td>0</td>\n",
              "      <td>0</td>\n",
              "      <td>0</td>\n",
              "      <td>0</td>\n",
              "      <td>0</td>\n",
              "      <td>0</td>\n",
              "      <td>0</td>\n",
              "      <td>0</td>\n",
              "      <td>0</td>\n",
              "      <td>0</td>\n",
              "      <td>0</td>\n",
              "      <td>0</td>\n",
              "      <td>0</td>\n",
              "    </tr>\n",
              "  </tbody>\n",
              "</table>\n",
              "<p>5 rows × 108 columns</p>\n",
              "</div>"
            ],
            "text/plain": [
              "   bath  balcony  ...  location_Mahadevpura  location_Tumkur Road\n",
              "0     3      2.0  ...                     0                     0\n",
              "1     3      3.0  ...                     0                     0\n",
              "2     3      2.0  ...                     0                     0\n",
              "3     2      2.0  ...                     0                     0\n",
              "4     2      2.0  ...                     0                     0\n",
              "\n",
              "[5 rows x 108 columns]"
            ]
          },
          "metadata": {
            "tags": []
          },
          "execution_count": 3
        }
      ]
    },
    {
      "cell_type": "code",
      "metadata": {
        "id": "78_XjISSlLa6"
      },
      "source": [
        "X=data.drop(['price'],axis=1)\n",
        "y=data['price']"
      ],
      "execution_count": null,
      "outputs": []
    },
    {
      "cell_type": "code",
      "metadata": {
        "colab": {
          "base_uri": "https://localhost:8080/"
        },
        "id": "L7y7X14xljOV",
        "outputId": "44af43c9-260f-4017-936c-dc2dd470615b"
      },
      "source": [
        "print(\"X_shape--->\",X.shape)\n",
        "print(\"y_shape--->\",y.shape)"
      ],
      "execution_count": null,
      "outputs": [
        {
          "output_type": "stream",
          "text": [
            "X_shape---> (7120, 107)\n",
            "y_shape---> (7120,)\n"
          ],
          "name": "stdout"
        }
      ]
    },
    {
      "cell_type": "code",
      "metadata": {
        "id": "ZyqIbl42l2lf"
      },
      "source": [
        "from sklearn.model_selection import train_test_split\n",
        "X_train,X_test,y_train,y_test=train_test_split(X,y,test_size=0.2,random_state=0)"
      ],
      "execution_count": null,
      "outputs": []
    },
    {
      "cell_type": "code",
      "metadata": {
        "colab": {
          "base_uri": "https://localhost:8080/"
        },
        "id": "pnH5ysvdmVvZ",
        "outputId": "377b9442-f7dc-4ee5-d17d-307ffd5de8b1"
      },
      "source": [
        "X_train.shape"
      ],
      "execution_count": null,
      "outputs": [
        {
          "output_type": "execute_result",
          "data": {
            "text/plain": [
              "(5696, 107)"
            ]
          },
          "metadata": {
            "tags": []
          },
          "execution_count": 10
        }
      ]
    },
    {
      "cell_type": "code",
      "metadata": {
        "colab": {
          "base_uri": "https://localhost:8080/"
        },
        "id": "S89VHrlqmY3Z",
        "outputId": "3cd79b56-9f41-498a-85a7-6a896a72d2dc"
      },
      "source": [
        "print(\"X_train_shape-->\",X_train.shape)\n",
        "print(\"X_test_shape-->\",X_test.shape)\n",
        "print(\"y_train_shape-->\",y_train.shape)\n",
        "print(\"y_test_shape-->\",y_test.shape)"
      ],
      "execution_count": null,
      "outputs": [
        {
          "output_type": "stream",
          "text": [
            "X_train_shape--> (5696, 107)\n",
            "X_test_shape--> (1424, 107)\n",
            "y_train_shape--> (5696,)\n",
            "y_test_shape--> (1424,)\n"
          ],
          "name": "stdout"
        }
      ]
    },
    {
      "cell_type": "markdown",
      "metadata": {
        "id": "GdUOlaiGmvUq"
      },
      "source": [
        "FEATURE SCALING SET DATA FROM -1 TO 1\n"
      ]
    },
    {
      "cell_type": "code",
      "metadata": {
        "id": "QlM4fFpMm1d1"
      },
      "source": [
        "from sklearn.preprocessing import StandardScaler\n",
        "sc_feature=StandardScaler()\n",
        "X_train=sc_feature.fit_transform(X_train)\n",
        "X_test=sc_feature.fit_transform(X_test)"
      ],
      "execution_count": null,
      "outputs": []
    },
    {
      "cell_type": "markdown",
      "metadata": {
        "id": "AhoqSkAznfLY"
      },
      "source": [
        "APPLYING SUPPORT VECTOR ALGORITHM\n"
      ]
    },
    {
      "cell_type": "code",
      "metadata": {
        "id": "nyNYNyvKnjiO"
      },
      "source": [
        "from sklearn.svm import SVR"
      ],
      "execution_count": null,
      "outputs": []
    },
    {
      "cell_type": "code",
      "metadata": {
        "id": "PdzepdYPn4EU"
      },
      "source": [
        "svr_regressor=SVR(kernel='rbf')"
      ],
      "execution_count": null,
      "outputs": []
    },
    {
      "cell_type": "code",
      "metadata": {
        "colab": {
          "base_uri": "https://localhost:8080/"
        },
        "id": "2tkCGaTOn86_",
        "outputId": "87acb2f4-9944-4583-f69f-2c7ad8b2ee42"
      },
      "source": [
        "svr_regressor.fit(X_train,y_train)\n",
        "#radial basis function"
      ],
      "execution_count": null,
      "outputs": [
        {
          "output_type": "execute_result",
          "data": {
            "text/plain": [
              "SVR(C=1.0, cache_size=200, coef0=0.0, degree=3, epsilon=0.1, gamma='scale',\n",
              "    kernel='rbf', max_iter=-1, shrinking=True, tol=0.001, verbose=False)"
            ]
          },
          "metadata": {
            "tags": []
          },
          "execution_count": 16
        }
      ]
    },
    {
      "cell_type": "code",
      "metadata": {
        "id": "OUCnxb8ioXIg"
      },
      "source": [
        "predicted=svr_regressor.predict(X_test)"
      ],
      "execution_count": null,
      "outputs": []
    },
    {
      "cell_type": "code",
      "metadata": {
        "colab": {
          "base_uri": "https://localhost:8080/"
        },
        "id": "p2bVDPrYo1Sz",
        "outputId": "7d63e8c1-ebcb-406c-b40f-ac6d10332a0d"
      },
      "source": [
        "print(predicted)"
      ],
      "execution_count": null,
      "outputs": [
        {
          "output_type": "stream",
          "text": [
            "[ 60.19142582  39.03631244  68.33641994 ...  81.83860488  72.47566154\n",
            " 230.46515451]\n"
          ],
          "name": "stdout"
        }
      ]
    },
    {
      "cell_type": "code",
      "metadata": {
        "id": "mrfSG0SVo3tg"
      },
      "source": [
        "dataframe=pd.DataFrame(y_test,predicted)"
      ],
      "execution_count": null,
      "outputs": []
    },
    {
      "cell_type": "code",
      "metadata": {
        "colab": {
          "base_uri": "https://localhost:8080/"
        },
        "id": "ku1sUDJepBDB",
        "outputId": "b2dbfcae-defa-40c6-da7f-3ebf9c89cec6"
      },
      "source": [
        "print(dataframe)"
      ],
      "execution_count": null,
      "outputs": [
        {
          "output_type": "stream",
          "text": [
            "            price\n",
            "60.191426     NaN\n",
            "39.036312     NaN\n",
            "68.336420     NaN\n",
            "79.371492     NaN\n",
            "66.931256     NaN\n",
            "...           ...\n",
            "132.180766    NaN\n",
            "55.611328     NaN\n",
            "81.838605     NaN\n",
            "72.475662     NaN\n",
            "230.465155    NaN\n",
            "\n",
            "[1424 rows x 1 columns]\n"
          ],
          "name": "stdout"
        }
      ]
    },
    {
      "cell_type": "code",
      "metadata": {
        "id": "xQrwJMZhpEE9"
      },
      "source": [
        "dataframe=pd.DataFrame({'Actual':y_test,'predict':predicted})"
      ],
      "execution_count": null,
      "outputs": []
    },
    {
      "cell_type": "code",
      "metadata": {
        "colab": {
          "base_uri": "https://localhost:8080/"
        },
        "id": "e9o4kywXpV3I",
        "outputId": "aaaa49dc-2fdb-4f75-d48f-f636ed650476"
      },
      "source": [
        "print(dataframe)"
      ],
      "execution_count": null,
      "outputs": [
        {
          "output_type": "stream",
          "text": [
            "      Actual     predict\n",
            "1189    68.0   60.191426\n",
            "5876    36.0   39.036312\n",
            "5597    61.0   68.336420\n",
            "3391    85.0   79.371492\n",
            "6122    64.0   66.931256\n",
            "...      ...         ...\n",
            "5830   187.0  132.180766\n",
            "4887    57.0   55.611328\n",
            "1861    90.0   81.838605\n",
            "3014    75.0   72.475662\n",
            "1670   864.0  230.465155\n",
            "\n",
            "[1424 rows x 2 columns]\n"
          ],
          "name": "stdout"
        }
      ]
    },
    {
      "cell_type": "code",
      "metadata": {
        "colab": {
          "base_uri": "https://localhost:8080/"
        },
        "id": "T9_zMURDpX0t",
        "outputId": "355be0f7-de82-4e68-edc4-de7ca6a6d759"
      },
      "source": [
        "svr_regressor.score(X_test,y_test)"
      ],
      "execution_count": null,
      "outputs": [
        {
          "output_type": "execute_result",
          "data": {
            "text/plain": [
              "0.28162352755513675"
            ]
          },
          "metadata": {
            "tags": []
          },
          "execution_count": 24
        }
      ]
    },
    {
      "cell_type": "code",
      "metadata": {
        "id": "jcgaDyVJpf70"
      },
      "source": [
        "svr_linear=SVR(kernel='linear')"
      ],
      "execution_count": null,
      "outputs": []
    },
    {
      "cell_type": "code",
      "metadata": {
        "colab": {
          "base_uri": "https://localhost:8080/"
        },
        "id": "z6lmnROCqAcn",
        "outputId": "503807a3-3ca3-4c9b-9463-bc13d1dc1999"
      },
      "source": [
        "svr_linear.fit(X_train,y_train)"
      ],
      "execution_count": null,
      "outputs": [
        {
          "output_type": "execute_result",
          "data": {
            "text/plain": [
              "SVR(C=1.0, cache_size=200, coef0=0.0, degree=3, epsilon=0.1, gamma='scale',\n",
              "    kernel='linear', max_iter=-1, shrinking=True, tol=0.001, verbose=False)"
            ]
          },
          "metadata": {
            "tags": []
          },
          "execution_count": 29
        }
      ]
    },
    {
      "cell_type": "code",
      "metadata": {
        "colab": {
          "base_uri": "https://localhost:8080/"
        },
        "id": "wNEmmGdVqI5E",
        "outputId": "4786a3e4-4717-4bea-ced4-853f1ef93ee3"
      },
      "source": [
        "svr_linear.score(X_test,y_test)"
      ],
      "execution_count": null,
      "outputs": [
        {
          "output_type": "execute_result",
          "data": {
            "text/plain": [
              "0.8213255249405982"
            ]
          },
          "metadata": {
            "tags": []
          },
          "execution_count": 30
        }
      ]
    },
    {
      "cell_type": "code",
      "metadata": {
        "colab": {
          "base_uri": "https://localhost:8080/"
        },
        "id": "ZsxB-sLJquVH",
        "outputId": "90fcb65b-7358-422a-a507-adae76afa595"
      },
      "source": [
        "X_test[0]"
      ],
      "execution_count": null,
      "outputs": [
        {
          "output_type": "execute_result",
          "data": {
            "text/plain": [
              "array([-0.43875851,  0.5626897 , -0.04336068, -0.55388758, -0.45927421,\n",
              "        0.60006367, -0.4892224 , -0.26433365,  0.49142605, -0.18270663,\n",
              "       -0.15873873, -0.15402578, -0.13367837, -0.11314714, -0.13637447,\n",
              "       -0.13637447, -0.10660036, -0.11935248, -0.11314714, -0.09964476,\n",
              "       -0.09598606, -0.10992018, -0.12234347, -0.09964476, -0.09964476,\n",
              "       -0.0751646 , -0.08409599, -0.10660036, -0.08823182, -0.0751646 ,\n",
              "       -0.07028523, -0.0751646 , -0.07028523, -0.09964476, -0.03750293,\n",
              "       -0.05935999, -0.08823182, -0.09218776, -0.03750293, -0.06504853,\n",
              "       -0.09598606, -0.06504853, -0.05935999, -0.07028523, -0.07028523,\n",
              "       -0.08823182, -0.05935999, -0.0751646 , -0.05307449, -0.02650926,\n",
              "       -0.06504853, -0.07028523, -0.05935999, -0.07028523, -0.06504853,\n",
              "       -0.07975227, -0.07028523, -0.0751646 , -0.05935999, -0.06504853,\n",
              "       -0.07975227, -0.07975227, -0.08409599, -0.06504853, -0.07028523,\n",
              "       -0.04594768, -0.0751646 , -0.06504853, -0.06504853, -0.07028523,\n",
              "       -0.05935999, -0.05307449, -0.03750293, -0.04594768, -0.05935999,\n",
              "       -0.05935999, -0.07028523, -0.04594768, -0.05307449, -0.06504853,\n",
              "       -0.04594768, -0.05307449, -0.04594768, -0.04594768, -0.0751646 ,\n",
              "       -0.07028523, -0.07975227, -0.05935999, -0.03750293, -0.05935999,\n",
              "       -0.03750293, -0.08409599, -0.07028523, -0.07028523, -0.04594768,\n",
              "       -0.02650926, -0.0751646 , -0.05307449, -0.05307449, -0.05935999,\n",
              "       -0.03750293, -0.06504853, -0.03750293, -0.06504853, -0.06504853,\n",
              "       -0.0751646 , -0.05307449])"
            ]
          },
          "metadata": {
            "tags": []
          },
          "execution_count": 37
        }
      ]
    },
    {
      "cell_type": "code",
      "metadata": {
        "colab": {
          "base_uri": "https://localhost:8080/"
        },
        "id": "4KkrwirlrUI2",
        "outputId": "380a9795-c485-476a-9037-2a6fcde690ba"
      },
      "source": [
        "svr_linear.predict([X_test[0]])"
      ],
      "execution_count": null,
      "outputs": [
        {
          "output_type": "execute_result",
          "data": {
            "text/plain": [
              "array([73.50738154])"
            ]
          },
          "metadata": {
            "tags": []
          },
          "execution_count": 38
        }
      ]
    },
    {
      "cell_type": "code",
      "metadata": {
        "id": "jdSGGt2xrf9x"
      },
      "source": [
        "from sklearn.metrics import mean_squared_error\n",
        "import numpy as np"
      ],
      "execution_count": null,
      "outputs": []
    },
    {
      "cell_type": "code",
      "metadata": {
        "id": "Sd9j9WbSr65p"
      },
      "source": [
        "mse=mean_squared_error(y_test,predicted)"
      ],
      "execution_count": null,
      "outputs": []
    },
    {
      "cell_type": "code",
      "metadata": {
        "colab": {
          "base_uri": "https://localhost:8080/"
        },
        "id": "O5PNCWOrsE3l",
        "outputId": "57505d9a-0358-4d38-8b64-75c3d0557ee2"
      },
      "source": [
        "print(mse)"
      ],
      "execution_count": null,
      "outputs": [
        {
          "output_type": "stream",
          "text": [
            "9121.117054333952\n"
          ],
          "name": "stdout"
        }
      ]
    },
    {
      "cell_type": "code",
      "metadata": {
        "id": "gXjO0ikCsIId"
      },
      "source": [
        "rmse=np.sqrt(mse)"
      ],
      "execution_count": null,
      "outputs": []
    },
    {
      "cell_type": "code",
      "metadata": {
        "colab": {
          "base_uri": "https://localhost:8080/"
        },
        "id": "5UhBSbJqsOeo",
        "outputId": "c402a285-7f9a-41bc-d759-027263db0be7"
      },
      "source": [
        "print(rmse)"
      ],
      "execution_count": null,
      "outputs": [
        {
          "output_type": "stream",
          "text": [
            "95.50453944359897\n"
          ],
          "name": "stdout"
        }
      ]
    },
    {
      "cell_type": "code",
      "metadata": {
        "id": "D6PwvPJusQBV"
      },
      "source": [
        ""
      ],
      "execution_count": null,
      "outputs": []
    }
  ]
}