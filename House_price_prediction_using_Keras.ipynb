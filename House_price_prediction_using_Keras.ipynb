{
  "nbformat": 4,
  "nbformat_minor": 0,
  "metadata": {
    "colab": {
      "name": "House price prediction using Keras ",
      "provenance": [],
      "collapsed_sections": [],
      "authorship_tag": "ABX9TyP7MVb/YlDSNl1i+IdYCbgf",
      "include_colab_link": true
    },
    "kernelspec": {
      "name": "python3",
      "display_name": "Python 3"
    },
    "language_info": {
      "name": "python"
    }
  },
  "cells": [
    {
      "cell_type": "markdown",
      "metadata": {
        "id": "view-in-github",
        "colab_type": "text"
      },
      "source": [
        "<a href=\"https://colab.research.google.com/github/R329aghav/Raghavjr/blob/main/House_price_prediction_using_Keras.ipynb\" target=\"_parent\"><img src=\"https://colab.research.google.com/assets/colab-badge.svg\" alt=\"Open In Colab\"/></a>"
      ]
    },
    {
      "cell_type": "code",
      "metadata": {
        "id": "1tc56v7aieUG"
      },
      "source": [
        "from google.colab import drive\n",
        "drive.mount('/content/drive')"
      ],
      "execution_count": null,
      "outputs": []
    },
    {
      "cell_type": "code",
      "metadata": {
        "id": "TuFUZqGuiquU"
      },
      "source": [
        "import pandas as pd\n",
        "import numpy as np\n",
        "import seaborn as sns\n",
        "from matplotlib import pyplot as plt\n",
        "import tensorflow as tf\n",
        "import keras\n",
        "from keras.models import Sequential\n",
        "from keras.layers import Dense\n",
        "from keras.layers import Dropout\n",
        "path=\"/content/drive/MyDrive/DATASETS/bangalore house price prediction OHE-data.csv\"\n",
        "data=pd.read_csv(path)\n"
      ],
      "execution_count": null,
      "outputs": []
    },
    {
      "cell_type": "code",
      "metadata": {
        "id": "I58u4AjOn18V"
      },
      "source": [
        "data,data.columns,data.info(),data.describe(),data.shape"
      ],
      "execution_count": null,
      "outputs": []
    },
    {
      "cell_type": "code",
      "metadata": {
        "id": "SXG1ZKNxozRz"
      },
      "source": [
        "Column_name=['bath', 'balcony', 'price', 'total_sqft_int', 'bhk', 'price_per_sqft',\n",
        "        'area_typeSuper built-up  Area', 'area_typeBuilt-up  Area',\n",
        "        'area_typePlot  Area', 'availability_Ready To Move',\n",
        "        'location_Kalena Agrahara', 'location_Horamavu Agara',\n",
        "        'location_Vidyaranyapura', 'location_BTM 2nd Stage',\n",
        "        'location_Hebbal Kempapura', 'location_Hosur Road',\n",
        "        'location_Horamavu Banaswadi', 'location_Domlur',\n",
        "        'location_Mahadevpura', 'location_Tumkur Road'],\n",
        "       "
      ],
      "execution_count": null,
      "outputs": []
    },
    {
      "cell_type": "code",
      "metadata": {
        "id": "g7bnHEZFpSzo"
      },
      "source": [
        "data"
      ],
      "execution_count": null,
      "outputs": []
    },
    {
      "cell_type": "code",
      "metadata": {
        "id": "v9pPOL7ZqquE"
      },
      "source": [
        "X=data.drop(['price'],axis=1)\n",
        "y=data['price']\n"
      ],
      "execution_count": null,
      "outputs": []
    },
    {
      "cell_type": "code",
      "metadata": {
        "id": "qpTHR06irr23"
      },
      "source": [
        "from sklearn.preprocessing import StandardScaler\n",
        "sc=StandardScaler()\n",
        "data_scaled_X=sc.fit_transform(X)\n",
        "# data_scaled_y=sc.fit_transform(y)"
      ],
      "execution_count": null,
      "outputs": []
    },
    {
      "cell_type": "code",
      "metadata": {
        "id": "V2ZELxhctqFg"
      },
      "source": [
        "from sklearn.preprocessing import MinMaxScaler\n",
        "scaler=MinMaxScaler()\n",
        "data_scaled_X=scaler.fit_transform(X)\n",
        "from sklearn.model_selection import train_test_split\n",
        "X_train,X_test,y_train,y_test=train_test_split(X,y,test_size=0.2,random_state=42)\n",
        "print(\"X_train_shape-->\",X_train.shape)\n",
        "print(\"X_test_shape-->\",X_test.shape)\n",
        "print(\"y_train_shape-->\",y_train.shape)\n",
        "print(\"y_test_shape-->\",y_test.shape)"
      ],
      "execution_count": null,
      "outputs": []
    },
    {
      "cell_type": "code",
      "metadata": {
        "id": "64zgX-40tFHY"
      },
      "source": [
        "# creating neural network \n",
        "import tensorflow as tf\n",
        "import keras \n",
        "from keras.models import Sequential\n",
        "from keras.layers import Dense\n",
        "from keras.layers import  Dropout\n",
        "import pandas as pd\n",
        "import numpy as np\n",
        "import seaborn as sns\n",
        "import matplotlib.pyplot as plt\n",
        "\n",
        "##first we decide the model\n",
        "model=Sequential()\n",
        "\n",
        "##1.create input layer\n",
        "\n",
        "model.add(Dense(200,activation=\"relu\",kernel_initializer=\"uniform\",input_dim=107))\n",
        "\n",
        "##2.create hidden layer\n",
        "\n",
        "model.add(Dense(100,activation=\"relu\",kernel_initializer=\"uniform\"))\n",
        "\n",
        "##3.create output layer\n",
        "\n",
        "model.add(Dense(1,activation=\"linear\",kernel_initializer=\"uniform\"))\n",
        "\n",
        "##4.compile our model\n",
        "\n",
        "model.compile(optimizer=\"Adam\",loss=\"mean_absolute_error\",metrics=[\"accuracy\"])\n",
        "\n",
        "##5.fit the model \n",
        "\n",
        "model.fit(X_train,y_train,epochs=100,batch_size=100,verbose=1)\n"
      ],
      "execution_count": null,
      "outputs": []
    },
    {
      "cell_type": "code",
      "metadata": {
        "id": "QhWACbMbxSKH"
      },
      "source": [
        "score=model.evaluate(X_test,y_test,verbose=0)\n",
        "print(score[0])"
      ],
      "execution_count": null,
      "outputs": []
    },
    {
      "cell_type": "code",
      "metadata": {
        "id": "xV4RcPD7yaJW"
      },
      "source": [
        "model.summary()"
      ],
      "execution_count": null,
      "outputs": []
    },
    {
      "cell_type": "code",
      "metadata": {
        "id": "0b7UANPcyzs9"
      },
      "source": [
        "y_pred=model.predict(X_test)\n",
        "y_pred"
      ],
      "execution_count": null,
      "outputs": []
    },
    {
      "cell_type": "code",
      "metadata": {
        "id": "NyJUP9eczCmt"
      },
      "source": [
        "y_test.ndim"
      ],
      "execution_count": null,
      "outputs": []
    },
    {
      "cell_type": "code",
      "metadata": {
        "id": "KUKmO-9gzFT1"
      },
      "source": [
        "dataframe=pd.Series({\"Actual\":y_test,\"predicted\":y_pred})\n",
        "dataframe"
      ],
      "execution_count": null,
      "outputs": []
    },
    {
      "cell_type": "code",
      "metadata": {
        "id": "1ZrkfxQ-zUwt"
      },
      "source": [
        "from sklearn.linear_model import LinearRegression\n",
        "regressor=LinearRegression()\n",
        "regression_model=regressor.fit(X_train,y_train)\n",
        "y_pred_lm=regression_model.predict(X_test)\n",
        "\n",
        "plt.figure(1)\n",
        "plt.subplot(1,2,1)\n",
        "plt.scatter(y_test,y_pred)\n",
        "plt.xlabel(\"Actual Values\")\n",
        "plt.ylabel(\"predicted values\")\n",
        "plt.title(\"Keras Neural network Model\")\n",
        "plt.show()\n",
        "\n",
        "plt.subplot(1,2,2)\n",
        "plt.scatter(y_test,y_pred_lm)\n",
        "plt.xlabel(\"Actual values\")\n",
        "plt.ylabel(\"Predicted values\")\n",
        "plt.title(\"Linear regression model\")\n",
        "\n",
        "from sklearn.metrics import mean_absolute_error\n",
        "print(\"mean absolute error:\")\n",
        "mae=mean_absolute_error(y_test,y_pred_lm)\n",
        "print(mae)\n"
      ],
      "execution_count": null,
      "outputs": []
    },
    {
      "cell_type": "code",
      "metadata": {
        "id": "Th3-tVxG2UzO"
      },
      "source": [
        "regressor.score(X_test,y_test),model.evaluate(X_test,y_test,verbose=0)"
      ],
      "execution_count": null,
      "outputs": []
    },
    {
      "cell_type": "code",
      "metadata": {
        "id": "0woYEAHd4MUr"
      },
      "source": [
        ""
      ],
      "execution_count": null,
      "outputs": []
    }
  ]
}